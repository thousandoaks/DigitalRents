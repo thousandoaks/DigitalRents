{
  "nbformat": 4,
  "nbformat_minor": 0,
  "metadata": {
    "kernelspec": {
      "display_name": "Python 3",
      "language": "python",
      "name": "python3"
    },
    "language_info": {
      "codemirror_mode": {
        "name": "ipython",
        "version": 3
      },
      "file_extension": ".py",
      "mimetype": "text/x-python",
      "name": "python",
      "nbconvert_exporter": "python",
      "pygments_lexer": "ipython3",
      "version": "3.7.6"
    },
    "colab": {
      "name": "Watson_QA_Pipeline.ipynb",
      "provenance": [],
      "collapsed_sections": [
        "VR5IAiZMTu38",
        "K17x5nBzTu3-",
        "NlcWMVdoTu4C"
      ],
      "include_colab_link": true
    },
    "accelerator": "GPU",
    "widgets": {
      "application/vnd.jupyter.widget-state+json": {
        "d57ccb8c7d894bd8b54de31a9595dc56": {
          "model_module": "@jupyter-widgets/controls",
          "model_name": "HBoxModel",
          "model_module_version": "1.5.0",
          "state": {
            "_view_name": "HBoxView",
            "_dom_classes": [],
            "_model_name": "HBoxModel",
            "_view_module": "@jupyter-widgets/controls",
            "_model_module_version": "1.5.0",
            "_view_count": null,
            "_view_module_version": "1.5.0",
            "box_style": "",
            "layout": "IPY_MODEL_08ab4f1443244c84b8c3dfdd710f6397",
            "_model_module": "@jupyter-widgets/controls",
            "children": [
              "IPY_MODEL_9edf2c9703304dbd842c5e7c08bf1c23",
              "IPY_MODEL_ade54050987a499cb15e9d599e9aa14d",
              "IPY_MODEL_a2a5b61c8e41475a80acc976646cb9e0"
            ]
          }
        },
        "08ab4f1443244c84b8c3dfdd710f6397": {
          "model_module": "@jupyter-widgets/base",
          "model_name": "LayoutModel",
          "model_module_version": "1.2.0",
          "state": {
            "_view_name": "LayoutView",
            "grid_template_rows": null,
            "right": null,
            "justify_content": null,
            "_view_module": "@jupyter-widgets/base",
            "overflow": null,
            "_model_module_version": "1.2.0",
            "_view_count": null,
            "flex_flow": null,
            "width": null,
            "min_width": null,
            "border": null,
            "align_items": null,
            "bottom": null,
            "_model_module": "@jupyter-widgets/base",
            "top": null,
            "grid_column": null,
            "overflow_y": null,
            "overflow_x": null,
            "grid_auto_flow": null,
            "grid_area": null,
            "grid_template_columns": null,
            "flex": null,
            "_model_name": "LayoutModel",
            "justify_items": null,
            "grid_row": null,
            "max_height": null,
            "align_content": null,
            "visibility": null,
            "align_self": null,
            "height": null,
            "min_height": null,
            "padding": null,
            "grid_auto_rows": null,
            "grid_gap": null,
            "max_width": null,
            "order": null,
            "_view_module_version": "1.2.0",
            "grid_template_areas": null,
            "object_position": null,
            "object_fit": null,
            "grid_auto_columns": null,
            "margin": null,
            "display": null,
            "left": null
          }
        },
        "9edf2c9703304dbd842c5e7c08bf1c23": {
          "model_module": "@jupyter-widgets/controls",
          "model_name": "HTMLModel",
          "model_module_version": "1.5.0",
          "state": {
            "_view_name": "HTMLView",
            "style": "IPY_MODEL_0af1a21b418148cc8caebd8fdce62c19",
            "_dom_classes": [],
            "description": "",
            "_model_name": "HTMLModel",
            "placeholder": "​",
            "_view_module": "@jupyter-widgets/controls",
            "_model_module_version": "1.5.0",
            "value": "Downloading: 100%",
            "_view_count": null,
            "_view_module_version": "1.5.0",
            "description_tooltip": null,
            "_model_module": "@jupyter-widgets/controls",
            "layout": "IPY_MODEL_cfba20abc3cd4c34903dd61b169d10fa"
          }
        },
        "ade54050987a499cb15e9d599e9aa14d": {
          "model_module": "@jupyter-widgets/controls",
          "model_name": "FloatProgressModel",
          "model_module_version": "1.5.0",
          "state": {
            "_view_name": "ProgressView",
            "style": "IPY_MODEL_5a4e85656607427a9cd51398861907b2",
            "_dom_classes": [],
            "description": "",
            "_model_name": "FloatProgressModel",
            "bar_style": "success",
            "max": 571,
            "_view_module": "@jupyter-widgets/controls",
            "_model_module_version": "1.5.0",
            "value": 571,
            "_view_count": null,
            "_view_module_version": "1.5.0",
            "orientation": "horizontal",
            "min": 0,
            "description_tooltip": null,
            "_model_module": "@jupyter-widgets/controls",
            "layout": "IPY_MODEL_74bbf872b7d640b19d36eeed64e51dbc"
          }
        },
        "a2a5b61c8e41475a80acc976646cb9e0": {
          "model_module": "@jupyter-widgets/controls",
          "model_name": "HTMLModel",
          "model_module_version": "1.5.0",
          "state": {
            "_view_name": "HTMLView",
            "style": "IPY_MODEL_64db517f5fe94b2fbeb49692d9caa613",
            "_dom_classes": [],
            "description": "",
            "_model_name": "HTMLModel",
            "placeholder": "​",
            "_view_module": "@jupyter-widgets/controls",
            "_model_module_version": "1.5.0",
            "value": " 571/571 [00:00&lt;00:00, 12.5kB/s]",
            "_view_count": null,
            "_view_module_version": "1.5.0",
            "description_tooltip": null,
            "_model_module": "@jupyter-widgets/controls",
            "layout": "IPY_MODEL_5a0aa06fb2f145adadde762fdb111a45"
          }
        },
        "0af1a21b418148cc8caebd8fdce62c19": {
          "model_module": "@jupyter-widgets/controls",
          "model_name": "DescriptionStyleModel",
          "model_module_version": "1.5.0",
          "state": {
            "_view_name": "StyleView",
            "_model_name": "DescriptionStyleModel",
            "description_width": "",
            "_view_module": "@jupyter-widgets/base",
            "_model_module_version": "1.5.0",
            "_view_count": null,
            "_view_module_version": "1.2.0",
            "_model_module": "@jupyter-widgets/controls"
          }
        },
        "cfba20abc3cd4c34903dd61b169d10fa": {
          "model_module": "@jupyter-widgets/base",
          "model_name": "LayoutModel",
          "model_module_version": "1.2.0",
          "state": {
            "_view_name": "LayoutView",
            "grid_template_rows": null,
            "right": null,
            "justify_content": null,
            "_view_module": "@jupyter-widgets/base",
            "overflow": null,
            "_model_module_version": "1.2.0",
            "_view_count": null,
            "flex_flow": null,
            "width": null,
            "min_width": null,
            "border": null,
            "align_items": null,
            "bottom": null,
            "_model_module": "@jupyter-widgets/base",
            "top": null,
            "grid_column": null,
            "overflow_y": null,
            "overflow_x": null,
            "grid_auto_flow": null,
            "grid_area": null,
            "grid_template_columns": null,
            "flex": null,
            "_model_name": "LayoutModel",
            "justify_items": null,
            "grid_row": null,
            "max_height": null,
            "align_content": null,
            "visibility": null,
            "align_self": null,
            "height": null,
            "min_height": null,
            "padding": null,
            "grid_auto_rows": null,
            "grid_gap": null,
            "max_width": null,
            "order": null,
            "_view_module_version": "1.2.0",
            "grid_template_areas": null,
            "object_position": null,
            "object_fit": null,
            "grid_auto_columns": null,
            "margin": null,
            "display": null,
            "left": null
          }
        },
        "5a4e85656607427a9cd51398861907b2": {
          "model_module": "@jupyter-widgets/controls",
          "model_name": "ProgressStyleModel",
          "model_module_version": "1.5.0",
          "state": {
            "_view_name": "StyleView",
            "_model_name": "ProgressStyleModel",
            "description_width": "",
            "_view_module": "@jupyter-widgets/base",
            "_model_module_version": "1.5.0",
            "_view_count": null,
            "_view_module_version": "1.2.0",
            "bar_color": null,
            "_model_module": "@jupyter-widgets/controls"
          }
        },
        "74bbf872b7d640b19d36eeed64e51dbc": {
          "model_module": "@jupyter-widgets/base",
          "model_name": "LayoutModel",
          "model_module_version": "1.2.0",
          "state": {
            "_view_name": "LayoutView",
            "grid_template_rows": null,
            "right": null,
            "justify_content": null,
            "_view_module": "@jupyter-widgets/base",
            "overflow": null,
            "_model_module_version": "1.2.0",
            "_view_count": null,
            "flex_flow": null,
            "width": null,
            "min_width": null,
            "border": null,
            "align_items": null,
            "bottom": null,
            "_model_module": "@jupyter-widgets/base",
            "top": null,
            "grid_column": null,
            "overflow_y": null,
            "overflow_x": null,
            "grid_auto_flow": null,
            "grid_area": null,
            "grid_template_columns": null,
            "flex": null,
            "_model_name": "LayoutModel",
            "justify_items": null,
            "grid_row": null,
            "max_height": null,
            "align_content": null,
            "visibility": null,
            "align_self": null,
            "height": null,
            "min_height": null,
            "padding": null,
            "grid_auto_rows": null,
            "grid_gap": null,
            "max_width": null,
            "order": null,
            "_view_module_version": "1.2.0",
            "grid_template_areas": null,
            "object_position": null,
            "object_fit": null,
            "grid_auto_columns": null,
            "margin": null,
            "display": null,
            "left": null
          }
        },
        "64db517f5fe94b2fbeb49692d9caa613": {
          "model_module": "@jupyter-widgets/controls",
          "model_name": "DescriptionStyleModel",
          "model_module_version": "1.5.0",
          "state": {
            "_view_name": "StyleView",
            "_model_name": "DescriptionStyleModel",
            "description_width": "",
            "_view_module": "@jupyter-widgets/base",
            "_model_module_version": "1.5.0",
            "_view_count": null,
            "_view_module_version": "1.2.0",
            "_model_module": "@jupyter-widgets/controls"
          }
        },
        "5a0aa06fb2f145adadde762fdb111a45": {
          "model_module": "@jupyter-widgets/base",
          "model_name": "LayoutModel",
          "model_module_version": "1.2.0",
          "state": {
            "_view_name": "LayoutView",
            "grid_template_rows": null,
            "right": null,
            "justify_content": null,
            "_view_module": "@jupyter-widgets/base",
            "overflow": null,
            "_model_module_version": "1.2.0",
            "_view_count": null,
            "flex_flow": null,
            "width": null,
            "min_width": null,
            "border": null,
            "align_items": null,
            "bottom": null,
            "_model_module": "@jupyter-widgets/base",
            "top": null,
            "grid_column": null,
            "overflow_y": null,
            "overflow_x": null,
            "grid_auto_flow": null,
            "grid_area": null,
            "grid_template_columns": null,
            "flex": null,
            "_model_name": "LayoutModel",
            "justify_items": null,
            "grid_row": null,
            "max_height": null,
            "align_content": null,
            "visibility": null,
            "align_self": null,
            "height": null,
            "min_height": null,
            "padding": null,
            "grid_auto_rows": null,
            "grid_gap": null,
            "max_width": null,
            "order": null,
            "_view_module_version": "1.2.0",
            "grid_template_areas": null,
            "object_position": null,
            "object_fit": null,
            "grid_auto_columns": null,
            "margin": null,
            "display": null,
            "left": null
          }
        },
        "1db34767007d47bcb917b348aed5cc30": {
          "model_module": "@jupyter-widgets/controls",
          "model_name": "HBoxModel",
          "model_module_version": "1.5.0",
          "state": {
            "_view_name": "HBoxView",
            "_dom_classes": [],
            "_model_name": "HBoxModel",
            "_view_module": "@jupyter-widgets/controls",
            "_model_module_version": "1.5.0",
            "_view_count": null,
            "_view_module_version": "1.5.0",
            "box_style": "",
            "layout": "IPY_MODEL_9c4d622a5c64412295d1a62cb1883826",
            "_model_module": "@jupyter-widgets/controls",
            "children": [
              "IPY_MODEL_9f916bdfaafb41b385ead172ca516dc9",
              "IPY_MODEL_760c2c2789fa473d97884cef61044473",
              "IPY_MODEL_5064b1d3e349483781422ba5e053a728"
            ]
          }
        },
        "9c4d622a5c64412295d1a62cb1883826": {
          "model_module": "@jupyter-widgets/base",
          "model_name": "LayoutModel",
          "model_module_version": "1.2.0",
          "state": {
            "_view_name": "LayoutView",
            "grid_template_rows": null,
            "right": null,
            "justify_content": null,
            "_view_module": "@jupyter-widgets/base",
            "overflow": null,
            "_model_module_version": "1.2.0",
            "_view_count": null,
            "flex_flow": null,
            "width": null,
            "min_width": null,
            "border": null,
            "align_items": null,
            "bottom": null,
            "_model_module": "@jupyter-widgets/base",
            "top": null,
            "grid_column": null,
            "overflow_y": null,
            "overflow_x": null,
            "grid_auto_flow": null,
            "grid_area": null,
            "grid_template_columns": null,
            "flex": null,
            "_model_name": "LayoutModel",
            "justify_items": null,
            "grid_row": null,
            "max_height": null,
            "align_content": null,
            "visibility": null,
            "align_self": null,
            "height": null,
            "min_height": null,
            "padding": null,
            "grid_auto_rows": null,
            "grid_gap": null,
            "max_width": null,
            "order": null,
            "_view_module_version": "1.2.0",
            "grid_template_areas": null,
            "object_position": null,
            "object_fit": null,
            "grid_auto_columns": null,
            "margin": null,
            "display": null,
            "left": null
          }
        },
        "9f916bdfaafb41b385ead172ca516dc9": {
          "model_module": "@jupyter-widgets/controls",
          "model_name": "HTMLModel",
          "model_module_version": "1.5.0",
          "state": {
            "_view_name": "HTMLView",
            "style": "IPY_MODEL_fb03764f311a402da01a02c8fe7f1852",
            "_dom_classes": [],
            "description": "",
            "_model_name": "HTMLModel",
            "placeholder": "​",
            "_view_module": "@jupyter-widgets/controls",
            "_model_module_version": "1.5.0",
            "value": "Downloading: 100%",
            "_view_count": null,
            "_view_module_version": "1.5.0",
            "description_tooltip": null,
            "_model_module": "@jupyter-widgets/controls",
            "layout": "IPY_MODEL_97505604ed324daa9aa78beb544e6891"
          }
        },
        "760c2c2789fa473d97884cef61044473": {
          "model_module": "@jupyter-widgets/controls",
          "model_name": "FloatProgressModel",
          "model_module_version": "1.5.0",
          "state": {
            "_view_name": "ProgressView",
            "style": "IPY_MODEL_5fff21e3b6cd415ba9e5ced51ed486a7",
            "_dom_classes": [],
            "description": "",
            "_model_name": "FloatProgressModel",
            "bar_style": "success",
            "max": 496313727,
            "_view_module": "@jupyter-widgets/controls",
            "_model_module_version": "1.5.0",
            "value": 496313727,
            "_view_count": null,
            "_view_module_version": "1.5.0",
            "orientation": "horizontal",
            "min": 0,
            "description_tooltip": null,
            "_model_module": "@jupyter-widgets/controls",
            "layout": "IPY_MODEL_3a82f0345b7448b7b3f7f67ddcb3ef0f"
          }
        },
        "5064b1d3e349483781422ba5e053a728": {
          "model_module": "@jupyter-widgets/controls",
          "model_name": "HTMLModel",
          "model_module_version": "1.5.0",
          "state": {
            "_view_name": "HTMLView",
            "style": "IPY_MODEL_1e2b20c7e0094dfdb9f7bf63187198f7",
            "_dom_classes": [],
            "description": "",
            "_model_name": "HTMLModel",
            "placeholder": "​",
            "_view_module": "@jupyter-widgets/controls",
            "_model_module_version": "1.5.0",
            "value": " 496M/496M [00:17&lt;00:00, 21.1MB/s]",
            "_view_count": null,
            "_view_module_version": "1.5.0",
            "description_tooltip": null,
            "_model_module": "@jupyter-widgets/controls",
            "layout": "IPY_MODEL_0231f208fe904db1ba0c3182c12993ee"
          }
        },
        "fb03764f311a402da01a02c8fe7f1852": {
          "model_module": "@jupyter-widgets/controls",
          "model_name": "DescriptionStyleModel",
          "model_module_version": "1.5.0",
          "state": {
            "_view_name": "StyleView",
            "_model_name": "DescriptionStyleModel",
            "description_width": "",
            "_view_module": "@jupyter-widgets/base",
            "_model_module_version": "1.5.0",
            "_view_count": null,
            "_view_module_version": "1.2.0",
            "_model_module": "@jupyter-widgets/controls"
          }
        },
        "97505604ed324daa9aa78beb544e6891": {
          "model_module": "@jupyter-widgets/base",
          "model_name": "LayoutModel",
          "model_module_version": "1.2.0",
          "state": {
            "_view_name": "LayoutView",
            "grid_template_rows": null,
            "right": null,
            "justify_content": null,
            "_view_module": "@jupyter-widgets/base",
            "overflow": null,
            "_model_module_version": "1.2.0",
            "_view_count": null,
            "flex_flow": null,
            "width": null,
            "min_width": null,
            "border": null,
            "align_items": null,
            "bottom": null,
            "_model_module": "@jupyter-widgets/base",
            "top": null,
            "grid_column": null,
            "overflow_y": null,
            "overflow_x": null,
            "grid_auto_flow": null,
            "grid_area": null,
            "grid_template_columns": null,
            "flex": null,
            "_model_name": "LayoutModel",
            "justify_items": null,
            "grid_row": null,
            "max_height": null,
            "align_content": null,
            "visibility": null,
            "align_self": null,
            "height": null,
            "min_height": null,
            "padding": null,
            "grid_auto_rows": null,
            "grid_gap": null,
            "max_width": null,
            "order": null,
            "_view_module_version": "1.2.0",
            "grid_template_areas": null,
            "object_position": null,
            "object_fit": null,
            "grid_auto_columns": null,
            "margin": null,
            "display": null,
            "left": null
          }
        },
        "5fff21e3b6cd415ba9e5ced51ed486a7": {
          "model_module": "@jupyter-widgets/controls",
          "model_name": "ProgressStyleModel",
          "model_module_version": "1.5.0",
          "state": {
            "_view_name": "StyleView",
            "_model_name": "ProgressStyleModel",
            "description_width": "",
            "_view_module": "@jupyter-widgets/base",
            "_model_module_version": "1.5.0",
            "_view_count": null,
            "_view_module_version": "1.2.0",
            "bar_color": null,
            "_model_module": "@jupyter-widgets/controls"
          }
        },
        "3a82f0345b7448b7b3f7f67ddcb3ef0f": {
          "model_module": "@jupyter-widgets/base",
          "model_name": "LayoutModel",
          "model_module_version": "1.2.0",
          "state": {
            "_view_name": "LayoutView",
            "grid_template_rows": null,
            "right": null,
            "justify_content": null,
            "_view_module": "@jupyter-widgets/base",
            "overflow": null,
            "_model_module_version": "1.2.0",
            "_view_count": null,
            "flex_flow": null,
            "width": null,
            "min_width": null,
            "border": null,
            "align_items": null,
            "bottom": null,
            "_model_module": "@jupyter-widgets/base",
            "top": null,
            "grid_column": null,
            "overflow_y": null,
            "overflow_x": null,
            "grid_auto_flow": null,
            "grid_area": null,
            "grid_template_columns": null,
            "flex": null,
            "_model_name": "LayoutModel",
            "justify_items": null,
            "grid_row": null,
            "max_height": null,
            "align_content": null,
            "visibility": null,
            "align_self": null,
            "height": null,
            "min_height": null,
            "padding": null,
            "grid_auto_rows": null,
            "grid_gap": null,
            "max_width": null,
            "order": null,
            "_view_module_version": "1.2.0",
            "grid_template_areas": null,
            "object_position": null,
            "object_fit": null,
            "grid_auto_columns": null,
            "margin": null,
            "display": null,
            "left": null
          }
        },
        "1e2b20c7e0094dfdb9f7bf63187198f7": {
          "model_module": "@jupyter-widgets/controls",
          "model_name": "DescriptionStyleModel",
          "model_module_version": "1.5.0",
          "state": {
            "_view_name": "StyleView",
            "_model_name": "DescriptionStyleModel",
            "description_width": "",
            "_view_module": "@jupyter-widgets/base",
            "_model_module_version": "1.5.0",
            "_view_count": null,
            "_view_module_version": "1.2.0",
            "_model_module": "@jupyter-widgets/controls"
          }
        },
        "0231f208fe904db1ba0c3182c12993ee": {
          "model_module": "@jupyter-widgets/base",
          "model_name": "LayoutModel",
          "model_module_version": "1.2.0",
          "state": {
            "_view_name": "LayoutView",
            "grid_template_rows": null,
            "right": null,
            "justify_content": null,
            "_view_module": "@jupyter-widgets/base",
            "overflow": null,
            "_model_module_version": "1.2.0",
            "_view_count": null,
            "flex_flow": null,
            "width": null,
            "min_width": null,
            "border": null,
            "align_items": null,
            "bottom": null,
            "_model_module": "@jupyter-widgets/base",
            "top": null,
            "grid_column": null,
            "overflow_y": null,
            "overflow_x": null,
            "grid_auto_flow": null,
            "grid_area": null,
            "grid_template_columns": null,
            "flex": null,
            "_model_name": "LayoutModel",
            "justify_items": null,
            "grid_row": null,
            "max_height": null,
            "align_content": null,
            "visibility": null,
            "align_self": null,
            "height": null,
            "min_height": null,
            "padding": null,
            "grid_auto_rows": null,
            "grid_gap": null,
            "max_width": null,
            "order": null,
            "_view_module_version": "1.2.0",
            "grid_template_areas": null,
            "object_position": null,
            "object_fit": null,
            "grid_auto_columns": null,
            "margin": null,
            "display": null,
            "left": null
          }
        },
        "af00d0e892d64e7eb141f49a8311aaee": {
          "model_module": "@jupyter-widgets/controls",
          "model_name": "HBoxModel",
          "model_module_version": "1.5.0",
          "state": {
            "_view_name": "HBoxView",
            "_dom_classes": [],
            "_model_name": "HBoxModel",
            "_view_module": "@jupyter-widgets/controls",
            "_model_module_version": "1.5.0",
            "_view_count": null,
            "_view_module_version": "1.5.0",
            "box_style": "",
            "layout": "IPY_MODEL_5c0f80925b25458cae9e7dafd6eb3130",
            "_model_module": "@jupyter-widgets/controls",
            "children": [
              "IPY_MODEL_8e4d468accba49f0ae71105b266e82e7",
              "IPY_MODEL_aae786d6de024d2aaa214cb48b88efa3",
              "IPY_MODEL_0f0c3f32fd674933854bc4543b6fecff"
            ]
          }
        },
        "5c0f80925b25458cae9e7dafd6eb3130": {
          "model_module": "@jupyter-widgets/base",
          "model_name": "LayoutModel",
          "model_module_version": "1.2.0",
          "state": {
            "_view_name": "LayoutView",
            "grid_template_rows": null,
            "right": null,
            "justify_content": null,
            "_view_module": "@jupyter-widgets/base",
            "overflow": null,
            "_model_module_version": "1.2.0",
            "_view_count": null,
            "flex_flow": null,
            "width": null,
            "min_width": null,
            "border": null,
            "align_items": null,
            "bottom": null,
            "_model_module": "@jupyter-widgets/base",
            "top": null,
            "grid_column": null,
            "overflow_y": null,
            "overflow_x": null,
            "grid_auto_flow": null,
            "grid_area": null,
            "grid_template_columns": null,
            "flex": null,
            "_model_name": "LayoutModel",
            "justify_items": null,
            "grid_row": null,
            "max_height": null,
            "align_content": null,
            "visibility": null,
            "align_self": null,
            "height": null,
            "min_height": null,
            "padding": null,
            "grid_auto_rows": null,
            "grid_gap": null,
            "max_width": null,
            "order": null,
            "_view_module_version": "1.2.0",
            "grid_template_areas": null,
            "object_position": null,
            "object_fit": null,
            "grid_auto_columns": null,
            "margin": null,
            "display": null,
            "left": null
          }
        },
        "8e4d468accba49f0ae71105b266e82e7": {
          "model_module": "@jupyter-widgets/controls",
          "model_name": "HTMLModel",
          "model_module_version": "1.5.0",
          "state": {
            "_view_name": "HTMLView",
            "style": "IPY_MODEL_0de737d6ed5647eaaf94669e2fc4c790",
            "_dom_classes": [],
            "description": "",
            "_model_name": "HTMLModel",
            "placeholder": "​",
            "_view_module": "@jupyter-widgets/controls",
            "_model_module_version": "1.5.0",
            "value": "Downloading: 100%",
            "_view_count": null,
            "_view_module_version": "1.5.0",
            "description_tooltip": null,
            "_model_module": "@jupyter-widgets/controls",
            "layout": "IPY_MODEL_f389aa30b20b431cb3f602bac1143991"
          }
        },
        "aae786d6de024d2aaa214cb48b88efa3": {
          "model_module": "@jupyter-widgets/controls",
          "model_name": "FloatProgressModel",
          "model_module_version": "1.5.0",
          "state": {
            "_view_name": "ProgressView",
            "style": "IPY_MODEL_937af3ec119c4d16b0adc2929d635638",
            "_dom_classes": [],
            "description": "",
            "_model_name": "FloatProgressModel",
            "bar_style": "success",
            "max": 898822,
            "_view_module": "@jupyter-widgets/controls",
            "_model_module_version": "1.5.0",
            "value": 898822,
            "_view_count": null,
            "_view_module_version": "1.5.0",
            "orientation": "horizontal",
            "min": 0,
            "description_tooltip": null,
            "_model_module": "@jupyter-widgets/controls",
            "layout": "IPY_MODEL_dadc5da79a774d58b7d75c2d869db004"
          }
        },
        "0f0c3f32fd674933854bc4543b6fecff": {
          "model_module": "@jupyter-widgets/controls",
          "model_name": "HTMLModel",
          "model_module_version": "1.5.0",
          "state": {
            "_view_name": "HTMLView",
            "style": "IPY_MODEL_b33b4e4f0e7745ddbb55cb2037c1128d",
            "_dom_classes": [],
            "description": "",
            "_model_name": "HTMLModel",
            "placeholder": "​",
            "_view_module": "@jupyter-widgets/controls",
            "_model_module_version": "1.5.0",
            "value": " 899k/899k [00:00&lt;00:00, 973kB/s]",
            "_view_count": null,
            "_view_module_version": "1.5.0",
            "description_tooltip": null,
            "_model_module": "@jupyter-widgets/controls",
            "layout": "IPY_MODEL_b37b7977921e42599cfcd3d6052fcb86"
          }
        },
        "0de737d6ed5647eaaf94669e2fc4c790": {
          "model_module": "@jupyter-widgets/controls",
          "model_name": "DescriptionStyleModel",
          "model_module_version": "1.5.0",
          "state": {
            "_view_name": "StyleView",
            "_model_name": "DescriptionStyleModel",
            "description_width": "",
            "_view_module": "@jupyter-widgets/base",
            "_model_module_version": "1.5.0",
            "_view_count": null,
            "_view_module_version": "1.2.0",
            "_model_module": "@jupyter-widgets/controls"
          }
        },
        "f389aa30b20b431cb3f602bac1143991": {
          "model_module": "@jupyter-widgets/base",
          "model_name": "LayoutModel",
          "model_module_version": "1.2.0",
          "state": {
            "_view_name": "LayoutView",
            "grid_template_rows": null,
            "right": null,
            "justify_content": null,
            "_view_module": "@jupyter-widgets/base",
            "overflow": null,
            "_model_module_version": "1.2.0",
            "_view_count": null,
            "flex_flow": null,
            "width": null,
            "min_width": null,
            "border": null,
            "align_items": null,
            "bottom": null,
            "_model_module": "@jupyter-widgets/base",
            "top": null,
            "grid_column": null,
            "overflow_y": null,
            "overflow_x": null,
            "grid_auto_flow": null,
            "grid_area": null,
            "grid_template_columns": null,
            "flex": null,
            "_model_name": "LayoutModel",
            "justify_items": null,
            "grid_row": null,
            "max_height": null,
            "align_content": null,
            "visibility": null,
            "align_self": null,
            "height": null,
            "min_height": null,
            "padding": null,
            "grid_auto_rows": null,
            "grid_gap": null,
            "max_width": null,
            "order": null,
            "_view_module_version": "1.2.0",
            "grid_template_areas": null,
            "object_position": null,
            "object_fit": null,
            "grid_auto_columns": null,
            "margin": null,
            "display": null,
            "left": null
          }
        },
        "937af3ec119c4d16b0adc2929d635638": {
          "model_module": "@jupyter-widgets/controls",
          "model_name": "ProgressStyleModel",
          "model_module_version": "1.5.0",
          "state": {
            "_view_name": "StyleView",
            "_model_name": "ProgressStyleModel",
            "description_width": "",
            "_view_module": "@jupyter-widgets/base",
            "_model_module_version": "1.5.0",
            "_view_count": null,
            "_view_module_version": "1.2.0",
            "bar_color": null,
            "_model_module": "@jupyter-widgets/controls"
          }
        },
        "dadc5da79a774d58b7d75c2d869db004": {
          "model_module": "@jupyter-widgets/base",
          "model_name": "LayoutModel",
          "model_module_version": "1.2.0",
          "state": {
            "_view_name": "LayoutView",
            "grid_template_rows": null,
            "right": null,
            "justify_content": null,
            "_view_module": "@jupyter-widgets/base",
            "overflow": null,
            "_model_module_version": "1.2.0",
            "_view_count": null,
            "flex_flow": null,
            "width": null,
            "min_width": null,
            "border": null,
            "align_items": null,
            "bottom": null,
            "_model_module": "@jupyter-widgets/base",
            "top": null,
            "grid_column": null,
            "overflow_y": null,
            "overflow_x": null,
            "grid_auto_flow": null,
            "grid_area": null,
            "grid_template_columns": null,
            "flex": null,
            "_model_name": "LayoutModel",
            "justify_items": null,
            "grid_row": null,
            "max_height": null,
            "align_content": null,
            "visibility": null,
            "align_self": null,
            "height": null,
            "min_height": null,
            "padding": null,
            "grid_auto_rows": null,
            "grid_gap": null,
            "max_width": null,
            "order": null,
            "_view_module_version": "1.2.0",
            "grid_template_areas": null,
            "object_position": null,
            "object_fit": null,
            "grid_auto_columns": null,
            "margin": null,
            "display": null,
            "left": null
          }
        },
        "b33b4e4f0e7745ddbb55cb2037c1128d": {
          "model_module": "@jupyter-widgets/controls",
          "model_name": "DescriptionStyleModel",
          "model_module_version": "1.5.0",
          "state": {
            "_view_name": "StyleView",
            "_model_name": "DescriptionStyleModel",
            "description_width": "",
            "_view_module": "@jupyter-widgets/base",
            "_model_module_version": "1.5.0",
            "_view_count": null,
            "_view_module_version": "1.2.0",
            "_model_module": "@jupyter-widgets/controls"
          }
        },
        "b37b7977921e42599cfcd3d6052fcb86": {
          "model_module": "@jupyter-widgets/base",
          "model_name": "LayoutModel",
          "model_module_version": "1.2.0",
          "state": {
            "_view_name": "LayoutView",
            "grid_template_rows": null,
            "right": null,
            "justify_content": null,
            "_view_module": "@jupyter-widgets/base",
            "overflow": null,
            "_model_module_version": "1.2.0",
            "_view_count": null,
            "flex_flow": null,
            "width": null,
            "min_width": null,
            "border": null,
            "align_items": null,
            "bottom": null,
            "_model_module": "@jupyter-widgets/base",
            "top": null,
            "grid_column": null,
            "overflow_y": null,
            "overflow_x": null,
            "grid_auto_flow": null,
            "grid_area": null,
            "grid_template_columns": null,
            "flex": null,
            "_model_name": "LayoutModel",
            "justify_items": null,
            "grid_row": null,
            "max_height": null,
            "align_content": null,
            "visibility": null,
            "align_self": null,
            "height": null,
            "min_height": null,
            "padding": null,
            "grid_auto_rows": null,
            "grid_gap": null,
            "max_width": null,
            "order": null,
            "_view_module_version": "1.2.0",
            "grid_template_areas": null,
            "object_position": null,
            "object_fit": null,
            "grid_auto_columns": null,
            "margin": null,
            "display": null,
            "left": null
          }
        },
        "49ebb2f667b640cda64286c7d21553bb": {
          "model_module": "@jupyter-widgets/controls",
          "model_name": "HBoxModel",
          "model_module_version": "1.5.0",
          "state": {
            "_view_name": "HBoxView",
            "_dom_classes": [],
            "_model_name": "HBoxModel",
            "_view_module": "@jupyter-widgets/controls",
            "_model_module_version": "1.5.0",
            "_view_count": null,
            "_view_module_version": "1.5.0",
            "box_style": "",
            "layout": "IPY_MODEL_472f33be04b14aca8b8dacbcbf5ceb9c",
            "_model_module": "@jupyter-widgets/controls",
            "children": [
              "IPY_MODEL_661c00d2e93f46b99ddde963420191ff",
              "IPY_MODEL_1af64f5b11a14578a2fca4d29b64cd3b",
              "IPY_MODEL_82b4b8e47cd64593a4d794dbf44a30b7"
            ]
          }
        },
        "472f33be04b14aca8b8dacbcbf5ceb9c": {
          "model_module": "@jupyter-widgets/base",
          "model_name": "LayoutModel",
          "model_module_version": "1.2.0",
          "state": {
            "_view_name": "LayoutView",
            "grid_template_rows": null,
            "right": null,
            "justify_content": null,
            "_view_module": "@jupyter-widgets/base",
            "overflow": null,
            "_model_module_version": "1.2.0",
            "_view_count": null,
            "flex_flow": null,
            "width": null,
            "min_width": null,
            "border": null,
            "align_items": null,
            "bottom": null,
            "_model_module": "@jupyter-widgets/base",
            "top": null,
            "grid_column": null,
            "overflow_y": null,
            "overflow_x": null,
            "grid_auto_flow": null,
            "grid_area": null,
            "grid_template_columns": null,
            "flex": null,
            "_model_name": "LayoutModel",
            "justify_items": null,
            "grid_row": null,
            "max_height": null,
            "align_content": null,
            "visibility": null,
            "align_self": null,
            "height": null,
            "min_height": null,
            "padding": null,
            "grid_auto_rows": null,
            "grid_gap": null,
            "max_width": null,
            "order": null,
            "_view_module_version": "1.2.0",
            "grid_template_areas": null,
            "object_position": null,
            "object_fit": null,
            "grid_auto_columns": null,
            "margin": null,
            "display": null,
            "left": null
          }
        },
        "661c00d2e93f46b99ddde963420191ff": {
          "model_module": "@jupyter-widgets/controls",
          "model_name": "HTMLModel",
          "model_module_version": "1.5.0",
          "state": {
            "_view_name": "HTMLView",
            "style": "IPY_MODEL_d0d004d86fd4463689cc17f9fbb96f1b",
            "_dom_classes": [],
            "description": "",
            "_model_name": "HTMLModel",
            "placeholder": "​",
            "_view_module": "@jupyter-widgets/controls",
            "_model_module_version": "1.5.0",
            "value": "Downloading: 100%",
            "_view_count": null,
            "_view_module_version": "1.5.0",
            "description_tooltip": null,
            "_model_module": "@jupyter-widgets/controls",
            "layout": "IPY_MODEL_47f63c17d7e246cf96c9fe560f1dff33"
          }
        },
        "1af64f5b11a14578a2fca4d29b64cd3b": {
          "model_module": "@jupyter-widgets/controls",
          "model_name": "FloatProgressModel",
          "model_module_version": "1.5.0",
          "state": {
            "_view_name": "ProgressView",
            "style": "IPY_MODEL_e6834b4e40654c1983121e2623f83919",
            "_dom_classes": [],
            "description": "",
            "_model_name": "FloatProgressModel",
            "bar_style": "success",
            "max": 456318,
            "_view_module": "@jupyter-widgets/controls",
            "_model_module_version": "1.5.0",
            "value": 456318,
            "_view_count": null,
            "_view_module_version": "1.5.0",
            "orientation": "horizontal",
            "min": 0,
            "description_tooltip": null,
            "_model_module": "@jupyter-widgets/controls",
            "layout": "IPY_MODEL_78a45f38afab4f22bf89c305de3eb6e2"
          }
        },
        "82b4b8e47cd64593a4d794dbf44a30b7": {
          "model_module": "@jupyter-widgets/controls",
          "model_name": "HTMLModel",
          "model_module_version": "1.5.0",
          "state": {
            "_view_name": "HTMLView",
            "style": "IPY_MODEL_ed26a0ed07294da0aaa83502b0f83813",
            "_dom_classes": [],
            "description": "",
            "_model_name": "HTMLModel",
            "placeholder": "​",
            "_view_module": "@jupyter-widgets/controls",
            "_model_module_version": "1.5.0",
            "value": " 456k/456k [00:00&lt;00:00, 1.02MB/s]",
            "_view_count": null,
            "_view_module_version": "1.5.0",
            "description_tooltip": null,
            "_model_module": "@jupyter-widgets/controls",
            "layout": "IPY_MODEL_e11306081c994e6e916746fb8b26df11"
          }
        },
        "d0d004d86fd4463689cc17f9fbb96f1b": {
          "model_module": "@jupyter-widgets/controls",
          "model_name": "DescriptionStyleModel",
          "model_module_version": "1.5.0",
          "state": {
            "_view_name": "StyleView",
            "_model_name": "DescriptionStyleModel",
            "description_width": "",
            "_view_module": "@jupyter-widgets/base",
            "_model_module_version": "1.5.0",
            "_view_count": null,
            "_view_module_version": "1.2.0",
            "_model_module": "@jupyter-widgets/controls"
          }
        },
        "47f63c17d7e246cf96c9fe560f1dff33": {
          "model_module": "@jupyter-widgets/base",
          "model_name": "LayoutModel",
          "model_module_version": "1.2.0",
          "state": {
            "_view_name": "LayoutView",
            "grid_template_rows": null,
            "right": null,
            "justify_content": null,
            "_view_module": "@jupyter-widgets/base",
            "overflow": null,
            "_model_module_version": "1.2.0",
            "_view_count": null,
            "flex_flow": null,
            "width": null,
            "min_width": null,
            "border": null,
            "align_items": null,
            "bottom": null,
            "_model_module": "@jupyter-widgets/base",
            "top": null,
            "grid_column": null,
            "overflow_y": null,
            "overflow_x": null,
            "grid_auto_flow": null,
            "grid_area": null,
            "grid_template_columns": null,
            "flex": null,
            "_model_name": "LayoutModel",
            "justify_items": null,
            "grid_row": null,
            "max_height": null,
            "align_content": null,
            "visibility": null,
            "align_self": null,
            "height": null,
            "min_height": null,
            "padding": null,
            "grid_auto_rows": null,
            "grid_gap": null,
            "max_width": null,
            "order": null,
            "_view_module_version": "1.2.0",
            "grid_template_areas": null,
            "object_position": null,
            "object_fit": null,
            "grid_auto_columns": null,
            "margin": null,
            "display": null,
            "left": null
          }
        },
        "e6834b4e40654c1983121e2623f83919": {
          "model_module": "@jupyter-widgets/controls",
          "model_name": "ProgressStyleModel",
          "model_module_version": "1.5.0",
          "state": {
            "_view_name": "StyleView",
            "_model_name": "ProgressStyleModel",
            "description_width": "",
            "_view_module": "@jupyter-widgets/base",
            "_model_module_version": "1.5.0",
            "_view_count": null,
            "_view_module_version": "1.2.0",
            "bar_color": null,
            "_model_module": "@jupyter-widgets/controls"
          }
        },
        "78a45f38afab4f22bf89c305de3eb6e2": {
          "model_module": "@jupyter-widgets/base",
          "model_name": "LayoutModel",
          "model_module_version": "1.2.0",
          "state": {
            "_view_name": "LayoutView",
            "grid_template_rows": null,
            "right": null,
            "justify_content": null,
            "_view_module": "@jupyter-widgets/base",
            "overflow": null,
            "_model_module_version": "1.2.0",
            "_view_count": null,
            "flex_flow": null,
            "width": null,
            "min_width": null,
            "border": null,
            "align_items": null,
            "bottom": null,
            "_model_module": "@jupyter-widgets/base",
            "top": null,
            "grid_column": null,
            "overflow_y": null,
            "overflow_x": null,
            "grid_auto_flow": null,
            "grid_area": null,
            "grid_template_columns": null,
            "flex": null,
            "_model_name": "LayoutModel",
            "justify_items": null,
            "grid_row": null,
            "max_height": null,
            "align_content": null,
            "visibility": null,
            "align_self": null,
            "height": null,
            "min_height": null,
            "padding": null,
            "grid_auto_rows": null,
            "grid_gap": null,
            "max_width": null,
            "order": null,
            "_view_module_version": "1.2.0",
            "grid_template_areas": null,
            "object_position": null,
            "object_fit": null,
            "grid_auto_columns": null,
            "margin": null,
            "display": null,
            "left": null
          }
        },
        "ed26a0ed07294da0aaa83502b0f83813": {
          "model_module": "@jupyter-widgets/controls",
          "model_name": "DescriptionStyleModel",
          "model_module_version": "1.5.0",
          "state": {
            "_view_name": "StyleView",
            "_model_name": "DescriptionStyleModel",
            "description_width": "",
            "_view_module": "@jupyter-widgets/base",
            "_model_module_version": "1.5.0",
            "_view_count": null,
            "_view_module_version": "1.2.0",
            "_model_module": "@jupyter-widgets/controls"
          }
        },
        "e11306081c994e6e916746fb8b26df11": {
          "model_module": "@jupyter-widgets/base",
          "model_name": "LayoutModel",
          "model_module_version": "1.2.0",
          "state": {
            "_view_name": "LayoutView",
            "grid_template_rows": null,
            "right": null,
            "justify_content": null,
            "_view_module": "@jupyter-widgets/base",
            "overflow": null,
            "_model_module_version": "1.2.0",
            "_view_count": null,
            "flex_flow": null,
            "width": null,
            "min_width": null,
            "border": null,
            "align_items": null,
            "bottom": null,
            "_model_module": "@jupyter-widgets/base",
            "top": null,
            "grid_column": null,
            "overflow_y": null,
            "overflow_x": null,
            "grid_auto_flow": null,
            "grid_area": null,
            "grid_template_columns": null,
            "flex": null,
            "_model_name": "LayoutModel",
            "justify_items": null,
            "grid_row": null,
            "max_height": null,
            "align_content": null,
            "visibility": null,
            "align_self": null,
            "height": null,
            "min_height": null,
            "padding": null,
            "grid_auto_rows": null,
            "grid_gap": null,
            "max_width": null,
            "order": null,
            "_view_module_version": "1.2.0",
            "grid_template_areas": null,
            "object_position": null,
            "object_fit": null,
            "grid_auto_columns": null,
            "margin": null,
            "display": null,
            "left": null
          }
        },
        "a65f3ba590ec40b9b073e5eace36fe3f": {
          "model_module": "@jupyter-widgets/controls",
          "model_name": "HBoxModel",
          "model_module_version": "1.5.0",
          "state": {
            "_view_name": "HBoxView",
            "_dom_classes": [],
            "_model_name": "HBoxModel",
            "_view_module": "@jupyter-widgets/controls",
            "_model_module_version": "1.5.0",
            "_view_count": null,
            "_view_module_version": "1.5.0",
            "box_style": "",
            "layout": "IPY_MODEL_e045cfdc62e4450b8c2dfb98f968902b",
            "_model_module": "@jupyter-widgets/controls",
            "children": [
              "IPY_MODEL_e838f4d151414d03953692983e728048",
              "IPY_MODEL_f23846551a68492993eae90e64f26e9f",
              "IPY_MODEL_75672e93d2064ea3867c2549307ee38c"
            ]
          }
        },
        "e045cfdc62e4450b8c2dfb98f968902b": {
          "model_module": "@jupyter-widgets/base",
          "model_name": "LayoutModel",
          "model_module_version": "1.2.0",
          "state": {
            "_view_name": "LayoutView",
            "grid_template_rows": null,
            "right": null,
            "justify_content": null,
            "_view_module": "@jupyter-widgets/base",
            "overflow": null,
            "_model_module_version": "1.2.0",
            "_view_count": null,
            "flex_flow": null,
            "width": null,
            "min_width": null,
            "border": null,
            "align_items": null,
            "bottom": null,
            "_model_module": "@jupyter-widgets/base",
            "top": null,
            "grid_column": null,
            "overflow_y": null,
            "overflow_x": null,
            "grid_auto_flow": null,
            "grid_area": null,
            "grid_template_columns": null,
            "flex": null,
            "_model_name": "LayoutModel",
            "justify_items": null,
            "grid_row": null,
            "max_height": null,
            "align_content": null,
            "visibility": null,
            "align_self": null,
            "height": null,
            "min_height": null,
            "padding": null,
            "grid_auto_rows": null,
            "grid_gap": null,
            "max_width": null,
            "order": null,
            "_view_module_version": "1.2.0",
            "grid_template_areas": null,
            "object_position": null,
            "object_fit": null,
            "grid_auto_columns": null,
            "margin": null,
            "display": null,
            "left": null
          }
        },
        "e838f4d151414d03953692983e728048": {
          "model_module": "@jupyter-widgets/controls",
          "model_name": "HTMLModel",
          "model_module_version": "1.5.0",
          "state": {
            "_view_name": "HTMLView",
            "style": "IPY_MODEL_a6075674565a401789106bc27cb051bb",
            "_dom_classes": [],
            "description": "",
            "_model_name": "HTMLModel",
            "placeholder": "​",
            "_view_module": "@jupyter-widgets/controls",
            "_model_module_version": "1.5.0",
            "value": "Downloading: 100%",
            "_view_count": null,
            "_view_module_version": "1.5.0",
            "description_tooltip": null,
            "_model_module": "@jupyter-widgets/controls",
            "layout": "IPY_MODEL_cd54e115c3be447ab77284185a2d626b"
          }
        },
        "f23846551a68492993eae90e64f26e9f": {
          "model_module": "@jupyter-widgets/controls",
          "model_name": "FloatProgressModel",
          "model_module_version": "1.5.0",
          "state": {
            "_view_name": "ProgressView",
            "style": "IPY_MODEL_5a1d39c766c442c58b8c41bc05db4268",
            "_dom_classes": [],
            "description": "",
            "_model_name": "FloatProgressModel",
            "bar_style": "success",
            "max": 772,
            "_view_module": "@jupyter-widgets/controls",
            "_model_module_version": "1.5.0",
            "value": 772,
            "_view_count": null,
            "_view_module_version": "1.5.0",
            "orientation": "horizontal",
            "min": 0,
            "description_tooltip": null,
            "_model_module": "@jupyter-widgets/controls",
            "layout": "IPY_MODEL_9dedc38cf9e34470af46d9a5a805f775"
          }
        },
        "75672e93d2064ea3867c2549307ee38c": {
          "model_module": "@jupyter-widgets/controls",
          "model_name": "HTMLModel",
          "model_module_version": "1.5.0",
          "state": {
            "_view_name": "HTMLView",
            "style": "IPY_MODEL_df92c9d0b1ca437d8c3bc1d155a17ee1",
            "_dom_classes": [],
            "description": "",
            "_model_name": "HTMLModel",
            "placeholder": "​",
            "_view_module": "@jupyter-widgets/controls",
            "_model_module_version": "1.5.0",
            "value": " 772/772 [00:00&lt;00:00, 19.0kB/s]",
            "_view_count": null,
            "_view_module_version": "1.5.0",
            "description_tooltip": null,
            "_model_module": "@jupyter-widgets/controls",
            "layout": "IPY_MODEL_27f4b016bfcf49e4a6cc4b665a082ade"
          }
        },
        "a6075674565a401789106bc27cb051bb": {
          "model_module": "@jupyter-widgets/controls",
          "model_name": "DescriptionStyleModel",
          "model_module_version": "1.5.0",
          "state": {
            "_view_name": "StyleView",
            "_model_name": "DescriptionStyleModel",
            "description_width": "",
            "_view_module": "@jupyter-widgets/base",
            "_model_module_version": "1.5.0",
            "_view_count": null,
            "_view_module_version": "1.2.0",
            "_model_module": "@jupyter-widgets/controls"
          }
        },
        "cd54e115c3be447ab77284185a2d626b": {
          "model_module": "@jupyter-widgets/base",
          "model_name": "LayoutModel",
          "model_module_version": "1.2.0",
          "state": {
            "_view_name": "LayoutView",
            "grid_template_rows": null,
            "right": null,
            "justify_content": null,
            "_view_module": "@jupyter-widgets/base",
            "overflow": null,
            "_model_module_version": "1.2.0",
            "_view_count": null,
            "flex_flow": null,
            "width": null,
            "min_width": null,
            "border": null,
            "align_items": null,
            "bottom": null,
            "_model_module": "@jupyter-widgets/base",
            "top": null,
            "grid_column": null,
            "overflow_y": null,
            "overflow_x": null,
            "grid_auto_flow": null,
            "grid_area": null,
            "grid_template_columns": null,
            "flex": null,
            "_model_name": "LayoutModel",
            "justify_items": null,
            "grid_row": null,
            "max_height": null,
            "align_content": null,
            "visibility": null,
            "align_self": null,
            "height": null,
            "min_height": null,
            "padding": null,
            "grid_auto_rows": null,
            "grid_gap": null,
            "max_width": null,
            "order": null,
            "_view_module_version": "1.2.0",
            "grid_template_areas": null,
            "object_position": null,
            "object_fit": null,
            "grid_auto_columns": null,
            "margin": null,
            "display": null,
            "left": null
          }
        },
        "5a1d39c766c442c58b8c41bc05db4268": {
          "model_module": "@jupyter-widgets/controls",
          "model_name": "ProgressStyleModel",
          "model_module_version": "1.5.0",
          "state": {
            "_view_name": "StyleView",
            "_model_name": "ProgressStyleModel",
            "description_width": "",
            "_view_module": "@jupyter-widgets/base",
            "_model_module_version": "1.5.0",
            "_view_count": null,
            "_view_module_version": "1.2.0",
            "bar_color": null,
            "_model_module": "@jupyter-widgets/controls"
          }
        },
        "9dedc38cf9e34470af46d9a5a805f775": {
          "model_module": "@jupyter-widgets/base",
          "model_name": "LayoutModel",
          "model_module_version": "1.2.0",
          "state": {
            "_view_name": "LayoutView",
            "grid_template_rows": null,
            "right": null,
            "justify_content": null,
            "_view_module": "@jupyter-widgets/base",
            "overflow": null,
            "_model_module_version": "1.2.0",
            "_view_count": null,
            "flex_flow": null,
            "width": null,
            "min_width": null,
            "border": null,
            "align_items": null,
            "bottom": null,
            "_model_module": "@jupyter-widgets/base",
            "top": null,
            "grid_column": null,
            "overflow_y": null,
            "overflow_x": null,
            "grid_auto_flow": null,
            "grid_area": null,
            "grid_template_columns": null,
            "flex": null,
            "_model_name": "LayoutModel",
            "justify_items": null,
            "grid_row": null,
            "max_height": null,
            "align_content": null,
            "visibility": null,
            "align_self": null,
            "height": null,
            "min_height": null,
            "padding": null,
            "grid_auto_rows": null,
            "grid_gap": null,
            "max_width": null,
            "order": null,
            "_view_module_version": "1.2.0",
            "grid_template_areas": null,
            "object_position": null,
            "object_fit": null,
            "grid_auto_columns": null,
            "margin": null,
            "display": null,
            "left": null
          }
        },
        "df92c9d0b1ca437d8c3bc1d155a17ee1": {
          "model_module": "@jupyter-widgets/controls",
          "model_name": "DescriptionStyleModel",
          "model_module_version": "1.5.0",
          "state": {
            "_view_name": "StyleView",
            "_model_name": "DescriptionStyleModel",
            "description_width": "",
            "_view_module": "@jupyter-widgets/base",
            "_model_module_version": "1.5.0",
            "_view_count": null,
            "_view_module_version": "1.2.0",
            "_model_module": "@jupyter-widgets/controls"
          }
        },
        "27f4b016bfcf49e4a6cc4b665a082ade": {
          "model_module": "@jupyter-widgets/base",
          "model_name": "LayoutModel",
          "model_module_version": "1.2.0",
          "state": {
            "_view_name": "LayoutView",
            "grid_template_rows": null,
            "right": null,
            "justify_content": null,
            "_view_module": "@jupyter-widgets/base",
            "overflow": null,
            "_model_module_version": "1.2.0",
            "_view_count": null,
            "flex_flow": null,
            "width": null,
            "min_width": null,
            "border": null,
            "align_items": null,
            "bottom": null,
            "_model_module": "@jupyter-widgets/base",
            "top": null,
            "grid_column": null,
            "overflow_y": null,
            "overflow_x": null,
            "grid_auto_flow": null,
            "grid_area": null,
            "grid_template_columns": null,
            "flex": null,
            "_model_name": "LayoutModel",
            "justify_items": null,
            "grid_row": null,
            "max_height": null,
            "align_content": null,
            "visibility": null,
            "align_self": null,
            "height": null,
            "min_height": null,
            "padding": null,
            "grid_auto_rows": null,
            "grid_gap": null,
            "max_width": null,
            "order": null,
            "_view_module_version": "1.2.0",
            "grid_template_areas": null,
            "object_position": null,
            "object_fit": null,
            "grid_auto_columns": null,
            "margin": null,
            "display": null,
            "left": null
          }
        },
        "91f0b3565af5430dbffaed80f08977ee": {
          "model_module": "@jupyter-widgets/controls",
          "model_name": "HBoxModel",
          "model_module_version": "1.5.0",
          "state": {
            "_view_name": "HBoxView",
            "_dom_classes": [],
            "_model_name": "HBoxModel",
            "_view_module": "@jupyter-widgets/controls",
            "_model_module_version": "1.5.0",
            "_view_count": null,
            "_view_module_version": "1.5.0",
            "box_style": "",
            "layout": "IPY_MODEL_b115b9a7a657415ba53c2780230be1b4",
            "_model_module": "@jupyter-widgets/controls",
            "children": [
              "IPY_MODEL_9b8041849ae94cd6bc9c83decfc1dd91",
              "IPY_MODEL_d4d61f9e8a034787a140365568ac6ec8",
              "IPY_MODEL_7578514c47be451f95c91d8b51ca47d0"
            ]
          }
        },
        "b115b9a7a657415ba53c2780230be1b4": {
          "model_module": "@jupyter-widgets/base",
          "model_name": "LayoutModel",
          "model_module_version": "1.2.0",
          "state": {
            "_view_name": "LayoutView",
            "grid_template_rows": null,
            "right": null,
            "justify_content": null,
            "_view_module": "@jupyter-widgets/base",
            "overflow": null,
            "_model_module_version": "1.2.0",
            "_view_count": null,
            "flex_flow": null,
            "width": null,
            "min_width": null,
            "border": null,
            "align_items": null,
            "bottom": null,
            "_model_module": "@jupyter-widgets/base",
            "top": null,
            "grid_column": null,
            "overflow_y": null,
            "overflow_x": null,
            "grid_auto_flow": null,
            "grid_area": null,
            "grid_template_columns": null,
            "flex": null,
            "_model_name": "LayoutModel",
            "justify_items": null,
            "grid_row": null,
            "max_height": null,
            "align_content": null,
            "visibility": null,
            "align_self": null,
            "height": null,
            "min_height": null,
            "padding": null,
            "grid_auto_rows": null,
            "grid_gap": null,
            "max_width": null,
            "order": null,
            "_view_module_version": "1.2.0",
            "grid_template_areas": null,
            "object_position": null,
            "object_fit": null,
            "grid_auto_columns": null,
            "margin": null,
            "display": null,
            "left": null
          }
        },
        "9b8041849ae94cd6bc9c83decfc1dd91": {
          "model_module": "@jupyter-widgets/controls",
          "model_name": "HTMLModel",
          "model_module_version": "1.5.0",
          "state": {
            "_view_name": "HTMLView",
            "style": "IPY_MODEL_5388239b07f349d88ef844bf40ff2546",
            "_dom_classes": [],
            "description": "",
            "_model_name": "HTMLModel",
            "placeholder": "​",
            "_view_module": "@jupyter-widgets/controls",
            "_model_module_version": "1.5.0",
            "value": "Downloading: 100%",
            "_view_count": null,
            "_view_module_version": "1.5.0",
            "description_tooltip": null,
            "_model_module": "@jupyter-widgets/controls",
            "layout": "IPY_MODEL_d9fbdcc635c34265828e247675b0f7a3"
          }
        },
        "d4d61f9e8a034787a140365568ac6ec8": {
          "model_module": "@jupyter-widgets/controls",
          "model_name": "FloatProgressModel",
          "model_module_version": "1.5.0",
          "state": {
            "_view_name": "ProgressView",
            "style": "IPY_MODEL_a26a231c027448218c79ba4cb03cf530",
            "_dom_classes": [],
            "description": "",
            "_model_name": "FloatProgressModel",
            "bar_style": "success",
            "max": 79,
            "_view_module": "@jupyter-widgets/controls",
            "_model_module_version": "1.5.0",
            "value": 79,
            "_view_count": null,
            "_view_module_version": "1.5.0",
            "orientation": "horizontal",
            "min": 0,
            "description_tooltip": null,
            "_model_module": "@jupyter-widgets/controls",
            "layout": "IPY_MODEL_f3dd1c789a1c4101a13acd37f3cfd8b8"
          }
        },
        "7578514c47be451f95c91d8b51ca47d0": {
          "model_module": "@jupyter-widgets/controls",
          "model_name": "HTMLModel",
          "model_module_version": "1.5.0",
          "state": {
            "_view_name": "HTMLView",
            "style": "IPY_MODEL_da1a2d8a74c5433395e5333103894a5a",
            "_dom_classes": [],
            "description": "",
            "_model_name": "HTMLModel",
            "placeholder": "​",
            "_view_module": "@jupyter-widgets/controls",
            "_model_module_version": "1.5.0",
            "value": " 79.0/79.0 [00:00&lt;00:00, 1.99kB/s]",
            "_view_count": null,
            "_view_module_version": "1.5.0",
            "description_tooltip": null,
            "_model_module": "@jupyter-widgets/controls",
            "layout": "IPY_MODEL_cef0720fa9ea44d58ef783022bec5fbb"
          }
        },
        "5388239b07f349d88ef844bf40ff2546": {
          "model_module": "@jupyter-widgets/controls",
          "model_name": "DescriptionStyleModel",
          "model_module_version": "1.5.0",
          "state": {
            "_view_name": "StyleView",
            "_model_name": "DescriptionStyleModel",
            "description_width": "",
            "_view_module": "@jupyter-widgets/base",
            "_model_module_version": "1.5.0",
            "_view_count": null,
            "_view_module_version": "1.2.0",
            "_model_module": "@jupyter-widgets/controls"
          }
        },
        "d9fbdcc635c34265828e247675b0f7a3": {
          "model_module": "@jupyter-widgets/base",
          "model_name": "LayoutModel",
          "model_module_version": "1.2.0",
          "state": {
            "_view_name": "LayoutView",
            "grid_template_rows": null,
            "right": null,
            "justify_content": null,
            "_view_module": "@jupyter-widgets/base",
            "overflow": null,
            "_model_module_version": "1.2.0",
            "_view_count": null,
            "flex_flow": null,
            "width": null,
            "min_width": null,
            "border": null,
            "align_items": null,
            "bottom": null,
            "_model_module": "@jupyter-widgets/base",
            "top": null,
            "grid_column": null,
            "overflow_y": null,
            "overflow_x": null,
            "grid_auto_flow": null,
            "grid_area": null,
            "grid_template_columns": null,
            "flex": null,
            "_model_name": "LayoutModel",
            "justify_items": null,
            "grid_row": null,
            "max_height": null,
            "align_content": null,
            "visibility": null,
            "align_self": null,
            "height": null,
            "min_height": null,
            "padding": null,
            "grid_auto_rows": null,
            "grid_gap": null,
            "max_width": null,
            "order": null,
            "_view_module_version": "1.2.0",
            "grid_template_areas": null,
            "object_position": null,
            "object_fit": null,
            "grid_auto_columns": null,
            "margin": null,
            "display": null,
            "left": null
          }
        },
        "a26a231c027448218c79ba4cb03cf530": {
          "model_module": "@jupyter-widgets/controls",
          "model_name": "ProgressStyleModel",
          "model_module_version": "1.5.0",
          "state": {
            "_view_name": "StyleView",
            "_model_name": "ProgressStyleModel",
            "description_width": "",
            "_view_module": "@jupyter-widgets/base",
            "_model_module_version": "1.5.0",
            "_view_count": null,
            "_view_module_version": "1.2.0",
            "bar_color": null,
            "_model_module": "@jupyter-widgets/controls"
          }
        },
        "f3dd1c789a1c4101a13acd37f3cfd8b8": {
          "model_module": "@jupyter-widgets/base",
          "model_name": "LayoutModel",
          "model_module_version": "1.2.0",
          "state": {
            "_view_name": "LayoutView",
            "grid_template_rows": null,
            "right": null,
            "justify_content": null,
            "_view_module": "@jupyter-widgets/base",
            "overflow": null,
            "_model_module_version": "1.2.0",
            "_view_count": null,
            "flex_flow": null,
            "width": null,
            "min_width": null,
            "border": null,
            "align_items": null,
            "bottom": null,
            "_model_module": "@jupyter-widgets/base",
            "top": null,
            "grid_column": null,
            "overflow_y": null,
            "overflow_x": null,
            "grid_auto_flow": null,
            "grid_area": null,
            "grid_template_columns": null,
            "flex": null,
            "_model_name": "LayoutModel",
            "justify_items": null,
            "grid_row": null,
            "max_height": null,
            "align_content": null,
            "visibility": null,
            "align_self": null,
            "height": null,
            "min_height": null,
            "padding": null,
            "grid_auto_rows": null,
            "grid_gap": null,
            "max_width": null,
            "order": null,
            "_view_module_version": "1.2.0",
            "grid_template_areas": null,
            "object_position": null,
            "object_fit": null,
            "grid_auto_columns": null,
            "margin": null,
            "display": null,
            "left": null
          }
        },
        "da1a2d8a74c5433395e5333103894a5a": {
          "model_module": "@jupyter-widgets/controls",
          "model_name": "DescriptionStyleModel",
          "model_module_version": "1.5.0",
          "state": {
            "_view_name": "StyleView",
            "_model_name": "DescriptionStyleModel",
            "description_width": "",
            "_view_module": "@jupyter-widgets/base",
            "_model_module_version": "1.5.0",
            "_view_count": null,
            "_view_module_version": "1.2.0",
            "_model_module": "@jupyter-widgets/controls"
          }
        },
        "cef0720fa9ea44d58ef783022bec5fbb": {
          "model_module": "@jupyter-widgets/base",
          "model_name": "LayoutModel",
          "model_module_version": "1.2.0",
          "state": {
            "_view_name": "LayoutView",
            "grid_template_rows": null,
            "right": null,
            "justify_content": null,
            "_view_module": "@jupyter-widgets/base",
            "overflow": null,
            "_model_module_version": "1.2.0",
            "_view_count": null,
            "flex_flow": null,
            "width": null,
            "min_width": null,
            "border": null,
            "align_items": null,
            "bottom": null,
            "_model_module": "@jupyter-widgets/base",
            "top": null,
            "grid_column": null,
            "overflow_y": null,
            "overflow_x": null,
            "grid_auto_flow": null,
            "grid_area": null,
            "grid_template_columns": null,
            "flex": null,
            "_model_name": "LayoutModel",
            "justify_items": null,
            "grid_row": null,
            "max_height": null,
            "align_content": null,
            "visibility": null,
            "align_self": null,
            "height": null,
            "min_height": null,
            "padding": null,
            "grid_auto_rows": null,
            "grid_gap": null,
            "max_width": null,
            "order": null,
            "_view_module_version": "1.2.0",
            "grid_template_areas": null,
            "object_position": null,
            "object_fit": null,
            "grid_auto_columns": null,
            "margin": null,
            "display": null,
            "left": null
          }
        }
      }
    }
  },
  "cells": [
    {
      "cell_type": "markdown",
      "metadata": {
        "id": "view-in-github",
        "colab_type": "text"
      },
      "source": [
        "<a href=\"https://colab.research.google.com/github/thousandoaks/DigitalRents/blob/main/Watson_QA_Pipeline.ipynb\" target=\"_parent\"><img src=\"https://colab.research.google.com/assets/colab-badge.svg\" alt=\"Open In Colab\"/></a>"
      ]
    },
    {
      "cell_type": "markdown",
      "metadata": {
        "id": "lBPtfqRQTu35"
      },
      "source": [
        "# WATSON: All you ever wanted to know about BigTechs\n",
        "\n",
        "<img style=\"float: right;\" src=\"https://www.ucl.ac.uk/bartlett/public-purpose/sites/bartlett_public_purpose/files/styles/small_image/public/brochure-cover-1019_0.png?itok=kYkCqJq4\">\n",
        "\n",
        "[![Open In Colab](https://colab.research.google.com/assets/colab-badge.svg)](https://github.com/thousandoaks/DigitalRents/blob/main/Watson_QA_Pipeline.ipynb)\n",
        "\n",
        "Watson can be used in a variety of use cases. A very common one:  Using it to navigate through complex knowledge bases regarding Bigtechs.\n",
        "\n",
        "\n"
      ]
    },
    {
      "cell_type": "markdown",
      "metadata": {
        "collapsed": false,
        "id": "VR5IAiZMTu38"
      },
      "source": [
        "### Prepare environment\n",
        "\n",
        "#### Colab: Enable the GPU runtime\n",
        "Make sure you enable the GPU runtime to experience decent speed in this tutorial.\n",
        "**Runtime -> Change Runtime type -> Hardware accelerator -> GPU**\n",
        "\n",
        "<img src=\"https://raw.githubusercontent.com/deepset-ai/haystack/master/docs/_src/img/colab_gpu_runtime.jpg\">"
      ]
    },
    {
      "cell_type": "code",
      "metadata": {
        "pycharm": {
          "name": "#%%\n"
        },
        "id": "Uak3sqACTu38",
        "colab": {
          "base_uri": "https://localhost:8080/"
        },
        "outputId": "4155efc2-888e-4936-82e6-2207cb5cfa8a"
      },
      "source": [
        "# Make sure you have a GPU running\n",
        "!nvidia-smi"
      ],
      "execution_count": 1,
      "outputs": [
        {
          "output_type": "stream",
          "name": "stdout",
          "text": [
            "Wed Sep  8 08:48:32 2021       \n",
            "+-----------------------------------------------------------------------------+\n",
            "| NVIDIA-SMI 470.63.01    Driver Version: 460.32.03    CUDA Version: 11.2     |\n",
            "|-------------------------------+----------------------+----------------------+\n",
            "| GPU  Name        Persistence-M| Bus-Id        Disp.A | Volatile Uncorr. ECC |\n",
            "| Fan  Temp  Perf  Pwr:Usage/Cap|         Memory-Usage | GPU-Util  Compute M. |\n",
            "|                               |                      |               MIG M. |\n",
            "|===============================+======================+======================|\n",
            "|   0  Tesla K80           Off  | 00000000:00:04.0 Off |                    0 |\n",
            "| N/A   33C    P8    28W / 149W |      0MiB / 11441MiB |      0%      Default |\n",
            "|                               |                      |                  N/A |\n",
            "+-------------------------------+----------------------+----------------------+\n",
            "                                                                               \n",
            "+-----------------------------------------------------------------------------+\n",
            "| Processes:                                                                  |\n",
            "|  GPU   GI   CI        PID   Type   Process name                  GPU Memory |\n",
            "|        ID   ID                                                   Usage      |\n",
            "|=============================================================================|\n",
            "|  No running processes found                                                 |\n",
            "+-----------------------------------------------------------------------------+\n"
          ]
        }
      ]
    },
    {
      "cell_type": "code",
      "metadata": {
        "id": "lxlZxujMTu39",
        "colab": {
          "base_uri": "https://localhost:8080/"
        },
        "outputId": "3d1a3f2e-baa7-4fd9-a202-62fbb06d010f"
      },
      "source": [
        "# Install the latest release of Haystack in your own environment \n",
        "! pip install farm-haystack\n",
        "\n",
        "# Install the latest master of Haystack\n",
        "#!pip install grpcio-tools==1.34.1\n",
        "#!pip install git+https://github.com/deepset-ai/haystack.git\n"
      ],
      "execution_count": 2,
      "outputs": [
        {
          "output_type": "stream",
          "name": "stdout",
          "text": [
            "Collecting farm-haystack\n",
            "  Downloading farm_haystack-0.9.0-py3-none-any.whl (180 kB)\n",
            "\u001b[?25l\r\u001b[K     |█▉                              | 10 kB 19.6 MB/s eta 0:00:01\r\u001b[K     |███▋                            | 20 kB 23.5 MB/s eta 0:00:01\r\u001b[K     |█████▌                          | 30 kB 12.5 MB/s eta 0:00:01\r\u001b[K     |███████▎                        | 40 kB 9.6 MB/s eta 0:00:01\r\u001b[K     |█████████                       | 51 kB 5.5 MB/s eta 0:00:01\r\u001b[K     |███████████                     | 61 kB 6.0 MB/s eta 0:00:01\r\u001b[K     |████████████▊                   | 71 kB 5.8 MB/s eta 0:00:01\r\u001b[K     |██████████████▌                 | 81 kB 6.5 MB/s eta 0:00:01\r\u001b[K     |████████████████▍               | 92 kB 4.9 MB/s eta 0:00:01\r\u001b[K     |██████████████████▏             | 102 kB 5.3 MB/s eta 0:00:01\r\u001b[K     |████████████████████            | 112 kB 5.3 MB/s eta 0:00:01\r\u001b[K     |█████████████████████▉          | 122 kB 5.3 MB/s eta 0:00:01\r\u001b[K     |███████████████████████▋        | 133 kB 5.3 MB/s eta 0:00:01\r\u001b[K     |█████████████████████████▍      | 143 kB 5.3 MB/s eta 0:00:01\r\u001b[K     |███████████████████████████▎    | 153 kB 5.3 MB/s eta 0:00:01\r\u001b[K     |█████████████████████████████   | 163 kB 5.3 MB/s eta 0:00:01\r\u001b[K     |██████████████████████████████▉ | 174 kB 5.3 MB/s eta 0:00:01\r\u001b[K     |████████████████████████████████| 180 kB 5.3 MB/s \n",
            "\u001b[?25hRequirement already satisfied: more-itertools in /usr/local/lib/python3.7/dist-packages (from farm-haystack) (8.8.0)\n",
            "Requirement already satisfied: sqlalchemy>=1.4.2 in /usr/local/lib/python3.7/dist-packages (from farm-haystack) (1.4.22)\n",
            "Requirement already satisfied: networkx in /usr/local/lib/python3.7/dist-packages (from farm-haystack) (2.6.2)\n",
            "Collecting python-multipart\n",
            "  Downloading python-multipart-0.0.5.tar.gz (32 kB)\n",
            "Collecting weaviate-client\n",
            "  Downloading weaviate_client-3.2.1-py3-none-any.whl (59 kB)\n",
            "\u001b[K     |████████████████████████████████| 59 kB 6.0 MB/s \n",
            "\u001b[?25hCollecting faiss-cpu>=1.6.3\n",
            "  Downloading faiss_cpu-1.7.1.post2-cp37-cp37m-manylinux_2_17_x86_64.manylinux2014_x86_64.whl (8.4 MB)\n",
            "\u001b[K     |████████████████████████████████| 8.4 MB 42.7 MB/s \n",
            "\u001b[?25hRequirement already satisfied: coverage in /usr/local/lib/python3.7/dist-packages (from farm-haystack) (3.7.1)\n",
            "Collecting psycopg2-binary\n",
            "  Downloading psycopg2_binary-2.9.1-cp37-cp37m-manylinux_2_17_x86_64.manylinux2014_x86_64.whl (3.4 MB)\n",
            "\u001b[K     |████████████████████████████████| 3.4 MB 31.8 MB/s \n",
            "\u001b[?25hCollecting tika\n",
            "  Downloading tika-1.24.tar.gz (28 kB)\n",
            "Collecting uvloop==0.14\n",
            "  Downloading uvloop-0.14.0-cp37-cp37m-manylinux2010_x86_64.whl (3.8 MB)\n",
            "\u001b[K     |████████████████████████████████| 3.8 MB 27.8 MB/s \n",
            "\u001b[?25hCollecting sqlalchemy-utils\n",
            "  Downloading SQLAlchemy_Utils-0.37.8-py3-none-any.whl (100 kB)\n",
            "\u001b[K     |████████████████████████████████| 100 kB 9.1 MB/s \n",
            "\u001b[?25hCollecting pymilvus\n",
            "  Downloading pymilvus-1.1.2-py3-none-any.whl (56 kB)\n",
            "\u001b[K     |████████████████████████████████| 56 kB 4.1 MB/s \n",
            "\u001b[?25hCollecting uvicorn\n",
            "  Downloading uvicorn-0.15.0-py3-none-any.whl (54 kB)\n",
            "\u001b[K     |████████████████████████████████| 54 kB 2.7 MB/s \n",
            "\u001b[?25hRequirement already satisfied: nltk in /usr/local/lib/python3.7/dist-packages (from farm-haystack) (3.2.5)\n",
            "Collecting farm==0.8.0\n",
            "  Downloading farm-0.8.0-py3-none-any.whl (204 kB)\n",
            "\u001b[K     |████████████████████████████████| 204 kB 47.5 MB/s \n",
            "\u001b[?25hCollecting fastapi\n",
            "  Downloading fastapi-0.68.1-py3-none-any.whl (52 kB)\n",
            "\u001b[K     |████████████████████████████████| 52 kB 923 kB/s \n",
            "\u001b[?25hCollecting elastic-apm\n",
            "  Downloading elastic_apm-6.4.0-cp37-cp37m-manylinux_2_5_x86_64.manylinux1_x86_64.manylinux_2_12_x86_64.manylinux2010_x86_64.whl (332 kB)\n",
            "\u001b[K     |████████████████████████████████| 332 kB 49.2 MB/s \n",
            "\u001b[?25hCollecting httptools\n",
            "  Downloading httptools-0.3.0-cp37-cp37m-manylinux_2_5_x86_64.manylinux1_x86_64.manylinux_2_12_x86_64.manylinux2010_x86_64.whl (402 kB)\n",
            "\u001b[K     |████████████████████████████████| 402 kB 47.1 MB/s \n",
            "\u001b[?25hCollecting SPARQLWrapper\n",
            "  Downloading SPARQLWrapper-1.8.5-py3-none-any.whl (26 kB)\n",
            "Requirement already satisfied: sklearn in /usr/local/lib/python3.7/dist-packages (from farm-haystack) (0.0)\n",
            "Collecting gunicorn\n",
            "  Downloading gunicorn-20.1.0-py3-none-any.whl (79 kB)\n",
            "\u001b[K     |████████████████████████████████| 79 kB 8.0 MB/s \n",
            "\u001b[?25hCollecting elasticsearch<=7.10,>=7.7\n",
            "  Downloading elasticsearch-7.10.0-py2.py3-none-any.whl (321 kB)\n",
            "\u001b[K     |████████████████████████████████| 321 kB 46.1 MB/s \n",
            "\u001b[?25hCollecting python-docx\n",
            "  Downloading python-docx-0.8.11.tar.gz (5.6 MB)\n",
            "\u001b[K     |████████████████████████████████| 5.6 MB 29.0 MB/s \n",
            "\u001b[?25hRequirement already satisfied: pandas in /usr/local/lib/python3.7/dist-packages (from farm-haystack) (1.1.5)\n",
            "Collecting langdetect\n",
            "  Downloading langdetect-1.0.9.tar.gz (981 kB)\n",
            "\u001b[K     |████████████████████████████████| 981 kB 42.3 MB/s \n",
            "\u001b[?25hCollecting mmh3\n",
            "  Downloading mmh3-3.0.0-cp37-cp37m-manylinux2010_x86_64.whl (50 kB)\n",
            "\u001b[K     |████████████████████████████████| 50 kB 4.9 MB/s \n",
            "\u001b[?25hCollecting tox\n",
            "  Downloading tox-3.24.3-py2.py3-none-any.whl (85 kB)\n",
            "\u001b[K     |████████████████████████████████| 85 kB 4.4 MB/s \n",
            "\u001b[?25hRequirement already satisfied: flask in /usr/local/lib/python3.7/dist-packages (from farm==0.8.0->farm-haystack) (1.1.4)\n",
            "Requirement already satisfied: tqdm in /usr/local/lib/python3.7/dist-packages (from farm==0.8.0->farm-haystack) (4.62.0)\n",
            "Collecting mlflow<=1.13.1\n",
            "  Downloading mlflow-1.13.1-py3-none-any.whl (14.1 MB)\n",
            "\u001b[K     |████████████████████████████████| 14.1 MB 28 kB/s \n",
            "\u001b[?25hRequirement already satisfied: scipy>=1.3.2 in /usr/local/lib/python3.7/dist-packages (from farm==0.8.0->farm-haystack) (1.4.1)\n",
            "Collecting Werkzeug==0.16.1\n",
            "  Downloading Werkzeug-0.16.1-py2.py3-none-any.whl (327 kB)\n",
            "\u001b[K     |████████████████████████████████| 327 kB 44.1 MB/s \n",
            "\u001b[?25hCollecting boto3\n",
            "  Downloading boto3-1.18.37-py3-none-any.whl (131 kB)\n",
            "\u001b[K     |████████████████████████████████| 131 kB 46.3 MB/s \n",
            "\u001b[?25hCollecting seqeval\n",
            "  Downloading seqeval-1.2.2.tar.gz (43 kB)\n",
            "\u001b[K     |████████████████████████████████| 43 kB 1.9 MB/s \n",
            "\u001b[?25hCollecting dotmap\n",
            "  Downloading dotmap-1.3.24-py3-none-any.whl (11 kB)\n",
            "Collecting transformers==4.6.1\n",
            "  Downloading transformers-4.6.1-py3-none-any.whl (2.2 MB)\n",
            "\u001b[K     |████████████████████████████████| 2.2 MB 33.1 MB/s \n",
            "\u001b[?25hRequirement already satisfied: wheel in /usr/local/lib/python3.7/dist-packages (from farm==0.8.0->farm-haystack) (0.37.0)\n",
            "Collecting sentencepiece\n",
            "  Downloading sentencepiece-0.1.96-cp37-cp37m-manylinux_2_17_x86_64.manylinux2014_x86_64.whl (1.2 MB)\n",
            "\u001b[K     |████████████████████████████████| 1.2 MB 38.2 MB/s \n",
            "\u001b[?25hCollecting flask-restplus\n",
            "  Downloading flask_restplus-0.13.0-py2.py3-none-any.whl (2.5 MB)\n",
            "\u001b[K     |████████████████████████████████| 2.5 MB 44.7 MB/s \n",
            "\u001b[?25hRequirement already satisfied: setuptools in /usr/local/lib/python3.7/dist-packages (from farm==0.8.0->farm-haystack) (57.4.0)\n",
            "Requirement already satisfied: requests in /usr/local/lib/python3.7/dist-packages (from farm==0.8.0->farm-haystack) (2.23.0)\n",
            "Collecting torch<1.9,>1.5\n",
            "  Downloading torch-1.8.1-cp37-cp37m-manylinux1_x86_64.whl (804.1 MB)\n",
            "\u001b[K     |████████████████████████████████| 804.1 MB 2.9 kB/s \n",
            "\u001b[?25hCollecting flask-cors\n",
            "  Downloading Flask_Cors-3.0.10-py2.py3-none-any.whl (14 kB)\n",
            "Requirement already satisfied: psutil in /usr/local/lib/python3.7/dist-packages (from farm==0.8.0->farm-haystack) (5.4.8)\n",
            "Requirement already satisfied: dill in /usr/local/lib/python3.7/dist-packages (from farm==0.8.0->farm-haystack) (0.3.4)\n",
            "Collecting huggingface-hub==0.0.8\n",
            "  Downloading huggingface_hub-0.0.8-py3-none-any.whl (34 kB)\n",
            "Collecting sacremoses\n",
            "  Downloading sacremoses-0.0.45-py3-none-any.whl (895 kB)\n",
            "\u001b[K     |████████████████████████████████| 895 kB 46.5 MB/s \n",
            "\u001b[?25hCollecting tokenizers<0.11,>=0.10.1\n",
            "  Downloading tokenizers-0.10.3-cp37-cp37m-manylinux_2_5_x86_64.manylinux1_x86_64.manylinux_2_12_x86_64.manylinux2010_x86_64.whl (3.3 MB)\n",
            "\u001b[K     |████████████████████████████████| 3.3 MB 30.8 MB/s \n",
            "\u001b[?25hRequirement already satisfied: importlib-metadata in /usr/local/lib/python3.7/dist-packages (from transformers==4.6.1->farm==0.8.0->farm-haystack) (4.6.4)\n",
            "Requirement already satisfied: numpy>=1.17 in /usr/local/lib/python3.7/dist-packages (from transformers==4.6.1->farm==0.8.0->farm-haystack) (1.19.5)\n",
            "Requirement already satisfied: packaging in /usr/local/lib/python3.7/dist-packages (from transformers==4.6.1->farm==0.8.0->farm-haystack) (21.0)\n",
            "Requirement already satisfied: regex!=2019.12.17 in /usr/local/lib/python3.7/dist-packages (from transformers==4.6.1->farm==0.8.0->farm-haystack) (2019.12.20)\n",
            "Requirement already satisfied: filelock in /usr/local/lib/python3.7/dist-packages (from transformers==4.6.1->farm==0.8.0->farm-haystack) (3.0.12)\n",
            "Requirement already satisfied: urllib3<2,>=1.21.1 in /usr/local/lib/python3.7/dist-packages (from elasticsearch<=7.10,>=7.7->farm-haystack) (1.24.3)\n",
            "Requirement already satisfied: certifi in /usr/local/lib/python3.7/dist-packages (from elasticsearch<=7.10,>=7.7->farm-haystack) (2021.5.30)\n",
            "Collecting databricks-cli>=0.8.7\n",
            "  Downloading databricks-cli-0.15.0.tar.gz (56 kB)\n",
            "\u001b[K     |████████████████████████████████| 56 kB 4.2 MB/s \n",
            "\u001b[?25hRequirement already satisfied: click>=7.0 in /usr/local/lib/python3.7/dist-packages (from mlflow<=1.13.1->farm==0.8.0->farm-haystack) (7.1.2)\n",
            "Requirement already satisfied: sqlparse>=0.3.1 in /usr/local/lib/python3.7/dist-packages (from mlflow<=1.13.1->farm==0.8.0->farm-haystack) (0.4.1)\n",
            "Requirement already satisfied: entrypoints in /usr/local/lib/python3.7/dist-packages (from mlflow<=1.13.1->farm==0.8.0->farm-haystack) (0.3)\n",
            "Requirement already satisfied: pyyaml in /usr/local/lib/python3.7/dist-packages (from mlflow<=1.13.1->farm==0.8.0->farm-haystack) (3.13)\n",
            "Collecting alembic<=1.4.1\n",
            "  Downloading alembic-1.4.1.tar.gz (1.1 MB)\n",
            "\u001b[K     |████████████████████████████████| 1.1 MB 37.5 MB/s \n",
            "\u001b[?25hRequirement already satisfied: python-dateutil in /usr/local/lib/python3.7/dist-packages (from mlflow<=1.13.1->farm==0.8.0->farm-haystack) (2.8.2)\n",
            "Collecting azure-storage-blob>=12.0.0\n",
            "  Downloading azure_storage_blob-12.8.1-py2.py3-none-any.whl (345 kB)\n",
            "\u001b[K     |████████████████████████████████| 345 kB 47.0 MB/s \n",
            "\u001b[?25hRequirement already satisfied: protobuf>=3.6.0 in /usr/local/lib/python3.7/dist-packages (from mlflow<=1.13.1->farm==0.8.0->farm-haystack) (3.17.3)\n",
            "Collecting gitpython>=2.1.0\n",
            "  Downloading GitPython-3.1.18-py3-none-any.whl (170 kB)\n",
            "\u001b[K     |████████████████████████████████| 170 kB 48.5 MB/s \n",
            "\u001b[?25hRequirement already satisfied: cloudpickle in /usr/local/lib/python3.7/dist-packages (from mlflow<=1.13.1->farm==0.8.0->farm-haystack) (1.3.0)\n",
            "Collecting prometheus-flask-exporter\n",
            "  Downloading prometheus_flask_exporter-0.18.2.tar.gz (22 kB)\n",
            "Collecting docker>=4.0.0\n",
            "  Downloading docker-5.0.2-py2.py3-none-any.whl (145 kB)\n",
            "\u001b[K     |████████████████████████████████| 145 kB 34.2 MB/s \n",
            "\u001b[?25hCollecting querystring-parser\n",
            "  Downloading querystring_parser-1.2.4-py2.py3-none-any.whl (7.9 kB)\n",
            "Requirement already satisfied: six>=1.10.0 in /usr/local/lib/python3.7/dist-packages (from mlflow<=1.13.1->farm==0.8.0->farm-haystack) (1.15.0)\n",
            "Collecting Mako\n",
            "  Downloading Mako-1.1.5-py2.py3-none-any.whl (75 kB)\n",
            "\u001b[K     |████████████████████████████████| 75 kB 4.3 MB/s \n",
            "\u001b[?25hCollecting python-editor>=0.3\n",
            "  Downloading python_editor-1.0.4-py3-none-any.whl (4.9 kB)\n",
            "Collecting cryptography>=2.1.4\n",
            "  Downloading cryptography-3.4.8-cp36-abi3-manylinux_2_24_x86_64.whl (3.0 MB)\n",
            "\u001b[K     |████████████████████████████████| 3.0 MB 37.1 MB/s \n",
            "\u001b[?25hCollecting azure-core<2.0.0,>=1.10.0\n",
            "  Downloading azure_core-1.18.0-py2.py3-none-any.whl (166 kB)\n",
            "\u001b[K     |████████████████████████████████| 166 kB 52.6 MB/s \n",
            "\u001b[?25hCollecting msrest>=0.6.18\n",
            "  Downloading msrest-0.6.21-py2.py3-none-any.whl (85 kB)\n",
            "\u001b[K     |████████████████████████████████| 85 kB 3.7 MB/s \n",
            "\u001b[?25hRequirement already satisfied: cffi>=1.12 in /usr/local/lib/python3.7/dist-packages (from cryptography>=2.1.4->azure-storage-blob>=12.0.0->mlflow<=1.13.1->farm==0.8.0->farm-haystack) (1.14.6)\n",
            "Requirement already satisfied: pycparser in /usr/local/lib/python3.7/dist-packages (from cffi>=1.12->cryptography>=2.1.4->azure-storage-blob>=12.0.0->mlflow<=1.13.1->farm==0.8.0->farm-haystack) (2.20)\n",
            "Requirement already satisfied: tabulate>=0.7.7 in /usr/local/lib/python3.7/dist-packages (from databricks-cli>=0.8.7->mlflow<=1.13.1->farm==0.8.0->farm-haystack) (0.8.9)\n",
            "Collecting websocket-client>=0.32.0\n",
            "  Downloading websocket_client-1.2.1-py2.py3-none-any.whl (52 kB)\n",
            "\u001b[K     |████████████████████████████████| 52 kB 1.4 MB/s \n",
            "\u001b[?25hRequirement already satisfied: typing-extensions>=3.7.4.0 in /usr/local/lib/python3.7/dist-packages (from gitpython>=2.1.0->mlflow<=1.13.1->farm==0.8.0->farm-haystack) (3.7.4.3)\n",
            "Collecting gitdb<5,>=4.0.1\n",
            "  Downloading gitdb-4.0.7-py3-none-any.whl (63 kB)\n",
            "\u001b[K     |████████████████████████████████| 63 kB 1.7 MB/s \n",
            "\u001b[?25hCollecting smmap<5,>=3.0.1\n",
            "  Downloading smmap-4.0.0-py2.py3-none-any.whl (24 kB)\n",
            "Requirement already satisfied: requests-oauthlib>=0.5.0 in /usr/local/lib/python3.7/dist-packages (from msrest>=0.6.18->azure-storage-blob>=12.0.0->mlflow<=1.13.1->farm==0.8.0->farm-haystack) (1.3.0)\n",
            "Collecting isodate>=0.6.0\n",
            "  Downloading isodate-0.6.0-py2.py3-none-any.whl (45 kB)\n",
            "\u001b[K     |████████████████████████████████| 45 kB 3.4 MB/s \n",
            "\u001b[?25hRequirement already satisfied: chardet<4,>=3.0.2 in /usr/local/lib/python3.7/dist-packages (from requests->farm==0.8.0->farm-haystack) (3.0.4)\n",
            "Requirement already satisfied: idna<3,>=2.5 in /usr/local/lib/python3.7/dist-packages (from requests->farm==0.8.0->farm-haystack) (2.10)\n",
            "Requirement already satisfied: oauthlib>=3.0.0 in /usr/local/lib/python3.7/dist-packages (from requests-oauthlib>=0.5.0->msrest>=0.6.18->azure-storage-blob>=12.0.0->mlflow<=1.13.1->farm==0.8.0->farm-haystack) (3.1.1)\n",
            "Requirement already satisfied: greenlet!=0.4.17 in /usr/local/lib/python3.7/dist-packages (from sqlalchemy>=1.4.2->farm-haystack) (1.1.1)\n",
            "Collecting s3transfer<0.6.0,>=0.5.0\n",
            "  Downloading s3transfer-0.5.0-py3-none-any.whl (79 kB)\n",
            "\u001b[K     |████████████████████████████████| 79 kB 7.0 MB/s \n",
            "\u001b[?25hCollecting jmespath<1.0.0,>=0.7.1\n",
            "  Downloading jmespath-0.10.0-py2.py3-none-any.whl (24 kB)\n",
            "Collecting botocore<1.22.0,>=1.21.37\n",
            "  Downloading botocore-1.21.37-py3-none-any.whl (7.9 MB)\n",
            "\u001b[K     |████████████████████████████████| 7.9 MB 38.6 MB/s \n",
            "\u001b[?25hCollecting urllib3<2,>=1.21.1\n",
            "  Downloading urllib3-1.25.11-py2.py3-none-any.whl (127 kB)\n",
            "\u001b[K     |████████████████████████████████| 127 kB 45.2 MB/s \n",
            "\u001b[?25hCollecting starlette==0.14.2\n",
            "  Downloading starlette-0.14.2-py3-none-any.whl (60 kB)\n",
            "\u001b[K     |████████████████████████████████| 60 kB 7.3 MB/s \n",
            "\u001b[?25hCollecting pydantic!=1.7,!=1.7.1,!=1.7.2,!=1.7.3,!=1.8,!=1.8.1,<2.0.0,>=1.6.2\n",
            "  Downloading pydantic-1.8.2-cp37-cp37m-manylinux2014_x86_64.whl (10.1 MB)\n",
            "\u001b[K     |████████████████████████████████| 10.1 MB 46.8 MB/s \n",
            "\u001b[?25hRequirement already satisfied: Jinja2<3.0,>=2.10.1 in /usr/local/lib/python3.7/dist-packages (from flask->farm==0.8.0->farm-haystack) (2.11.3)\n",
            "Requirement already satisfied: itsdangerous<2.0,>=0.24 in /usr/local/lib/python3.7/dist-packages (from flask->farm==0.8.0->farm-haystack) (1.1.0)\n",
            "Requirement already satisfied: MarkupSafe>=0.23 in /usr/local/lib/python3.7/dist-packages (from Jinja2<3.0,>=2.10.1->flask->farm==0.8.0->farm-haystack) (2.0.1)\n",
            "Collecting aniso8601>=0.82\n",
            "  Downloading aniso8601-9.0.1-py2.py3-none-any.whl (52 kB)\n",
            "\u001b[K     |████████████████████████████████| 52 kB 1.3 MB/s \n",
            "\u001b[?25hRequirement already satisfied: jsonschema in /usr/local/lib/python3.7/dist-packages (from flask-restplus->farm==0.8.0->farm-haystack) (2.6.0)\n",
            "Requirement already satisfied: pytz in /usr/local/lib/python3.7/dist-packages (from flask-restplus->farm==0.8.0->farm-haystack) (2018.9)\n",
            "Requirement already satisfied: zipp>=0.5 in /usr/local/lib/python3.7/dist-packages (from importlib-metadata->transformers==4.6.1->farm==0.8.0->farm-haystack) (3.5.0)\n",
            "Requirement already satisfied: pyparsing>=2.0.2 in /usr/local/lib/python3.7/dist-packages (from packaging->transformers==4.6.1->farm==0.8.0->farm-haystack) (2.4.7)\n",
            "Requirement already satisfied: prometheus_client in /usr/local/lib/python3.7/dist-packages (from prometheus-flask-exporter->mlflow<=1.13.1->farm==0.8.0->farm-haystack) (0.11.0)\n",
            "Collecting grpcio-tools<1.38.0,>=1.22.0\n",
            "  Downloading grpcio_tools-1.37.1-cp37-cp37m-manylinux2014_x86_64.whl (2.5 MB)\n",
            "\u001b[K     |████████████████████████████████| 2.5 MB 35.4 MB/s \n",
            "\u001b[?25hCollecting grpcio<1.38.0,>=1.22.0\n",
            "  Downloading grpcio-1.37.1-cp37-cp37m-manylinux2014_x86_64.whl (4.2 MB)\n",
            "\u001b[K     |████████████████████████████████| 4.2 MB 36.1 MB/s \n",
            "\u001b[?25hCollecting ujson>=2.0.0\n",
            "  Downloading ujson-4.1.0-cp37-cp37m-manylinux_2_5_x86_64.manylinux1_x86_64.whl (178 kB)\n",
            "\u001b[K     |████████████████████████████████| 178 kB 44.3 MB/s \n",
            "\u001b[?25hRequirement already satisfied: lxml>=2.3.2 in /usr/local/lib/python3.7/dist-packages (from python-docx->farm-haystack) (4.2.6)\n",
            "Requirement already satisfied: joblib in /usr/local/lib/python3.7/dist-packages (from sacremoses->transformers==4.6.1->farm==0.8.0->farm-haystack) (1.0.1)\n",
            "Requirement already satisfied: scikit-learn>=0.21.3 in /usr/local/lib/python3.7/dist-packages (from seqeval->farm==0.8.0->farm-haystack) (0.22.2.post1)\n",
            "Collecting rdflib>=4.0\n",
            "  Downloading rdflib-6.0.0-py3-none-any.whl (376 kB)\n",
            "\u001b[K     |████████████████████████████████| 376 kB 48.0 MB/s \n",
            "\u001b[?25hRequirement already satisfied: toml>=0.9.4 in /usr/local/lib/python3.7/dist-packages (from tox->farm-haystack) (0.10.2)\n",
            "Collecting virtualenv!=20.0.0,!=20.0.1,!=20.0.2,!=20.0.3,!=20.0.4,!=20.0.5,!=20.0.6,!=20.0.7,>=16.0.0\n",
            "  Downloading virtualenv-20.7.2-py2.py3-none-any.whl (5.3 MB)\n",
            "\u001b[K     |████████████████████████████████| 5.3 MB 41.1 MB/s \n",
            "\u001b[?25hCollecting pluggy>=0.12.0\n",
            "  Downloading pluggy-1.0.0-py2.py3-none-any.whl (13 kB)\n",
            "Requirement already satisfied: py>=1.4.17 in /usr/local/lib/python3.7/dist-packages (from tox->farm-haystack) (1.10.0)\n",
            "Collecting backports.entry-points-selectable>=1.0.4\n",
            "  Downloading backports.entry_points_selectable-1.1.0-py2.py3-none-any.whl (6.2 kB)\n",
            "Collecting distlib<1,>=0.3.1\n",
            "  Downloading distlib-0.3.2-py2.py3-none-any.whl (338 kB)\n",
            "\u001b[K     |████████████████████████████████| 338 kB 48.8 MB/s \n",
            "\u001b[?25hCollecting platformdirs<3,>=2\n",
            "  Downloading platformdirs-2.3.0-py3-none-any.whl (13 kB)\n",
            "Collecting asgiref>=3.4.0\n",
            "  Downloading asgiref-3.4.1-py3-none-any.whl (25 kB)\n",
            "Collecting h11>=0.8\n",
            "  Downloading h11-0.12.0-py3-none-any.whl (54 kB)\n",
            "\u001b[K     |████████████████████████████████| 54 kB 3.4 MB/s \n",
            "\u001b[?25hCollecting validators<0.19.0,>=0.18.2\n",
            "  Downloading validators-0.18.2-py3-none-any.whl (19 kB)\n",
            "Requirement already satisfied: decorator>=3.4.0 in /usr/local/lib/python3.7/dist-packages (from validators<0.19.0,>=0.18.2->weaviate-client->farm-haystack) (4.4.2)\n",
            "Building wheels for collected packages: alembic, databricks-cli, langdetect, prometheus-flask-exporter, python-docx, python-multipart, seqeval, tika\n",
            "  Building wheel for alembic (setup.py) ... \u001b[?25l\u001b[?25hdone\n",
            "  Created wheel for alembic: filename=alembic-1.4.1-py2.py3-none-any.whl size=158172 sha256=c7b097503cf475407c6d4dfee13b3bcb9e14f6ba53f77ee863c8b1710ffeefbe\n",
            "  Stored in directory: /root/.cache/pip/wheels/be/5d/0a/9e13f53f4f5dfb67cd8d245bb7cdffe12f135846f491a283e3\n",
            "  Building wheel for databricks-cli (setup.py) ... \u001b[?25l\u001b[?25hdone\n",
            "  Created wheel for databricks-cli: filename=databricks_cli-0.15.0-py3-none-any.whl size=105260 sha256=88cd7a576283f707b83074ad172feaed4b132ad9bea091668bcb179f18124a24\n",
            "  Stored in directory: /root/.cache/pip/wheels/e7/ba/75/284f9a90ff7a010bb23b9798f2e9a19dd9fe619379c917bff4\n",
            "  Building wheel for langdetect (setup.py) ... \u001b[?25l\u001b[?25hdone\n",
            "  Created wheel for langdetect: filename=langdetect-1.0.9-py3-none-any.whl size=993242 sha256=8e1aad9707503ef66a640ed722d90314f3b0af0a607da8507feaea41e4c293af\n",
            "  Stored in directory: /root/.cache/pip/wheels/c5/96/8a/f90c59ed25d75e50a8c10a1b1c2d4c402e4dacfa87f3aff36a\n",
            "  Building wheel for prometheus-flask-exporter (setup.py) ... \u001b[?25l\u001b[?25hdone\n",
            "  Created wheel for prometheus-flask-exporter: filename=prometheus_flask_exporter-0.18.2-py3-none-any.whl size=17415 sha256=2f5ee9067db948f24ead8f81a5d268ae94954d0b234a6260dce618c2da596ee4\n",
            "  Stored in directory: /root/.cache/pip/wheels/6a/1e/1c/c765920cb92b2f0343d2dd8b481a407cee2823f9b4bbd2e52a\n",
            "  Building wheel for python-docx (setup.py) ... \u001b[?25l\u001b[?25hdone\n",
            "  Created wheel for python-docx: filename=python_docx-0.8.11-py3-none-any.whl size=184508 sha256=e937a4a5085c9f538a8a5785499131317d441216f42b957005e264f6d3737fc5\n",
            "  Stored in directory: /root/.cache/pip/wheels/f6/6f/b9/d798122a8b55b74ad30b5f52b01482169b445fbb84a11797a6\n",
            "  Building wheel for python-multipart (setup.py) ... \u001b[?25l\u001b[?25hdone\n",
            "  Created wheel for python-multipart: filename=python_multipart-0.0.5-py3-none-any.whl size=31678 sha256=dff2166ba5eb8c7eb0818e4e50a4fb48ed7a5b4c1f220c5990ba76acb8904a2e\n",
            "  Stored in directory: /root/.cache/pip/wheels/2c/41/7c/bfd1c180534ffdcc0972f78c5758f89881602175d48a8bcd2c\n",
            "  Building wheel for seqeval (setup.py) ... \u001b[?25l\u001b[?25hdone\n",
            "  Created wheel for seqeval: filename=seqeval-1.2.2-py3-none-any.whl size=16181 sha256=498254415500aaa6ff1d9d9a75a469100f0cd3e809fe82e89362391cc60d846e\n",
            "  Stored in directory: /root/.cache/pip/wheels/05/96/ee/7cac4e74f3b19e3158dce26a20a1c86b3533c43ec72a549fd7\n",
            "  Building wheel for tika (setup.py) ... \u001b[?25l\u001b[?25hdone\n",
            "  Created wheel for tika: filename=tika-1.24-py3-none-any.whl size=32891 sha256=aeb7372d715e362329622567cbe1fb6fced4ee01a678b0733704e9c6991ed7b7\n",
            "  Stored in directory: /root/.cache/pip/wheels/ec/2b/38/58ff05467a742e32f67f5d0de048fa046e764e2fbb25ac93f3\n",
            "Successfully built alembic databricks-cli langdetect prometheus-flask-exporter python-docx python-multipart seqeval tika\n",
            "Installing collected packages: urllib3, Werkzeug, smmap, jmespath, isodate, websocket-client, python-editor, msrest, Mako, gitdb, cryptography, botocore, azure-core, tokenizers, sacremoses, s3transfer, querystring-parser, prometheus-flask-exporter, platformdirs, huggingface-hub, gunicorn, grpcio, gitpython, docker, distlib, databricks-cli, backports.entry-points-selectable, azure-storage-blob, aniso8601, alembic, virtualenv, validators, ujson, transformers, torch, starlette, seqeval, sentencepiece, rdflib, pydantic, pluggy, mlflow, h11, grpcio-tools, flask-restplus, flask-cors, dotmap, boto3, asgiref, weaviate-client, uvloop, uvicorn, tox, tika, sqlalchemy-utils, SPARQLWrapper, python-multipart, python-docx, pymilvus, psycopg2-binary, mmh3, langdetect, httptools, fastapi, farm, faiss-cpu, elasticsearch, elastic-apm, farm-haystack\n",
            "  Attempting uninstall: urllib3\n",
            "    Found existing installation: urllib3 1.24.3\n",
            "    Uninstalling urllib3-1.24.3:\n",
            "      Successfully uninstalled urllib3-1.24.3\n",
            "  Attempting uninstall: Werkzeug\n",
            "    Found existing installation: Werkzeug 1.0.1\n",
            "    Uninstalling Werkzeug-1.0.1:\n",
            "      Successfully uninstalled Werkzeug-1.0.1\n",
            "  Attempting uninstall: grpcio\n",
            "    Found existing installation: grpcio 1.39.0\n",
            "    Uninstalling grpcio-1.39.0:\n",
            "      Successfully uninstalled grpcio-1.39.0\n",
            "  Attempting uninstall: torch\n",
            "    Found existing installation: torch 1.9.0+cu102\n",
            "    Uninstalling torch-1.9.0+cu102:\n",
            "      Successfully uninstalled torch-1.9.0+cu102\n",
            "  Attempting uninstall: pluggy\n",
            "    Found existing installation: pluggy 0.7.1\n",
            "    Uninstalling pluggy-0.7.1:\n",
            "      Successfully uninstalled pluggy-0.7.1\n",
            "\u001b[31mERROR: pip's dependency resolver does not currently take into account all the packages that are installed. This behaviour is the source of the following dependency conflicts.\n",
            "torchvision 0.10.0+cu102 requires torch==1.9.0, but you have torch 1.8.1 which is incompatible.\n",
            "torchtext 0.10.0 requires torch==1.9.0, but you have torch 1.8.1 which is incompatible.\n",
            "pytest 3.6.4 requires pluggy<0.8,>=0.5, but you have pluggy 1.0.0 which is incompatible.\n",
            "datascience 0.10.6 requires folium==0.2.1, but you have folium 0.8.3 which is incompatible.\u001b[0m\n",
            "Successfully installed Mako-1.1.5 SPARQLWrapper-1.8.5 Werkzeug-0.16.1 alembic-1.4.1 aniso8601-9.0.1 asgiref-3.4.1 azure-core-1.18.0 azure-storage-blob-12.8.1 backports.entry-points-selectable-1.1.0 boto3-1.18.37 botocore-1.21.37 cryptography-3.4.8 databricks-cli-0.15.0 distlib-0.3.2 docker-5.0.2 dotmap-1.3.24 elastic-apm-6.4.0 elasticsearch-7.10.0 faiss-cpu-1.7.1.post2 farm-0.8.0 farm-haystack-0.9.0 fastapi-0.68.1 flask-cors-3.0.10 flask-restplus-0.13.0 gitdb-4.0.7 gitpython-3.1.18 grpcio-1.37.1 grpcio-tools-1.37.1 gunicorn-20.1.0 h11-0.12.0 httptools-0.3.0 huggingface-hub-0.0.8 isodate-0.6.0 jmespath-0.10.0 langdetect-1.0.9 mlflow-1.13.1 mmh3-3.0.0 msrest-0.6.21 platformdirs-2.3.0 pluggy-1.0.0 prometheus-flask-exporter-0.18.2 psycopg2-binary-2.9.1 pydantic-1.8.2 pymilvus-1.1.2 python-docx-0.8.11 python-editor-1.0.4 python-multipart-0.0.5 querystring-parser-1.2.4 rdflib-6.0.0 s3transfer-0.5.0 sacremoses-0.0.45 sentencepiece-0.1.96 seqeval-1.2.2 smmap-4.0.0 sqlalchemy-utils-0.37.8 starlette-0.14.2 tika-1.24 tokenizers-0.10.3 torch-1.8.1 tox-3.24.3 transformers-4.6.1 ujson-4.1.0 urllib3-1.25.11 uvicorn-0.15.0 uvloop-0.14.0 validators-0.18.2 virtualenv-20.7.2 weaviate-client-3.2.1 websocket-client-1.2.1\n"
          ]
        }
      ]
    },
    {
      "cell_type": "code",
      "metadata": {
        "id": "cy3417csTu3-"
      },
      "source": [
        "from haystack.preprocessor.cleaning import clean_wiki_text\n",
        "from haystack.preprocessor.utils import convert_files_to_dicts, fetch_archive_from_http\n",
        "from haystack.reader.farm import FARMReader\n",
        "from haystack.reader.transformers import TransformersReader\n",
        "from haystack.utils import print_answers"
      ],
      "execution_count": 4,
      "outputs": []
    },
    {
      "cell_type": "markdown",
      "metadata": {
        "id": "K17x5nBzTu3-"
      },
      "source": [
        "## Document Store\n",
        "\n",
        "\n",
        "\n",
        "### Start an Elasticsearch server\n",
        "You can start Elasticsearch on your local machine instance using Docker. If Docker is not readily available in your environment (eg., in Colab notebooks), then you can manually download and execute Elasticsearch from source."
      ]
    },
    {
      "cell_type": "code",
      "metadata": {
        "id": "4TePcDdBTu3_",
        "colab": {
          "base_uri": "https://localhost:8080/"
        },
        "outputId": "bc2140bb-910b-41bf-86ad-00ad121cd756"
      },
      "source": [
        "# Recommended: Start Elasticsearch using Docker via the Haystack utility function\n",
        "from haystack.utils import launch_es\n",
        "\n",
        "launch_es()"
      ],
      "execution_count": 23,
      "outputs": [
        {
          "output_type": "stream",
          "name": "stderr",
          "text": [
            "09/08/2021 08:59:40 - INFO - haystack.utils -   Starting Elasticsearch ...\n",
            "09/08/2021 08:59:40 - WARNING - haystack.utils -   Tried to start Elasticsearch through Docker but this failed. It is likely that there is already an existing Elasticsearch instance running. \n"
          ]
        }
      ]
    },
    {
      "cell_type": "code",
      "metadata": {
        "id": "EPKRBqwKTu4A"
      },
      "source": [
        "# In Colab / No Docker environments: Start Elasticsearch from source\n",
        "! wget https://artifacts.elastic.co/downloads/elasticsearch/elasticsearch-7.9.2-linux-x86_64.tar.gz -q\n",
        "! tar -xzf elasticsearch-7.9.2-linux-x86_64.tar.gz\n",
        "! chown -R daemon:daemon elasticsearch-7.9.2\n",
        "\n",
        "import os\n",
        "from subprocess import Popen, PIPE, STDOUT\n",
        "es_server = Popen(['elasticsearch-7.9.2/bin/elasticsearch'],\n",
        "                   stdout=PIPE, stderr=STDOUT,\n",
        "                   preexec_fn=lambda: os.setuid(1)  # as daemon\n",
        "                  )\n",
        "# wait until ES has started\n",
        "! sleep 30"
      ],
      "execution_count": 24,
      "outputs": []
    },
    {
      "cell_type": "code",
      "metadata": {
        "pycharm": {
          "name": "#%%\n"
        },
        "id": "iOaym4fATu4B",
        "colab": {
          "base_uri": "https://localhost:8080/"
        },
        "outputId": "db63b3f4-096b-4a7b-c7b0-27d63f3007e0"
      },
      "source": [
        "# Connect to Elasticsearch\n",
        "\n",
        "from haystack.document_store.elasticsearch import ElasticsearchDocumentStore\n",
        "document_store = ElasticsearchDocumentStore(host=\"localhost\", username=\"\", password=\"\", index=\"document\")"
      ],
      "execution_count": 25,
      "outputs": [
        {
          "output_type": "stream",
          "name": "stderr",
          "text": [
            "09/08/2021 09:00:32 - INFO - elasticsearch -   HEAD http://localhost:9200/ [status:200 request:0.088s]\n",
            "09/08/2021 09:00:32 - INFO - elasticsearch -   HEAD http://localhost:9200/document [status:200 request:0.017s]\n",
            "09/08/2021 09:00:32 - INFO - elasticsearch -   GET http://localhost:9200/document [status:200 request:0.006s]\n",
            "09/08/2021 09:00:32 - INFO - elasticsearch -   PUT http://localhost:9200/document/_mapping [status:200 request:0.033s]\n",
            "09/08/2021 09:00:32 - INFO - elasticsearch -   HEAD http://localhost:9200/label [status:200 request:0.004s]\n"
          ]
        }
      ]
    },
    {
      "cell_type": "markdown",
      "metadata": {
        "pycharm": {
          "name": "#%% md\n"
        },
        "id": "NlcWMVdoTu4C"
      },
      "source": [
        "## Preprocessing of documents\n",
        "\n",
        "Haystack provides a customizable pipeline for:\n",
        " - converting files into texts\n",
        " - cleaning texts\n",
        " - splitting texts\n",
        " - writing them to a Document Store\n",
        "\n",
        "In this tutorial, we download  articles about BigTechs"
      ]
    },
    {
      "cell_type": "code",
      "metadata": {
        "pycharm": {
          "name": "#%%\n"
        },
        "id": "oy9ev8KaTu4C",
        "colab": {
          "base_uri": "https://localhost:8080/"
        },
        "outputId": "2552c62a-dd83-4dc6-dcb7-68a401fea7f7"
      },
      "source": [
        "# Let's first fetch some documents that we want to query\n",
        "# Here: 517 Wikipedia articles for Game of Thrones\n",
        "doc_dir = \"data/article_txt_watson\"\n",
        "s3_url = \"https://digitalrents.s3.eu-west-2.amazonaws.com/documentstoindex2.zip\"\n",
        "fetch_archive_from_http(url=s3_url, output_dir=doc_dir)\n",
        "\n",
        "# Convert files to dicts\n",
        "# You can optionally supply a cleaning function that is applied to each doc (e.g. to remove footers)\n",
        "# It must take a str as input, and return a str.\n",
        "dicts = convert_files_to_dicts(dir_path=doc_dir, clean_func=clean_wiki_text, split_paragraphs=True)\n",
        "\n",
        "# We now have a list of dictionaries that we can write to our document store.\n",
        "# If your texts come from a different source (e.g. a DB), you can of course skip convert_files_to_dicts() and create the dictionaries yourself.\n",
        "# The default format here is:\n",
        "# {\n",
        "#    'text': \"<DOCUMENT_TEXT_HERE>\",\n",
        "#    'meta': {'name': \"<DOCUMENT_NAME_HERE>\", ...}\n",
        "#}\n",
        "# (Optionally: you can also add more key-value-pairs here, that will be indexed as fields in Elasticsearch and\n",
        "# can be accessed later for filtering or shown in the responses of the Pipeline)\n",
        "\n",
        "# Let's have a look at the first 3 entries:\n",
        "print(dicts[:3])\n",
        "\n",
        "# Now, let's write the dicts containing documents to our DB.\n",
        "document_store.write_documents(dicts)"
      ],
      "execution_count": 8,
      "outputs": [
        {
          "output_type": "stream",
          "name": "stderr",
          "text": [
            "09/08/2021 08:55:09 - INFO - haystack.preprocessor.utils -   Fetching from https://digitalrents.s3.eu-west-2.amazonaws.com/documentstoindex2.zip to `data/article_txt_watson`\n",
            "100%|██████████| 295815/295815 [00:00<00:00, 751511.09B/s]\n",
            "09/08/2021 08:55:10 - WARNING - haystack.preprocessor.utils -   Skipped file data/article_txt_watson/documentstoindex2/amazon says it puts customers first.rtf as type .rtf is not supported here. See haystack.file_converter for support of more file types\n",
            "09/08/2021 08:55:10 - WARNING - haystack.preprocessor.utils -   Skipped file data/article_txt_watson/__MACOSX/documentstoindex2/._amazon says it puts customers first.rtf as type .rtf is not supported here. See haystack.file_converter for support of more file types\n",
            "09/08/2021 08:55:10 - INFO - haystack.preprocessor.utils -   Converting data/article_txt_watson/documentstoindex2/antitrustcaseagainstFacebook.txt\n",
            "09/08/2021 08:55:10 - INFO - haystack.preprocessor.utils -   Converting data/article_txt_watson/documentstoindex2/moreappleproduct.txt\n",
            "09/08/2021 08:55:10 - INFO - haystack.preprocessor.utils -   Converting data/article_txt_watson/documentstoindex2/corporatepower.txt\n",
            "09/08/2021 08:55:10 - INFO - haystack.preprocessor.utils -   Converting data/article_txt_watson/documentstoindex2/applesecretmonopoly.txt\n",
            "09/08/2021 08:55:10 - INFO - haystack.preprocessor.utils -   Converting data/article_txt_watson/documentstoindex2/usingantitrustlaw.txt\n",
            "09/08/2021 08:55:10 - INFO - haystack.preprocessor.utils -   Converting data/article_txt_watson/documentstoindex2/revivingatitrust.txt\n",
            "09/08/2021 08:55:10 - INFO - haystack.preprocessor.utils -   Converting data/article_txt_watson/documentstoindex2/separationofplatforms.txt\n",
            "09/08/2021 08:55:10 - INFO - haystack.preprocessor.utils -   Converting data/article_txt_watson/__MACOSX/documentstoindex2/._corporatepower.txt\n"
          ]
        },
        {
          "output_type": "stream",
          "name": "stdout",
          "text": [
            "[{'text': 'SRINIVASAN.FINAL CHECK (DO NOT DELETE)\\nTHE ANTITRUST CASE AGAINST FACEBOOK: A MONOPOLIST’S JOURNEY TOWARDS PERVASIVE SURVEILLANCE IN SPITE OF CONSUMERS’ PREFERENCE FOR PRIVACY Dina Srinivasan * ABSTRACT ...................................................................................................... 40 INTRODUCTION ............................................................................................. 40 I. PRIVACY WAS ONCE A CRUCIAL FORM OF COMPETITION ............ 46 II. THE PARADOX OF SURVEILLANCE REFLECTS MONOPOLY POWER .................................................................................................. 54 A. Pre-Power: Failure of Beacon and Early Misrepresentations ............ 55 B. Pre-Power: More Backtracking and Pattern of Conduct .................... 62 C. Post-Power: Deterioration of the Promise Not to Track .................... 69 1. Facebook Initiates Commercial Surveillance ............................. 70 2. Facebook Leverages Consumer Identity for Stronger Surveillance .............................................................................. 73 3. Facebook Circumvents Consumer Attempts to Opt-Out ............ 76 III. INDIRECT EVIDENCE CONFIRMS FACEBOOK’S MONOPOLY POWER .................................................................................................. 81 IV. FACEBOOK’S PATTERN OF CONDUCT RAISES CONCERNS ABOUT ILLEGAL MONOPOLIZATION............................................ 90 A. Heightened Scrutiny in Markets with Direct Network Effects .......... 90 B. Pattern of False Statements, Misleading & Deceptive Conduct ........ 92 C. Wider Pattern of False Statements and Misleading Conduct ............. 94 D. Antitrust Harm: Monopoly Rents & Allocative Inefficiency ............ 97 CONCLUSION.................................................................................................. 98\\nThis article arose from my personal observations as an entrepreneur and executive in the digital advertising industry. I am grateful to Fiona Scott Morton, Alvin Klevorick, Michael Kades, Charles Reichmann, and Robert Litan for conversation and feedback at various stages. I extend a warm thank you to George Priest for inspiring an interest in antitrust years ago. I would also like to thank the editors at the University of California, Berkeley Business Law Journal, the journalists and researches who by their own curiosity and work uncovered and reported on many of the facts relied on in this paper, and the University of Chicago for hosting the 2018 Antitrust and Competition Conference: Digital Platforms and Concentration. No party provided any direct or indirect financial support to me during the writing of this article.\\nElectronic copy available at: https://ssrn.com/abstract=3247362\\n SRINIVASAN.FINAL CHECK (DO NOT DELETE)\\nABSTRACT The Facebook, Inc. (“Facebook”) social network, this era’s new communications service, plays an important role in the lives of 2+ billion people across the world. Though the market was highly competitive in the beginning, it has since consolidated in Facebook’s favor. Today, using Facebook means to accept a product linked to broad-scale commercial surveillance—a paradox in a democracy. This Paper argues that Facebook’s ability to extract this qualitative exchange from consumers is merely this titan’s form of monopoly rents. The history of early competition, Facebook’s market entry, and Facebook’s subsequent rise tells the story of Facebook’s monopoly power. However, the history which elucidates this firm’s dominance also presents a story of anticompetitive conduct. Facebook’s pattern of false statements and misleading conduct induced consumers to trust and choose Facebook, to the detriment of market competitors and consumers’ own welfare. INTRODUCTION Social networks, considered electronic communication service providers, 1 have become a primary way that American consumers communicate. 2 Facebook is the reigning platform, not only in the lives of Americans, but in the lives of 2.2 billion people worldwide. 3 Though the social network market was highly competitive in the beginning, 4 the market has since consolidated in Facebook’s favor. Consumers effectively face a singular choice—use Facebook and submit to the quality and stipulations of Facebook’s product or forgo all use of the only social network used by most of their friends, family, and acquaintances.\\n1. Various federal laws regulate electronic communication service providers, including the Electronic Communications Privacy Act, 18 U.S.C.§ 2510 (ECPA), Titles I and II of the ECPA specifically (the Wiretap Act, 18 U.S.C. § 2510-2521, the Stored Communications Act, 18 U.S.C. § 2701-2711 (SCA)), and the Foreign Intelligence Surveillance Act, 50 U.S.C. § 1801 (2008). Several courts have considered Facebook’s duties and lack thereof under these statutes. See, e.g., Crispin v. Christian Audigier, Inc., 717 F. Supp. 2d 965, 991 (C.D. Cal. 2010) (quashing subpoena portions for private messages from Facebook and MySpace because the SCA prohibits production). See also In re Facebook Privacy Litig., 791 F. Supp. 2d 705, 711-13 (N.D. Cal. 2011); In re Facebook Internet Tracking Litig., 140 F. Supp. 3d 922 (2015). For an overview of relevant cases, see IAN C. BALLON, Cyber Boot Camp: Data Security at the Intersection of Law and Business, in E-COMMERCE AND INTERNET LAW: A LEGAL TREATISE WITH FORMS (2d ed. 2016), http://legacy.callawyer.com/wpcontent/uploads/2016/05/2017-01-12-DJ-LA-CyberSecurityBootcamp-aPrivacyLit.pdf. 2. See generally Frank Newport, The New Era of Communication Among Americans, GALLUP.COM (Nov. 10, 2014), https://news.gallup.com/poll/179288/new-era-communicationamericans.aspx. 3. Company Info, NEWSROOM.FB.COM (July 20, 2018), https://newsroom.fb.com/company-info/. 4. In 2007, there were hundreds of social networks, including competitive offerings from Google, Yahoo, and of course, MySpace. See generally Danah M. Boyd & Nicole B. Ellison, Social Network Sites: Definition, History, and Scholarship, 13 J, OF COMPUTER-MEDIATED COMM. 210 (2007).\\nElectronic copy available at: https://ssrn.com/abstract=3247362\\n SRINIVASAN.FINAL CHECK (DO NOT DELETE)\\nWhen Facebook entered the market, the consumer’s privacy was paramount. The company prioritized privacy, as did its users—many of whom chose the platform over others due to Facebook’s avowed commitment to preserving their privacy. Today, however, accepting Facebook’s policies in order to use its service means accepting broad-scale commercial surveillance. Facebook knows consumers’ identities by virtue of its position as this century’s new communications network and leverages this knowledge to build dossiers on consumers that are unrivaled in the private market. For Max Schrems, then a 23-year-old law student who used European law to petition Facebook for a copy of his data, his Facebook file as of 2011 was 1,200 pages long. 5 That was before Facebook started monitoring and recording users’ activities not just on the singular Facebook domain, but on millions of independently owned websites and mobile applications. 6 Facebook’s surveillance apparatus captures what people read, shop for, and even think, 7 online. For Americans that use an Android phone, Facebook apparently also scrapes a record of a user’s cellular phone calls—effectively rendering use of\\n5. Max Schrems, now a leading advocate at the intersection of user privacy and Big Tech, initially filed claims against Facebook with the Irish Data Protection Commissioner (IDPC) for violations of European data protection law. For the files Schrems originally obtained from Facebook, see Facebook’s Data Pool, FACEBOOK.COM, http://europe-v-facebook.org/EN/Data_Pool/data_pool.html (last visited July 27, 2018). Following the revelations of whistleblower Edward Snowden, and the specific leak of National Security Agency (NSA) Prism slides claiming Facebook was supplying the NSA with copies of user communications and other social network data, Schrems filed an additional complaint with the IDPC alleging that the transfer of his data from the E.U. to U.S. jurisdiction violated the European Union Directive on Data Protection (Directive 95/46/EC), which as of May 25, 2018, has been replaced with the General Data Protection Regulation (GDPR). The suit eventually caused an international crisis when it resulted in the downfall of the Safe Harbour framework for E.U.-U.S. corporate data transfers. See Maximillian Schrems v. Digital Rights Ireland Ltd. [2015] C-362/14 (H. Ct.) (Ir.). For coverage of the Snowden leaks, Prism, and Facebook’s alleged participation in Prism, see Barton Gellman & Laura Poitras, U.S., British Intelligence Mining Data From Nine U.S. Internet Companies in Broad Secret Program, WASH. POST (June 7, 2013), https://www.washingtonpost.com/investigations/us-intelligencemining-data-from-nine-us-internet-companies-in-broad-secret-program/2013/06/06/3a0c0da8-cebf11e2-8845-d970ccb04497_story.html?utm_term=.8e7f22acf1c0; Glen Greenwald & Ewen MacAskill, NSA Prism Program Taps in to User Data of Apple, Google and Others, GUARDIAN (June 6, 2013), http://www.theguardian.com/world/2013/jun/06/us-techgiants-nsa-data [http://perma.cc/G4AD-DA88]. For the leaked NSA PowerPoint slides describing Prism and Facebook’s involvement with Prism, see PRISM Overview Powerpoint Slides, ACLU.ORG (April 2013), https://www.aclu.org/other/prismoverview-powerpoint-slides. 6. Facebook can track consumer behavior on the millions of independent websites and apps that use any of Facebook’s business products (Like buttons, Logins, conversion tracking pixels, software development kit, et al.). The Facebook Like buttons alone appear on nearly 3 million websites. Websites using Facebook Like Button, BUILTWITH.COM (2018), https://trends.builtwith.com/websitelist/Facebook-Like-Button. 7. Facebook has collected the text users type, but then delete, into status updates, timeline posts, and comments, before hitting an enter button. See Sauvik Das & Adam Kramer, Self-Censorship on Facebook, PROCEEDINGS OF THE SEVENTH INTERNATIONAL AAAI CONF. ON WEBLOGS AND SOCIAL MEDIA, https://www.aaai.org/ocs/index.php/ICWSM/ICWSM13/paper/viewFile/6093/6350. It is unclear whether Facebook’s privacy policy at the time permitted Facebook to do this. See generally Jennifer Golbeck, On Second Thought . . ., SLATE (Dec. 13, 2013), https://slate.com/technology/2013/12/facebook-self-censorship-what-happens-to-the-posts-you-dontpublish.html.\\nElectronic copy available at: https://ssrn.com/abstract=3247362\\n SRINIVASAN.FINAL CHECK (DO NOT DELETE)\\nthe Facebook social network app to the equivalent of having a pen register on one’s device. 8 Surveillance translates to influence, 9 on many levels. As we learned recently, information gathered thereby can be misappropriated to influence political elections. 10 Facebook also sells advertising to marketers. In the digital advertising market, the ability to conduct unprecedented commercial surveillance is a bedrock of Facebook’s current revenues and profits. Facebook generates nearly all of its revenues from the sale of advertising, 11 and the prices of ads sold today directly correlate with data derived from tracking consumers. 12 Facebook leverages information it knows about users to sell more impression-targeted ads\\n8. Tom Warren, Facebook Has Been Collecting Call History and SMS Data From Android Devices, THE VERGE (Mar. 25, 2018), https://www.theverge.com/2018/3/25/17160944/facebook-callhistory-sms-data-collection-android; Alex Hern, Facebook Logs SMS and Calls, Users Find as They Delete Accounts, THE GUARDIAN (Mar. 26, 2018), https://www.theguardian.com/technology/2018/mar/25/facebook-logs-texts-and-calls-users-find-as-theydelete-accounts-cambridge-analytica. 9. Data derived from surveillance is used to create psychographic profiles of individual consumers. Whereas demographic data refers to the variables of age, income, and education, psychographic data refers to the broader range of data sets that reflect a consumer’s personality, opinions, attitudes, interests, values, past activity, and general lifestyle. Psychographic data is used by companies to determine which piece of content, advertisement, or even price, to display to a particular consumer, in an attempt to influence consumer outcome. For a study of how psychographically targeted advertising changes the outcome of consumer behavior, see, e.g., S. C. Matz, M. Kosinski, G. Nave, & D. J. Stillwell, Psychological Targeting as an Effective Approach to Digital Mass Persuasion, PNAS (Nov. 2017), http://www.pnas.org/content/early/2017/11/07/1710966114.short. For background on psychographics, see generally, William D. Wells, Psychographics: A Critical Review, 12 J. OF MARKETING RES. 196 (1975), www.jstor.org/stable/3150443. 10. After the conclusion of the 2016 U.S. presidential election, Facebook disclosed to congressional investigators that it had sold to a Russian company, Internet Research Agency (IRA), ads which psychographically targeted American voters, and that up to approximately 126 million people could have been exposed to such ads. See Dylan Byers, Facebook Estimates 126 Million People Were Served Content from Russia-linked Pages, CNN.COM (Oct. 31, 2017), https://money.cnn.com/2017/10/30/media/russia-facebook-126-million-users/index.html; Facebook, Google and Twitter Executives on Russian Disinformation, C-SPAN.ORG (Oct. 31, 2017), https://www.c-span.org/video/?436454-1/facebook-google-twitter-executives-testify-russia-election-ads. In March 2018, it was revealed that Facebook data, including Like data, on more than 87 million users was misappropriated and used by political consulting firm Cambridge Analytica to psychographically target voters during the presidential race. For The New York Times story that cascaded response from U.S. and British lawmakers (in Britain, for alleged interference in the “Brexit” campaign) and resulted eventually in Facebook founder and chief executive officer Mark Zuckerberg’s live testimony before Congress, see Matthew Rosenberg, Nicholas Confessore & Carole Cadwalladr, How Trump Consultants Exploited the Facebook Data of Millions, N.Y. TIMES (March 17, 2018), https://www.nytimes.com/2018/03/17/us/politics/cambridge-analytica-trump-campaign.html. 11. Advertising revenues contributed 98+% of Facebook’s 40+ billion in revenues in 2017. FACEBOOK INC., Annual Report Pursuant to Section 13 or 15(d) of the Securities Exchange Act of 1934 (Form 10-K) (2017). 12. Consider comments of Dave Wehner, the chief financial officer of Facebook, on Facebook’s Q2 earnings call, with respect to how privacy (or, a reduction in user data) is inversely correlated with Facebook revenues. Facebook Inc. Q2 2018 Earnings Conference Call, INVESTOR.FACEBOOK.COM (July 25, 2018), https://s21.q4cdn.com/399680738/files/doc_financials/2018/Q2/Q218-earnings-call-transcript [hereinafter “Facebook Q2 Earnings”].\\nElectronic copy available at: https://ssrn.com/abstract=3247362\\n SRINIVASAN.FINAL CHECK (DO NOT DELETE)\\nand more action-based ads. 13 Facebook then uses this capability to sell advertising on behalf of other market participants—like Hearst, The Washington Post, or Time, Inc. 14 Facebook’s power here is so absolute that the duopoly of Facebook and Google accounts for 90-99% of year-over-year growth in the U.S. digital advertising market. 15 But in a country anchored by democratic values and fear of tyranny derived from breaching individual civil liberties, why does the free market today offer no real alternative to the exchange of free use of social media for pervasive surveillance? Why is it that thousands of Facebook competitors on the advertising side—traditional publishers of content, such as magazines and newspapers—also coordinate with Facebook to allow Facebook to watch and monitor their own customers? Why must consumers consent to identical Facebook terms in the privacy policies of other sellers of digital advertising? Does the free market today reflect consumer welfare, or does it enable a monopolist to offer inferior quality products by coordinating with other market participants? Colloquially, and in the press, Facebook is a monopoly. 16 Members of Congress, reporters, academics, and even initial founders of Facebook are 13. For example, if one advertising company has 5,000 data points per consumer, including the data points for age and propensity for depression, then that company can fulfill more orders for a campaign targeted to 20-year-olds that read about suicide than can another company that reaches the same audience but does not possess said user data points. I acknowledge that tailored advertising can reflect either a positive or negative product evolution for consumers, and I do not wish to enter this parallel debate. Rather, I wish to focus on the successful operation, or lack thereof, of consumer preference and choice in the market—a paramount concern in economics. 14. Facebook sells the advertising inventory of companies that compete with Facebook on the advertising side of the market via a program called the Facebook Audience Network (FAN). Facebook for Developers, FACEBOOK.COM (2018), https://developers.facebook.com/products/audience-network. 15. In a note to clients on 4/26/17, respected industry analyst Brian Wieser calculated that Facebook and Google accounted for 77% of the industry’s gross revenues in 2016, 99% of the growth in the U.S. digital ad market, and that “the average growth rate for every other company in the sector was close to 0.” Facebook alone accounted for 77% of the industry’s year-over-year growth. See Alex Heath, Facebook and Google Completely Dominate the Digital Ad Industry, BUSINESSINSIDER.COM (April 26, 2017), http://www.businessinsider.com/facebook-and-google-dominate-ad-industry-with-a-combined99-of-growth-2017-4. Wieser estimated that Facebook and Google contributed 90% to the U.S. digital ad market’s growth in 2018. Sarah Sluis, Digital Ad Market Soars to $88 Billion, Facebook and Google Contribute 90% of Growth, ADEXCHANGER.COM (May 10, 2018), https://adexchanger.com/onlineadvertising/digital-ad-market-soars-to-88-billion-facebook-and-google-contribute-90-of-growth/. 16. See, e.g., recent dialogue between Lindsey Graham (R-SC) and Facebook founder and chief executive officer Mark Zuckerberg (Graham pressed Zuckerberg to identity competitors in the private market), and between House judiciary committee chairman Bob Goodlatte (R-Va.) and Facebook vice president of global policy management Monika Bickert (Goodlatte asked Bickert about the lack of competition Facebook faces). Hearing on Facebook Congressional Hearing Before the Committee on Energy and Commerce, 115th Cong. (April 2018). For a transcript of the hearing, see Transcript of Zuckerberg’s Appearance Before House Committee, WASH. POST (April 11, 2018), https://www.washingtonpost.com/news/the-switch/wp/2018/04/11/transcript-of-zuckerbergsappearance-before-house-committee/?utm_term=.c12ab1475612. Also consider recent coverage in leading news publications, including: David J. Lynch, Big Tech and Amazon: Too Powerful to Break Up? FINANCIAL TIMES (Oct. 29, 2017), https://www.ft.com/content/e5bf87b4-b3e5-11e7-aa26bb002965bce8; Christopher Mims, Tech’s Titans Tiptoe Toward Monopoly, WALL STREET J. (May 31, 2018), https://www.wsj.com/articles/techs-titans-tiptoe-toward-monopoly-1527783845; Jonathan\\nElectronic copy available at: https://ssrn.com/abstract=3247362\\n SRINIVASAN.FINAL CHECK (DO NOT DELETE)\\nspeaking of Facebook’s monopoly power and questioning the need for regulation. 17 However, from an academic standpoint, the intellectual and legal case of monopoly has not yet been made, 18 perhaps due to the nature of Facebook’s product being still “free” to the consumer. The fact that the product is free falsely diverts attention from what antitrust policymakers and economists are most comfortable paying attention to: price. Nevertheless, antitrust law and economics concern quality inasmuch as they do price. As I will argue in this Paper, Facebook is a monopolist, and what Facebook extracts overtly from consumers today, from a quality perspective, is a direct function of Facebook’s monopoly power. The fact that the dominant player in the market conducts wide-scale commercial surveillance begs a question—how did the market get here? This Paper first explores this question by revisiting the rich record of the market’s history. In so doing, I conclude that Facebook’s ability to monitor and record consumers’ digital activity reflects Facebook’s ability to extract monopoly rents in the social media market. In Part I, I revisit the history of social networking and discuss how privacy was once a crucial promise made to secure a competitive advantage. Facebook foreclosed competition in a contested market with superior representations of protecting consumer privacy, including the specific promise not to track and monitor consumers’ digital footprints. 19 For a decade, the competitive market then enjoined Facebook’s ability to initiate commercial surveillance. Facebook tried to renege on its promise not to track users in 2007, and again in 2010, but the market was competitive enough with adequate consumer choice to thwart Facebook’s attempts. 20 Only after an historic public offering, the acquisition of over a billion users, and the exit of competitors, was Facebook finally able to add the condition of surveillance to\\nTaplin, Forget AT&T. The Real Monopolies Are Google and Facebook, N.Y. TIMES (Dec. 13, 2016), https://www.nytimes.com/2016/12/13/opinion/forget-att-the-real-monopolies-are-google-andfacebook.html; Micah L. Sifry, In Facebook We Antitrust, THENATION.COM (Oct. 12, 2017), https://www.thenation.com/article/in-facebook-we-antitrust/; Barry C. Lynn, America’s Monopolies Are Holding Back the Economy, THE ATLANTIC (Feb. 22, 2017), https://www.theatlantic.com/business/archive/2017/02/antimonopoly-big-business/514358/. 17. Hearing on Facebook, supra note 16. 18. In the absence of clear rationale for how to interpret the paradoxes of Big Tech, there emerges a parallel push to reconsider antitrust law’s coupling with economic rationale. See, e.g., Lina Khan, The New Brandeis Movement: America’s Antimonopoly Debate, 9 J. OF EUR. COMPETITION L. & PRACTICE 131 (2018), https://doi.org/10.1093/jeclap/lpy020 (referring to the movement as the “New Brandeis School,” which urges that antitrust regulation should focus not only on consumer welfare but also the structure of markets to avoid mere concentrations of economic power). For coverage of the debate in the wider media, see Lynch, supra note 16. Others argue that economic thinking merely needs to be stretched to understand the 21st century’s modern economy market problems. See generally Jonathan B. Baker, Jonathan Sallet & Fiona Scott Morton, Introduction: Unlocking Antitrust Enforcement, 127 YALE L.J. 1916 (2018). 19. See infra note 42, FACEBOOK PRIVACY POLICY (2004). 20. Infra Parts II A, II B.\\nElectronic copy available at: https://ssrn.com/abstract=3247362\\n SRINIVASAN.FINAL CHECK (DO NOT DELETE)\\nits mandatory terms. 21 In Part II, I argue that this pattern of events reflects Facebook’s monopoly power. Part III argues that the circumstantial, or structural, evidence of Facebook’s market dominance also explains Facebook’s monopolistic power exhibited today. On the one hand, Facebook is a market in and of itself. Ninety-nine percent of adults in the U.S. that use social media use Facebook. 22 The reason for this is that Facebook is a “closed” communications network and users must join simply to access the network. Not all social networks are closed— LinkedIn, for example, disseminates user communications across its own network but also Twitter. But, Facebook, with a hold on the market and greatest number of users, declines the path of interconnection, or inter-operability. Consumers cannot forgo Facebook, in much the same way an earlier generation was beholden in the early 20th century to another communications behemoth, AT&T— another company that leveraged a closed-network approach to protect market share and foreclose competition in the telephone network market. 23 However, even if one does include other social networks as part of a relevant market, Facebook still dominates with over 80% of total consumer time spent across various social networks. The story of Facebook’s market entry, and the evolution of its commercial surveillance, raises another relevant question under antitrust law. Under Section 2 of the Sherman Act, 24 this country’s antitrust statute, it is illegal for a company to acquire monopoly power by engaging in conduct outside the bounds of “competition on the merits.” 25 Facebook engaged in a decade-long pattern of false statements and misleading conduct that may have induced users to trust and choose Facebook over alternatives in the market. Facebook also thereby secured the coordination of independent publishers and other businesses while perpetuating the belief that Facebook did not and would not leverage their coordination for surveillance. Facebook’s conduct may have artificially shifted the demand curve for the Facebook social network to the right, effectively accelerating the direct network effects that would lock in Facebook and foreclose competition. Part IV explores Facebook’s pattern of conduct and argues that it was anticompetitive. 26\\nSee infra Part II C. See infra Part III. Richard Gabel, The Early Competitive Era in Telephone Communication, 1893-1920, 34 LAW AND CONTEMPORARY PROBLEMS 340, 341 (1969) https://www.jstor.org/stable/pdf/1191094.pdf?refreqid=excelsior%3Ae9908dd1ed4a18092d06284ea77b af42. 24. 15 U.S.C. § 2 (2000). 25. United States v. Microsoft Corp., 253 F.3d 34 (D.C. Cir. 2001) (finding Microsoft conduct outside the scope of “competition on the merits” to be anticompetitive). 26. Misleading conduct is of particular concern in markets with direct network effects. See generally PHILLIP E. AREEDA & HERBERT HOVENKAMP, FUNDAMENTALS OF ANTITRUST LAW § 350 (4th Ed. 2015) (Areeda and Hovenkamp explain that a “monopolist’s misrepresentations encouraging\\nElectronic copy available at: https://ssrn.com/abstract=3247362\\n SRINIVASAN.FINAL CHECK (DO NOT DELETE)\\nIn digital markets where consumers do not pay a price, antitrust enforcement must become comfortable with a paradigm that focuses on quality. Never before have we had to grapple with one of the most valuable companies in the world, a half trillion-dollar market cap company, 27 that provides important communications services to over 2 billion consumers but charges no price. Policymakers and antitrust enforcers today can refer to the record in order to understand the consumer valuing privacy while still ceding control over their personal data, the flawed market structure that allows for the perpetuation of present circumstances, and the remedy which can restore competition in communications markets. I. PRIVACY WAS ONCE A CRUCIAL FORM OF COMPETITION To appreciate Facebook’s monopoly power in the social network market today, one must begin by revisiting the story of Facebook’s rise. In the beginning, the social media market reflected the type of competitive markets one reads about in textbooks. Dozens of companies competed furiously in an attempt to win market share. In a market where all competing products were priced at zero, startups competed not on price, but on quality. Privacy levels quickly emerged as an important quality attribute. 28 Facebook was not the world’s first major social network—MySpace was. In fact, in the market’s early years, MySpace dominated. Founded in 2003, MySpace quickly became an internet darling, especially in the wake of the dotcom bust of 2001. Within two years, in a heated bidding war between two media conglomerates, Rupert Murdoch’s News Corp. and Sumner Redstone’s Viacom, MySpace was acquired by News Corp. for $580 million dollars. 29 By 2006, MySpace overtook Google to become the most visited website in the U.S. 30 With a hundred million users, MySpace then signed a $900 million\\nthe purchase of its product can fit [the] general test for an exclusionary practice when the impact on rivals is significant; deception of buyers can impede the opportunities of rivals.”). See also Speech delivered by Carl Shapiro before the A.L.I. and A.B.A., 6 (Jan. 25, 1996), http://www.justice.gov/atr/public/speeches/0593.pdf (calling for heightened scrutiny of company behavior in markets with strong direct network effects); see also Microsoft Corp., 253 F.3d at 62 (finding Microsoft’s misrepresentations in a market with direct network effects to be anticompetitive conduct under Section 2 of the Sherman Act). 27. Market cap fluctuates with daily stock price changes. YAHOO FINANCE, https://finance.yahoo.com/quote/FB/ (last visited Jan. 21, 2019). 28. For other discussions regarding competition based on quality rather than price, see Maurice E. Stucke & Ariel Ezrachi, When Competition Fails to Optimize Quality: A Look at Search Engines, 18 YALE J. OF L. & TECH. 70 (2016). 29. See Richard Siklos, News Corp. to Acquire Owner of MySpace.com, N.Y. TIMES (July 18, 2005), https://www.nytimes.com/2005/07/18/business/news-corp-to-acquire-owner-ofmyspacecom.html. 30. See Hanging with the In-Crowd, THE ECONOMIST (Sept. 14, 2006), https://www.economist.com/node/7918729.\\nElectronic copy available at: https://ssrn.com/abstract=3247362\\n SRINIVASAN.FINAL CHECK (DO NOT DELETE)\\nadvertising deal with Google. 31 By 2007, dozens of competitors existed, but none matched the scale and growth of MySpace. 32 Journalists referred to the next generation, not as “millennials,” but as the “MySpace generation.” 33 Though it looked as though MySpace had tipped the scales, and that it would inevitably become the de facto social media platform, it would not. 34 Mark Zuckerberg, the founder and chief executive officer of Facebook, and other enterprising entrepreneurs, had an opportunity for market entry to subvert MySpace’s early gains. When Facebook rolled into the market, users, parents, and critics were simultaneously gripped by an apprehension with social media, caused primarily by MySpace. 35 One could not ignore the barrage of negative MySpace headlines in the media, permeating radio stations, television broadcasts, and newspaper reporting, across the country. 36 MySpace was\\n31. Fox Interactive Media Enters into Landmark Agreement with Google Inc., NEWS FROM GOOGLE (Aug. 7, 2006), http://googlepress.blogspot.com/2006/08/fox-interactive-media-entersinto_07.html. 32. Other social networking sites included SixDegrees.com, which launched 1997 and shut down 2001; Friendster, which launched 2002 and at one point, Friendster had over 115 million users and was the most used social network in Asia; Orkut, which was founded by Google in 2004 and shut down 2014; Flip.com, which was founded by Conde Nast in 2006 and shut down December 2008; Bebo, which was founded in 2005 and at one point was the most used social network in the U.K. and was purchased by AOL in 2008 for $850 million, but in 2010 AOL announced it would shut down or sell the site; Mixi, which was founded in 2004 and at one point was the largest social networking site in Japan; CyWorld, which was founded in 1999 and was once the primary social network in Korea, but declined after Facebook entered the market in 2009; hi5, which was launched 2004 and was a leading social network site in Spanish-speaking countries, including Mexico, Argentina, and Venezuela and is still in business; BlackPlanet , which was founded in 1999; a social network for African-Americans and is still in business; MiGente, which was founded 2001 for Latinos and is still operating; and Yahoo 360, which was Yahoo’s effort at a social networking site with a soft-launch in 2005 that did not result in a full product launch. 33. See, e.g., Chris DeWolfe, The MySpace Generation, FORBES MAGAZINE (April 20, 2007), https://www.forbes.com/forbes/2007/0507/072.html#60433a9b569e; The MySpace Generation, BLOOMBERG.COM (Dec. 12, 2005), https://www.bloomberg.com/news/articles/2005-12-11/themyspace-generation; Rhymer Rigbey, Employers Target the MySpace Generation, FINANCIAL TIMES (Aug. 7, 2006), https://www.ft.com/content/efce5b2a-2636-11db-afa1-0000779e2340. 34. See, e.g., John Barrett, MySpace is a Natural Monopoly, TECH NEWS WORLD (Jan. 17, 2007), https://www.technewsworld.com/story/55185.html; Victor Keegan, Will MySpace ever Lose its Monopoly?, THE GUARDIAN (New York), Feb. 8, 2007, https://www.theguardian.com/technology/2007/feb/08/business.comment. 35. See CHARLES KRINSKY, THE ASHGATE RESEARCH COMPANION TO MORAL PANICS (2016). 36. See, e.g., Sue Downes, Teens Who Tell Too Much, N.Y. TIMES (Jan. 15, 2006), http://www.nytimes.com/2006/01/15/opinion/nyregionopinions/teens-who-tell-too-much.html; Anna Bahney, Don’t Talk to Invisible Strangers, N.Y. TIMES (May 9, 2006), https://www.nytimes.com/2006/03/09/fashion/thursdaystyles/dont-talk-to-invisible-strangers.html; Jane Gordon, MySpace Draws a Questionable Crowd, N.Y. TIMES (February 26, 2006), https://www.nytimes.com/2006/02/26/nyregion/nyregionspecial2/myspace-draws-a-questionablecrowd.html; John Kreiser, MySpace: Your Kids’ Danger, CBS NEWS (Feb, 6, 2006), https://www.cbsnews.com/news/myspace-your-kids-danger/; Myspace Murderer: An Epilogue, WIRED (Nov. 17, 2006), https://www.wired.com/2006/11/myspace-murder-an-epilogue/; Tom Rawstorne, How Pedophiles Prey on MySpace Children, DAILYMAIL.COM (July 21, 2006), http://www.dailymail.co.uk/femail/article-397026/How-paedophiles-prey-MySpace-children.html; Noah Shachtman, Murder on MySpace, WIRED (Dec. 1, 2006), https://www.wired.com/2006/12/murderblog/; Brad Stone, U.S. States Fault MySpace on Predator Issues, N.Y. TIMES (May 15, 2007), https://www.nytimes.com/2007/05/15/technology/15iht-15myspace.5712603.html;\\nElectronic copy available at: https://ssrn.com/abstract=3247362\\n SRINIVASAN.FINAL CHECK (DO NOT DELETE)\\nblamed for sexual assaults, suicides, and murders, allegedly triggered by open communications on the platform. Parents were concerned that MySpace was not safe for children, 37 and national and local news blamed the platform’s openness and lack of privacy. Academia echoed this sentiment with consumer surveys demonstrating that social media users were concerned about privacy and that “MySpace, the largest social networking site in the world, has a poor reputation in terms of trust.” 38 Indeed, Facebook’s disintermediation of MySpace’s rise is the story of just how important Facebook’s qualitative differentiation was. Since MySpace was already free, Facebook had to entice users with something unique. Thus, Facebook entered the market presenting itself, among other things, as a privacy-centered alternative. MySpace made little to no effort to address concerns around privacy, while Facebook appeared to take privacy seriously. Whereas MySpace was open to anyone who wanted to join, Facebook was closed to all but those who could validate their identity with a university-issued “.edu” email address. After joining, Facebook users encountered strict privacy settings—for example, the default setting was that only one’s university classmates or one’s friends could see one’s profile. 39 On the other hand, on MySpace the default setting was more open—anyone could see one’s profile. This is relevant because studies show that consumers do not change a website’s default settings because it is cumbersome and time-consuming 40—the modernday equivalent of leaving the VCR clock blinking. A social network’s default settings are therefore an important initial sales pitch. Further signaling a commitment to privacy, Facebook almost immediately hired a chief privacy officer and articulated to users a short, plain-English,\\nBrad Stone, New Scrutiny for Facebook Over Predators, N.Y. TIMES (July 29, 2007), https://www.nytimes.com/2007/07/30/business/media/30facebook.html. 37. See, e.g., Julie Rawe, How Safe is MySpace? TIME MAGAZINE (June 26, 2006), http://content.time.com/time/magazine/article/0,9171,1207808,00.html; Susanna Schrobsdorff, Predator’s Playground, NEWSWEEK (Jan. 26, 2006), http://www.newsweek.com/predators-playground108471. 38. Catherine Dwyer, Starr Hiltz & Katia Passerini, Americas Conference on Information Systems, Trust and Privacy Concern within Social Networking Sites: A Comparison of Facebook and MySpace (2007). 39. Initially, Facebook users could not make their profile visible to everyone even if they wanted to. See Boyd & Ellison, supra note 4; DAVID KIRKPATRICK, THE FACEBOOK EFFECT: THE INSIDE STORY OF THE COMPANY THAT IS CONNECTING THE WORLD (2011); KATHERINE LOSSE, THE BOY KINGS: A JOURNEY INTO THE HEART OF THE SOCIAL NETWORK XV (2012). 40. Wendy E. Mackay, Triggers and Barriers to Customizing Software, CONF. ON HUMAN FACTORS IN COMPUTING SYS.,153–160 (1991). See also Catherine Dwyer, Digital Relationships in the” Myspace” Generation: Results From a Qualitative Study, 40TH ANNUAL HAW. INT’L CONF. ON SYS. SCIS., 19 (2007) (after interviewing undergraduates that use social media and instant messenger applications, authors pointed out that most interviewees did not customize the privacy settings of their chosen platforms.); Ralph Gross & Alessandro Acquisti, Proceeding of the Ass’n for Computing Machinery Workshop, Information Revelation and Privacy in Online Social Networks 71–80 (2005) (authors studied the behavior of more than 4,000 students on Facebook and found that only 1.2% of users studied changed their privacy settings).\\nElectronic copy available at: https://ssrn.com/abstract=3247362\\n SRINIVASAN.FINAL CHECK (DO NOT DELETE)\\nprivacy policy that put privacy at the center of the user experience. 41 Only some 950 words long, the initial policy took only a few minutes to read. Indeed, just as the liberal return policy is designed to engender trust among prospective customers in e-commerce, so was Facebook’s privacy policy designed to engender trust with early adopters of social media. The opening sentence proclaimed: “Because we want to demonstrate our commitment to our users’ privacy, we will disclose our information and privacy practices False” 42 Therein, Facebook made important representations regarding what it would and would not do. One important representation—whose evolution is the focus of this Paper —was the promise to not usurp privacy by using tracking technology. 43 Facebook promised: “We do not and will not use cookies to collect private information from any user.” 44 Without understanding tracking technology, it is impossible to understand how Facebook would eventually leverage its power to degrade user privacy and build a business model affecting data and advertising inventory across millions of independent businesses. The most common tracking methodology to surveil users leveraged the use of “cookies”, small text files that websites can install on users’ computers. 45 At a simple level, a cookie enables a website to identify a browser using a unique identifier, in order to remember a previous action on the part of the user. Cookies can be used to remember historical actions—such as if a user had put items into a shopping cart, if a user had already logged-in, or what a user normally enters in a form field. On an individual level, cookies can add to a user’s welfare by allowing a website to improve the quality of the site’s user experience.\\n41. Chris Kelly, who later ran for governor of California, was hired as Facebook’s chief privacy officer in September of 2005. 42. Facebook Privacy Policy, FACEBOOK.COM (Dec. 30, 2004), http://www.thefacebook.com/policy.php [https://web.archive.org/web/20050107221705/http://www.thefacebook.com/policy.php] [hereinafter “FACEBOOK PRIVACY POLICY (2004)”]. 43. See id. (“We use session ID cookies to confirm that users are logged in. These cookies terminate once the users close the browser. We do not and will not use cookies to collect private information from any user.”); see also Facebook Privacy Policy, FACEBOOK.COM (effective February 27, 2006), http://www.facebook.com:80/policy.php [http://web.archive.org/web/20060222121022/http://www.facebook.com:80/policy.php] (“We use session ID cookies to confirm that users are logged in. These cookies terminate once the user closes the browser. By default, we use a persistent cookie that stores your login ID (but not your password) to make it easier for you to login when you come back to Facebook.”); Facebook Privacy Policy, FACEBOOK.COM (effective Sept. 12, 2007), http://www.facebook.com/policy.php [http://web.archive.org/web/20070912083143/http://www.facebook.com/policy.php] [hereinafter FACEBOOK PRIVACY POLICY (2007)] (“When you enter Facebook, we collect your browser type and IP address. False . . We use session ID cookies to confirm that users are logged in. These cookies terminate once the user closes the browser. By default, we use a persistent cookie that stores your login ID (but not your password) to make it easier for you to login when you come back to Facebook.”). 44. FACEBOOK PRIVACY POLICY (2004), supra note 42. 45. HTTP State Management Mechanism, RFC-EDITOR.ORG (April 2011). https://www.rfceditor.org/info/rfc6265.\\nElectronic copy available at: https://ssrn.com/abstract=3247362\\n SRINIVASAN.FINAL CHECK (DO NOT DELETE)\\nCookies, however, can also be used to determine what a user was researching, reading, or buying on a site. When a user types a website URL into a browser (such as nytimes.com), the user’s computer initiates an HTTP request with the website’s server. The website’s server then sends back an HTTP response that allows the user to see the webpage. During HTTP responses, servers can also send back and implant cookies on a user’s device. The cookies thumb-print a user’s device with a unique identifier, or a “cookie ID” (for example, 123456789). 46 These cookies can then be “read” by the issuing company during a user’s subsequent HTTP requests. When read, the user’s cookies provide the user’s cookie ID, and other elements of the HTTP request can provide specific information regarding the user’s browser session, including: the specific URL the user is visiting (for example, goodmenproject.com/marriage-2/Coming-Out-To-Your-Wife/), the time the user is visiting said URL, and the IP address of the user (which discloses the user’s geographic location). In this way, a company can use cookies to know (and therefore remember) the fact that user 123456789 was reading the article “Coming Out to Your Wife” on a Sunday morning at 5:30 a.m. from Wichita, KS. Widespread commercial surveillance of consumer behavior across the internet, however, was inhibited by two restraining facts. First, a company could only read its own cookies. Second, a company could read cookies only when a user initiates an HTTP request to the company’s server. For example, if The New York Times wrote a cookie onto a user’s device, the Times could not read its cookies when the user was on wsj.com. In other words, The Times could know what users were doing on nytimes.com but not on other properties. A company could circumvent these built-in privacy protections by installing a piece of their own code on other websites, that would invisibly generate an HTTP request on behalf of the user to the company’s server. Of course, no publisher would want another publisher to be tracking the behavior of its own customers. In order to develop complete and accurate profiles of users, there would need to be cooperation among thousands of sites which would otherwise be competitive. At one point, competitors and competition kept horizontal cookie collusion in check. When Facebook first entered the market, and for the next ten years, Facebook promised to not surveil users for commercial purposes. This promise was not de minimis. As an electronic communications service provider, Facebook knew people’s real identities and therefore could correlate\\n46. Cookies were initially invented with randomized ID numbers instead of permanent ones attributed to a user’s browser precisely to avoid ‘‘cookies [being] used as a general tracking mechanism.’’ See John Schwartz, Giving Web a Memory Cost Its Users Privacy, N.Y. TIMES (Sept. 4, 2001), https://www.nytimes.com/2001/09/04/business/giving-web-a-memory-cost-its-usersprivacy.html.\\nElectronic copy available at: https://ssrn.com/abstract=3247362\\n SRINIVASAN.FINAL CHECK (DO NOT DELETE)\\nanonymous cookie IDs with real world identities. You weren’t just 123456789 reading the article titled “Coming Out to Your Wife,” you were Jacob Greenberg of Wichita, KS reading “Coming Out to Your Wife.” Additionally, numerous studies showed that consumers were concerned about privacy and objected to behavioral (or psychographic) targeted digital advertising. 47 Aside from broader objections to surveillance, which is known to quell research and speech, surveillance had immediate practical implications within the household. If a company could know that Ms. Mitchell was shopping for that Star Wars Lego set that was all the rage that season, it could incessantly display on the family computer ads for the same toy, which could potentially ruin for young Sam what Santa Claus was bringing for Christmas. Although this Paper focuses on the evolution of the promise not to surveil users outside of Facebook, for which there is a rich historical record of Facebook’s conduct both pre and post market dominance, it is worth noting that Facebook made other significant privacy representations upon entering the market. 48 For example, Facebook initially gave users the ability to opt out of having their information shared with third-parties, including advertisers or marketers, or to prohibit Facebook from collecting additional information about themselves from third-parties. 49 Facebook also initially promised that users could modify or remove information Facebook had about them at any time. These promises combined signaled to users that, unlike other social networks, Facebook offered its members “very granular and powerful control on the privacy . . . of their personal information.” 50 The combination of Facebook’s closed network approach and strict default privacy settings made people believe that Facebook, and not MySpace, was the trustworthy choice. Facebook’s short privacy policy, default privacy settings, and outward signaling as privacy-centric, were strategic decisions that played an important role in attracting users to the platform. David Kirkpatrick, who chronicles\\n47. Online privacy and the ability to browse, read, shop, and think online without being watched has been a consumer concern since the turn of this century. See Chris Jay Hoofnagle, Jennifer Urban & Su Li, Privacy and Advertising Mail, BERKELEY CENT. FOR L. AND TECH. (2012), http://ssrn.com/abstract=2183417; M. J. Metzger & S/ Docter, Public Opinion and Policy Initiatives For Online Privacy Protection. 47 J. OF BROADCASTING & ELEC. MEDIA 3 (2003); Schwartz, supra note 46 (2001 survey by Public Opinion Strategies, a Republican polling organization, showed 67% of Americans said “online privacy” was a “big concern”); U.S. Internet Users Ready to Limit Online Tracking for Ads, News.Gallup.Com (Dec. 21, 2010), https://news.gallup.com/poll/145337/internetusers-ready-limit-online-tracking-ads.aspx (2010 USA Today/Gallup poll showed Americans were aware of cookies and behavioral advertising, 67% said marketers should not be able to conduct behaviorally targeted advertising, and 61% said free internet services do not justify the practice). 48. For a general overview of Facebook’s progressive deterioration of user privacy, see Jennifer Shore & Jill Steinman, Did You Really Agree to That? The Evolution of Facebook’s Privacy Policy, TECH. SCI. (2015), https://techscience.org/a/2015081102. 49. FACEBOOK PRIVACY POLICY (2004), supra note 42. 50. Alessandro Acquisti & Ralph Gross, Imagined Communities: Awareness, Information Sharing, and Privacy on the Facebook, INT’L WORKSHOP ON PRIVACY ENHANCING TECHS. 2 (2006) [hereinafter “Imagined Communities”].\\nElectronic copy available at: https://ssrn.com/abstract=3247362\\n SRINIVASAN.FINAL CHECK (DO NOT DELETE)\\nFacebook’s history in his book The Facebook Effect, summarizes, “Privacy . . . has been a major concern of Facebook’s users from the beginning.”51 For example, for Katherine Losse, one of Facebook’s first employees, Facebook’s unique stance on privacy was a critical part of her decision to join a social media platform. She explained, “The privacy protections of the restricted network . . . made it feel, surprisingly, okay.” 52 Accordingly, early consumer studies revealed that the broader population possessed similar feelings for privacy concerns. 53 The majority of Americans polled in one 2004 national consumer study said privacy was a “really important issue that [they] care about often.” 54 Another survey focused on early Facebook users’ attitudes towards privacy and concluded that Facebook users cared about privacy policy more than terrorism. 55 Others in academia studied and compared MySpace users’ satisfaction with MySpace’s privacy settings with Facebook users’ satisfaction with Facebook’s privacy settings and concluded that users generally preferred Facebook’s settings over MySpace’s settings. 56 Indeed, increased levels of privacy are broadly understood to be the mechanism that induces people to trust and then communicate over a particular communications channel. For example, social exchange theory, with a foot simultaneously in economics, psychology and sociology, studies human communications and explains that people communicate and form relationships through a simple cost-benefit analysis 57: the benefit is the opportunity to socialize, and the cost is the risk associated with trusting someone. Privacy increases trust and reduces risk, thereby causing humans to communicate more. In the real word, the lack of a permanent record ensures some level of privacy. 58 Online, a social network that wants users to choose its platform over others could generate superior trust through superior promises of privacy. Privacy continues to play an important role in the current, though less competitive, social media market. SnapChat is the only social network post2010 to have gained significant adoption with users in the United States. 59 Like Facebook once did, SnapChat competes on quality, and importantly, on privacy 51. See Kirkpatrick, supra note 39 at 13. 52. See Losse, supra note 39 at XV. 53. David Stark & C. Hodge, Consumer Behaviors and Attitudes About Privacy: A Tns/Truste Study, TNS/TRUST 13 (2004), http://www.truste.org/pdf/Q4_2004_Consumer_Privacy_Study.pdf. 54. Id. 55. See Acquisti & Gross, Imagined Communities, supra note 50 at 6. 56. See Acquisti & Gross, Imagined Communities, supra note 50 at 16; Dwyer, Hiltz & Passerini, supra note 38 at 339. 57. See Donna L. Hoffman, Thomas P. Novak & Marcos Peralta, Building Consumer Trust Online, 42 COMMS. OF THE ACM 80–85 (1999); see also Miriam J. Metzger, Privacy, Trust, and Disclosure: Exploring Barriers to Electronic Commerce, 9 J. OF COMPUTER-MEDIATED COMM. 942 (2004); MICHAEL E. ROLOFF, INTERPERSONAL COMMUNICATION: THE SOCIAL EXCHANGE APPROACH (1981). 58. Consider Lawrence Lessig’s prescient essay on internet threats to privacy: Lawrence Lessig, The Architecture of Privacy, 1 VAND. ENT. L. AND PRACTICE 56-65 (1999). 59. See STATISTA.COM, infra note 237.\\nElectronic copy available at: https://ssrn.com/abstract=3247362\\n SRINIVASAN.FINAL CHECK (DO NOT DELETE)\\nlevels. For example, one of the central draws of SnapChat is the fact that SnapChat communications appear for a fixed period of time, then disappear, being also deleted from SnapChat’s servers. 60 The impermanency of the record ensures a high degree of privacy. Additionally, when Facebook users discovered in early 2017 that Facebook was collecting and sharing user data in ways previously not known or understood, users instigated a #deleteFacebook movement, and millions flocked to startup competitor Vero Social that promised significantly higher levels of privacy. 61 The fact that communications markets turn on privacy is history repeating itself. Wireless telegraphy, before eventually being used to facilitate what we know today as the modern radio, initially stalled as a technology because of its inability to facilitate private communications. 62 Moreover, this nation’s historic antitrust case against and eventual break-up of AT&T in the telephone network market was instigated in part by an equipment competitor’s desire to offer telephone equipment that offered a higher level of privacy in communications. 63 Until 1956, customers of AT&T’s telephone service were required to use AT&T telephone equipment to make and receive calls. Equipment manufacturer Hush-A-Phone marketed a cup-like device that attached to AT&T equipment to reduce the risk of conversations being overheard. Consumers purchased over 125,000 Hush-A-Phones to make for “privacy in communications” and in 1948, Hush-A-Phone filed a complaint with the Federal Communications Commission requesting that the FCC compel AT&T to officially permit customers’ use of Hush-A-Phone equipment. 64 Hush-A-Phone eventually prevailed and this opened the door to competition in the market for telephone equipment. 65 In the early 2000s, Facebook entered the social media market, disintermediated MySpace’s momentum, and started to consolidate the social network market by offering consumers an alternative service of superior quality. Other qualitative features, like Facebook’s user interface design, realname policy, and college launch strategy, also played a role in making\\n60. When Does Snapchat delete Snaps and Chats?, SNAPCHAT.COM, https://support.snapchat.com/en-US/a/when-are-snaps-chats-deleted, (last visited Jan. 21, 2019). 61. See Ben Gilbert, #DeleteFacebook Is Trending: Here’s How to Delete Your Facebook Account, BUSINESSINSIDER.COM (March 18, 2018), https://www.businessinsider.com/how-to-deletefacebook-2018-3; see also Ann-Marie Alcantara, Could This Social Media Ad-Free App Go Mainstream Amid Facebook’s Privacy Woes?, ADWEEK.COM (April 12, 2018), https://www.adweek.com/digital/this-ad-free-social-media-app-thinks-it-can-capitalize-on-facebooksprivacy-woes/. 62. BHU SRINIVASAN, AMERICANA:THE 400-YEAR HISTORY OF AMERICAN CAPITALISM 293 (2017). 63. JEAN-JACQUES LAFFONT & JEAN TIROLE, COMPETITION IN TELECOMMUNICATIONS 18 (1999). 64. For the court of appeals decision, see Hush-A-Phone v. United States, 238 F.2d 266 (D.C. Cir. 1956). 65. Id.\\nElectronic copy available at: https://ssrn.com/abstract=3247362\\n SRINIVASAN.FINAL CHECK (DO NOT DELETE)\\nFacebook’s platform attractive to users. 66 Regardless, the fact remains that superior privacy levels played a central role in this narrative. Propelled then by direct network effects, whereby each additional user that chose Facebook made the Facebook network more attractive to the next incremental user, Facebook started to consolidate the social network market at a rapid rate, taking market share from MySpace, Friendster, and competitive offerings from Google and AOL. At the end of 2004, MySpace had 5 million users and Facebook had 1 million users. 67 In 2006, when some 250 million people around the world used a social network, 100 million used MySpace, 12 million used Facebook, and the rest were dispersed across numerous competitors. 68 Then, in 2007, user growth at MySpace started to decelerate, while growth at Facebook accelerated. By mid 2007, Facebook had overtaken MySpace as the most visited social media network in the U.S. 69 One year later, MySpace stopped growing, while Facebook was registering half-a-million new users per day. 70 Today, of course, MySpace, Orkut, Bebo, and other competitors, are relics of the early history of social media. Facebook dominates the life of the average American—99% of adults that use any form of social media use Facebook, and the average American now spends over an hour per day on Facebook applications. 71 II. THE PARADOX OF SURVEILLANCE REFLECTS MONOPOLY POWER Monopoly power refers specifically to the power to control a market—that is, the power in a market to raise price above or reduce quality below competitive levels. 72 From a legal standpoint, the question of whether a company has monopoly power in a market is answered through direct or 66. For example, Sean Parker, Facebook’s first president, has explained that Facebook’s strategy in first dominating the social media market, and general product development, were important reasons that users chose Facebook over MySpace. Alexia Tsotsis, Sean Parker on Why MySpace Lost to Facebook, TECHCRUNCH.COM (June 28, 2011), https://techcrunch.com/2011/06/28/sean-parker-on-why-myspacelost-to-facebook/. Others have partly attributed Facebook’s superior product to superior design. See, for e.g., Jenna McWilliams, How Facebook Beats MySpace, THE GUARDIAN (June 23, 2009), https://www.theguardian.com/commentisfree/cifamerica/2009/jun/23/facebook-myspace-socialnetworks. 67. Number of Active Users at Facebook Over the Years, YAHOO! FINANCE (Oct. 23, 2012), https://finance.yahoo.com/news/number-active-users-facebook-over-years-214600186—finance.html. 68. Id. 69. Erick Schonfeld, Facebook Blows Past MySpace in Global Visitors for May, TECHCRUNCH.COM (June 20, 2008), https://techcrunch.com/2008/06/20/facebook-blows-past-myspacein-global-visitors-for-may/. 70. Id. 71. See Social Media Fact Sheet, PEW RES. CTR. (Feb. 5, 2018), http://www.pewinternet.org/factsheet/social-media/ (69% of U.S. adults use social media; 68% of U.S. adults use Facebook). Average Time Spent per Day with Facebook, Instagram, and Snapchat, EMARKETER.COM (June 1, 2018), https://www.emarketer.com/Chart/Average-Time-Spent-per-Day-with-Facebook-Instagram-Snapchatby-US-Adult-Users-of-Each-Platform-2015-2020-minutes/219352. 72. See generally United States v. E. I. du Pont de Nemours & Co., 351 U.S. 379, at 391 (1956) [hereinafter “du Pont”].\\nElectronic copy available at: https://ssrn.com/abstract=3247362\\n SRINIVASAN.FINAL CHECK (DO NOT DELETE)\\nindirect evidence. Indirect evidence focuses on a company’s percent share of a relevant market, amongst other structural factors that indicate a company’s hold on a market (e.g., entry barriers). 73 Direct evidence, on the other hand, demonstrates a company’s acquired ability to increase price above or decrease quality below levels unsustainable in a previous competitive environment. 74 Under the direct evidence approach, the strongest type of evidence is evidence of price or quality levels pre-power, an event or point in time which results in power, and evidence of price increases or quality degradations that would have previously been unsustainable. 75 This fact-based, retrospective before-and-after analysis—though somewhat rare in antitrust cases—is particularly relevant in Facebook’s case. Part II now tells the story of how it came to be that Facebook extracts from consumers an exchange founded on surveillance. Contrary to what many believe, digital surveillance is not simply the inevitable byproduct of how the internet works. Rather, promises of privacy were the deciding factors that tipped the early market in Facebook’s favor, away from MySpace. Facebook’s conduct, from 2004-2012, provides the benchmark of quality—at least with respect to commercial surveillance—that the restraining forces of competition demanded. By 2014, competitors had exited the market, Google’s competitive offering Orkut shut down, 76 and Facebook’s monopoly was complete due to the exit of competition combined with the protection of the barrier to entry that results from a product with over a billion users on a closed communications network. Subsequently, in 2014, Facebook leveraged its market power in a consolidated market to successfully degrade privacy to levels unsustainable in the earlier competitive market when market participants were subject to consumer privacy demands. Facebook rapidly unraveled its promise not to conduct commercial surveillance by using the technical framework it built over the years by perpetuating the belief that it would not leverage such a framework for a commercial purpose. A. Pre-Power: Failure of Beacon and Early Misrepresentations By 2007, people were sharing more baby pictures and personal family and friend photos on Facebook than they were on any other social media site—\\n73. United States v. Microsoft Corp., 253 F.3d 34, 51 (D.C. Cir. 2001) (“. . .monopoly power may be inferred from a firm’s possession of a dominant share of a relevant market that is protected by entry barriers.”); United States v. Grinnell Corp., 384 U. S. 563, 571 (1966). 74. See du Pont, 351 U.S. at 391 (explaining that “monopoly power is the power to control prices”); Standard Oil Co. of New Jersey v. United States, 221 U.S. 1 (1911). 75. See generally Daniel A. Crane, Market Power Without Market Definition, 90 NOTRE DAME L. REV. 31 (2014). 76. See Ellen Huet, Google Finally Shuts Down Orkut, Its First Social Network, FORBES MAGAZINE (June 30, 2014), https://www.forbes.com/sites/ellenhuet/2014/06/30/google-killsorkut/#2874fded634b.\\nElectronic copy available at: https://ssrn.com/abstract=3247362\\n SRINIVASAN.FINAL CHECK (DO NOT DELETE)\\nMySpace was edgy, Facebook was wholesome. 77 Then on November 6, 2007, with growing momentum in the market, Facebook reneged on the promise not to surveil users outside of Facebook through the release of an advertising product called “Beacon.” 78 Beacon was a direct product license to third-parties that openly allowed Facebook to monitor and record user activity off of Facebook, and reflects Facebook’s first attempt to track users on the sites of independent businesses. 79 But Beacon was immediately controversial. Its ultimate failure is evidence of what competition demanded of Facebook from a privacy perspective. Launched in conjunction with a handful of third-parties, including Blockbuster and The New York Times, Facebook provided Beacon participants a piece of Facebook code to install on their own sites. 80 When a user triggered an action on a participating site (say, rented a movie or read an article), the website then presented the user with a pop-up box requesting permission to share the user’s activity on Facebook. 81 Many people today would remember being once jarred by the pop-up requesting permission to share one’s reading or browsing activity with Facebook. The user could decline permission by selecting the “No, Thanks” option. 82 If the user did not click the “No, Thanks” button, Facebook received information about the user’s activity (title of movie rented or article read). 83 Then, Facebook would publish the activity on the user’s Facebook page, calling the publication a “social advertisement.” 84 For Beacon participants, like The New York Times or Conde Nast, the social sharing of user activity was a type of free marketing.\\n77. Facebook’s Mark Zuckerberg: Hacker. Dropout. CEO., FASTCOMPANY.COM (May 1, 2007), https://www.fastcompany.com/59441/facebooks-mark-zuckerberg-hacker-dropout-ceo. 78. Leading Websites Offer Facebook Beacon for Social Distribution, NEWSROOM.FB.COM (NOV. 6, 2007), https://newsroom.fb.com/news/2007/11/leading-websites-offer-facebook-beacon-for-socialdistribution/; see also Facebook Announces Facebook Ads, Beacon in New York, ADWEEK.COM (Nov. 6, 2007), https://www.adweek.com/digital/facebook-announces-facebook-ads-beacon-in-new-york/. 79. NEWSROOM.FB.COM, supra note 78. 80. Id. 81. Michael Arrington, Ok Here’s At Least Part of What Facebook is Announcing on Tuesday: Project Beacon, TECHCRUNCH.COM (Nov. 2, 2007), https://techcrunch.com/2007/11/02/ok-heres-atleast-part-of-what-facebook-is-announcing-on-tuesday/. 82. Users could have opted-in (via Facebook settings) to always include activity on third-party sites on their News Feed, opted-out to never include it, or opted-in to include it only if the user did not opt-out when given the pop-up confirmation (default). For a short history of Beacon’s changing userinterface against a backdrop of consumer uproar, see Louise Story, The Evolution of Facebook’s Beacon, N.Y. TIMES (Nov. 29, 2007), https://bits.blogs.nytimes.com/2007/11/29/the-evolution-offacebooks-beacon/. 83. According to Facebook at the time, Facebook tracked and recorded the activity only of loggedin users who did not click the “No, Thanks” button. 84. See Arrington, supra note 81.\\nElectronic copy available at: https://ssrn.com/abstract=3247362\\n SRINIVASAN.FINAL CHECK (DO NOT DELETE)\\nScreenshot of the Beacon pop-up displayed to users on third-party sites. 85\\nBeacon was a transparent attempt to get users to consent to sharing information about their activity on third-party sites with Facebook. However, the mere presence of Facebook’s code on these sites made it technically possible for Facebook to track users’ activities on these sites, even if the user did not grant Facebook permission to do so. This is because, when a user visited a Beacon site (e.g., blockbuster.com), regardless of whether the user consented or not, Facebook code initiated an HTTP request on behalf of the user to Facebook’s servers. Through this newly opened connection, Facebook could write cookies on user computers during HTTP responses, or read cookies during HTTP requests. The requests and cookies could reveal the specific page a user was on—effectively allowing Facebook to accomplish surveillance on the users that had clicked “No, Thanks.” At the time, Facebook claimed that Beacon only tracked and monitored the activities of consenting users, and that Facebook code was not used to conduct less overt surveillance through cookies. For example, in a follow-up to emerging, strong, user push-back on the new Beacon product, 86 The New York Times interviewed Facebook’s vice president of marketing and operations, Chamath Palihapitiya. 87 The reporter asked, “If I buy tickets on Fandango, and decline to publish the purchase to my friends on Facebook, does Facebook still receive the information about my purchase?” Palihapitiya answered, “Absolutely not. One of the things we are still trying to do is dispel a lot of misinformation that is being propagated unnecessarily.” 88 Facebook represented that it did not receive information about users that declined to share information about their activity. Only hours after Palihaptiya’s comments in the Times, Stefan Berteau, a senior research engineer at California’s Threat Research Group, examined the actual contents of Facebook’s HTTP requests and responses that were normally 85. Id. 86. See Nick O’Neill, MoveOn.org to Challenge Facebook Beacon, ADWEEK.COM (Nov. 20, 2007), www.adweek.com/digital/moveonorg-to-challenge-facebook-beacon/. 87. Brad Stone, Facebook Executive Discusses Beacon Brouhaha, N.Y. TIMES (Nov. 29, 2007), https://bits.blogs.nytimes.com/2007/11/29/facebook-responds-to-beacon-brouhaha/. 88. Id.\\nElectronic copy available at: https://ssrn.com/abstract=3247362\\n SRINIVASAN.FINAL CHECK (DO NOT DELETE)\\ninvisible to users, and revealed that Palihapitiya’s representations were not true. 89 While Facebook claimed that Beacon trackers did not transmit user information to Facebook if users clicked “No, Thanks”, the contents of the cookie files did just that. 90 Berteau further revealed that Beacon trackers were also used to log the activity of users who logged-out of Facebook or did not have a Facebook account. 91 Furthermore, if a logged-out user ever clicked the “Remember Me” checkbox when logging-in, Facebook actively associated cookies with a user’s Facebook ID number. 92 In other words, Facebook linked normally anonymized cookie data back to the identities of real people—a connection Facebook could make because it operated the social network. Indeed, Facebook’s Privacy Policy at the time did not obtain user consent for this practice. As displayed on November 29, 2007, Facebook claimed that it only used cookies to “confirm that users are logged in” and that “[t]hese cookies terminate once the user closes the browser.” 93 Within a few days, Facebook confirmed Berteau’s findings, contradicting its own earlier representations about user privacy. 94 For the first time, Facebook had been publicly caught using cookies for broader surveillance despite the promise it did not and would not do so. Almost immediately, Facebook faced user protest, petitions from advocate groups, and class action lawsuits. A MoveOn.org petition garnered 50,000 signatures within days. 95 Class-action lawsuits on behalf of users were filed in Texas and California. 96 The page of another petition called “Facebook, stop invading my privacy,” stated: “A lot of us love Facebook - it’s helping to revolutionize the way we connect with each other. But they need to take\\n89. Stefan Berteau, Facebook’s Misrepresentation of Beacon’s Threat to Privacy: Tracking Users Who Opt Out or Are Not Logged In, CA SECURITY ADVISOR RES. BLOG, (Dec. 1, 2007), https://www.techmeme.com/071201/p3#a071201p3. 90. Id. (Berteau showed, for example, that if a user saved a recipe on Epicurious to a favorites folder, and explicitly declined to have this information publish to his Facebook profile, the Beacon program wouldn’t publish it, but would nonetheless share the information about what the user was doing on the Epicurious website with Facebook). See also Juan Carlos Perez, Facebook’s Beacon More Intrusive than Previously Thought, PCWORLD.COM (Nov. 30, 2007), https://www.pcworld.com/article/140182/article.html. 91. See Berteau, supra note 89; see also Juan Carlos Perez, Beacon’s User Tracking Extends Beyond Facebook, CA Says, COMPUTERWORLD.COM (Dec. 3, 2007), https://www.computerworld.com/article/2537951/data-privacy/beacon-s-user-tracking-extends-beyondfacebook—ca-says.html. 92. See Berteau, supra note 89; Perez, supra note 90. 93. FACEBOOK PRIVACY POLICY (2007), supra note 43. 94. See Perez, supra note 90. 95. See O’Neill, supra note 86; Ellen Nakashima, Feeling Betrayed, Facebook Users Force Site to Honor Their Privacy, WASH. POST (Nov. 30, 2007), http://www.washingtonpost.com/wpdyn/content/article/2007/11/29/AR2007112902503.html?noredirect=on. 96. See Harris v. Blockbuster Inc., 622 F. Supp. 2d 396 (N.D. Tex. 2009); Lane v. Facebook Inc., 696 F.3d 811 (9th Cir. 2012).\\nElectronic copy available at: https://ssrn.com/abstract=3247362\\n SRINIVASAN.FINAL CHECK (DO NOT DELETE)\\nprivacy seriously.” 97 Facebook was founded upon the qualitative promise of no surveillance outside of Facebook and users did not want this to change. Consumer resistance is early proof of consumers’ preference for no surveillance. Rejection of Facebook surveillance on third-party sites was part of a wider rejection of all third-party cookie tracking as consumers tried to stop this type of commercial surveillance that the advertising industry coordinated to impose on consumers. 98 A 2005 industry study showed that 67% of Americans wanted to protect their privacy and prevent tracking. 99 Some advertising companies paid businesses for the ability to install their own code on the business’ websites to track the business’ customers. 100 One such company was Seevast. Seevast’s code triggered an open connection between a business’ website visitors and Seevast’s servers, which Seevast used to install cookies on, and retrieve cookies from, the business’ users. Unlike companies like Seevast, Facebook knew users’ real identities, and nearly fifty million people had a Facebook account. 101 Facebook’s surveillance, unlike Seevast’s, could be tied not only to random cookie variables, but to peoples’ real names. In other words, Facebook could leverage the ability to identify people through use of the century’s new communications technology, to conduct a particularly invasive, and permanent, form of surveillance. Additionally, Facebook did not have to pay companies, it could simply leverage the power to give away something valuable for free. In the face of backlash, some Beacon participants pulled out of the Beacon program, effectively declining to extract consent from their own website visitors to Facebook’s surveillance mechanism. The growing e-retailer Overstock, one of the initial companies to sign up for Beacon, pulled out. Their\\n97. See Eric Auchard, Facebook Alters Notifications after Privacy Furor, REUTERS.COM (Nov. 29, 2007), https://www.reuters.com/article/us-facebook-privacy-idUSN2925736120071130. 98. For example, consumers’ cookie deletion rates rose at a rapid clip starting in 2004 when the advertising industry started to use cookies for tracking. Subsequently, the digital ad industry association group Interactive Advertising Bureau (IAB) and Safecount announced an initiative to cut cookie deletion rates. See Mickey Khan, Rising Cookie Rejection Bites into Metrics, DMNEWS.COM (July 11, 2005), https://www.dmnews.com/customer-experience/news/13074659/rising-cookie-rejection-bitesinto-metrics. See also Chris Jay Hoofnagle, Jennifer King, Su Li & Joseph Turow, How Different are Young Adults from Older Adults When It Comes to Information Privacy Attitudes and Policies? (2010), https://repository.upenn.edu/cgi/viewcontent.cgi?referer=https://www.google.com/&httpsredir=1&articl e=1413&context=asc_papers (finding that 39% of American Internet users delete all their cookies “often”). 99. See Khan, supra note 97 (citing study from online market researcher InsightExpress). 100. See Saul Hansell, Facebook Retreats on Online Tracking, N.Y. TIMES (Aug. 15, 2006), https://www.nytimes.com/2006/08/15/technology/15search.html. 101. See Julie Sloane, Facebook Got Its $15 Billion Valuation — Now What? WIRED (Oct. 26, 2007), https://www.wired.com/2007/10/facebook-future/.\\nElectronic copy available at: https://ssrn.com/abstract=3247362\\n SRINIVASAN.FINAL CHECK (DO NOT DELETE)\\nsenior vice president of corporate affairs said, “we need to make sure that the Facebook community is accepting of this new type of advertising.” 102 In a competitive market, Facebook likely worried that strong user discontent around privacy would disrupt its momentum. While MySpace faced stagnating user growth, it still had double Facebook’s number of users. 103 Google’s Orkut had lost steam, but Google and MySpace recently announced they would join forces on Google’s new OpenSocial initiative. 104 Orkut, Friendster, and Netscape co-founder Marc Andreessen announced support for OpenSocial. 105 In the U.K., a key battleground for the social media market, MySpace and Bebo still had the most users. 106 Additionally, competitors displayed an appreciation of having to compete with Facebook on matters related to user privacy. One such savvy competitor was MySpace’s parent company, News Corp. An analyst with Jupiter Research remarked to CNN Money, “News Corp. and Fox recognize the importance of allowing people to be alone with their friends, so they do not feel like they are being looked at by Big Brother. They understand how many competitors they have nipping at their heels right now, so they are doing everything they can not to alienate users.” 107 With numerous competitors nipping at Facebook’s heels, Facebook retreated almost immediately after launching Beacon. Zuckerberg apologized and announced that Facebook would allow users to opt-out of the Beacon program. 108 But consumers did not accept Facebook’s opt-out scheme, which required them to navigate Facebook’s default privacy settings. Consumer uproar persisted, and, by September of the following year, Facebook revealed it\\n102. Caroline McCarthy, Facebook’s Zuckerberg: ‘We Simply Did a Bad Job’ Handling Beacon, CNET.COM (Dec. 5, 2007), https://www.cnet.com/news/facebooks-zuckerberg-we-simply-did-a-bad-jobhandling-beacon/. See also Louise Story, Coke Is Holding Off on Sipping Facebook’s Beacon, N.Y. TIMES (Nov. 30, 2007), https://bits.blogs.nytimes.com/2007/11/30/coke-is-holding-off-on-sippingfacebooks-beacon/?mtrref=undefined&gwh=59CBD7EC0914ECD5FCAB88B8BBF2201A&gwt=pay. 103. See Sloane, supra note 101. 104. See Jacqui Cheng, Google Goes After Facebook With New OpenSocial Social Networking API, ARSTECHNICA.COM (Nov. 1, 2007), https://arstechnica.com/uncategorized/2007/11/google-goesafter-facebook-with-new-opensocial-social-networking-api/. 105. See Marc Andreessen, Open Social: A New Universe of Social Applications All Over the Web, BLOG.PMARCA.COM (Oct. 31, 2007), http://blog.pmarca.com/2007/10/open-social-a-n.html, [http://web.archive.org/web/20071102041108/http://blog.pmarca.com/2007/10/open-social-a-n.html] (Andreesen wrote on his blog, “We will aggressively support Open Social in every conceivable way.”). 106. See Rory Cellan-Jones, Facebook Dismisses Privacy Fears, BBC NEWS (Sept. 12, 2007), http://news.bbc.co.uk/2/hi/technology/6990767.stm (citing Nielsen netRatings and comScore numbers). 107. Paul R. La Monica, Move Over, MySpace Social Networking is Hot - and There’s More to the Rapidly Growing Market than MySpace and Facebook, CNN.COM (Mar. 20, 2007), http://money.cnn.com/2007/03/19/news/companies/socialnetworks/index.htm. 108. See Erick Schonfeld, Zuckerberg Saves Face, Apologizes For Beacon, TECHCRUNCH.COM (Dec. 5, 2007), https://techcrunch.com/2007/12/05/zuckerberg-saves-face-apologies-for-beacon/; Vauhini Vara, Facebook Rethinks Tracking Site Apologizes, Makes it Easier to Retain Privacy, WALL STREET J. (Dec. 6, 2007), https://www.wsj.com/articles/SB119687856122414681?mod=searchresults&page=3&po=18s;\\nElectronic copy available at: https://ssrn.com/abstract=3247362\\n SRINIVASAN.FINAL CHECK (DO NOT DELETE)\\nwould shut down Beacon entirely. Zuckerberg would later call Beacon a “mistake.” 109 Facebook’s retreat with Beacon is evidence of what competition demanded of Facebook at the time. Following subsequent calls for regulation, Randall Rothenberg, the President and CEO of the Internet Advertising Bureau, the industry’s trade association, wrote an op-ed in The Wall Street Journal, proclaiming that users’ ability to resist Facebook’s privacy changes was testament to the free market’s ability to regulate itself. 110 Rothenberg, of course, was wrong. On the heels the Beacon controversy, and competitors’ rising awareness of the importance of privacy to consumers, Facebook took the unprecedented step of announcing that future privacy changes would be subject to user approval. 111 Under a newly announced democratic process, incorporated into Facebook’s governing documents, Facebook bound itself to allowing users to vote on future changes to important documents that contractually change user privacy— including the Privacy Policy, and other policies such as the Statement of Rights and Responsibilities and The Facebook Principles. Facebook’s press release announced that the voting procedure “offers its users around the world an unprecedented role in determining the future policies governing the service.” 112 In a rarely given public press conference, Zuckerberg explained that Facebook was doing this because social media users “feel a visceral connection to their rights. . . . We are one of the only services on the web where people are sharing pretty personal and intimate information . . . We’re making it so that we can’t\\n109. See Mark Zuckerberg, Thoughts on Beacon, BLOG.FACEBOOK.COM (Dec. 5, 2007), http://blog.facebook.com/blog.php?post=7584397130, [https://web.archive.org/web/20080107025500/http://blog.facebook.com/blog.php?post=7584397130]; and Mark Zuckerberg, Our Commitment to the Facebook Community, NEWSROOM.FB.COM (Nov. 29, 2011), https://newsroom.fb.com/news/2011/11/our-commitment-to-the-facebook-community/. For a history of Zuckerberg’s apologies, see Geoffrey A. Fowler & Chiqui Esteban, 14 Years of Mark Zuckerberg Saying Sorry, Not Sorry, WASH. POST (April 9, 2018), https://www.washingtonpost.com/graphics/2018/business/facebook-zuckerbergapologies/?utm_term=.dbcff8504c9. 110. Randall Rothenberg, Facebook’s Flop, WALL STREET J. (Dec. 14, 2007), https://www.wsj.com/articles/SB119760316554728877?mod=searchresults&page=3&pos=16 (writing “Internet consumers have shown themselves willing and able to police the medium on their own. Just ask Facebook: Consumer regulation proved itself to be a far more effective, efficient, economically productive and unforgiving mechanism than federal regulation ever will be.”). 111. See Facebook Announces First-Ever User Vote on Terms of Service Changes, ADWEEK.COM (Apr. 6, 2009), https://www.adweek.com/digital/facebook-announces-first-ever-user-vote-on-terms-ofservice-changes/; Facebook Drafts New Governing Documents, Adopts New User Voting Process on Policy Changes, ADWEEK.COM (Feb. 26, 2009), https://www.adweek.com/digital/facebook-drafts-newgoverning-documents-process-for-user-voting-on-policy-changes/. 112. Facebook Opens Governance of Service and Policy Process to Users, NEWSROOM.FB.COM (Feb. 26, 2009), https://newsroom.fb.com/news/2009/02/facebook-opens-governance-of-service-andpolicy-process-to-users/\\nElectronic copy available at: https://ssrn.com/abstract=3247362\\n SRINIVASAN.FINAL CHECK (DO NOT DELETE)\\njust put in a new terms of service without everyone’s permission. We think these changes will increase the bonding and trust users place in the service.” 113 The promise to let users vote on future privacy changes assured users that Facebook would not leverage its growing power to undermine users’ privacy without users’ meaningful consent. Facebook was already earning healthy profits on its exchange with users. In 2009, Facebook earned $229 million in profits on $777 million in revenues. 114 In 2010, it earned $606 million on $1.974 billion. 115 Profit margins were 29% and 30% respectively—not quite as high as today’s 47% but healthy nonetheless. But as Facebook’s market power grew through the foreclosure of competition and the lock-in of network effects, Facebook would eventually abolish this newly announced voting procedure and reinstate the scope, scale, and invasiveness of Beacon’s mission. Today, Facebook surveillance is a mandatory tie-in with a third-party’s (e.g., The New York Times) use and license of other Facebook business products (Like buttons, Logins, etc.). B. Pre-Power: More Backtracking and Pattern of Conduct This section traces the subsequent development of Facebook’s “social plugin” products on the heels of Beacon’s retreat. This early history of Facebook plugins is relevant to an antitrust inquiry for three reasons. First, history reveals that competition continued to restrain Facebook’s ability to initiate surveillance. Second, Facebook’s surveillance framework today requires the coordination of millions of independent third-parties. Facebook induced publishers and others to first coordinate with Facebook upon the representation that Facebook would not leverage their coordination for commercial surveillance. Third, the record opens the door to consider in Part IV whether Facebook’s pattern of conduct reflects an anticompetitive acquisition of monopoly power under Section 2 of the Sherman Act. The relevant history of Facebook social plugins centers around the “Like” button—introduced early in 2010, at Facebook’s annual F8 developer conference. 116 The Facebook Like buttons, and even the Login buttons, 117 are\\n113. Facebook’s general counsel Ted Ullyot, and Facebook’s vice president of privacy were also present. See Rafe Needleman, Live Blog: Facebook Press Conference on Privacy, CNET.COM (Feb. 26, 2009), https://www.cnet.com/news/live-blog-facebook-press-conference-on-privacy/. 114. See FACEBOOK INC., REGISTRATION STATEMENT (Form S-1) (Feb. 1, 2012), https://www.sec.gov/Archives/edgar/data/1326801/000119312512034517/d287954ds1.htm [hereinafter “FACEBOOK S-1”]. 115. Id. 116. John D. Sutter, Facebook Makes It Easier for Users to Share Interests Across Web, CNN.COM (April 21, 2010), http://www.cnn.com/2010/TECH/04/21/facebook.changes.f8/index.html. Like buttons are small buttons, which often display the text ‘Like’ alongside a blue thumbs-up icon. Third-parties could install the buttons on their websites. A news website, for example, might display Like buttons near articles. Readers could click on the button to indicate support for an article’s point of view. When clicked, the button counter might increase by one, the user be given an opportunity to comment, and the\\nElectronic copy available at: https://ssrn.com/abstract=3247362\\n SRINIVASAN.FINAL CHECK (DO NOT DELETE)\\nproducts offered to publishers and other independent businesses to improve site functionality and increase revenue. For publishers, the Like buttons, offered a turn-key review and distribution mechanism. 118 Facebook explained, “[e]ach Like creates distribution on Facebook, which brings more Facebook users back to the article on your site.” 119 Because online publishers generate incremental revenue for each click on an article, more user visits meant more money. According to Facebook, installation of social plugins increased traffic on average by 200%. 120 Thousands of publishers (competitors of Facebook for digital ad dollars), and other websites and apps, hoping for incremental ad revenue, flocked to install the Facebook Like button. All a third-party had to do was install a single line of HTML Facebook code into their application. 121 Within the first week of availability, more than 50,000 sites added social plugins. 122 CNN, The New York Times, The Wall Street Journal, Slate, and ABC were among the many initial adopters. Facebook social plugins opened a vulnerability between users’ devices and Facebook’s servers much in the same way that Beacon did a few years earlier. Like Beacon, social plugins required independent businesses to install Facebook code on their websites, which opened a backdoor communication between users’ devices and Facebook’s servers. Meaning, the Like button was not simply a static image that one hard-coded into their website. If The New article be published to the user’s News Feed. For users, the Like button was marketed as a communications tool—enabling users to “easily share interesting content with friends.” Facebook Platform Showcase. FACEBOOK.COM (Dec. 5, 2010), http://developers.facebook.com/showcase/news?p=wallstreetjournal, [https://web.archive.org/web/*/http://developers.facebook.com/showcase/news?p=wallstreetjournal]. See also Like Button for the Web, FACEBOOK.COM (2018), https://developers.facebook.com/docs/plugins/like-button. 117. The Facebook Login plugin (called Registration Plugin at the time) was another plugin launched December 2008 that allowed third-parties to deploy Facebook’s user registration and sign-in, as opposed to their own. More seamless sign-in meant more sign-ins, which often meant more revenue. See Jessica E. Vascellaro, Facebook Plans Enhanced Ties to Outside Services, WALL STREET J. (July 24, 2008), https://www.wsj.com/articles/SB121687251639480377?mod=searchresults&page=1&pos=17. 118. See The Value of a Liker. FACEBOOK.COM (Sept. 29, 2010), https://www.facebook.com/notes/facebook-media/value-of-a-liker/150630338305797. 119. Id. 120. See Facebook Platform Showcase, supra note 116. 121. See generally Brand Permissions Center Usage Guidelines, FACEBOOK.COM (Dec. 9, 2010), http://www.facebook.com/brandpermissions/logos.php [https://web.archive.org/web/20101209212738/http://www.facebook.com/brandpermissions/logos.php]; Social Plugins, FACEBOOK.COM (Nov. 26, 2010), http://developers.facebook.com/docs/reference/plugins/like [https://web.archive.org/web/20101126215652/http://developers.facebook.com/docs/reference/plugins/li ke]; Social Plugins, FACEBOOK.COM (Dec. 7, 2010), http://developers.facebook.com/plugins [https://web.archive.org/web/20101207235101/http://developers.facebook.com/plugins]. 122. How to Use the New Facebook Social Plugins for Your Business, FACEBOOK.COM (May 4, 2010), https://www.facebook.com/notes/facebook-for-developers/how-to-use-the-new-facebook-socialplugins-for-your-business/394310302301/.\\nElectronic copy available at: https://ssrn.com/abstract=3247362\\n SRINIVASAN.FINAL CHECK (DO NOT DELETE)\\nYork Times had installed Like buttons, and the user visited nytimes.com, while the user initiated an HTTP request with a Times server, the nytimes.com response would include Facebook code that would then automatically initiate a separate request from the user to Facebook—for the purpose of retrieving and displaying a Like button. As was the case with Beacon, if it so wanted, Facebook could leverage third-party initiated requests to glean users’ data, and to write and/or read tracking cookies. 123 For many years, Facebook perpetuated the belief it would not leverage backdoor access, the way it had with Beacon, to conduct surveillance for commercial purposes. Consumers had shown an aversion to the idea of Facebook tracking them while not on Facebook. The steady stream of public claims that Facebook did not and would not use the network of code for social plugins to monitor and track consumer behavior prompted consumers to continue to trust and therefore choose Facebook over alternatives in the market. But Facebook’s claims were also important in soliciting the coordination of third-parties to spread the presence of Facebook code across the internet. Many third-parties, publishers for example, competed with Facebook on the advertising side of the market. They licensed and installed social plugins as a means to distribute their own content. Surveillance of their own readers, however, could be used against them to undercut the value of and pricing power over their own proprietary readers. 124 Specifically, if Facebook could compile a list of people that read the Journal, even those who did not use Facebook, it could simply sell the ability to retarget “Journal readers” with ads across the internet for a fraction of the cost that the Journal charged. When Zuckerberg first announced the Like buttons at the 2010 developer’s conference, he did not mention that Like buttons could be used to track users. 125 At the time, Facebook was under intense privacy scrutiny, some politicians threatened investigations, and Facebook faced competition over privacy. MySpace announced it was now offering superior privacy controls in an attempt to get privacy-concerned users to switch. Facebook was on a preIPO mission to get users to choose Facebook over alternatives in the market, and in May 2010, Zuckerberg convened a press conference to address privacy\\n123. Cookies set during the retrieval of third-party functionality are called third-party cookies (or TPCs). For a definitional break-down of third-party cookies, first-party cookies, and session cookies, see Jessica Davies, Know Your Cookies: A Guide to Internet Ad Trackers, DIGIDAY.COM (Nov. 1, 2017), https://digiday.com/media/know-cookies-guide-internet-ad-trackers/. 124. Facebook surveillance of users on independent publisher sites and apps benefits Facebook advertising revenue in two ways. One, Facebook can leverage the data to better target users (or conduct superior attribution for) on Facebook’s own properties. Two, Facebook can leverage the data to directly target a publisher’s readers and price undercut a publisher’s ad rates. 125. See generally Declan McCullagh, Facebook ‘Like’ Button Draws Privacy Scrutiny, CNET.COM (June 2, 2010), https://www.cnet.com/news/facebook-like-button-draws-privacy-scrutiny/.\\nElectronic copy available at: https://ssrn.com/abstract=3247362\\n SRINIVASAN.FINAL CHECK (DO NOT DELETE)\\nconcerns. 126 The consumer technology publication CNET covered Facebook’s Like button launch and addressed users’ concerns around Like buttons being used to decrease user privacy. 127 One issue, even absent the topic of cookies, was that the presence of Like buttons on other sites enabled Facebook to receive any internet users’ URLs as they moved around the internet, and Facebook’s privacy policy did not appear to obtain users’ consent for this practice. 128 Facebook responded by saying that its privacy statement was “not as clear as it should be, and we’ll fix that.” 129 Barry Schnitt, a Facebook spokesman, then allayed concerns by explaining that Facebook plug-ins work like any other plug-ins on the internet, Facebook does not use social plug-in data for advertising, and Facebook may use received data to catch bugs in its software. 130 But in November of 2011, Dutch researcher Arnold Roosendaal exposed Facebook’s hidden activity with Like buttons in the way that Berteau did earlier with Beacon. Shortly after launching the Like buttons, Roosendaal published a paper showing that Facebook was using the Like button code now installed on third-party sites to write and read user cookies. 131 Roosendaal showed that each time a Facebook user visited a site with a Like button, Facebook retrieved the user’s Facebook website login cookies, which contained the user’s unique identifying number, traceable to his or her real identity. 132 Facebook again was leveraging login cookies from the communications network to conduct detailed surveillance possibly for the advertising side of its business. In addition to a user’s ID number, Facebook retrieved the specific URL the user was on, which revealed the title of an article the user was reading or the name of the product a\\n126. On May 26, 2010, Facebook convened a press conference at its Palo Alto headquarter. There, in response to Julia Boorstin, CNBC: How does this controversy and your new approach to privacy affect your approach to revenue and your business model?, Zuckerberg said: “So it might be kind of crazy. . . to people. . .I don’t know. It might seem weird. I don’t actually know exactly what the external perception of this is. But I always read these articles that are like “OK you guys must be doing this because it’s going to make you more money.” And honestly for people inside the company that could not ring less true.” KIRKPATRICK, supra note 39; Jessica E. Vascellaro, Facebook Grapples with Privacy Issues, WALL STREET J. (May 19, 2010), https://www.wsj.com/articles/SB10001424052748704912004575252723109845974. U.S. senators Charles Schumer (D-N.Y.), Michael Bennet (D-Col.), Mark Begich (Alaska) and Al Franken (D-Minn.) wrote an open letter to Facebook founder and CEO Mark Zuckerberg addressing privacy concerns. See generally Senators’ Letter to Facebook, POLITICO (Apr. 27, 2010), https://www.politico.com/story/2010/04/senators-letter-to-facebook-036406. 127. McCullagh, supra, note 125. 128. Id. (for example, CNET pointed out that Facebook’s FAQ stated, “No data is shared about you when you see a social plug-in on an external website,” and that Facebook’s privacy policy also did not appear to obtain users’ consent.) 129. Id. 130. Id. 131. Arnold Roosendaal, Facebook Tracks and Traces Everyone: Like This!, (Tilburg L. Sch. Legal Studs. Res. Paper Ser. No. 03/2011, Nov. 30, 2010), https://papers.ssrn.com/sol3/papers.cfm?abstract_id=1717563. 132. Id.\\nElectronic copy available at: https://ssrn.com/abstract=3247362\\n SRINIVASAN.FINAL CHECK (DO NOT DELETE)\\nuser was buying. Roosendaal then demonstrated that Facebook used these open connections to write cookies and surveil the behavior of people that did not even have Facebook accounts. The Wall Street Journal published the results of its own investigative study confirming Roosendaal’s findings. 133 The study, led by a former Google engineer, examined the presence of social widgets on the world’s top 1,000 most-visited sites. The Journal concluded that Facebook buttons had been added to millions of websites, including a third of the top 1,000 most-visited sites. Facebook knew when a user reads an article about “filing for bankruptcy” on MSNBC.com or about depression on a small blog, even if the user didn’t click any Like button. With a finger on the pulse of Americans’ sentiment towards tracking, the Journal recommended users log-out of Facebook to stop Facebook from tracking them and gave Facebook an opportunity to comment. Bret Taylor, Facebook’s chief technology officer at the time, responded definitively to the privacy breach allegations, “We don’t use them for tracking and they’re not intended for tracking.” 134 Taylor clarified that Facebook places cookies on the computers of people that visit facebook.com to protect users’ Facebook accounts from cyber-attacks. 135 The Journal also gave Facebook an opportunity to answer to Roosendaal’s allegation that Facebook was tracking people that did not even have a Facebook account. Facebook said that Roosendaal had found a “bug,” and that it had therefore discontinued this practice. 136 But the issue—as important as it was—was not put to rest. Later that year, in September of 2011, Nik Cubrilovic, an Australian internet security contractor, followed up on Roosendaal’s and the Journal’s discoveries, and published an article showing that Facebook Like and other plugins were still tracking user activity outside of Facebook even if users had completely logged out of Facebook. 137 Normally, when a user logs out of a service, the service’s login cookies terminate. But Facebook’s cookies weren’t terminating, they were persistent and still able to identify and track people. Mainstream media picked up on Cubrilovic’s reporting in an effort to hold Facebook accountable. 133. Amir Efrati, ‘Like’ Button Follows Web Users, WALL STREET J. (May 18, 2011), https://www.wsj.com/articles/SB10001424052748704281504576329441432995616 (The WSJ study also found that Facebook trackers could continue to track internet users even if users had closed their browsers or turned off their computers.). See also Reed Albergotti, Facebook to Target Ads Based on Web Browsing, WALL STREET J. (June 12, 2014), www.wsj.com/articles/facebook-to-give-advertisersdata-about-users-web-browsing-1402561120. 134. Efrati, supra note 133. 135. Id. 136. Id. 137. See Jason O. Gilbert, Facebook Logout Tracking: Privacy Concerns Arise Over Alleged Cookie Snooping, HUFFINGTON POST (Sept. 26, 2011), https://www.huffingtonpost.com/2011/09/26/facebook-logout-cookies-privacy-tracking_n_980838.html. See also Emil Protalinski, Facebook Denies Cookie Tracking Allegations, ZDNET.COM (Sept. 25, 2011), https://www.zdnet.com/article/facebook-denies-cookie-tracking-allegations/.\\nElectronic copy available at: https://ssrn.com/abstract=3247362\\n SRINIVASAN.FINAL CHECK (DO NOT DELETE)\\nIn coverage about Facebook’s “alleged cookie snooping,” the Huffington Post asked, “Is Facebook tracking which websites users visit even after they’ve logged out of the service?” 138 Facebook again acted quickly to pacify the growing drumbeat of public concern over Facebook’s intentions with regards to leveraging social plugin code for surveillance. A Facebook spokesperson, Facebook engineers, and the Facebook privacy policy were put forth to dispel worry. In one instance, Facebook responded to a CBS News inquiry with a statement that, “Facebook does not track users across the web. . . . No information we receive when you see a social plugin is used to target ads, [and] we delete or anonymize this information within 90 days False” 139 Elsewhere, Facebook engineers responded directly in the comments section of blogs and articles. 140 Facebook engineer Arturo Bejar pleaded with users, “please know that . . . when you’re logged in (or out) we don’t use our cookies to track you on social plugins to target ads or sell your information . . . We use your logged in cookies . . . for safety and protection.” 141 When pressed by news outlet ZDNet for an official statement, a Facebook spokesperson directed the reporter to Bejar’s statement. 142 The New York Times also disseminated Facebook’s representations to the public. 143 This all appeared to corroborate what the Facebook Help Center represented to consumers at the time, “we do not use [information we see when you visit a website] to deliver ads.” 144 Facebook’s reasoning though—regarding users’ safety and protection—still called into question why Facebook cookies contained users’ Facebook ID numbers. Normally, a company might include user ID numbers in cookies if it intended to conduct individual tracking. Thus, in direct response to Cubrilovic’s allegations, Facebook promised to change how its cookies worked so that users’ ID numbers were not embedded in cookies after users logged out. 145 The removal of account ID numbers from cookies ensured that Facebook could not conduct de-anonymized user surveillance in spite of claims of its intentions not to do so.\\n138. Gilbert, supra note 137. 139. Erik Sherman, Facebook’s New Privacy Bust: Users Log In but They Can’t Log Out, CBS NEWS (Sept. 26, 2011), https://www.cbsnews.com/news/facebooks-new-privacy-bust-users-log-in-butthey-cant-log-out-update/. 140. See Protalinski, supra note 137 (Facebook spokesperson replied to a journalist’s request for comment by pointing to Facebook engineer’s public blog comments). 141. Id. 142. Id. 143. Riva Richmond, As ‘Like’ Buttons Spread, So Do Facebook’s Tentacles, N.Y. TIMES (Sept. 27, 2011), https://bits.blogs.nytimes.com/2011/09/27/as-like-buttons-spread-so-do-facebooks-tentacles/. 144. See Protalinski, supra note 137. 145. See Alan Henry, Facebook Is Tracking Your Every Move on the Web; Here’s How to Stop It, LIFEHACKER.COM (Sept. 26, 2011), https://lifehacker.com/5843969/facebook-is-tracking-your-everymove-on-the-web-heres-how-to-stop-it.\\nElectronic copy available at: https://ssrn.com/abstract=3247362\\n SRINIVASAN.FINAL CHECK (DO NOT DELETE)\\nIf Facebook, or any other company, did want to conduct mass commercial surveillance on users, one precondition would be the pervasive consent and coordination of third-parties (e.g., The New York Times and Overstock). One way a company could do this would be to do so overtly, as Facebook had with Beacon—simply ask users with a pop-up box if they want to share what they are reading or buying on other sites with Facebook. But this direct, overt, attempt at getting users to share their information had failed. Another way Facebook could go about accomplishing the same end would be to get thirdparties to install Facebook code for an independent product, like the Like buttons, then eventually leverage use and dependence of Like buttons (or other social plugins) to later extract a new use permission. For the American consumer, this architecture of interests in the market was precarious. Independent businesses were creating consumer privacy vulnerabilities for their own financial gain; and, it all rested on Facebook living up to its word. This fact did not wash over the reporters that sought to hold Facebook accountable to its representations. In December of 2012, The Wall Street Journal revisited the issue, to point out that Facebook plugins now appeared on two-thirds of websites surveyed. 146 But Facebook again publicly assured that it only uses data from unchecked Like buttons for security purposes and to fix bugs in its software. Noticeably absent from Facebook’s public statement was the fact that Facebook also filed a patent application the year prior, on September 22, 2011, for a “method . . . for tracking information about the activities of users of a social networking system while on another domain.” 147 Michael Arrington, veteran tech blogger, caught it and called it “Brutal Dishonesty.” 148 If Facebook wanted to eventually usurp privacy by using the back-end code from Like buttons or other social plugins, it faced a roadblock—the user referendum process for privacy changes introduced a few years earlier. Thus, while publicly representing that it only used social plugin data for users’ safety and protection and generally deflecting concern over Facebook intentions, Facebook simultaneously dismantled the user voting process. In late 2012, with over a billion users, and an historic initial public offering now under its belt, Facebook addressed this roadblock expediently. Facebook proposed major changes that could pave the way for Facebook to decrease user privacy. One provision proposed was the abolishment altogether of future referendums for\\n146. See Julia Angwin, It’s Complicated: Facebook’s History of Tracking You, PROPUBLICA.ORG (June 17, 2014), https://www.propublica.org/article/its-complicated-facebooks-history-of-tracking-you; Geoffrey A. Fowler, What You Can Do About Facebook Tracking, WALL STREET J. (Aug. 5, 2014), https://www.wsj.com/articles/what-you-can-do-about-facebook-tracking-1407263246. 147. U.S. Patent No. 2011/0231240A1 (filed Feb. 8, 2011) (issued Sept. 22, 2011). 148. Michael Arrington, Facebook: Brutal Dishonesty, UNCRUNCHED.COM (Oct. 1, 2011), https://uncrunched.com/2011/10/01/brutal-dishonesty/.\\nElectronic copy available at: https://ssrn.com/abstract=3247362\\n SRINIVASAN.FINAL CHECK (DO NOT DELETE)\\nprivacy changes. 149 After soliciting user feedback, and receiving push-back, Facebook submitted the proposed changes to a vote. Eighty-eight percent of users voted against Facebook’s proposed privacy changes. 150 But Facebook shrugged. At this point, users had high switching costs and the fine print of the governing documents requiring referendums had a kill switch. In order for a user vote to be binding, 30% of users would have had to vote in the election. 151 With over a billion users, and only some 589,000 votes casted, Facebook discarded the results of the election. 152 Facebook then moved forward with privacy erosions and the abolishment of the referendum process. Many users protested that Facebook had not informed them of the upcoming election, either by notifying them upon a Facebook login or by simply sending them an email. 153 Other users claimed to receive an email notifying them of a vote, but not informing them how and where to vote. It was an election where Facebook didn’t want anyone voting. C. Post-Power: Deterioration of the Promise Not to Track “We give lots of f*** about your privacy, so we wrote this. Read it, so you know what the f*** we’re going to do with the s*** you post . . .” —Comments by Facebook employees in 2011 parodying the genuineness of Facebook’s concern for user privacy; specifically, the Facebook user privacy policy. 154\\nBy early 2014, rivals that initially competed with Facebook including MySpace, Friendster, Mixi, Cyworld, hi5, BlackPlanet, Yahoo’s 360, AOL’s Bebo, and dozens of others, had exited the market. 155 Google—Facebook’s rival and nemesis—announced it would shut down its competitive social network Orkut. By June of 2014, Orkut had exited the market, effectively ceding the social media market to Facebook. 156 For Facebook, the network effects of over a billion users on a closed communications protocol further locked-in the market in its favor. With countless friends and family connected to a given consumer, the cost of foregoing Facebook for the consumer grew in 149. See ANTONIO GARCIA MARTINEZ, CHAOS MONKEYS: OBSCENE FORTUNE AND RANDOM FAILURE IN SILICON VALLEY (2016). 150. See Dan Farber, The Facebook Vote and a Nation-State in Cyberspace, CNET.COM (Dec. 11, 2012), https://www.cnet.com/news/the-facebook-vote-and-a-nation-state-in-cyberspace/#. 151. Id. 152. Id. 153. See Donna Tam, The Polls Close at Facebook for the Last Time, CNET.COM (Dec. 10, 2012), https://www.cnet.com/news/the-polls-close-at-facebook-for-the-last-time/. 154. See Alexia Tsotsis, It’s About Time Someone Translated the Facebook TOS Into Bro Speak, TECHCRUNCH.COM (Aug. 17, 2011), https://techcrunch.com/2011/08/16/code-curls-girls/; Martinez, supra note 149 at 317. 155. See supra text accompanying notes 69-70. 156. See Huet, supra note 76.\\nElectronic copy available at: https://ssrn.com/abstract=3247362\\n SRINIVASAN.FINAL CHECK (DO NOT DELETE)\\nproportion with Facebook’s growth. For Facebook, these circumstances—the exit of competition and the lock-in of consumers—greenlit a change in conduct. Facebook’s monopoly power gave it the ability to further deteriorate privacy and extract more of the user’s data—which, as Dave Wehner, chief financial officer of Facebook, clarified on Facebook’s Q2 2018 earnings call, is directly correlated with higher ad revenues. 157 Part I of this Paper detailed Facebook’s initial commitment to privacy, and Sections A and B surveyed Facebook’s inability to extract a condition of surveillance in a competitive market. Section C traces Facebook’s ability to reverse course post-power— direct evidence of monopoly power. First, Facebook initiates user surveillance for commercial ad purposes. Second, Facebook ties user identification with cookies to conduct more intrusive surveillance. Third, Facebook then circumvents user attempts to opt-out or block Facebook’s quality degradations. The three quality deteriorations can be understood as the monopoly rents Facebook is able to command in the market today. Absent competition, Facebook is able to degrade quality levels below that which was required in a competitive market, and financially profit from this conduct. Facebook’s quality deterioration led to an interesting phenomenon— decreasing user satisfaction, despite Facebook’s continued ability to retain and grow its user base. According to the American Consumer Satisfaction Index (ASCI), social media is amongst the lowest scoring of all industries surveyed. With an industry average of 72, social media’s ASCI score is lower than even health insurance and airlines. 158 Facebook, with a score of 67, and a trailing average of 66, has an ASCI score lower than almost every American airline— and is also lower than the average industry benchmarks of 95% of the industries covered by the ASCI study. This paradox defies the law of demand—which says that given a constant price, a decrease in quality must necessarily lead to a decrease in buyer consumption. 1. Facebook Initiates Commercial Surveillance In June of 2014, Facebook announced it would leverage its code presence on third-party applications to track consumers, enabling it to surveil the specific online behavior of this country’s citizens despite widespread preference to the contrary. 159 Facebook would do precisely what it had spent seven years\\n157. Facebook Q2 Earnings, supra note 12. 158. ACSI E-Business Report 2018, THEACSI.ORG (July 24, 2018), http://www.theacsi.org/newsand-resources/customer-satisfaction-reports/reports-2018/acsi-e-business-report-2018. 159. Making Ads Better and Giving People More Control Over the Ads They See, NEWSROOM.FB.COM (June 12, 2014), https://newsroom.fb.com/news/2014/06/making-ads-better-andgiving-people-more-control-over-the-ads-they-see/; Albergotti supra note 133. For a technical description of how Facebook tracks people, reference a technical report prepared for the Belgian Privacy Commission in 2015: GÜNEŞ ACAR, BRENDAN VAN ALSENOY, FRANK PIESSENS, CLAUDIA DIAZ, &\\nElectronic copy available at: https://ssrn.com/abstract=3247362\\n SRINIVASAN.FINAL CHECK (DO NOT DELETE)\\npromising it did not and would not do, and finally accomplished what the previous competitive market had restrained it from doing. With a relatively quick software update, Facebook would leverage the code on third-party sites and apps used to deliver other Facebook products—Like buttons, Login buttons, conversion tracking pixels, 160 retargeting pixels, and the Facebook software development kit—for the additional new purpose of tracking users. 161 In a previously competitive market, Facebook was not able to get away with this qualitative degradation. Now Facebook could significantly degrade its quality because consumers no longer had alternative social networks to turn to. Facebook had repeatedly pacified privacy concerns by representing that any data gleaned from the presence of Facebook code on third-party sites was not to be used for “commercial purposes” but rather for users’ own “safety and protection.” But now Facebook changed course and announced that the data derived from tracking consumers would augment Facebook ad targeting, attribution, and measurement. 162 In other words, this deterioration of privacy would be directly related to increased revenue and profits. First, Facebook would use data from this commercial surveillance to enhance its ad targeting algorithms, which meant that Facebook ads could be more targeted and reach a larger relevant advertising base than those of other ad sellers in the market— such as The New York Times or Hearst. Second, data from commercial surveillance would allow Facebook to get paid for more advertising through increased attribution. A significant percentage of marketers only pay Facebook if ads result in a specific measurable outcome (i.e., a click on an ad or a sale of a product). Facebook calls these action-based ads. Attribution refers to the process of identifying the set of user actions that lead to a desired result. 163 Increased commercial surveillance allows Facebook to fine-tune attribution\\nBART PRENEEL, FACEBOOK TRACKING THROUGH SOCIAL PLUG-INS, https://securehomes.esat.kuleuven.be/~gacar/fb_tracking/fb_pluginsv1.0.pdf. 160. The Facebook conversion tracking pixel is a piece of Facebook code that advertisers affix to their websites to enable Facebook to report back to the advertisers whether a Facebook ad campaign is yielding traffic and sales; in other words, it a piece of code that allows the advertiser to measure the return-on-investment of Facebook ad campaigns. The announcement that Facebook would use data it retrieves from its conversion tracking pixels also upset advertisers. The tracking pixel was there to report to the paying advertiser whether the ads were working. Now, Facebook could use data garnered from one campaign to sell advertising to competitors. For example, Facebook could use data from the Facebook conversion tracking pixels on Audi’s website (to measure Audi’s ad campaign), to better sell advertising to Mercedes (by targeting users who previously looked at Audis on Audi’s website). 161. See Cotton Delo, Facebook to Use Web Browsing History for Ad Targeting, ADAGE.COM (June 12, 2014), adage.com/article/digital/facebook-web-browsing-history-ad-targeting/293656/. 162. See id. (Facebook is using the passive data, where users go on their PCs and phones, to make its own ads smarter). See also, Parmy Olson, Facebook Moves to Become the World’s Most Powerful Data Broker, FORBES MAGAZINE (April 30, 2014), https://www.forbes.com/sites/parmyolson/2014/04/30/facebok-moves-to-become-the-worlds-mostpowerful-data-broker/#662d16f42006 (Facebook uses personal data as “leverage with advertisers who are desperate to better-target their ads”). 163. IAB Attribution Hub, IAB.COM (2018), https://www.iab.com/guidelines/iab-attribution-hub/.\\nElectronic copy available at: https://ssrn.com/abstract=3247362\\n SRINIVASAN.FINAL CHECK (DO NOT DELETE)\\nmodels and claim credit for more actions, which further increases Facebook’s ad revenues. When Facebook reversed course in 2014, unlike when it tried to do so earlier, Facebook code was deployed across millions of sites and mobile apps, and the intentions of the code were altered in one fell swoop. Over the course of the seven years that Facebook represented it would not use social widgets to track consumers, millions of websites had signed up for and installed Facebook plugins. 164 Not including mobile apps, this included approximately 30% of the top 1 million of the most-visited websites, 165 including news websites like The Wall Street Journal, The Washington Post, and The San Francisco Chronicle. Facebook laid the groundwork for tracking by requiring third-parties to install Facebook code in order to license Facebook’s other products. For independent publishers and retailers, Facebook would thereafter tie surveillance of their own customers with the continued use and license of Facebook’s social network products for businesses. Proprietary access to subscribers and the identities of readers and visitors is a highly guarded asset historically by subscription businesses. It is unlikely that publishers would have shared this information unless they were under the belief that Facebook was a content distribution platform and traffic generator, not a surreptitious aggregator of consumer data for Facebook’s own internal, and competitive, advertising sales efforts. Facebook obtained the initial cooperation of third-party businesses through the inducements of content distribution and the convenience of single login. Now Facebook would receive the ability to monitor the behavior of their customers—competitors with Facebook in the digital advertising market—by changing the fine print of permissions. Facebook increasingly knew as much about The Wall Street Journal’s readers as the Journal did itself. Furthermore, unlike the Journal, Facebook now knew which Journal readers were avid ESPN readers, giving it the capability to bundle and sell targeted audiences, which further commoditized the value of competitors’ inventory. Under the new regime, when a consumer visited a website with a Facebook plugin, Facebook piggybacked onto the requests and responses necessary to simply display the plugins, to now also surveil the users of competitor ad sellers—rendering the Facebook code a Trojan Horse of sorts. From the consumer’s perspective, consumers could choose whether to reveal information on Facebook itself, and they did. 166 Now, consumer choice, 164. See BUILTWITH.COM, supra note 6. 165. See Steven Englehardt & Arvind Narayanan, Online Tracking: A 1-million-site Measurement and Analysis, WEBTAP.PRINCETON.EDU (2018), http://randomwalker.info/publications/OpenWPM_1_million_site_tracking_measurement.pdf. 166. See Acquisti & Gross, Imagined Communities, supra note 50 at 13 (e.g., Acquisti & Gross’ study of what Facebook users do to satisfy their desire for privacy revealed that users “claim to manage their privacy fears by controlling the information they reveal”).\\nElectronic copy available at: https://ssrn.com/abstract=3247362\\n SRINIVASAN.FINAL CHECK (DO NOT DELETE)\\neven the choice not to use Facebook, no longer mattered. In the earlier competitive market, the cooperation of third-parties, on which Facebook’s tracking depended, was predicated on how consumers felt about the proposition. As discussed above, previously, when consumers protested, participating companies stopped coordinating with Facebook. 167 In 2014, unlike in 2007, Facebook did not have only a handful of third-parties working with it. Facebook had a substantial portion of the horizontal market coordinating with it for some functionality or another—whether for userregistration or article sharing. These independent businesses now had their own switching costs. They had built their businesses over the last seven years to depend on Facebook code, and now, that reliance was correlated with their own revenue performance. 168 Finally, the conscientious objector no longer had any power to alter the direction of the wider market. Reflecting its ability to influence market actors in the ecosystem, Facebook then required all businesses to change their own privacy policies to extract from their own users the consent to have Facebook track them for commercial purposes. For convenience, Facebook provides exact copy-and-paste legal language to use: 169 “Third parties, including Facebook, may use cookies, web beacons, and other storage technologies to collect or receive information from your websites, apps and elsewhere on the internet and use that information to provide measurement services, target ads . . .”\\nThis is how consumers went from having a preference of privacy to having nearly every competitor in the market extract from them identical and uniform consent for Facebook’s commercial surveillance practices. 2. Facebook Leverages Consumer Identity for Stronger Surveillance Facebook further deteriorated user privacy by tying the newly announced tracking of consumer behavior across the wider internet with the real, stable, human identities that Facebook knew because of its position in the social network market. 170 When the restraining forces of competition worked,\\n167. See McCarthy, supra note 102. 168. See generally Roosendaal, supra note 131; FACEBOOK.COM, supra note 118. 169. Facebook Platform Policy, FACEBOOK.COM (2018), https://developers.facebook.com/policy (“Obtain adequate consent from people before using any Facebook technology that allows us to collect and process data about them, including for example, our SDKs and browser pixels. When you use such technology, provide an appropriate disclosure. . . That third parties, including Facebook, may use cookies, web beacons, and other storage technologies to collect or receive information from your websites, apps and elsewhere on the internet and use that information to provide measurement services, target ads and as described in our Data Policy.”). 170. This decision was reflected in Facebook’s re-launch of the Atlas ad server. See generally see Jack Marshall, Adblock Lets Users Quash Facebook’s Atlas Tracking, BLOGS.WSJ.COM (Oct. 1, 2014), https://blogs.wsj.com/cmo/2014/10/01/adblock-lets-users-quash-facebooks-atlastracking/?ns=prod/accounts-wsj; Zach Rodgers, With Atlas Relaunch, Facebook Advances New CrossDevice ID Based on Logged in Users, ADEXCHANGER.COM (Sept. 28, 2014),\\nElectronic copy available at: https://ssrn.com/abstract=3247362\\n SRINIVASAN.FINAL CHECK (DO NOT DELETE)\\nFacebook had to remove user IDs from cookies to ensure that Facebook could not conduct de-anonymized surveillance. 171 Now, with the foreclosure of competition, Facebook would reinstate invasive identity monitoring. 172 This reinstatement is further evidence of Facebook’s monopolistic market power. 173 By augmenting tracking with consumer identification, Facebook also circumvented users’ attempts to limit tracking by deleting cookies (or resetting a mobile device’s advertising identifier). Clearing cookies expunges cookie variables from a user’s device and breaks the link between one’s device and the cookie’s memory. 174 For example, suppose The New York Times wanted to surveil a user via cookie ID 123456789. If a user deleted the cookie, the next time the user visited nytimes.com, the Times’ server would try to identify the user but find no cookie. The profile the Times had compiled on user 123456789 would thereafter be worth little. The ability to correlate tracking data to one’s identity now circumvented the ability of consumers to wipe their slate clean—\\nhttps://adexchanger.com/platforms/with-atlas-relaunch-facebook-advances-new-cross-device-id-basedon-logged-in-users/. Also consider comments from competitive ad sellers in the digital media market, for example, from YieldBot CEO Jonathan Mendez, in an interview with The Wall Street Journal, “[Facebook has] a lot of advantages . . . in terms of their data and relationship with consumers and this allows them to leverage it.” Why You Should Care About Facebook’s Atlas Ad Relaunch, WALL STREET J. (Oct. 15, 2014), https://www.wsj.com/video/why-you-should-care-about-facebooks-atlas-adrelaunch/C11CF1DC-C0CA-4D0D-8F98-2ACEA86CD0B7.html?mod=searchresults&page=1&pos=3. 171. See Henry, supra note 145. 172. For an advertising competitor’s perspective on Facebook’s decision to tie Facebook IDs with tracking cookies, see Olson, supra note 162 (where Mark DiMassimo, CEO of the ad agency DiMassimo Goldstein, explains “Facebook [now] knows who you are”). 173. Part IV of this paper examines whether Facebook illegally acquired monopoly power in the social network market. A separate issue to be examined is whether, by bundling social network user IDs into its own advertising inventory and the inventory of other market actors like Hearst, Facebook is illegally “leveraging” its monopoly position in the social network market to inappropriately monopolize the advertising market. Though the Supreme Court curtailed Section 2 “leveraging” theory in Verizon v. Trinko, some Courts have interpreted Trinko to leave the door open to some types of leveraging claims. Verizon Commc’ns Inc. v. Law Offices of Curtis V. Trinko, LLP, 540 U.S. 398 (2004); Z-Tel Communications, Inc. v. SBC Communications, Inc., 331 F. Supp. 2d 513 (E.D. Tex. 2004). The Areeda treatise contends the Sherman Act permits “leveraging” claims where (a) a firm uses monopoly power in market A, (b) to place rivals in market B at a competitive disadvantage (by raising B’s costs or decreasing the quality of B’s product), and (c) higher prices, reduced output, or reduced quality (normally associated with monopoly power) results in market B. In the technical sense, the authors of the Areeda treatise argue that proof of (c) meets the definition of “monopolization” or “attempt to monopolize” within the literal language of §2, that monopoly market share is not necessary to a finding of “monopolization” or “attempt to monopolize”, and that therefore, “leveraging” is an unnecessary distinguishable §2 theory. AREEDA & HOVENKAMP, §652, supra note 26. Furthermore, Facebook’s tracking of consumers on third-party sites and leveraging of user IDs may be challenged as illegally maintaining and perpetuating the Facebook monopoly. New entrants in the social media market that also rely on attracting advertisers cannot compete with Facebook’s commercial surveillance. Consider, for example, the fact that Facebook monetizes U.S. & Canada users at a $17.07 average revenue per user (ARPU), but that SnapChat can only monetize North American users at a $1.81 ARPU (even though SnapChat users only spend half the amount of time on SnapChat than they do on Facebook). See Alexei Oreskovic, Look at the Big Gap Between SnapChat’s Revenue Per User and Facebook’s, BUSINESSINSIDER.COM (May 10, 2017), https://www.businessinsider.com/snapchat-arpu-versusfacebook-arpu-charts-2017-5. 174. See Chris Jay Hoofnagle, Ashkan Soltani, Nathaniel Good, & Dietrich J. Wambach, Behavioral Advertising: The Offer You Can’t Refuse, 6 HARV. L. & POL. REV. 273, 277 (2012).\\nElectronic copy available at: https://ssrn.com/abstract=3247362\\n SRINIVASAN.FINAL CHECK (DO NOT DELETE)\\nFacebook, unlike The New York Times, could immediately match observed behavior with a stable identity. The social network had a real-name policy, and occasionally required users to prove their names with state-issued identification. 175 To Facebook, it was not user 123456789 that was reading Coming Out to Your Wife, it was simply Jacob Greenberg. If the user deleted Facebook cookies, the profile Facebook had compiled could still live on under the user’s real-name profile. Furthermore, Facebook could re-cookie a user the next time the user visited the Facebook social network, which users did multiple times per day. With code that used a persistent singular identification mechanism now pervasive across competing websites and apps, Facebook could connect the dots on consumers as they moved from site to site, and from computer to mobile phone, to compile rich dossiers on users. Facebook was the single eye that could see what John Doe was doing on both The New York Times and on The Wall Street Journal. 176 The competitive market once ensured that competitors on the advertising side of the business did not track and monitor what users were doing across the horizontal market. The unique ability to conduct horizontal surveillance, for both Facebook and Google, explains the current duopoly in digital advertising, where nearly all industry growth goes to only two companies. Both companies, however, only achieve this end by leveraging a monopoly position in another market—for Facebook, the social network market, and for Google, the search market. Armed with data derived from Facebook’s new surveillance capabilities, Facebook could bill advertisers for more conversions, and sell advertising based on surveillance data. 177 For example, if Sally Smith read on the family’s shared computer an article about marital problems on a small hometown news site, Facebook could know and save it to Smith’s dossier. When Smith wakes up the next morning refreshed from a night’s sleep, the marital drama now tucked in the past, and logs onto Facebook, she might now be presented with an ad from a divorce lawyer in her Facebook News Feed. Alternatively, her husband might have woken up, logged opened ESPN on the same computer, and himself been presented with an ad for a divorce lawyer. Behind the scenes in both cases, Facebook data derived from Facebook surveillance is the facilitator. 175. For Facebook’s name policy, see What Names Are Allowed on Facebook?, FACEBOOK.COM, https://www.facebook.com/help/112146705538576 (stating that “The name on your profile should be the name that your friends call you in everyday life. This name should also appear on an ID or document from our ID list.”). Sometimes, Facebook has required users to prove their identity by submitting a copy of government-issued identification. See, e.g., Hamm Samwich, A Drag Queen’s Open Letter to Facebook, HUFFINGTON POST (Sept. 18, 2014), https://www.huffingtonpost.com/hammsamwich/nominative-dysphoria-a-dr_b_5839148.html. 176. See generally Rodgers, supra note 170 (explaining that the Facebook ID, uses the “login” as the “foundation” of tracking, measurement, and ad personalization). 177. See Delo, supra note 161.\\nElectronic copy available at: https://ssrn.com/abstract=3247362\\n SRINIVASAN.FINAL CHECK (DO NOT DELETE)\\n3. Facebook Circumvents Consumer Attempts to Opt-Out Consumers did not want Facebook to track their behavior across the Internet, 178 so they tried to circumvent Facebook’s new quality deteriorations. On the one hand, this consumer behavior is further evidence of users’ preference for no surveillance. On the other, Facebook’s behavior is evidence of Facebook using its market power to forcibly impose on consumers that which they are still—in a consolidated market—trying to resist. First, Facebook itself did not and does not allow consumers to opt-out of the new off-site tracking. Second, Facebook chose to ignore consumers’ explicit requests, enacted via the browsers’ Do No Track option, to not be tracked. Third, when consumers installed ad blockers to circumvent tracking and targeted advertising, Facebook responded by circumventing the users’ installed ad blockers. First, Facebook did not give users the option to opt-out of Facebook’s tracking and monitoring of their online behavior. 179 Instead, Facebook informed users they could stop Facebook from showing them ads based on this new surveillance data by opting out on the Digital Advertising Alliance (or DAA) website. The DAA is an industry alliance formed in response to FTC investigations into the industry’s privacy practices and reflects an industry effort to police itself. The DAA’s stated mission is to give consumers the choice to opt out of behaviorally targeted advertising. 180 Facebook, Google and others are alliance members. On the DAA’s website, the opt-out process was, conveniently, painstakingly inconvenient—the user had to go through a multiple-step process for each Facebook account, browser, and device in each household. One might recall the inconvenience consumers faced opting out of direct marketing calls before adoption of the Do Not Call list. For a household of three, opting out required going through the opt-out process about nine times—just for Facebook. 181 If the consumer did go through the DAA’s opt-out process, the DAA website often informed the consumer that the opt-out 178. See C. J. Hoofnagle, J. M. Urban, and S. Li, Privacy and Modern Advertising: Most US Internet Users Want ‘Do Not Track’ to Stop Collection of Data about their Online Activities, AMSTERDAM PRIVACY CONF. (Oct. 2012); Lymari Morales, U.S. Internet Users Ready to Limit Online Tracking for Ads, NEWS.GALLUP.COM (Dec. 21, 2010), https://news.gallup.com/poll/145337/internetusers-ready-limit-online-tracking-ads.aspx; Kristen Purcell, Joanna Brenner, & Lee Rainie, Search Engine Results 2012, PEW RESEARCH CENTER, http://www.pewinternet.org/2012/03/09/search-engineuse-2012/; TRUSTE AND HARRIS INTERACTIVE, Privacy And Online Behavioral Advertising, TRUSTE.COM (July 2012), http://truste.com/ad-privacy/TRUSTe-2011-ConsumerBehavioralAdvertising-Survey-Results.pdf; J. Turow, J. King, C. J. Hoofnagle, A. Bleakley, & M. Hennessy, Americans Reject Tailored Advertising and Three Activities That Enable It, UNIV. OF PENN. SCHOLARLY COMMONS (Sept. 2009), https://repository.upenn.edu/cgi/viewcontent.cgi?article=1138&context=asc_papers. 179. See Angwin, supra note 146. 180. See DIGITAL ADVERTISING ALLIANCE, https://digitaladvertisingalliance.org (last visited Jan. 21, 2019). 181. Assuming 3 configurations per person (for example, 2 browsers & 1 mobile device).\\nElectronic copy available at: https://ssrn.com/abstract=3247362\\n SRINIVASAN.FINAL CHECK (DO NOT DELETE)\\nrequests “were not completed. This may be the result of a temporary technical issue.” 182 Furthermore, the DAA’s opt-out solution only worked if a consumer set her browser security settings to permit third-party cookies—the very mechanism that allows companies like Facebook to do what the consumer was now trying to avoid. 183 Almost to the point of comedy, the DAA’s website then informed users that if they cleared their cookies (to rid tracking cookies), doing so would inadvertently have the effect of allowing Facebook to track them all over again. 184 Even if the consumer succeeding at opting out, he only opted out of being shown targeted advertising, not of Facebook surveillance. Second, Facebook also circumvented those users who had explicitly set their browser privacy settings to Do Not Track. Since the DAA’s solution did not provide users with meaningful choice, many users instead activated the Do Not Track settings in their web browsers. The Do Not Track setting in browsers was another industry response to threatened regulatory action. Back in 2010, the FTC toyed with the idea of creating a singular national “Do Not Track” list for digital advertising companies, to parallel the Do Not Call list for telemarketers. Such a Do Not Track list would have given consumers a “kill switch,” which would turn off tracking across the horizontal market. 185 In an effort to ward off regulation, various industry players promised to give users Do Not Track opt-outs. Microsoft updated the Internet Explorer browser to provide users with a Do Not Track setting. Other browsers—Firefox, Safari, Opera, and Chrome—also adopted the Do Not Track protocol. 186 With Safari, for example, a user could go to Preferences Settings, toggle to the Privacy tab, then select the checkbox “Ask websites not to track me.” 187 The Do Not Track protocol though didn’t technically block companies from tracking users. Rather, a user’s browser would simply send a message notifying companies\\n182. This has been my experience as a consumer from 2016 to today. My request to opt-out has resulted in an error message stating that the DAA could not process my request. When I try to opt out of Facebook tracking, the DAA presents the following message: “Opt-out requests for 1 participating companies were not completed. This may be the result of a temporary technical issue. Select “Try Again” to request opt outs from those companies again. Click “Understand Your Choices” for more information.” See DAA Webchoices Browser Check, DIGITAL ADVERTISING ALLIANCE, http://optout.aboutads.info/?c=2&lang=EN (accessed Sept. 2, 2018). 183. See id. 184. Id. 185. See Kenneth Corbin, FTC Mulls Browser-Based Block for Online Ads, INTERNETNEWS.COM (July 28, 2010), http://www.internetnews.com/ecnews/article.php/3895496/FTC+Mulls+BrowserBased+Block+for+Online+Ads.htm. 186. TRACKING PROTECTION WORKING GROUP, https://www.w3.org/2011/tracking-protection/ (controls and issues the protocol); Emil Protalinski, Everything You Need to Know About Do Not Track: Microsoft vs Google & Mozilla, THE NEXT WEB (Nov. 25, 2012) https://thenextweb.com/apps/2012/11/25/everything-you-need-to-know-about-do-not-track-currentlyfeaturing-microsoft-vs-google-and-mozilla/ (listing the browsers that have adopted the protocol). 187. Safari Privacy Settings (Open Safari application; then open “Preferences” from the menu bar; then enter the “Privacy” settings; then check the “Ask websites not to track me” box).\\nElectronic copy available at: https://ssrn.com/abstract=3247362\\n SRINIVASAN.FINAL CHECK (DO NOT DELETE)\\nthat he or she does not wish to be tracked. 188 It was simply a polite request, which a company could choose whether or not to heed. In another demonstration of market power, Facebook would ignore users’ activation of Do No Track. 189 In 2013, Erin Egan, the chief privacy officer of Facebook, explained that Facebook would bypass consumer Do Not Track settings because Facebook does not track consumers for advertising purposes, in effect arguing that consumers do not understand what Do Not Track means. 190 “We don’t use that data for an advertising purpose,” she emphasized. In 2014, after Facebook changed course and began tracking consumers for commercial purposes, Facebook simply continued to ignore consumers’ Do Not Track signals. Sensing rising consumer frustration, the private market responded with software that consumers could use to both stop surveillance and block targeted ads from loading on pages altogether. 191 Ad blockers prevented not only the visual display of advertising, but also third-party tracking. Generally, this worked by blocking the user’s device from making third-party initiated HTTP requests with advertising companies. In the Fall of 2014, after Facebook’s new tracking announcements, online searches for “how to block ads” spiked at an unprecedented rate. 192 Shortly after, Pew Research Center reported that 91% of Americans felt they had lost control over the way their personal data is collected and used. 193 A Forrester Research report showed that 19% of consumers had taken steps to activate the Do Not Track feature in their browsers—even though Do Not Track had no teeth. 194 The marketing materials of AdBlock, the #1 ad blocking software on the market, touted “Privacy is\\n188. Id. 189. See generally Liam Tung, Google, Facebook ‘Do Not Track’ Requests? FCC Says They Can Keep Ignoring Them, ZDNET.COM (Nov. 9, 2015), https://www.zdnet.com/article/google-facebook-donot-track-requests-fcc-says-they-can-keep-ignoring-them/. 190. Elise Ackerman, Google And Facebook Ignore “Do Not Track” Requests, Claim They Confuse Consumers, FORBES MAGAZINE (Feb. 27, 2013), https://www.forbes.com/sites/eliseackerman/2013/02/27/big-internet-companies-struggle-over-properresponse-to-consumers-do-not-track-requests/#a99039822fc.1. 191. Common ad blockers work by communications blocking, where the client’s request to an ad servers or ad company is prevented from occurring. They can also work by element hiding, where HTML elements are loaded onto the client’s page but hidden from the user (for example, hide elements with class = “Ad”). Disconnect and Privacy Badger are two products that include anti-trackers with their ad blockers, but Privacy Badger was the only company that could block tracking conducted by Facebook Like buttons. 192. Google Trends, GOOGLE.COM (2013-2014), https://trends.google.com/trends/explore?date=all&q=adblock; see generally PageFair, The Rise of Adblocking, PAGEFAIR.COM (2014), https://downloads.pagefair.com/downloads/2016/05/The-Rise-ofAdblocking.pdf. 193. See Mary Madden, Public Perceptions of Privacy and Security in the Post-Snowden Era, PEW RES. CTR. (Nov. 12, 2014), http://www.pewinternet.org/2014/11/12/public-privacy-perceptions/. 194. Privacy Is Far From Dead: Introducing Contextual Privacy, FORRESTER RESEARCH (Dec. 19, 2013), https://www.forrester.com/Privacy+Is+Far+From+Dead+Introducing+Contextual+Privacy/-/EPRE6624.\\nElectronic copy available at: https://ssrn.com/abstract=3247362\\n SRINIVASAN.FINAL CHECK (DO NOT DELETE)\\nParamount.” 195 However, publishers whose livelihoods depended on advertising started to panic at the prospect of mass consumer adoption of ad blockers. AdBlock, and another anti-tracking software company called Disconnect, joined hands with privacy advocacy group Electronic Frontier Foundation, in an attempt to broker an agreement with publishers—if publishers would only respect users’ activation of Do Not Track, they would drop their fences and stop blocking their ads. 196 The use of ad blocking software by consumers rose in tandem with the market’s ability to extract the rent of commercial surveillance. A 2015 joint study between Adobe and PageFair showed that there were 198 million people actively blocking ads, with a U.S. year-over-year growth rate of 48%. 197 In August of 2015, Apple announced that its new mobile operating system, IOS 9, would permit developers to introduce apps that enabled content blocking into the app store. When IOS 9 released in September, the top app downloads were immediately for ad blockers. 198 By 2016, reports showed that one in five smartphone users—or 420 million people worldwide—were blocking ads when browsing on the mobile web. 199 By 2017, a report from the advertising research company eMarketer estimated that one-quarter of U.S. internet users were blocking ads one way or another. 200 In tandem, independent studies conducted by the Pew Research Center, and the Annenberg Center, continued to show that Americans were overwhelmingly opposed to being shown ads targeted to them\\n195. See ADBLOCK, www.adblock.com. 196. Press Release, Electronic Frontier Found., Coalition Announces New ‘Do Not Track’ Standard for Web Browsing (Aug. 3, 2015), https://www.eff.org/press/releases/coalition-announces-new-do-not-track-standard-web-browsing 197. PAGEFAIR, The 2015 Ad Blocking Report, PAGEFAIR.COM (Aug. 10, 2015), https://pagefair.com/blog/2015/ad-blocking-report/. 198. Sarah Perez, A Day After iOS 9’s Launch, Ad Blockers Top the App Store, TECHCRUNCH.COM (Sept. 17, 2015), https://techcrunch.com/2015/09/17/a-day-after-ios-9s-launch-ad-blockers-top-the-appstore/. 199. PAGEFAIR, Mobile Adblocking Report, PAGEFAIR.COM (2016), https://pagefair.com/blog/2016/mobile-adblocking-report/; and Mark Scott, Rise of Ad Blocking Software Threatens Online Revenue, N.Y. TIMES (May 30, 2016), https://www.nytimes.com/2016/05/31/business/international/smartphone-ad-blocking-softwaremobile.html. 200. Facing Up to Ad Blocking: How Publishers, Advertisers and their Digital Media Partners are Responding, EMARKETER.COM (June 21, 2017), https://www.emarketer.com/Report/Facing-Up-AdBlocking-How-Publishers-Advertisers-Their-Digital-Media-Partners-Responding/2002077.\\nElectronic copy available at: https://ssrn.com/abstract=3247362\\n SRINIVASAN.FINAL CHECK (DO NOT DELETE)\\nbased on information derived from surveillance. 201 Was this the largest boycott in human history? 202 Facebook raced to engineer a way to circumvent users’ installation of ad blockers. Initially, Facebook prevented its public-facing pages from loading on user devices that had ad blockers installed. If consumers landed on forbes.com and Forbes prevented its page from loading, consumers could switch to a Forbes competitor to read news. With Facebook, consumers did not have any alternative product they could switch to. Then, in August of 2016, Facebook announced it had found a way to circumvent ad blockers entirely. 203 Facebook “flipped a switch on its desktop website that essentially renders all ad blockers . . . useless.” 204 This time, Rothenberg proclaimed, “Facebook should be applauded for its leadership on preserving a vibrant exchange with its users.” 205 Here too, Facebook’s dominance played a role in its ability to devise a method to circumvent blockers. 206 Before long, Wehner was sharing on earnings calls the ad revenue growth Facebook was able to sustain by evading ad blockers. For example, on Facebook’s Q3 2016 earnings call, Wehner pointed out that half of the 18% year-over-year revenue growth in desktop ads was “largely due to our efforts on reducing the impact of ad blocking.” 207 From Q3 2016 to the end of Q2 2017, Facebook was able to make $709 million dollars circumventing ad blockers. 208 With rapid consumer adoption of ad blockers and Facebook’s unique ability to force onto consumers the presence of behaviorally targeted ads, Facebook approached publishers with a proposition. Facebook offered publishers the 201. See Mary Madden & Lee Raine, Americans’ Attitudes About Privacy, Security and Surveillance, PEW RES. CTR. (May 2, 2015), http://www.pewinternet.org/2015/05/20/americansattitudes-about-privacy-security-and-surveillance/ (study revealed that 93% of American adults believe that having control over who gets their information is important; 88% said it is important that they are not watched or eavesdropped on without their permission ; 84% of respondents wanted control over what online marketers knew about them); Joseph Turow, Michael Hennessy & Nora Draper, The Tradeoff Fallacy, NEW ANNENBERG SURVEY RESULTS (2015), https://www.asc.upenn.edu/sites/default/files/TradeoffFallacy_1.pdf. 202. Beyond Ad Blocking – The Biggest Boycott in Human History, DOC SEARLS BLOG: BLOGS.HARVARD.EDU (Sept. 28, 2015), https://blogs.harvard.edu/doc/2015/09/28/beyond-ad-blockingthe-biggest-boycott-in-human-history/. 203. Facebook only had to block ads on desktop, because Facebook had already found way to serve ads in mobile apps that could not be touched by ad blockers. 204. Mike Isaac, Facebook Blocks Ad Blockers, but It Strives to Make Ads More Relevant, N.Y. TIMES (Aug. 9, 2016), https://www.nytimes.com/2016/08/10/technology/facebook-ad-blockers.html. 205. See id. 206. See Casey Johnston, Why Facebook is Really Blocking the Ad Blockers, THE NEW YORKER (Aug. 12, 2016), https://www.newyorker.com/business/currency/why-facebook-is-really-blocking-thead-blockers. 207. Facebook Inc. Q3 2016 Earnings Conference Call, NASDAQ.COM (Nov. 2, 2016), https://www.nasdaq.com/aspx/call-transcript.aspx?StoryId=4018524&Title=facebook-fb-q3-2016results-earnings-call-transcript. 208. Johnny Ryan, Facebook’s Hackproof Ads Turned its Adblocking Problem in to a $709 Million Revenue Stream, PAGEFAIR.COM (Nov. 2, 2017), https://pagefair.com/blog/2017/facebookadblock-audience/.\\nElectronic copy available at: https://ssrn.com/abstract=3247362\\n SRINIVASAN.FINAL CHECK (DO NOT DELETE)\\nability to publish content not on their own websites, but inside the walls of the impenetrable Facebook, where Facebook could ensure the delivery of behaviorally targeted advertising that commanded higher rates in ad markets. 209 Despite normally being competitors in the ad market, participating publishers like The New York Times worked in tandem with Facebook to sell the advertising. If a participating publisher sells the advertising, it keeps 100% of the ad revenue. 210 If Facebook sells the advertising for The New York Times, Facebook retains a 30% cut. Facebook had the power to force invasive advertising on consumers through a capability that other publishers like The New York Times did not have. 211 Facebook could successfully fight against users’ preference for privacy—users had to submit to the terms of trade imposed upon them by this century’s new communications network. III. INDIRECT EVIDENCE CONFIRMS FACEBOOK’S MONOPOLY POWER Facebook entered a competitive social media market and disintermediated competition by offering superior consumer privacy protections. Subsequently, Facebook tried to undermine privacy to initiate consumer surveillance for the purpose of delivering more targeted advertising, but the competitive market would not allow it. Only after other social networks like MySpace and Orkut exited the market, and Facebook amassed over a billion users, was Facebook able to reverse course, and initiate consumer surveillance. The fact-pattern demonstrates an inelasticity of demand for Facebook’s product, and in turn, constitutes a direct showing of monopoly power under Section 2 of the Sherman Act. Facebook’s ability today to extract surveillance in its exchange with consumers merely reflects an ability to extract monopoly rents from consumers that contradicts their own welfare. A review of indirect, or circumstantial, evidence of market power—to which I now turn—further explains Facebook’s exhibited monopoly power over product quality. Facebook controls over 80% of the social network market CITE? and Facebook’s control is protected by strong entry barriers which dissuade new-entrants. Evaluating a market’s structure by estimating a particular firm’s percentage share of a market can be a useful mechanism for predicting a firm’s market power, but should not be necessary to prove Facebook’s monopoly power. 212 209. This is Facebook’s Instant Articles program. See Instant Articles (July 2018), https://instantarticles.fb.com/. 210. Facebook does not receive zero consideration in return. Facebook can monitor and measure the behavior of readers of Instant Articles and monetize this data in various ways. 211. See Johnston, supra note 206. 212. See generally AREEDA & HOVENKAMP, §652, supra note 26 (articulating that Section 2 of the Sherman Act prohibits monopoly, which primarily refers to monopoly conduct, not monopoly shares, and going so far as to say, “Nothing in the language of the Sherman Act limits its conception of monopoly to large market share.”) Note that in Amex, the Supreme Court did recently state that defining\\nElectronic copy available at: https://ssrn.com/abstract=3247362\\n SRINIVASAN.FINAL CHECK (DO NOT DELETE)\\nThe goal of antitrust law is to protect consumers from the harms associated with a lack of competition—namely, increased prices, decreased quality, lower output, and less innovation. Often, direct proof of a company’s ability to act like a monopolist is not available. In the absence thereof, circumstantial evidence of the market’s structure can indicate whether a particular firm has monopoly power. Under this market share-market definition approach to analyzing power, the exercise becomes one of calculating Facebook’s share of the relevant market. If one shows that Facebook controls a large percentage of a market that is protected by entry barriers, then this assertion serves as a proxy for direct proof of Facebook’s ability to set price or define quality at levels that deviate from the competitive norm. 213 In Facebook’s case, direct evidence of monopoly power exists, and this fact should obviate the need for isolating Facebook’s share of a relevant market. Nonetheless, some scholars have argued that framing a defendant’s power in terms of market structure may still be necessary to satisfy Section 2 statutory requirements. 214 In this respect, pleading a dominant share of a relevant market may serve a purpose outside the scope of proving power. Under the market share-market definition framework, the first step is to isolate the relevant market from which firm’s market share is deduced. The relevant market is that in which “significant substitution in consumption” occurs, 215 and should only include other products that consumers can turn to if one firm increases price or decreases quality. 216 In Facebook’s case, the appropriate contours of the relevant market should only include other social networks that consumes use interchangeably. The purpose of defining the relevant market is to identify the swath of other products that can restrain a company’s ability to extract monopoly rents. Empirically, an earlier competitive social network market appeared to do just this. 217 Competition from Murdoch’s MySpace or Google’s Orkut restrained how boldly Facebook (and others) could deteriorate quality given a constant price in a way that competition from instant messaging or email services today do not. In other words, Facebook’s ability to deteriorate quality below competitive levels only after the exit of other social networks lends credence to the position that the relevant market should be limited to social networks.\\nthe relevant market is necessary despite direct evidence in cases alleging improper vertical restraints. Ohio v. Am. Express Co., 138 S. Ct. 2274 (2018). 213. AREEDA & HOVENKAMP, §652, supra note 26. 214. See generally AREEDA & HOVENKAMP, §531, supra note 26 (also noting that identifying a market’s structure and defendant’s share may be useful to distinguish between monopoly rents extracted by a single monopolist versus coordinating oligopolists”). 215. See generally AREEDA & HOVENKAMP, §5.02 supra note 26; see also United States v. Grinnell Corp., 384 U. S. 563, 571 (a market is restricted to reasonably “interchangeable services”). 216. See generally Grinnell Corp., 384 U. S. at 571. 217. See generally infra Part II.\\nElectronic copy available at: https://ssrn.com/abstract=3247362\\n SRINIVASAN.FINAL CHECK (DO NOT DELETE)\\nFurthermore, the relevant market should be constrained to social networks because social networking is a new, unique, form of communications, unrivaled in its ability to distribute and amplify a consumer’s communication. Whereas the telephone in the 20th century unleashed a watershed of one-to-one voice communications, the social network has opened the floodgates on one-to-many communications, distributed instantly from one person to others in a person’s “social graph.” 218 From the consumer’s perspective, Facebook is merely a tool for digital communications. 219 The Facebook social media network enables instant one-to-many communication via text, audio, image, or video, exponentially decreasing the consumer’s transactional costs that are associated with such widely distributed communications. Initially, Facebook marketed its social media platform as “a social utility.” 220 By simply hitting the singular “post” button, a mother might share wedding pictures with hundreds, if not thousands, of close and extended family members, long-lost college friends, and acquaintances worldwide. In this nation’s earlier historic antitrust action against AT&T in the telephone market, the court defined the relevant market simply as “telecommunications,” because the public interest was so served since telecommunications had come to play a dominant role in “modern economic, social, and political life.” 221 Social media has come to dominate the American way of life in much the same way that the telephone did for earlier generations. The fabric of American politics, the roll-out of new consumer products, and the dissemination of news all unfold on social media. The sitting U.S. President’s preferred way of communicating directly with the American people is through Twitter, one of the handful of social networks remaining today. 222 Two-thirds of Americans now receive news via social networks, with the majority receiving news via Facebook. 223 In some countries, the sheer amount of time\\n218. The term “social graph”, initially popularized by Facebook itself and first referred to at the 2007 Facebook F8 conference, refers to a person’s web of connections, and is the underlying business asset that a social network uses to distribute one’s communication to one’s contacts. Facebook Unveils Platform for Developers of Social Applications, NEWSROOM.FACEBOOK.COM (May 24, 2007), https://newsroom.fb.com/news/2007/05/facebook-unveils-platform-for-developers-of-socialapplications/. 219. On recent advertisements (as seen on nytimes.com medium rectangle ads on June 30, 2018), for example, Facebook marketed itself as a tool to “connect with friends and family.” Also consider generally the marketing language on Facebook’s website. Bringing the World Closer Together, FACEBOOK.COM (July 20, 2018), https://www.facebook.com/pg/facebook/about/?ref=page_internal. 220. Facebook Homepage, FACEBOOK.COM (Nov. 29, 2007), http://www.facebook.com/ [http://web.archive.org/web/20071129130140/http://www.facebook.com/]. 221. United States v. American Tel. and Tel. Co., 552 F. Supp. 131, 165 (D.D.C. 1983). 222. Tamara Keith, Commander-In-Tweet: Trump’s Social Media Use and Presidential Media Avoidance, NPR.ORG (Nov. 18, 2016), https://www.npr.org/2016/11/18/502306687/commander-intweet-trumps-social-media-use-and-presidential-media-avoidance. 223. Elisa Shearer and Jeffrey Gottfried, News Use Across Social Media Platforms 2017, PEW RES, CTR. (Sept. 7, 2017), http://www.journalism.org/2017/09/07/news-use-across-social-mediaplatforms-2017/.\\nElectronic copy available at: https://ssrn.com/abstract=3247362\\n SRINIVASAN.FINAL CHECK (DO NOT DELETE)\\ncitizens spends on social networks has become a matter of public health concern. Earlier this year, to address the time spent on social media, and the potentially addictive nature of such platforms, France passed legislation banning cell phones entirely from school grounds. 224 In the United States, and across the world, Facebook in particular dominates the social network market. In the U.S. alone, 210 million consumers have a Facebook account, 225 with roughly three-fourths of those consumers using the platform at least once per day. 226 To put this in perspective, it was not until some 100 years after the invention of the telephone that the telephone rivaled Facebook’s penetration into the lives of American households. 227 But Facebook does not only cut wide, it also cuts deep. Americans currently spend over 40 minutes per day on just Facebook, and over an hour per day on Facebook owned-and-operated platforms, like Instagram. 228 U.S. consumers spend approximately 150 million hours per day on Facebook. 229 Facebook’s dominance also crosses international borders. Across the world, around one in every four humans has a Facebook account. This means that of the population that has access to the internet, nearly one in every two persons that could have a Facebook account does. 230 Within the realm of social networks, only platforms that consumers use interchangeably, and that bear on Facebook’s demand elasticity, should be considered part of the relevant market for antitrust analysis. Here, particularly problematic for Facebook is the fact that of the U.S. adult population that uses any form of social media, nearly 99% use Facebook. 231 Subsets of consumers use Facebook in addition to one or more additional social networking platforms. This fact alone suggests that consumers do not find other social networking platforms to be adequate substitutes. Perhaps this is why when\\n224. Sam Schechner, France Takes on Cellphone Addiction with Ban in Schools, WALL STREET J. (Aug. 13, 2018), https://www.wsj.com/articles/france-takes-on-cellphone-addiction-with-a-ban-inschools-1534152600. 225. The Facebook ads interface claims to reach 210 million consumers in the U.S. ages 13 and over. Facebook Ads, FACEBOOK.COM (July 20, 2018), https://www.facebook.com/business/products/ads. 226. See Social Media Fact Sheet, PEW RES. CTR. (Feb. 5, 2018), http://www.pewinternet.org/factsheet/social-media/. 227. U.S. Census Bureau, Statistical Abstract of the United States: 1999 885 (1999), www2.census.gov/library/publications/1999/compendia/statab/119ed/tables/sec31.pdf. 228. EMARKETER.COM, supra note 71. 229. Id. 230. BROADBAND COMMISSION FOR SUSTAINABLE DEVELOPMENT, The State of Broadband 2017: Broadband Catalyzing Sustainable Development Report (Sept. 2017), https://www.itu.int/dms_pub/itus/opb/pol/S-POL-BROADBAND.18-2017-PDF-E.pdf (estimating around 48% of global population had access to the internet at the end of 2017). 231. See PEW RES. CTR., supra note 226 (69% of U.S. adults use social media; 68% of U.S. adults use Facebook).\\nElectronic copy available at: https://ssrn.com/abstract=3247362\\n SRINIVASAN.FINAL CHECK (DO NOT DELETE)\\nSenator Lindsey Graham (R-SC) asked Zuckerberg to name a product consumers could use instead of Facebook, Zuckerberg was unable to. 232 The fact that consumers find it indispensable to use Facebook simply reflects the fact that speech on Facebook is more powerful than other methods of personal speech. As the only social network with a user-base of over 2 billion, Facebook connects its users to the largest number of people, and can distribute their speech more broadly than users could otherwise. On a recent earnings call, Sheryl Sandberg, chief operating officer of Facebook, touted Facebook as the place to “reach everyone [in] almost every country in the world.” 233 One may not always want to speak loudly, but when one does, or one is selling a product, selling oneself for political office, or distributing news, Facebook distribution becomes a necessity. Only Facebook has a user-base of over 2 billion. Competitive social networks with much smaller user-bases cannot directly compete with the builtin utility of Facebook’s product. 234 This explains why competitors instead narrowly focus on carving out a sub-niche in the social network market—short tweets, disappearing messages, a social network for professionals. For example, the second largest social network, Instagram, has 1 billion users globally, about 88 million in the U.S., and allows people to communicate almost entirely through visuals. 235 Facebook, however, owns Instagram. LinkedIn is in third place with about 500 million users, with 133 million in the U.S., but focuses specifically on being a “professional network,” enabling digital communication for “economic opportunity.” 236 SnapChat has 191 million daily-active users worldwide, with approximately 72 million in the U.S., but distinguishes itself with short, disappearing pictures or videos. 237 Consider Twitter—with some\\n232. Unable to name a direct competitor, Zuckerberg explained that Google, Apple, Amazon, Microsoft, Twitter and other services generally overlap with Facebook in different ways. See Facebook Congressional Hearing Before the Committees on the Judiciary and Commerce, Science and Transportation, 115th Cong. (April 2018). For transcript of hearing see Transcript of Zuckerberg’s Senate Hearing, WASH. POST (April 10, 2018), https://www.washingtonpost.com/news/theswitch/wp/2018/04/10/transcript-of-mark-zuckerbergs-senatehearing/?noredirect=on&utm_term=.17ef62e494e8. 233. Sheryl Sandberg, Facebook Inc. Q4 2017 Earnings Conference Call, NASDAQ.COM (Jan. 31, 2018), https://www.nasdaq.com/aspx/call-transcript.aspx?StoryId=4141984&Title=facebook-s-fbceo-mark-zuckerberg-on-q4-2017-results-earnings-call-transcript. 234. Since social networks today are closed communications protocols, each platform’s utility is a function of the number of users found on a particular platform. 235. See Facebook Q1 2018 Quarterly Earnings Report, FACEBOOK INVESTOR RELATIONS (April 25, 2018), https://investor.snap.com/~/media/Files/S/Snap-IR/reports-and-presentations/1q-18-10q.pdf; Number of Instagram users in the United States from 2015 to 2021, STATISTA.COM (Aug. 2017), https://www.statista.com/statistics/293771/number-of-us-instagram-users/. 236. About LinkedIn, LINKEDIN.COM (July 20, 2018), https://about.linkedin.com/. 237. See Snap Inc. Q1 2018 Quarterly Earnings Report, SNAP INVESTOR RELATIONS (May 2, 2018), https://otp.tools.investis.com/clients/us/snap_inc/SEC/secshow.aspx?Type=html&FilingId=12721842&Cik=0001564408 (reporting 191 monthly Daily Active Users (DAUs) and 81 million DAUs in North America). SnapChat does not provide a breakdown of U.S. only users. But Facebook’s U.S. reach is about 90% of Facebook’s North America reach (210\\nElectronic copy available at: https://ssrn.com/abstract=3247362\\n SRINIVASAN.FINAL CHECK (DO NOT DELETE)\\n336 million monthly-active users, with 68 million in the U.S., which constrains user text communication to no more than 280 characters. 238 For antitrust purposes, competing social networks—Instagram, LinkedIn, SnapChat, and Twitter—are not adequate substitutes because their user-bases are much smaller, and they serve a more narrow purpose. 239 With regards to instant messaging services such as WhatsApp and video sharing services such as YouTube, consumers use these services in inherently different ways than they use social media platforms. Thus, they too are not substitutes. Sandberg recently explained the difference between Facebook and instant messaging platforms Messenger and WhatsApp to investors: social networks such as Facebook are about one-to-many communications, Messenger and WhatsApp are mainly about one-to-one communications. 240 Even so, Facebook also owns Messenger and WhatsApp. In response to an abuse of power investigation by Germany’s cartel office, Facebook complained that the office’s report “paints an inaccurate picture” of dominance because the report did not include Twitter, SnapChat and YouTube. 241 But for the consumer, YouTube is more interchangeable with television or subscription-video on demand (Amazon, HBO, etc.) than it is with Facebook. In a reflection of this, YouTube markets itself to advertisers as a substitute for television network spend. 242 Facebook will not be successful in arguing that it is a two-sided platform and that the boundaries of the relevant market definition should account not only for Facebook’s share of the social network consumer market, but also its share of the digital advertising market. According to the Supreme Court’s opinion in Amex, defendant American Express, as a credit card company, operated a two-sided “transaction” platform, so plaintiffs needed to prove\\nmillion in the U.S. vs. 23 million in Canada). Assuming that SnapChat’s U.S.-North America ratio is similar, we can estimate that SnapChat’s U.S. DAU number is approximately 72.3 million. Statistica estimates that SnapChat’s reach in the U.S. is approximately 77 million (not a DAU number). Number of Snapchat Users in the United States from 2015 to 2021 (in millions), STATISTA.COM (Feb. 2017), https://www.statista.com/statistics/558227/number-of-snapchat-users-usa/. 238. Twitter Q1 2018 Quarterly Report, TWITTER INVESTOR RELATIONS (April 25, 2018), https://investor.twitterinc.com/results.cfm. For a break-down of U.S. monthly active users; Q2 2017 Letter to Shareholders, TWITTER.COM (July 27, 2017), http://files.shareholder.com/downloads/AMDA2F526X/4882764939x0x951006/4D8EE364-9CC3-4386-A872ACCD9C5034CF/Q217_Shareholder_Letter.pdf. 239. 15 U.S.C. § 2 (2000). 240. See Sandberg, supra note 233. 241. See Sam Schechner, Germany Says Facebook Abuses Market Dominance to Collect Data, WALL STREET J. (Dec. 20, 2017), https://www.wsj.com/articles/facebook-abuses-its-dominance-toharvest-your-data-says-german-antitrust-enforcer-1513680355?. 242. YouTube’s marketing literature for advertisers focuses on this comparison, advertising the fact that “In an average month, 18+ year-olds in the United States spend more time watching YouTube than any television network.” Case Study: The Evolution of Digital Video Viewership, NIELSEN.COM (Sept. 25, 2015), http://www.nielsen.com//content/dam/corporate/us/en/reports-downloads/2015reports/nielsen-google-case-study-sept-2015.pdf.\\nElectronic copy available at: https://ssrn.com/abstract=3247362\\n SRINIVASAN.FINAL CHECK (DO NOT DELETE)\\ndefendant’s conduct was cumulatively anticompetitive in both markets. 243 The district court had erred in treating the credit-card market as two separate markets—one for merchants and one for cardholders—and then only evaluating the anticompetitive effects to the merchant side of the market. 244 The Court in Amex, however, pigeonholed its holding to two-sided “transaction” platforms, where a company merely facilitates a simultaneous transaction between two parties. A transaction platform displays strong bi-lateral indirect network effects between the two distinct markets in which a defendant operates. With American Express, this appears true: more Amex cardholders always increases the value proposition for Amex merchants; and, more Amex merchants always increases the value proposition for Amex cardholders. Because of this, the relevant market has to include both sides. The Court pointed out a type of twosided platform that might fail this rule—companies that deliver content to consumers, but advertising to marketers. Newspapers, it explained, fail the strong indirect networks effects test: more consumers are always good for advertisers, but more advertisers are not always good for consumers. 245 Twosided platforms that serve consumers on one side, but advertisers on the other, exhibit weak indirect network effects and should therefore be evaluated as onesided markets for antitrust purposes. The Court’s earlier precedent in the antitrust case against the Times-Piccayune newspaper in New Orleans supports this view. In Times-Piccayune, the Court considered a challenge to a newspaper’s advertising policy and held that the relevant market includes only the newspaper’s market share in advertising, not its market share in consumer readership. 246 Under the second step of the market share—market definition analysis, market share should be derived from Facebook’s quantitative share of consumer time on social networks. Share of consumer time on social networks is the relevant measure of market share for two distinct reasons. First, Facebook does not charge users a fee, some competitors do, and a measure must be able to account for all competitors in the market. 247 More importantly, consumer\\n243. Ohio v. Am. Express Co., 138 S. Ct. 2274 at 2280 (2018). 244. Id. 245. See Am. Express Co. at 2281-82 (“A market should be treated as one sided when the impacts of indirect network effects and relative pricing in that market are minor. . . . But in the newspaperadvertisement market, the indirect networks effects operate in only one direction; newspaper readers are largely indifferent to the amount of advertising that a newspaper contains. . . . Because of these weak indirect network effects, the market for newspaper advertising behaves much like a one-sided market and should be analyzed as such.) (citing Lapo Filistrucchi, Damien Geradin, Eric van Damme, & Pauline Affeldt, Market Definition in Two‐Sided Markets: Theory and Practice 1, 5 (Tilburg L. Sch. Legal Studs. Res. Paper Ser. No. 09/2013), available at http://papers.ssrn.com/sol3/papers.cfm?abstract_id=2240850 and Times-Picayune Publishing Co. v. United States, 345 U. S. 594, 610 (1953)). 246. Times-Picayune Publishing Co., 345 U. S. at 610. 247. While Instagram, SnapChat and Twitter do not charge users a price, competitor Vero Social, which surged to the #1 downloaded app on the Apple app store early 2017 following news of Facebook\\nElectronic copy available at: https://ssrn.com/abstract=3247362\\n SRINIVASAN.FINAL CHECK (DO NOT DELETE)\\ntime is the barometer which Facebook and other social networks use in the market—on the ground so to speak—to signal their relative dominance. On this point, the Supreme Court has indicated that one should calculate market share in the way that market participants think and talk about it. For example, in Ohio v. American Express Co., the Supreme Court calculated the market share of credit card companies based on transaction volume, not transaction revenues— to reflect how market participants themselves signal their relative dominance. 248 Social networks, including Facebook, Instagram, Twitter, and SnapChat speak of their relative strength in the social network market by referring specifically to the number of users and the number of minutes spent by users on their platform. 249 However, even if one were to consider Instagram, Twitter, and SnapChat as part of the relevant market for antitrust analysis, Facebook still dominates market share. Including time spent on these other platforms, approximately 83% of the consumers’ time goes to Facebook and Instagram. 250 Consumers spend about 66% of time across all on just Facebook, 17.5% of time on Instagram, 16% on SnapChat, and 0.5% of time on Twitter. Anecdotally, Americans spend 19% of time spent across all mobile applications on just the Facebook mobile app. 251 Facebook’s control of over 80% of consumer time reflects Facebook’s monopolistic power in the social network market. While there is no bright-line rule regarding market shares, courts have assumed monopoly power when market shares exceed over 70-plus percent. 252 For example, before the dissolution of AT&T for monopoly power in the interexchange market,\\nprivacy breaches, offers an ad-free, subscription model. See Todd Spangler, Vero Hits No. 1 on Apple’s App Store, But Can Subscription Social Network Sustain the Hype? VARIETY (Feb. 27, 2018), https://variety.com/2018/digital/news/vero-social-app-store-ad-free-social-hype-1202711654/. Additionally, Zuckerberg and Sandberg have made comments to U.S. Congress and NBC news respectively that suggest Facebook itself may introduce an ad-free, subscription version of Facebook. See generally, Callum Borchers, Would You Pay $18.75 for Ad-Free Facebook? WASH. POST (April 14, 2018), https://www.washingtonpost.com/news/the-fix/wp/2018/04/14/would-you-pay-18-75-for-ad-freefacebook/?utm_term=.833d67a1fefc. 248. Ohio v. Am. Express Co., 138 S. Ct. 2274 (2018) (American Express was found to only control 26.4% of the credit card market because it controlled 26.4% of transaction volume). 249. Consider the fact that social network advertising media kits focuses on the number of users and number of minutes spent on their social networks. 250. I multiplied most-recent U.S. user numbers of each platform (Facebook 210 million, Instagram 88 million, SnapChat 77 million, Twitter 68 million) by the number of average minutes spent by users per day on each (Facebook 41 minutes, Instagram 26, SnapChat 27, Twitter 1) to find a total market size of 13,045,000,000 minutes per month. See EMARKETER.COM, supra note 71. 251. Simon Khalaf, U.S. Consumers Time-Spent on Mobile Crosses 5 Hours a Day, FLURRY ANALYTICS BLOG (March 2, 2017), http://flurrymobile.tumblr.com/post/157921590345/us-consumerstime-spent-on-mobile-crosses-5. 252. See United States v. Grinnell Corp., 384 U. S. 563, 571 (1966) (market share exceeding 87% is predominant); Eastman Kodak Co. v. Image Technical Servs., Inc., 504 U.S. 451, 481 (1992) (market share exceeding 80%); United States v. E. I. du Pont de Nemours & Co., 351 U.S. 379, at 391 (1956) (market share exceeding 75%).\\nElectronic copy available at: https://ssrn.com/abstract=3247362\\n SRINIVASAN.FINAL CHECK (DO NOT DELETE)\\nAT&T’s share of interexchange revenue was about 77%. 253 Standard Oil, found to have illegally monopolized the oil market, controlled about 90% of refinery output. 254 Notwithstanding Facebook’s dominant share of the relevant market, market share analysis also considers whether firms are protected by barriers to entry. 255 Without entry barriers, new entrants have the opportunity to quickly disintermediate even the most dominant firms. The mere threat of entry can prevent monopolists from being able to profitably extract monopoly rents from consumers. But, there are entry barriers associated with Facebook’s closed communications protocol and over 2 billion users. When a communications network is closed, a user can only communicate with another user of the same network. This creates a powerful phenomenon known as direct network effects. 256 Just as the utility of owning a phone in the late 19th century grew as phones became more accessible, so does the utility of a closed social network depend on how many other people use it. A new market entrant cannot easily get users to switch to a platform with less users. Additionally, the lack of perfect substitutes for Facebook has allowed the company to have proprietary control over one’s social graph. Facebook’s users are often connected exclusively through Facebook’s network, may lose cell phone numbers for older contacts, and Facebook becomes the primary method for users to remain in contact with one another. Because the communications protocol is closed, and Facebook controls one’s social graph, consumers face high switching costs and competitors face a significant barrier to entering the market.\\n253. United States v. Am. Tel. and Tel. Co., 552 F. Supp. 131 (D.D.C. 1983). 254. Standard Oil Co. of New Jersey v. United States, 221 U.S. 1 (1911). 255. United States v. Microsoft Corp., 253 F.3d 34 (D.C. Cir. 2001). 256. A product has direct network effects if one’s use of a product increases the product’s utility for others. For example, in a market with only two competing social networks, assuming constant price and quality, the network with the larger user-base has greater value because it allows new users to communicate with more people. Other businesses with strong network effects include those of Uber, Wikipedia, and Airbnb. In such markets, the company that achieves early gains begins immediately to benefit from the superiority of one’s product due to network effects. The concept of network effects was first identified in the context of the long-distance telephony market in the 1970s. See Jeffrey Rohlfs, A Theory of Interdependent Demand For A Communications Service, THE BELL J. OF ECON. AND MANAGEMENT SCI, 16–37 (1974). Subsequent papers on this topic include W. BRIAN ARTHUR, ON COMPETING TECHNOLOGIES AND HISTORICAL SMALL EVENTS: THE DYNAMICS OF CHOICE UNDER INCREASING RETURNS (1983); Joseph Farrell & Garth Saloner, Standardization, Compatibility, and Innovation, THE RAND J. OF ECON. 70–83 (1985); Michael L Katz & Carl Shapiro, Network Externalities, Competition, and Compatibility, 75 THE AM. ECO. REV. 424 (1985). During the first dotcom rush, venture capitalists and entrepreneurs in Silicon Valley were keenly in-tune and in-favor of investing in companies that benefited from direct network effects, or “first-mover advantage.” See generally Eric Ransdell, Network Effects, FASTCOMPANY.COM (Aug. 31, 1999), https://www.fastcompany.com/37621/network-effects.\\nElectronic copy available at: https://ssrn.com/abstract=3247362\\n SRINIVASAN.FINAL CHECK (DO NOT DELETE)\\nIV. FACEBOOK’S PATTERN OF CONDUCT RAISES CONCERNS ABOUT ILLEGAL MONOPOLIZATION A remaining question is whether Facebook’s pattern of behavior reaches the level of anticompetitive conduct with which antitrust law concerns itself. Parts I and II of this Paper traced the particular history of Facebook’s conduct with respect to the quality of its product. The qualitative aspects of its product, particularly the level of privacy, is not abstract—Facebook’s product is free, privacy was a critical form of competition in a functioning market, citizens favor no surveillance, and extracted surveillance is strongly tied to current Facebook revenues and profits. Part II argued that Facebook’s broad-scale surveillance of American consumers today reflects monopoly rents, a conclusion also supported by indirect evidence of Facebook’s monopoly power considered in Part III. Part IV now contends that Facebook’s conduct, taken collectively, raises serious issues of anticompetitive practices. Facebook’s conduct engendered trust in consumers, but the record suggests that Facebook’s commitment to user privacy was disingenuous. Facebook’s course of misleading conduct resulted in precisely the type of harm that antitrust law concerns itself with—the exit of rivals and the subsequent extraction of monopoly rents in contravention to consumer welfare. A. Heightened Scrutiny in Markets with Direct Network Effects Though Facebook may be a monopoly, antitrust law, and the Sherman Act specifically, only condemns monopolies that acquired their power by engaging in anticompetitive conduct. 257 The classic definition of anticompetitive conduct is “the willful acquisition or maintenance of [monopoly] power as distinguished from growth or development as a consequence of a superior product, business acumen, or historic accident.” 258 In other words, anticompetitive conduct falls outside the bounds of “competition on the merits.” 259 It includes behavior that can be described as “predatory,” “exclusionary,” “unethical,” or “deceptive.” 260 257. 15 U.S.C. § 2 (2000). 258. In United States v. Grinnell Corp., the Court articulated what remains the two-part test for a Section 2 violation: “(1) the possession of monopoly power in the relevant market and (2) the willful acquisition or maintenance of that power as distinguished from growth or development as a consequence of a superior product, business acumen, or historic accident.” 384 U. S. 563, 571. 259. Microsoft Corp., 253 F.3d (finding Microsoft conduct outside the scope of “competition on the merits” to be anticompetitive). 260. See Aspen Skiing Co. v. Aspen Highlands Skiing Corp., 472 U.S. 585, 605 (1985); Allied Tube & Conduit Corp. v. Indian Head, Inc., 486 U.S. 492, 500 (1988) (stating that “unethical and deceptive practices can constitute abuses of administrative or judicial processes that may result in antitrust violations”); Spectrum Sports, Inc. v. McQuillan, 506 U.S. 447, 458 (1993) (defining anticompetitive conduct generally as “conduct which unfairly tends to destroy competition itself”). See also AREEDA & HOVENKAMP, supra note 26; ROBERT H. BORK, THE ANTITRUST PARADOX 138 (1978) (“If a firm has been ‘attempting to exclude rivals on some basis other than efficiency,’ it is fair to characterize its behavior as predatory.”). For an overview of how federal agencies and courts evaluate a\\nElectronic copy available at: https://ssrn.com/abstract=3247362\\n SRINIVASAN.FINAL CHECK (DO NOT DELETE)\\nThough scholars debate when deception is actionable under antitrust laws, as opposed to merely under consumer protection statutes, even the leading antitrust treatise concedes that deception falls into the category of prohibited, anticompetitive, conduct, when deception has made “a durable contribution to the defendant’s market power.” 261 Courts have a broad mandate to capture and regulate a range of conduct that harms the competitive process and is likely to or does result in harm to consumers. 262 The breadth and flexibility that courts have reflects the fact that “monopolization [conduct] has tended to be nonrepetitive and specific to industry.” 263 Standard Oil’s strategies in the oil market differed from American Tobacco’s strategies in the tobacco market, AT&T’s approaches in the telephony market, or Microsoft’s tactics in the operating system market. Moreover, anticompetitive conduct in the acquisition of monopoly power is of heightened concern in markets exhibiting direct network effects. In such markets, meaningful competition only exists at the early stages. At the beginning competition is fierce—each company vies to edge-out competitors to “tip” the market in its favor. 264 If a company can achieve early adoption with consumers, it can thereafter benefit not only from its product’s price or quality, but also simply from its user-base—a feature that strongly influences consumer choice. Because of these market dynamics, the Court of Appeals for the D.C. Circuit in the monopolization case against Microsoft explained that competition in networked industries is often “for the field” rather than “within the field.” 265 Misleading, deceptive, or otherwise unethical conduct at the early stages can induce market participants to choose the firm that they think increases their\\nmonopolist’s deception, see Maurice E. Stucke, How Do (and Should Competition Authorities Treat a Dominant Firm’s Deception, 63 SMU L. REV. 1069 (2010). For a conversation on deception specifically, see Kevin S. Marshall, Product Disparagement Under the Sherman Act, Its Nurturing and Injurious Effects to Competition, and the tension Between Jurisprudential Economics and Microeconomics, 46 SANTA CLARA L. REV. 231, 244 (2006) (explaining that deception can “create entry barriers, lead to capricious market exit, create artificial market equilibrium, or even lead to oligopolies and monopolies.”). 261. AREEDA & HOVENKAMP, §782, supra note 26 (additionally, scholars point out that in situations where deception by a monopolist is at issue, the concern should be deception of consumers). 262. See Herbert Hovenkamp, The Monopolization Offense, 61 OHIO ST. L. J. 1035 (2000), https://kb.osu.edu/bitstream/handle/1811/70413/OSLJ_V61N3_1035.pdf;sequence=1. 263. Id. at 1037. 264. Theoretical economist W. Brian Arthur has published several papers discussing the unique nature of in markets characterized by network effects. His seminal paper is ON COMPETING TECHNOLOGIES AND HISTORICAL SMALL EVENTS: THE DYNAMICS OF CHOICE UNDER INCREASING RETURNS, supra note 256. See also MALCOLM GLADWELL, THE TIPPING POINT: HOW LITTLE THINGS CAN MAKE A BIG DIFFERENCE (2006); William J. Kolasky, Jr. & William F. Adkinson, Jr., Single Firm Conduct: Who’s Big? What’s Bad? Presentation Before the A.B.A. Sec. of Antitrust L. 30 (Apr. 15, 1999) (on file with author) (stating that “if the ultimate market outcome is likely to be a monopoly of the surviving firm, with the opportunity to earn substantial rents, competition among firms to be the survivor will be intense.”). 265. United States v. Microsoft Corp., 253 F.3d 34, 50 (D.C. Cir. 2001) (citing Harold Demsetz, Why Regulate Utilities?, 11 J. OF L. & ECON. 55, 57 (1968)).\\nElectronic copy available at: https://ssrn.com/abstract=3247362\\n SRINIVASAN.FINAL CHECK (DO NOT DELETE)\\nwelfare, but the very act of mistaken choice can lock in the market to their detriment. Carl Shapiro, then deputy assistant attorney general for economics in the Antitrust Division of the Department of Justice, addressed the need for heightened concern: “Even more so than in other areas, antitrust policy in network industries must pay careful attention to firms’ business strategies, the motives behind these strategies, and their likely effectsFalse” 266 In that vein, even Robert Bork, leader of Chicago-school antitrust jurisprudence, may have agreed when he advised that one must pay attention to the “route by which [monopoly] was gained.” 267 Such was the focus of the Court’s analysis of Microsoft’s misleading behavior in the operating system market. 268 Microsoft had made false public representations about its own products which induced developers to develop applications compatible with Microsoft’s operating system. While Microsoft represented that applications developers wrote would be cross-compatible with Sun, developers ended up writing applications that were only compatible with the Windows operating system. Microsoft’s false statements induced developers to choose Microsoft to their detriment. Since the operating system market exhibits direct network effects, misleading behavior to induce choice is anticompetitive. This was anticompetitive conduct that supported the finding that Microsoft had illegally monopolized the operating system market. B. Pattern of False Statements, Misleading & Deceptive Conduct A substantive issue is whether Facebook’s pattern of conduct was anticompetitive and provides a basis for a claim of illegal acquisition of monopoly power. To begin, Facebook entered the market with superior privacy protections making promises to not violate user privacy which induced early consumer reliance. 269 For several years, in a hotly competitive market, Facebook did not merely change its privacy representations, it continued to perpetuate them. But while perpetuating the belief that Facebook did not track consumers using third-party code, Facebook was caught doing precisely that on multiple occasions. 270 The investigative efforts of multiple independent researchers unveiled that the claims Facebook was making to consumers via Facebook’s own policies and the public comments of Facebook executives were false. 271 Facebook itself even conceded their falsity. 272 266. Shapiro, supra note 26 (explaining that “the very nature of the ‘positive feedback’ cycle means that monopolization may be accomplished swiftly. And, once achieved, the network effects that helped create dominance may make it more difficult for new entrants to dislodge the market leader than in other industries lacking network characteristics.”). 267. BORK, supra note 260 at 164. 268. Microsoft Corp., 253 F.3d at 76-77. 269. FACEBOOK PRIVACY POLICY (2004), supra note 42. 270. See infra Section I.B & I.C. 271. Id.\\nElectronic copy available at: https://ssrn.com/abstract=3247362\\n SRINIVASAN.FINAL CHECK (DO NOT DELETE)\\nFacebook then deflected consumer concern over the discovered hidden activity and false statements with words and actions that implied the sincerity of Facebook’s commitment to user privacy. For example, when Facebook’s hidden activity and false statements with Beacon were exposed, Facebook retreated and Zuckerberg called Beacon a “mistake.” 273 Later, when Facebook’s hidden activity and false statements with social plugins were exposed, Facebook claimed that discovered tracking was due to inadvertent software “bugs” or that the tracking was innocuous because it was for users’ own “safety and protection.” 274 At the time, the chief technology officer of Facebook assured, “[social plugins are] not intended for tracking,” rather user data collected was used “to protect the site from cyber-attacks by people who try to break in to users’ accounts.” 275 An evidentiary question is whether this activity was in fact inadvertent and for users’ safety and protection or not. An investigation into the credibility of Facebook’s alleged reasoning by the German Data Protection Authorities in Schleswig-Holstein found it without merit. 276 If Facebook’s reasoning was factually inaccurate, as the GDPA investigation suggested, then Facebook’s behavior was deceptive. In addition to perpetuating factual inaccuracies, Facebook deceived users by omitting salient facts. 277 Notably absent from public commentary was the fact that Facebook was thinking about, or planning on, using social plugins for surveillance. In 2011, Facebook had filed a patent for engaging in this type of behavior that was of public concern. 278 The Federal Trade Commission’s case for illegal monopolization against Intel centered on Intel’s misleading behavior. 279 For example, the FTC’s complaint alleged that Intel had engaged in deceptive acts by failing to disclose material information about the effects of its products. When Facebook’s surveillance conduct with plugins was discovered, Facebook provided affirmative, innocuous, and possibly false reasoning for its actions while omitting information related to Facebook’s\\nSee Perez, supra note 90. See Zuckerberg, supra note 109. See infra Section I.B. See Efrati, supra note 133. KIEL, UNABHÄNGIGES LANDESZENTRUM FÜR DATENSCHUTZ SCHLESWIG-HOLSTEIN (ULD): DATENSCHUTZRECHTLICHE BEWERTUNG DER REICHWEITENANALYSE DURCH FACEBOOK (2011), https://www.datenschutzzentrum.de/uploads/facebook/20110930-facebook-verantwortlichkeit.pdf (conclusion based on finding that Facebook internal technical documentation for consumer protection and prevention did not depend on the use or reference of user cookies). See also Arnold Roosendaal, Privacy and Identity § Massive Data Collection By Mistake, in PRIVACY AND IDENTITY MANAGEMENT FOR LIFE 274-282 (Camenisch et al. ed., 2012). 277. Deception can occur when one fails to disclose a fact that wrongfully causes a false belief in another. See generally Gregory M. Klass, The Law of Deception: A Research Agenda, 89 U. COLORADO. L. REV. 707 (forthcoming 2018), https://papers.ssrn.com/sol3/papers.cfm?abstract_id=3156625. 278. See U.S. Patent, supra note 147. 279. Complaint in the Matter of Intel Corp., Case 0610247 (F.T.C. 2009) (No. 9341); Decision and Order in the Matter of Intel Corp. No. 9341 (F.T.C. 2009).\\nElectronic copy available at: https://ssrn.com/abstract=3247362\\n SRINIVASAN.FINAL CHECK (DO NOT DELETE)\\ninternal dialogue about using plugins to conduct surveillance. Facebook likely deceived market participants. In retrospect, Facebook’s widely-covered public announcement of a user referendum process for future privacy changes in the competitive market of 2009 may also raise issues of anticompetitive behavior. Facebook’s poor notice to consumers in 2011—when it proposed and passed an abolishment of user voting—suggests that Facebook’s commitment to the user referendum was less than genuine. Consumers ultimately felt cheated that Facebook did not notify them of an opportunity to vote. 280 Indeed, internal comments by employees suggest that Facebook made public representations about valuing privacy when in fact internally Facebook’s culture and practices were not concerned with user privacy. Facebook employees themselves sometimes parodied this disingenuous public-private disconnect. 281 C. Wider Pattern of False Statements and Misleading Conduct Importantly, Facebook’s wider history may point to a larger pattern of misleading conduct within the company. In 2011, Facebook settled charges with the Federal Trade Commission alleging a range of false and misleading material statements made to consumers related to user privacy—all of which fell outside of the scope of Facebook’s conduct that is the focus of this Paper. 282 For instance, the FTC complaint alleged that while Facebook’s privacy controls allowed users to restrict their information to “only friends,” Facebook was actually overriding user choice and sharing users’ information with third-parties. More recently, Facebook has come under congressional scrutiny for deceiving consumers by knowing but not disclosing to users that their data was misappropriated by political consulting firm Cambridge Analytica. When asked by Senator Kamala Harris (D-CA) if Facebook made an explicit decision to not inform users, Zuckerberg answered “yes,” and called it another “mistake.” 283 The wider record of deceptive conduct with respect to user privacy may also be relevant to a larger case of unlawful acquisition (and even perpetuation) of monopoly power.\\n280. See supra notes 150-153 and accompanying text. 281. See Tsotsis, supra note 154; see Martinez, supra note 154. 282. Facebook Settles FTC Charges That It Deceived Consumers by Failing to Keep Privacy, FTC.GOV (Nov. 29, 2011), https://www.ftc.gov/news-events/press-releases/2011/11/facebook-settlesftc-charges-it-deceived-consumers-failing-keep; Complaint for violation of the Federal Trade Commission Act in the matter of Facebook Inc., No. 0923184 (F.T.C. Dec. 5, 2011), https://www.ftc.gov/sites/default/files/documents/cases/2011/11/111129facebookcmpt.pdf. 283. Mark Zuckerberg Testimony: Senators Question Facebook’s Commitment to Privacy, N.Y. TIMES (April 10. 2018), https://www.nytimes.com/2018/04/10/us/politics/mark-zuckerbergtestimony.html.\\nElectronic copy available at: https://ssrn.com/abstract=3247362\\n SRINIVASAN.FINAL CHECK (DO NOT DELETE)\\nMoreover, buyers of Facebook advertising would be keenly familiar with other “mistakes” and alleged “bugs” that Facebook claimed inadvertently caused a string of inflations in ad metrics, which financially benefited Facebook to the detriment of buyers. A full review of Facebook’s conduct (and pricing power) on the advertising side of the market is outside the scope of this Paper. However, I review here two incidents on the advertising side that suggest a larger pattern of willful disregard for truth. Aside from lending credence to a pattern and practice of false statements and misleading conduct, Facebook’s behavior generally reflects pricing power on the advertising side of the market. For example, in September of 2017, media buyers became aware that Facebook materials claimed to reach more people in the U.S. than Census data shows even existed. 284 The false representations are made in Facebook’s selfserve interface that businesses use to evaluate and purchase Facebook advertising and are the subject of a recently filed class action complaint. 285 To give another example, Facebook recently admitted to a succession of false statements related to ad metrics which induced marketers to purchase Facebook ads. For many years, Facebook did not allow ad buyers to audit and verify Facebook representations directly correlated to Facebook ad billing— despite audit rights being standard practice in the industry. 286 Facebook advertising is subject to elevated risks of fraud. Unlike print advertising, digital advertising is shown only briefly to a user and poof disappears forever. In other words, without audit rights, digital media buyers suffer from the risk of sellers charging them for goods not delivered at all. Facebook has long been a holdout in permitting buyers to audit Facebook deliverables. The head of digital marketing at Wendy’s, who is currently the chief marketing officer of Papa John’s, once explained, “[w]hat frustrates us when we run a campaign [on Facebook] is that there’s almost no acknowledgement that the campaign even existed in the first place.” 287 284. The initial discrepancy was caught and pointed out in a note to investors by respected industry analyst Brian Wieser. See supra note 15; see also Allison Schiff, Facebook Data May Be at Odds with Census Data, But Advertisers Won’t Stop Spending, ADEXCHANGER.COM (Sept. 6, 2017), https://adexchanger.com/platforms/facebook-data-may-odds-census-data-advertisers-wont-stopspending/ 285. Complaint, Danielle A. Singer v. Facebook Inc., Case 4:18-cv-04978-KAW, (USDC N.D. Cal., Aug. 15, 2018). 286. A refusal to submit to audits is a demonstration of pricing power on the advertising side of the market. Facebook’s conduct reminds us of Yellow Pages’ behavior in the print advertising market. Yellow Pages was also a hold-out, not allowing buyers to audit Yellow Pages’ distribution figures. Yellow Pages, of course, was also a monopoly. ASS’N OF NAT’L ADVERTISERS TELEPHONE DIRECTORY COMMITTEE AND AM. ASS’N OF ADVERTISING AGENCIES DIRECTORY ADVERTISING COMMITTEE, THE NEED FOR YELLOW PAGES THIRD-PARTY CIRCULATION AUDITING (2005), available at http://www.ana.net/getfile/67. 287. Allison Schiff, Facebook: Counting Viewed Impressions is a ‘No Brainer’, ADEXCHANGER.COM (Feb. 18, 2015), https://adexchanger.com/online-advertising/facebook-countingviewed-impressions-is-a-no-brainer/#comment-911780. See also Jessica Davies, ‘Facebook doesn’t\\nElectronic copy available at: https://ssrn.com/abstract=3247362\\n SRINIVASAN.FINAL CHECK (DO NOT DELETE)\\nAfter mounting industry pressure and calls of fraud, Facebook capitulated and announced in the fall of 2015 that it would allow third-parties to audit select metrics. 288 With the impending release of the first audited metrics, Facebook came forward with disclosures of discovered “bugs” that had caused it to inadvertently inflate ad metrics for multiple years. 289 In September 2016, Facebook revealed that it had overestimated customers’ video ad view-times for the last two years. Facebook sent a letter to Publicis, one of the largest ad agencies in the world with a market cap of over $12 billion, estimating that it had overstated view times by 60-80%. Publicis had spent $77 million on Facebook ads the prior year. Publicis, in turn, sent a note out to clients: “This once again illuminates the absolute need to have . . . verification on Facebook’s platform. Two years of reporting inflated performance numbers is unacceptable.” 290 Between November and December of 2016, Facebook disclosed additional measurement misreporting. 291 Facebook had been inflating the number organic visits to brand posts, over-reporting by 7-8% the average length of time people spent reading Instant Articles, over-stating video ad completion rates, overreporting the number of clicks it had reported it sent to advertiser websites, over-reporting the number of Likes for live videos, and inflating the number of times people shared links of posts on Facebook. Advertisers used these metrics to ask and inform imperative questions: is this advertising campaign working? and should I spend more or less money in the future with Facebook? The Association of National Advertisers (ANA) subsequently publicly called for an in-depth general audit, as they once did with the Yellow Pages—\\noperate with real-world metrics’: GroupM talks tough on Facebook, DIGIDAY.COM (Sept. 21, 2018), https://digiday.com/media/facebook-doesnt-operate-real-world-metrics-group-m-talks-tough-facebook/ (where an executive at WPP, Facebook’s largest single client, states: “We are still not able to verify delivery of our clients’ advertising via Facebook . . . They control the delivery of consumption data back to us. We also have major issues with the quality of the environment our ads are delivering in, especially when it comes to Facebook. Also, completion rates on Facebook are appallingly low.”). 288. Tim Peterson, Facebook to Sell 100% In-view Ads, Let Brands Fact-check Video Ad Views, ADAGE.COM (Sept. 17, 2015), http://adage.com/article/digital/facebook-adds-ad-viewabilityverification-options/300409/. 289. Lindsay Stein, ANA Calls Facebook Metrics to be Audited and Accredited, ADAGE.COM (Sept. 29, 2016), http://adage.com/article/cmo-strategy/ana-calls-facebook-metrics-auditedaccredited/306096/?CSAuthResp=1515363470777:0:2255529:0:24:success:5A7B779E9C26F932284F3 03D3DF677EA; Suzanne Vranica & Jack Marshall, Facebook Overestimated Key Video Metric for Two Years, WALL STREET J. (Sept. 22, 2016), https://www.wsj.com/articles/facebook-overestimated-keyvideo-metric-for-two-years-1474586951. 290. Vranica & Marshall, supra note 289. 291. James Hercher, Facebook Jumps Out of the Frying Pan and Into Fire with More Measurement Errors, ADEXCHANGER.COM (Nov. 16, 2016), https://adexchanger.com/platforms/facebook-jumps-frying-pan-fire-metric-errors/; Garett Sloane, Now Facebook Says it Gave Some Publishers Bad Traffic Numbers on Instant Articles, ADAGE.COM (Dec. 16, 2016), http://adage.com/article/digital/facebook-gave-publishers-bad-traffic-numbers/307192/.\\nElectronic copy available at: https://ssrn.com/abstract=3247362\\n SRINIVASAN.FINAL CHECK (DO NOT DELETE)\\nwhich is still pending. 292 P&G’s chief brand officer, Marc Pritchard, has warned that systemic fraud in ad markets may explain the U.S. economy’s anemic growth. 293 Pritchard has publicly pressured Facebook to submit to transparency, and likened Facebook’s self-policing to letting a “fox guard the hen house.” Advertising agencies, the middlemen in ad buys, were and continue to be in an awkward position, having been entrusted to spend their brands’ money wisely. The chief operating officer of GroupM, the media buying arm of ad agency behemoth WPP, lamented at an industry conference that Facebook is one of the only ones that can measure themselves, and it is a result of “Facebook’s market dominance.” 294 D. Antitrust Harm: Monopoly Rents & Allocative Inefficiency Ultimately, Facebook’s course of conduct misled consumers and resulted precisely in the type of harm with which antitrust law concern itself. 295 Facebook today is a monopoly that has the power to extract monopoly rents from consumers, as detailed in Section II-C. Facebook’s collective conduct— specifically, false statements, misleading statements, and omissions—reviewed in Part I and Part II, contributed to this ultimate destination. The harm is not speculative, it is complete. This new age’s communications utility extracts the cost of widespread digital surveillance despite users’ preference to the contrary. The tendency is to think that Facebook’s free service reflects consumer surplus, yet nearly every advertising market in the U.S. is in decline as American consumers indicate a preference for ad-free communications and media. In the world of television and video, consumers have flocked from adsupported TV to ad-free, over-the-top competitors. In that world, Netflix, Amazon, and HBO, all paid, ad-free platforms, are bathing in a watershed\\n292. Jack Marshall, ANA Pushes Facebook for Greater Measurement Transparency, WALL STREET J., (Sept. 30, 2016), https://www.wsj.com/articles/ana-pushes-facebook-for-greatermeasurement-transparency-1475186796; Allison Schiff, Facebook Gets Its First MRC Accreditation, But There’s Still More To Go, ADEXCHANGER.COM (April 5, 2018), https://adexchanger.com/platforms/facebook-gets-its-first-mrc-accreditation-but-theres-still-more-to-go/. 293. Jack Neff, P&G Tells Digital to Clean Up, Lays Down New Rules for Agencies and Ad Tech to Get Paid, ADAGE.COM (Jan. 29, 2017), http://adage.com/article/media/p-g-s-pritchard-calls-digitalgrow-up-new-rules/307742/; Marc Pritchard, Chief Brand Officer, Speech given at Interactive Advertising Bureau’s Annual Leadership Meeting (Jan. 29, 2017), available at https://www.youtube.com/watch?v=NEUCOsphoI0. 294. Allison Schiff, Facebook And GroupM Tussle on Third-Party Viewability Verification, ADEXCHANGER.COM (June 3, 2015), https://adexchanger.com/online-advertising/facebook-and-groupmtussle-on-third-party-viewability-verification/ 295. Consumers have standing to sue for quality reductions. See AREEDA & HOVENKAMP, ¶¶ 345, 502, supra note 26 (stating that “clearly a consumer has standing to sue a cartel that reduces quality of the product that the consumer purchased”). Facebook’s 2014 decisions to initiate consumer surveillance are also anticompetitive in the sense that they make it more difficult for new entrants like SnapChat to compete with Facebook on the advertising side of the market.\\nElectronic copy available at: https://ssrn.com/abstract=3247362\\n SRINIVASAN.FINAL CHECK (DO NOT DELETE)\\nmoment of creativity and high consumer satisfaction. 296 With radio, terrestrial loses ground to digital alternatives that offer subscriptions to ad-free music streaming. While digital music platforms can be ad-supported or ad-free, the paid but ad-free models currently drive the largest share of growth in the industry. 297 In the digital advertising market, most sellers of digital advertising struggle to obtain incremental, year-over-year revenue growth. In the midst of a booming economic cycle in 2017, The Guardian, Britain’s nearly 200-year-old daily newspaper, started to ask readers for donations after digital ad revenues fell. 298 BuzzFeed followed suit. 299 However, the market is growing. The U.S. internet advertising market grew 21.8% in 2016 and 21% in 2017. Facebook and Google accounted for over 99% and over 90% of that growth in 2016 and 2017, respectively. 300 Consumer studies show that consumers today are averse to advertising. 301Against this backdrop, Facebook’s free but ad-supported communications service, built upon a massive commercial surveillance apparatus, may indeed reflect one great allocative inefficiency in markets. CONCLUSION “Monopoly in trade or in any line of business in this country is odious to our form of government False its tendency is repugnant to the instincts of a free people.” —Chief Justice Sherwood of the Supreme Court of Michigan. 302\\nThe fact that this century’s new communications utility is free but necessitates widespread surveillance of consumers is a paradox in a democracy. Facebook watches, monitors, and remembers what over 2 billion people do and say online. Contrary to what those in the advertising industry would regulators to think, American consumers value a state of no surveillance and have\\n296. The American Customer Satisfaction Index (ACSI), an annual survey of consumer attitudes to services including pay TV, video streaming, ISPs and fixed and wireless phone. 297. See MORGAN STANLEY, LEADERS CONSOLIDATING: OUR 4TH ANNUAL MUSIC & RADIO SURVEY 8 (Dec. 17, 2017), https://fa.morganstanley.com/balog/mediahandler/media/111221/Morgan%20Stanley%204th%20Annua l%20Music%20and%20Radio%20Survey.pdf. 298. David Bond, Guardian Relies on Readers’ Support to Stave Off Crisis, FINANCIAL TIMES (May 13, 2017), https://www.ft.com/content/9044ff9a-358b-11e7-99bd-13beb0903fa3. 299. Benjamin Mullin, BuzzFeed News Asks Readers to Chip in With Donations, WALL STREET J. (Aug. 27, 2018), https://www.wsj.com/articles/buzzfeed-news-asks-readers-to-chip-in-with-donations1535395575 300. Sarah Sluis, Digital Ad Market Soars To $88 Billion, Facebook And Google Contribute 90% Of Growth, ADEXCHANGER.COM (May 10, 2018), https://adexchanger.com/online-advertising/digitalad-market-soars-to-88-billion-facebook-and-google-contribute-90-of-growth/. 301. MILLWARD BROWN, AdReaction Gen X, Y and Z Executive Summary, http://www.millwardbrown.com/adreaction/genxyz/global/gen-x-y-and-z/how-media-habits-differ (consumer study finding that “gen Z” (16-19-year-olds) is “more averse to advertising in general”). 302. Richardson v. Buhl, 77 Mich. 632 (1889).\\nElectronic copy available at: https://ssrn.com/abstract=3247362\\n SRINIVASAN.FINAL CHECK (DO NOT DELETE)\\nattempted to protect this aspect of their privacy since the beginning. The fact that the free market today offers no real alternative to this exchange is a reflection only of the failure of competition. At least for this titan of tech, antitrust law provides a framework for appreciating and correcting for the foreclosure of consumer choice. Facebook is a monopoly that tipped the early market with promises of data privacy and then engaged in a long line of misleading conduct, which foreclosed competition. The historical record tells the story of Facebook’s monopoly power in the social media market. Facebook tried, but could not, degrade the quality of its product to impose commercial surveillance on users through Beacon in the competitive market of 2007. Thereafter, Facebook pivoted to licensing Like buttons, Logins, and other products to independent businesses, which Facebook could leverage for the same purpose. Yet competition between 2008 and 2014 continued to restrain Facebook’s ability to initiate tracking for the purpose of targeted advertising. Facebook had to retreat from alleged accidental tracking, assure consumers and other market participants that the underlying code for social plugins was not used for commercial surveillance, and then promise users an ability to vote on future privacy changes. Only after the exit of competitors, and the barrier to entry that comes with over a billion users on a closed communications protocol, was Facebook able to reverse course. The history of Facebook’s market entry and subsequent rise is the story of Facebook’s monopoly power. Facebook’s pervasive and intrusive commercial surveillance of citizens’ digital footprints is merely this titan’s form of monopoly rents. Consumers today turn from Facebook to other websites and apps and face an identical degradation of quality across millions of sites and competitors on the advertising side of the market. For publishers like The New York Times and others, Facebook extracts commercial surveillance of their customers through publishers’ licenses of Facebook’s business products (e.g., Like buttons etc.). Facebook has commoditized these publishers’ own user data, once a prized proprietary possession, for its own benefit either to sell Facebook advertising or the advertising of a publisher’s competitors. This market structure has deteriorated the pricing power of market actors across the horizontal market and resulted in the duopoly of Facebook and Google—which account for just about the entirety of the growth in the digital advertising market against a backdrop of publishers such as BuzzFeed or The Guardian soliciting reader donations. The historical record that elucidates Facebook’s monopoly power raises the question of whether Facebook’s decade-long course of conduct was anticompetitive—especially in the winner-take-all market of a closed communications platform. The record is replete with reliance-inducing future promises, false statements, disingenuous excuses, and convenient omissions 99\\nElectronic copy available at: https://ssrn.com/abstract=3247362\\n SRINIVASAN.FINAL CHECK (DO NOT DELETE)\\nwhich, collectively, likely deceived users. The adoption of a user referendum process for future privacy changes coupled with the failure to meaningfully notify users of an opportunity to vote further raises the specter of a pattern of anticompetitive conduct. Indeed, the wider record of misleading and deceptive conduct—whether that conduct was the subject of an FTC or congressional investigation or the complaints of advertisement buyers—may point to a more systemic problem which harms not only consumer welfare but also presents risk to market stability. Antitrust scholar Robert Steiner once warned that deception by a dominant firm could have a domino effect within an industry, leading smaller firms to engage in similar patterns of conduct and inefficiency in the industry. 303 Indeed, today, the digital advertising industry is considered one of the most fraud-stricken in the world—the industry expects to absorb $19 billion of waste due to fraud in 2018. 304 To correct for consumer harm and reduction of choice in the market, a remedy must induce competition and stop horizontal coordination. To induce viable opportunity for new entrants, consumers must be able to export their social graph, 305 and Facebook should migrate from a closed to an open communications protocol. A user on Facebook should be able to send a message to, or receive a message from, a user of a competitive social network—in the same way that users of AT&T can call or text a user of Sprint, Verizon, or T-Mobile. The adoption of an open application programing interface for user messages, chats, posts, and other communications could aid this process. The social network LinkedIn permits communications to be distributed across users’ Twitter feeds for example. Additionally, it is paramount that a remedy put a stop to coordination amongst competitors. For this, we need to empower consumers with a singular Do Not Track switch that can counter the collusion in the horizontal market. Consumers must be able to 303. Robert L. Steiner, Double Standards in the Regulation of Toy Advertising, 56 CINCINNATI L. REV. 1259, 1264 (1988). See also Eastman Kodak Co. v. Image Tech. Servs., Inc., 504 U.S. 451, 474 n.21 (1992) (noting that “in an equipment market with relatively few sellers, competitors may find it more profitable to adopt Kodak’s service and parts policy than to inform the consumers”). 304. ASS’N OF NAT’L ADVERTISERS, THE BOT BASELINE: FRAUD IN DIGITAL ADVERTISING 2017 REPORT (2017), available at http://www.ana.net/content/show/id/botfraud-2017?mod=article_inline; Alexandra Bruell, Ad Fraud Declines Offer Hope as Marketers Fight Sophisticated Bots, WALL STREET J. (May 24, 2017), https://www.wsj.com/articles/ad-fraud-declines-offer-hope-as-marketers-fightsophisticated-bots-1495645098?mod=article_inline (economic loss due to fraud estimated at $6.5 billion in 2017); Estimated cost of digital ad fraud worldwide in 2018 and 2022 (in billion U.S. dollars), STATISTA.COM (2018), https://www.statista.com/statistics/677466/digital-ad-fraud-cost/; Lara O’Reilly, Google Issuing Refunds to Advertisers Over Fake Traffic, Plans New Safeguard, WALL STREET J. (Aug. 25, 2017), https://www.wsj.com/articles/google-issuing-refunds-to-advertisers-over-fake-traffic-plansnew-safeguard-1503675395; Suzanne Vranica, P&G Contends Too Much Digital Ad Spending Is a Waste, WALL STREET J. (March 1, 2018), https://www.wsj.com/articles/p-g-slashed-digital-ad-spendingby-another-100-million-1519915621. 305. Others, including economist Luigi Zingales and Guy Rolnik, have also advised for social graph portability to increase competition. Luigi Zingales & Guy Rolnik, A Way to Own Your SocialMedia Data, N.Y. TIMES (June 30, 2017), https://www.nytimes.com/2017/06/30/opinion/social-datagoogle-facebook-europe.html.\\nElectronic copy available at: https://ssrn.com/abstract=3247362\\n SRINIVASAN.FINAL CHECK (DO NOT DELETE)\\njust say no to commercial surveillance—a broad interconnected apparatus that uniquely serves the digital duopoly. While politicians and regulators grapple with how to make sense of current market structures in and consumer frustrations with Big Tech, the principles of antitrust provide clarity for this era’s dominant communications platform.\\nElectronic copy available at: https://ssrn.com/abstract=3247362', 'meta': {'name': 'antitrustcaseagainstFacebook.txt'}}, {'text': 'More of the products you view on Amazon are coming from ads One out of 10 products pages you visit on Amazon comes from sponsored content, a 3 percentage point jump up from last year. By Rani Molla@ranimolla Sep 16, 2019, 1:30pm EDT Share this story • Share this on Facebook (opens in new window) • Share this on Twitter (opens in new window) • SHAREAll sharing options Search Amazon for anything and chances are your top results will all be ads. Here, we’ve searched “catfood” and highlighted sponsored content in red. It’s never been more difficult to sell stuff on Amazon. Last year, Recode reported how Amazon had, over time, stuffed its search results with advertisements, so in order to show up in customer search results, brands were increasingly having to buy ads. Since then it’s gotten worse. Now 11 percent of all product views on Amazon come from sponsored listings, up 3 percentage points in just the past year, according to new data from digital research firm Jumpshot. It’s not clear if that’s because there are more sponsored ads or because sponsored ads have gotten more effective. Going to a product’s page also doesn’t necessarily mean customers will end up buying that product, but brands are nonetheless forking over money to attract these customers’ eyeballs. Showing up higher in search results greatly affects whether people will click on and buy products. This has repercussions for both small third-party marketplace sellers that base their whole livelihoods around selling on Amazon, as well as giant brands like Samsonite, Dove, and Levi’s. Amazon didn’t immediately respond to a request for comment. As Recode’s Jason Del Rey explored in his Land of the Giants podcast about the rise of Amazon, companies that sell on Amazon are increasingly having to pay to show up in search results — even when people are searching for their specific brands. Case in point: the luggage brand Samsonite, which has to pay for sponsored ads in order to be the top result when you search “Samsonite” on Amazon. Top Articles READ MORE Why are these octopuses hurling shells ateach other? As Samsonite’s Chief E-commerce Officer Charlie Cole told Del Rey, “Amazon is making money off your products, making money off your data by creating brands, and Amazon is making money off the privilege of being on their platform by selling you advertising to protect your brand.” “It’s been a tough relationship,” he added. Even sponsored ads aren’t a sure bet. Amazon has also changed its search algorithms to privilege its own Amazon-brand products, according to a new report from the Wall Street Journal. That means brands not only have to buy ads to place prominently in search results on the e-commerce giant’s site, but they also must compete against Amazon’s own brands — and Amazon has extensive data on what and at what price people purchase goods online. Amazon lawyer Nate Sutton previously testified before Congress that, “We do not use any of that specific seller data in creating our own private brand products” — which notably left out whether Amazon was using general data. All of this comes as both state and federal government regulators are ramping up their plans to probe Amazon for potentially engaging in anticompetitive practices. As far as sponsored content, Amazon is becoming less friendly to other companies, not more.', 'meta': {'name': 'moreappleproduct.txt'}}, {'text': 'WORKING PAPER SERIES ON CORPORATE POWER #2\\nAddressing Facebook and Google’s Harms Through a Regulated Competition Approach \\nMatt Stoller Sarah Miller Zephyr Teachout\\nAMERICAN ECONOMIC LIBERTIES PROJECT \\nSARAH MILLER is the Executive Director of the American Economic Liberties Project. Previously, she served as the Deputy Director of the Open Markets Institute, which was credited by Rolling Stone as “the driving force behind the resurgence in public understanding and desire for action around antitrust and monopolies.” She is also Co-Chair of Freedom From Facebook, a coalition of progressive groups that succeeded in bringing the concept of breaking up Facebook into the mainstream. Prior to Open Markets, Sarah spent 15 years in Washington D.C. working on policy and strategic communications from the vantage points of campaigns, advocacy organizations, and the federal government. She was a policy advisor at the U.S. Treasury in the Obama Administration, worked as an advisor to John Podesta at the Center for American Progress, helped launch and lead the Washington Center for Equitable Growth, and served as a policy staffer for Hillary Clinton’s 2008 presidential run.\\nMATT STOLLER is the Director of Research at the American Economic Liberties Project. He is the author of the Simon and Schuster book Goliath: The Hundred Year War Between Monopoly Power and Democracy, which Business Insider called “one of the year’s best books on how to rethink capitalism and improve the economy.” David Cicilline, Chairman of the House Antitrust Subcommittee, has called Stoller’s work “an inspiration.” Stoller is a former policy advisor to the Senate Budget Committee and worked for a member of the Financial Services Committee in the U.S. House of Representatives during the financial crisis. His 2012 law review article on the foreclosure crisis, “The Housing Crash and the End of American Citizenship,” predicted the rise of autocratic political forces and his 2016 Atlantic article, “How the Democrats Killed their Populist Soul,” helped inspire the new anti-monopoly movement. His writing has appeared in the Washington Post, The New York Times, Foreign Policy, The Guardian, and The American Conservative.\\nZEPHYR TEACHOUT is an Associate Law Professor and has taught at Fordham Law School since 2009. After graduating summa cum laude from Duke Law School, where she was the Editor-in-Chief of the Law Review, she clerked for Chief Judge Edward R. Becker of the Third Circuit Court of Appeals. She was a death penalty defense lawyer at the Center for Death Penalty Litigation in North Carolina and co-founded a non-profit dedicated to providing trial experience to new law school graduates. She is known for her pioneering work in internet organizing and was the first national Director of the Sunlight Foundation. She has written dozens of law review articles and essays and two books. Her book, Corruption in America: From Benjamin Franklin’s Snuff Box to Citizens United was published by Harvard University Press in 2014. She ran unsuccessfully for the Democratic nomination of the Governor of New York in 2014, for Congress’s 19th Congressional District in 2016, and for New York Attorney General in 2018. \\nImagine a policymaker proposing we place concentrated power over global online communications in the hands of two dominant corporations named Facebook and Google.\\nThese corporations would amplify falsified news stories and pump out individually tailored propaganda, which would influence elections, result in violence, promote fake stories during a pandemic, and even facilitate genocide. They would enable a range of other societal harms: creating virulent new forms of discrimination, harming public health, intimately surveilling adults and children, imposing a private tax on small businesses, using design to addict users to their platforms, and driving the collapse of independent journalism, especially at the state and local levels.\\nWe would dismiss this idea as a threat to our communities, our way of life, and our democracy. And yet, this is the policy path that the United States, and much of the world, has followed over the past decade.\\nFacebook and Google’s many interrelated harms trace back to two primary causes: their unregulated dominance over key communications networks, and their use of those networks to engage in surveillance and user manipulation to monopolize digital advertising revenue. Nearly every internet user, civil society group, and business uses networks owned by Facebook and Google. Without meaningful competition, they design their networks not to help us communicate, but to addict us to their services in order to sell more advertising. And as advertising revenue plummets during the Coronavirus crisis, Facebook and Google are poised to capture even more power.\\nMany of the problems Facebook and Google create are chalked up to “technology” or “the rise of the internet,” or described as an impersonal force with its own logic known as “surveillance capitalism.” But public policy choices, not simply technological advancement, led to today’s dystopian communications environment. \\nThe public policy framework that enabled Facebook and Google to exist in their current forms is relatively new. Since the 1980s, policymakers encouraged lax enforcement of merger laws and rollbacks of communications regulation. They also wrote laws encouraging concentration by shielding online communications networks from liability for illegal content that passes over \\n their platforms, while allowing them to profit from advertising sold alongside it.1\\nThis paper provides an overview of the policy choices that allowed Facebook and Google to develop a business model toxic to democracy, civil rights, and public health. It also breaks down what often seems to be an overwhelming and unsolvable challenge into a discrete set of solvable problems. Below, we lay out options for structuring online communications networks to mitigate the range of harms Facebook and Google currently create and help ensure they are compatible with a well- functioning democracy. \\nAddressing the harms induced by these dominant platforms will require policymakers to correct mistakes of the past and take two basic but essential steps. First, they must break up Facebook and Google so they are no longer too big to regulate. Second, policymakers must regulate the resulting market practices to prevent reconsolidation and protect essential values such as privacy, non- discrimination, free speech, and diversity in the public square.\\nThe solution, in other words, is not to break up these corporations, or to regulate them, but to do both. We must aim at healthy online communications networks through regulated competition.\\nAddressing the root causes of Facebook and Google’s range of harms is not only necessary to protect democracy, but also politically achievable. In fact, lawmakers have already taken significant steps in this direction, with major investigations into the power of digital platforms currently underway in the House of Representatives, among state attorneys general, at the Federal Trade Commission and Department of Justice, and among global regulators and enforcers.\\nWe do not presume to have all the answers, but we hope to advance the debate and help to center it around questions of power at a moment of political significance. We recognize that Facebook and Google’s market power affects numerous stakeholders, many of which have long advocated for various policy approaches. We welcome stakeholder input and critique on the solutions we propose below. And we look forward to continuing the increasingly vibrant dialogue about the best ways to restore regulated competition in media and advertising markets. Our democracy dependson the strength and integrity of this debate. \\n1 These laws include Section 230 of the Communications Decency Act and Section 512 of the Digital Millennium Copyright Act. See also: “What happens next in the housing discrimination case against Facebook?” Adi Robinson, The Verge, April 2, 2019 https://www.theverge.com/2019/4/2/18286660/facebook-hud-housing-discrimination-case-section-230-legal-defense. \\n FACEBOOK AND GOOGLE: WHAT ARE THEY?\\nFacebook and Google are commonly understood as technology companies, but they are more accurately described as communications networks that sell digital advertising. Advertising makes up the vast majority of revenue for both corporations. Unlike traditional companies that make money from advertising – such as newspapers, television stations, radio, and magazines – these corporations primarily help people and businesses communicate with one another through search, social media, mapping, and other digital networks. Mark Zuckerberg, for instance, originally called Facebook a “social utility” to indicate its broad public purpose. \\nThis paper uses Zuckerberg’s frame of considering Facebook and Google utilities. They are 21st century communications networks, managing the essential infrastructure of the digital world – like a search engine, a social network, or a mapping application – separate from the network of hardware that transmits data. Facebook and Google are the most dominant of these new communications networks, but there are others, such as Snapchat and TikTok, designed around a similar business model. \\nUnlike traditional communications networks, users don’t pay Facebook and Google directly for services. Instead, Facebook and Google make money from advertising, and have redirected much of the revenue that used to flow to the media industry, especially print and digital news and journalism. \\nThese corporations are uniquely situated to profit from advertising, using a two-part strategy. First, both Facebook and Google own dominant communications networks. Using social networking to communicate means in large part using a Facebook network, and using search, online video, or mapping means using a Google network. Facebook and Google also have control over the user interfaces on which users rely for a suite of services, meaning these corporations can arrange the way users find information or communicate with friends and family to facilitate them seeing ads.\\nLack of competition is essential to this dominance. For example, in the early 2000s, Facebook competed with MySpace over privacy and safety. Users could and did flee MySpace for \\nAddressing the root causes of Facebook and Google’s range of harms is not only necessary to protect democracy, but also politically achievable. \\n Facebook.2 Today, despite Facebook’s bevy of data- related scandals, the large and sustained increase in the number of ads it shows users, its tolerance of disinformation, and its elevated levels of surveillance, users have nowhere else to go.\\nSecond, Facebook and Google use their dominant position as gatekeepers to the internet to surveil users and businesses, amass unrivalled stores of data, and rent out targeting services to third parties who can then target content – from ads for shoes to racist propaganda – at users with a perceived precision unrivalled by any other entity.3 This dominance grants Facebook and Google immense bargaining leverage with publishers and other stakeholders, who often have no choice but to hand over their own proprietary data to the platforms. \\nAdvertising has always been a dangerous way to finance news gathering, because large advertisers can attempt to control what editors publish. To address this ethical risk, publishers have undertaken a range of mitigating strategies. Advertising and editorial departments are often separated, professional guilds work to protect journalistic integrity, and policy encouraged a diversity of media outlets so that a corruption of one would not corrupt all of public discourse. \\nWhile advertisers don’t control Google and Facebook in the same way that they seek to control editorial content, this same ethical dilemma – the desire to distort the flow of information – takes a different form when applied to communications networks. The distortion occurs through business models reliant on excessive user engagement. The longer users remain on the platform – hooked on sensationalist content, which the platforms’ algorithms prioritize – the more money Facebook and \\nWhat is a 21st century communications network?\\nFacebook and Google each operate multiple communications networks essential to the well-being and commercial prospects of billions of people. Their search facilities, social networks, maps, and video sharing services serve as key online interconnection points to facilitate the exchange of information among individuals and businesses. These services become regulable as communications networks when they achieve sufficient scale as to be a meaningful infrastructure platform for a community, and when there are fewer than three reasonable alternatives through which to easily gain or share unique and critical pieces of information.\\nAs the Supreme Court noted in Munn vs Illinois (1874), “When the owner of property devotes it to a use in which the public has an interest, he in effect grants to the public an interest in such use, and must, to the extent of that interest, submit to be controlled by the public, for the common good, as long as he maintains the use.” America has a long history of regulating the actions of private businesses for the public good, from colonial times when colonial legislatures placed limits on the prices and offerings of ferries, common carriers, bakers, millers, and innkeepers, to the rate regulation of AT&T by the Federal Communications Commission in the 20th century. There is no reason to allow Facebook and Google to be exempt from traditional regulatory obligations.\\n2 “The Antitrust Case Against Facebook: A Monopolist’s Journey Towards Pervasive Surveillance in Spite of Consumers’ Preference for Privacy,” Dina Srinivasan, Berkeley Business Law Journal, vol. 16, no. 1, February 2019.\\n3 Targeting for the purpose of this paper means online behavioral advertising which is shown to users based on personalized knowledge gained by tracking their online and offline behavior. It does not mean contextual advertising, which means showing dynamic advertising based on the content around which an ad is shown. In other words, targeting would mean showing a user an ad related to bicycles based on the knowledge that the particular user being shown the ad likes bicycles, versus showing them an ad based on a site dedicated to bicycles. \\n Google make from advertising. This is where the false content, surveillance, addiction, and so forth originate. They are not unfortunate byproducts of the business model; they are core characteristics of it, essential to these corporations’ ad-based revenue models. \\nIn other words, Facebook and Google are operating new types of essential communications networks that profit from amplifying untrustworthy, sensationalist, and addictive content, while destroying legitimate sources of news essential to a well-informed citizenry and introducing a range of other social harms. \\nFacebook and Google’s market power and advertising- and-surveillance business model are at the root of a diverse yet interrelated set of individual and societal harms. The silo-like organization of policy conversations and expertise – privacy, discrimination, public health, monopoly, journalism, and so on – obscures this dynamic. Below we lay out a non-exhaustive list of some of the major ongoing problems that Facebook and Google cause.\\nSPREADING MISINFORMATION DURING A PANDEMIC. In early March, Facebook posts included fake news about large numbers of concealed cases in Taiwan, and doctored images of President Tsai Ing-wen going into quarantine after testing positive. Despite attempts to fact check posts and videos on their platforms4, Global Disinformation Index published survey results that found Google providing ad services to 86% of the sites carrying coronavirus conspiracies.5\\nINVADING USER AND BUSINESS PRIVACY. Facebook and Google know far more about the public than the public knows about Facebook and Google. This asymmetry of information \\nFacebook and Google are operating new types of essential communications networks that profit from amplifying untrustworthy, sensationalist, and addictive content, while destroying legitimate sources of news essential to a well- informed citizenry and introducing a range of other social harms. \\n4 “Facebook, Amazon, Google and more met with WHO to figure out how to stop coronavirus misinformation,” Christina Farr, CNBC, February 14, 2020 https://www.cnbc.com/2020/02/14/facebook-google-amazon-met-with-who-to-talk-coronavirus-misinformation.html\\n5 “Why is Ad Tech Funding These Ads on Coronavirus Conspiracy Sites?” GDI, March 24, 2020 https://disinformationindex.org/2020/03/why-is-ad- tech-funding-these-ads-on-coronavirus-conspiracy-sites/ \\n enables unaccountable surveillance, manipulation, data breaches, and abusive behavior, for which the concept of privacy often serves as a catch-all.6 \\nDESTROYING LOCAL AND INDEPENDENT JOURNALISM. A vibrant and independent press is essential to maintain an informed citizenry but is in a state of collapse in democratic societies around the world. The primary cause of this collapse is Facebook and Google’s control of digital advertising revenue. Because Facebook and Google’s market power allows them to collect granular information on users for advertisers, these two corporations now command nearly 60 percent of all digital advertising revenue.7 \\nPROPAGATING FAKE NEWS, DISINFORMATION, AND POLARIZATION. Facebook and Google spread, amplify, and profit from falsified and divisive content. For example, in 2016, Russia executed “an extended attack on the United States by using computational propaganda to misinform and polarize US voters.”8 YouTube, which is owned by Google, has recommended Alex Jones’s videos involving conspiracy theories more than 15 billion times.9 \\nFACILITATING DISCRIMINATION. Facebook and Google’s business model inherently facilitates discrimination. Facebook’s model of personally targeted behavioral ads enables discrimination based on a variety of protected categories. In the past, Facebook allowed advertisers to exclude people based on their neighborhood “by drawing a red line around those neighborhoods on a map.”10 Other elements of users’ profiles can easily approximate race, gender, age, or sexuality for advertisers who seek to discriminate against different classes of people. \\n6 There are many social choices beyond the scope of this paper to make about the appropriate amount of sharing of personal or business information, but the key fulcrum for any democracy is that there cannot be unequal access to whatever we as a society choose as our privacy standards. Access to and control of personal data by a few large corporate giants and no one else is a key part of the privacy problem.\\n7 “Google, Facebook have tight grip on growing U.S. online ad market: Report,” Sheila Dang, Reuters, June 5, 2019, https://www.reuters.com/article/ us-alphabet-facebook-advertising/google-facebook-have-tight-grip-on-growing-u-s-online-ad-market-report-idUSKCN1T61IV.\\n6 “The IRA, Social Media and Political Polarization in the United States, 2012-2018,” Computational Propaganda Research Project, Oxford University, December 2018, https://comprop.oii.ox.ac.uk/wp-content/uploads/sites/93/2018/12/The-IRA-Social-Media-and-Political-Polarization.pdf.\\n7 “YouTube, Facebook, and Apple’s ban on Alex Jones, explained,” Jane Coaston, Vox, August 6, 2018, https://www.vox.com/2018/8/6/17655658/ alex-jones-facebook-youtube-conspiracy-theories.\\n8 “HUD charges Facebook with Housing Discrimination Over Company’s Targeted Advertising Practices,” Press Release, US Department of Housing and Urban Development, March 28, 2019, https://www.hud.gov/press/press_releases_media_advisories/HUD_No_19_035.\\n9 Written Testimony of David Heinemeier Hansson, CTO & Cofounder, Basecamp, before the Committee on the Judiciary, Subcommittee on Antitrust, Commercial, and Administrative Law, Hearing on: Online Platforms and Market Power, Part 5: Competitors in the Digital Economy, January 17th, 2020.\\n10 “HUD charges Facebook with Housing Discrimination Over Company’s Targeted Advertising Practices,” Press Release, US Department of Housing and Urban Development, March 28, 2019, https://www.hud.gov/press/press_releases_media_advisories/HUD_No_19_035. \\n ENABLING UNACCOUNTABLE POLITICAL CENSORSHIP. Facebook and Google’s unilateral control over their platforms allows them to regulate the political speech that appears on those platforms. Because Facebook and Google are untransparent and unaccountable, trusting them to regulate political speech or content is extraordinarily dangerous. The goal must be to eliminate their ability to censor and shape our public discourse, not empower it.\\nIMPOSING A START-UP AND SMALL BUSINESS TAX. Traffic from Facebook and Google is essential to reach customers across the economy, putting businesses that don’t advertise on Facebook and Google at a competitive disadvantage. But as the founder of one small business put it, “Google allows competitors to purchase ads on our trademark, blocking and misdirecting consumers from reaching our site.”11 In other words, Facebook and Google operate as phone directories, only when a user dials a number for a business, Facebook and Google direct the phone call to whichever third party pays them the most.12\\nREDUCING INNOVATION. Facebook and Google acquire or undermine start-ups that might compete with their products, creating what venture capitalists call a “kill zone” around sectors adjacent to these big tech giants. They undermine entrepreneurship, as economist Hal Singer puts it, by “favoring their affiliated content, applications, or wares in their algorithms and basic features.”13 \\nHARMING MENTAL HEALTH. Because Facebook and Google make more money from advertisers the longer users spend consuming advertising on their platforms, they have strong incentives to deploy other tactics that promote addiction and unhealthy use of their platforms. Both Facebook and Google have also facilitated radicalization by feeding users increasingly sensationalist and conspiratorial content.\\nHARMING PHYSICAL HEALTH. Facebook and Google directly harm physical health. They allow advertisers to target people likely suffering from eating disorders with diet pills, people recovering from opioid addiction with opiates, those likely to be skeptical of vaccines with anti- vaccination disinformation, and people living with HIV/AIDS with sham medications, to name just a handful of examples. \\n11 Written Testimony of David Heinemeier Hansson, CTO & Cofounder, Basecamp, before the Committee on the Judiciary, Subcommittee on Antitrust, Commercial, and Administrative Law, Hearing on: Online Platforms and Market Power, Part 5: Competitors in the Digital Economy, January 17th, 2020.\\n13 “Inside Tech’s ‘Kill Zone’: How to Deal With the Threat to Edge Innovation Posed by Multi-Sided Platforms, Hal Singer, Pro-Market, November 21, 2018, https://promarket.org/inside-tech-kill-zone/. \\nTo understand how to neutralize Facebook and Google’s dangers to society, it is important to understand a brief history of telecommunications regulation and antitrust enforcement. Examining the evolution of regulatory and enforcement regimes designed around other types of communications networks – the post office, newspapers, radio, television – helps inform the path forward. \\nFor roughly two hundred years, with the creation of the U.S. Postal Service in 1792, American policymakers have sought to ensure a decentralized and independent media communications environment. The First Amendment shielded private speech from government censorship. Equally important were public policies to structure markets for advertising, media, and communications. Policymakers subsidized media through universal low-cost or free distribution of information via the mail, promoted neutrality in critical speech platforms, and prioritized diversity of speech. Advertising revenue served as an important shield for publishers against financial control from the government and the wealthy.\\nThroughout most of the 20th century, a combination of telecommunications policies and advertising markets supported a surfeit of radio and television stations, as well as a host of local newspapers and specialized magazines. Until recently, between 60 and 80 percent of the revenue for newspapers came from advertising.14 Policymakers also implemented variations of the Fairness Doctrine, a regulation that mandated equal time for political views on regulated broadcast channels, reflecting a desire to safeguard concentrated media ownership from fusing with partisan political interests. \\nFrom the 1930s to the 1970s, the Federal Communications Commission pursued three main policy goals. As described by Supreme Court Justice Thurgood Marshall, one was diversity of speech via diversity and local ownership of media platforms. Another was “the best practicable service to the public” consistent with the technology of the day.15 For communications networks, universality of service was yet another goal.\\nStarting with the Radio Act of 1927 and continuing through the Communications Act of 1934, \\n14 “Pizzagate, the fake news conspiracy theory that led a gunman to DC’s Comet Ping Pong, explained,” German Lopez, Vox, December 8, 2016, https://www.vox.com/policy-and-politics/2016/12/5/13842258/pizzagate-comet-ping-pong-fake-news.\\n15 FCC v. National Citizens Committee, 436 U.S. 775 (1978). \\n Congress and regulators sought to decentralize ownership and control of media markets, often when these industries were in their infancy. The Radio Act essentially forced AT&T, which sought to leverage its telephone infrastructure to dominate this new medium, to sell its nascent radio network. In 1940, the Federal Communication Commission imposed strict ownership caps on FM stations.16 \\nIn 1942, the FCC and the Department of Justice forced NBC to spin off its second national radio network, which turned into ABC, a national competitor for eyeballs and ad dollars. In 1953, the FCC wrote the so-called 7-7-7 rules, which prohibited anyone from owning more than 7 television licenses, 7 AM radio licenses, and 7 FM radio licenses nationwide. The FCC updated these rules to include cable systems in 1970. In 1975, the FCC blocked any company from owning a newspaper and TV or broadcast station in the same market.\\nRegulators also reduced network operators’ power over the flow of advertising and information, thus preventing operators’ from using that power to extort or bully other market participants. In 1941, the FCC blocked national radio networks from seizing control of advertising sales and programming choices, allowing local affiliates to more easily substitute local programming for network offerings. These rules were intended to make it easier for affiliates to sell non- network advertising. Radio-network publicists prophesized doom for the industry, arguing it was a prelude for a government takeover of the airwaves. Instead, revenue and the number of broadcasters soared.17\\nRegulators and antitrust enforcers also imposed a wide variety of rules that restricted the power of any particular corporation in telecommunications and advertising markets. These restraints specifically promoted decentralization and fair competition. For instance, the Justice Department filed a suit against a monopoly on outdoor advertising, as well as a suit to stop price fixing in the typesetting business. In another case, the Justice Department sued a group of businesses for monopolizing supplies and services to rural newspapers.18 \\nRegulators also prevented one part of an industry from controlling the whole media supply chain, or what is known as vertical integration, in both television and film. In 1970, the FCC adopted Financial Syndication rules, which stopped TV networks from owning the programming aired in prime time. As a result, TV networks had to buy their prime time programming from independent production companies and studios throughout the 1970s and 1980s, which gave artists more negotiating leverage and helped open television production to new voices. Decades \\n16 See p. 68, 6th Annual Report to Congress (1940), FCC: “To obviate possible monopoly, and to encourage local initiative, no person or group is permitted to control more than one F1H station in the same area, and not more than six in the nation as a whole.”\\n17 The Impact of the FCC’s Chain Broadcasting Rules, Yale Law Journal, vol. 60, 1951, https://digitalcommons.law.yale.edu/ylj/vol60/iss1/4.\\n18 United States v. General Outdoor Advertising Company, Inc. (1950); United States v. Thomas P. Henry Co. (1950); United States v. Western Newspaper Union, et al, (1951). \\n of litigation also broke up the motion picture industry, separating production from distribution and ending a series of abusive practices, like requiring theaters to show unwanted films as a condition of showing sought-after blockbusters.19 \\nPolicymakers also prohibited certain false and deceptive practices on broadcast speech platforms. In 1960, after a series of pay-to-play scandals, Congress eliminated a conflict of interest in advertising markets by outlawing the practice of “payola,” or undisclosed sponsorship payments to radio DJs, stations, and television personalities and shows. With this limit on licensed broadcast channels, advertising would be aboveboard and disclosed.20 \\nEnforcers and regulators also sought to intervene in high-technology markets to block monopolization at its incipiency. The Justice Department prohibited AT&T from competing outside its communications business in 1956, in part to prevent the company from leveraging its monopoly power in one market to advantage itself in others. This stricture forced the corporation to license its patents to the burgeoning electronics and digital computer companies, allowing them to grow without interference from AT&T. The FCC also sought to stamp out abusive behavior in the nascent online services market. Standards for new technologies, like those underlying fax transmissions, email, and the nascent internet, were often open, allowing competition within these new markets to flourish.\\nThis system still had significant deficiencies and injustices. Local newspaper monopolies often had excessive local control over advertising and news flow, and structural racism and sexism limited the availability of advertising revenue and infrastructure to support publications and media outlets challenging the status quo. Publications like the legendary African-American newspaper The Chicago Defender never faced anything but a very challenging financial existence, and people risked lives and livelihoods to distribute it in the South because white- owned firms would not carry it. Dramatically unequal levels of access to capital that fell along racial or gender lines presented an additional barrier to creating a just media ecosystem. But ensuring that power in the media and telecommunications industries was not concentrated was, and should remain, a critical baseline for protecting and expanding democracy in America. Without decentralization, the system will never be just. \\nEnsuring that power in the media and telecommunications industries was not concentrated was, and should remain, a critical baseline for protecting and expanding democracy in America. \\n19 United States v. Paramount Pictures, Inc., 334 U.S. 131 (1948).\\n20 “Congress Tightens Broadcasting Regulations,” CQ Almanac 1960, 16th ed., 09-356-9-361, Washington, DC: Congressional Quarterly, 1960, http:// library.cqpress.com/cqalmanac/cqal60-1330632. \\nIn the late 1970s, policymakers reversed their presumptions, increasingly deferring to assertive capital market actors on Wall Street. This shift manifested in the loosening of FCC rules capping media ownership and mandating political speech neutrality on publicly licensed airwaves. The subsequent consolidation of media outlets beginning in the 1980s turned into a merger tidal wave after the passage of the Telecommunications Act of 1996, which lifted caps on media ownership.21 \\nUnderpinning this transition was an ideological transformation driven by the “law and economics movement,” which originated at the University of Chicago and successfully reoriented policymakers’ approach to structuring markets. Under the influence of writers like Robert Bork, policymakers, on a bipartisan basis, shifted the main goals of antitrust away from ensuring decentralization and fair rivalry within markets. Instead, they sought to allow corporate concentration within and across markets, often under the assumption that market dominance signaled nothing more than efficiency. \\nIn industries created after this framework became dominant, such as the personal computer industry, concentration became extreme. Competitors battled to privatize technical standards, creating monopolies around these complex specifications. While the standards underlying fax and email were open so that anyone could create fax and email products, the operating system for personal computers and the standards underpinning social media were under the control of individual corporations. Modern technology corporations sought to compete for the market itself, rather than within the market.\\nAntitrust enforcers also weakened merger law, viewing mergers in terms of their presumed impact on consumer prices instead of their impact on the competitive process. This pivot set the stage for corporations like Facebook and Google, which offered tools at no monetary cost to consumers, to go on merger sprees unencumbered by meaningful challenges.\\nThe Reagan and Clinton Administrations also chipped away at the regulatory structures and \\n21 “Everything you need to know about the Fairness Doctrine in one post,” Dylan Matthews, Washington Post, August 23, 2011, https://www. washingtonpost.com/blogs/ezra-klein/post/everything-you-need-to-know-about-the-fairness-doctrine-in-one-post/2011/08/23/gIQAN8CXZJ_blog. html; “Beware: The UHF Discount Is Rising from The Dead,” Andrew Jay Schwartzman, Benton Institute, May 15, 2017, https://www.benton.org/blog/ beware-uhf-discount-rising-dead; “F.C.C. Raises Limit on Total Stations Under One Owner,” Alex S. Jones, New York Times, July 27, 1984, https:// www.nytimes.com/1984/07/27/business/fcc-raises-limit-on-total-stations-under-one-owner.html. \\n22 “F.C.C. Raises Limit on Total Stations Under One Owner,” Alex S. Jones, New York Times, July 27, 1984, https://www.nytimes.com/1984/07/27/ business/fcc-raises-limit-on-total-stations-under-one-owner.html. \\n vertical and horizontal restraints that had kept telecommunications networks partitioned and decentralized.22 Part of this involved the Reagan Administration’s confusing attack on AT&T, which appeared to be a break-up of a monopoly. However, the underlying goal was to separate the regulated business components of AT&T from its other divisions as a means of deregulating telecommunications markets. The Reagan administration also loosened media ownership restrictions and eliminated the Fairness Doctrine. \\nThe Clinton Administration continued Reagan’s approach, with the Telecommunications Act of 1996 enabling consolidation in telecommunications and broadcast industries. The law included a little noticed provision, Section 230 of the Communications Decency Act (which is a part of the overall law) to enable the management of online chat rooms. Section 230 allowed providers of “interactive computer services” to be free from liability for speech on their platforms. Section 512 of the Digital Millennium Copyright Act offered a parallel shield for platforms to avoid liability for copyright violations on their networks. \\nThese shields led to an explosion of innovation. Platforms could experiment without worrying, as publishers must, that the content they monetized was illegal or included copyright violations. Importantly, these laws also enabled digital-era communications networks to finance themselves with advertising revenue, but without any liability for the content they facilitated.\\nWhile the Telecommunications Act eliminated a variety of restraints in media markets, it did succeed in blocking telephone companies from spying on customers for marketing purposes through what were known as Customer Proprietary Network Information rules.23 However, these protections have not been extended to surveillance and advertising online platforms. The Clinton Administration also brought suit against Microsoft for antitrust violations.24 This suit created the opportunity for new young corporations such as Google to succeed. But the ultimate failure of the suit, combined with an increasingly conservative Supreme Court’s further narrowing of antitrust law, meant that the burst of innovation unleashed by the case was followed by the growth of new, even more powerful monopolies.\\nDuring the 1990s, regulators and policymakers were somewhat aware of possible anti- competitive discrimination in the physical infrastructure of internet access, which led to the \\n23 In the 1970s and 1980s, competitors began providing new services – such as burglar alarms – which required the use of the local phone incumbent network. These incumbents naturally could then use this proprietary information it received solely because of its dominant position as a local monopoly to market its own competitive alarm services. To compete on top of the telephone network meant giving proprietary information to potential competitors. With CPNI rules, incumbent telecom operators could not use this proprietary information for marketing purposes without express consent from the customer. Such a rule over the use of personal data blocked rival telecommunications operators from using business information necessary to run their networks from being used for anti-competitive purposes. See: FCC Customer proprietary network information regulations and “Protecting Privacy, Promoting Competition: A Framework for Updating the Federal Communications Commission Privacy Rules for the Digital World,” Harold Feld, Charles Duan, John Gasparini, Tennyson Holloway, Meredith Rose, Public Knowledge, February 2016, https://www. publicknowledge.org/assets/uploads/blog/article-cpni-whitepaper.pdf.\\n24 United States v. Microsoft Corp., 253 F.3d 34 (D.C. Cir. 2001). \\n battle over “net neutrality,” and the question of control over the physical infrastructure of the internet. But they did not recognize the possibility of centralization over the flow of information in the content layer of the web. They did not see the possibility of monopolization and centralization among advertising networks, search engines, or other nascent communication network applications. \\nIronically, within the industry, the moral dialogue about market structure was prescient. In 1998, Google founders Larry Page and Sergei Brin made the most cogent case against advertising-financed business models in their paper describing the underpinnings of Google’s search engine. The key problem with ad-financed search indexes was that they would engage in self-dealing; search engines financed by ads were “inherently biased towards the advertisers and away from the needs of the consumer.”25 Page and Brin also identified that search engines would seek to prevent users from leaving their properties to sell more advertising. This problem is what would later be identified as engagement, the need to create algorithms to keep users engaged on a platform. But policymakers, if they acknowledged these arguments, did not incorporate them in any coherent regulatory framework.\\nBecause of the ideological dominance of the law and economics movement, even under Democratic administrations the Federal Trade Commission (FTC) viewed consumer protection as a question of adequate disclosure regimes, focusing on solutions that required consumers to be notified when their data was collected. The FTC largely did not consider that, as companies accumulated data on their users, they would be able to structure bargaining power – to water down or eliminate competition – among different agents in the marketplace, including publishers, platforms, and users. Instead, market power was inappropriately shoe-horned into the framework of privacy law, where it remains today.26 \\nIn 1999 and 2000, the FTC held a series of workshops and issued reports on the nascent online behavioral advertising market, with the outcome being industry self-regulation in the context of \\nThe embrace of self- regulation set up a contest in which competition within the online advertising market could take place based on self- dealing and conflicts of interest. \\n25 “’We expect that advertising funded search engines will be inherently biased towards the advertisers and away from the needs of the consumers,’” David Rodnitzky, 3Q, June 10, 2008, https://3qdigital.com/blog/we-expect-that-advertising-funded-search-engines-will-be-inherently- biased-towards-the-advertisers-and-away-from-the-needs-of-the-consumers/.\\n26 “Anticipating the 21st Century: Consumer Protection Policy in the New High-Tech, Global Marketplace,” FTC, May 1996, https://www.ftc.gov/ system/files/documents/reports/anticipating-21st-century-competition-policy-new-high-tech-global-marketplace/gc_v2.pdf. \\n privacy.27 In 2007, the FTC offered updated principles to guide self-regulation in the now-thriving market for behavioral advertising.28 These principles were further extended in an FTC staff report in 2009, under a Democrat-majority agency. The embrace of self-regulation set up a contest in which competition within the online advertising market could take place based on self-dealing and conflicts of interest.29\\nThis policy environment enabled relative newcomers Facebook and Google to roll up the online advertising industry.30 From 2004 to 2014, Google spent at least $23 billion buying 145 companies,31 including Maps, Analytics, YouTube, Gmail, Android, and, critically, its 2007 purchase of DoubleClick. Google’s DoubleClick acquisition, which the FTC approved, gave Google control over the plumbing used to deliver ads from advertisers to publishers in the display ad market. Google’s DoubleClick acquisition, which was approved by the Federal Trade Commission, gave Google control over the plumbing used to deliver ads from advertisers to publishers in the display ad market. Prior to this acquisition, online advertising was a segmented and competitive series of markets. The merger radically concentrated power over the flow of information and advertising. Google then combined DoubleClick data with its search and Gmail data into data sets that gave ad buyers unrivalled information with which to reach potential customers.\\nFacebook, too, acquired competitors without regulatory intervention. Most notably, in 2012, the Federal Trade Commission unanimously approved Facebook’s $1 billion purchase of Instagram.32 Mark Zuckerberg bought the company because he saw it as a competitive threat to his social networking business; in other eras, such a merger would have been challenged.33 A year later, in 2013, Facebook acquired a company called Onavo, allowing it access to granular data on how people used rival apps in order to monitor potential competitive threats.34 Then in 2014, Facebook paid $19 billion for the secure communications messaging service WhatsApp, a popular \\n27 The commission recommended following the approach of the online advertising trade group National Advertising Initiative, which were oriented around telling consumers what data was being collected about them and ignored potential anti-competitive practices that might injure publishers. The FTC sought self-regulation, but also suggested backstop legislative authority to enforce privacy protections, which Congress declined to enact. See: “Online Profiling: A Federal Trade Commission Report to Congress,” FTC, June 2000, https://www.ftc.gov/reports/online-profiling-federal-trade- commission-report-congress-june-2000; “Online Profiling: A Federal Trade Commission Report to Congress, Part 2,” FTC, July 2000, https://www.ftc. gov/reports/online-profiling-federal-trade-commission-report-congress-part-2. \\n28 “Interactive Advertising Bureau Supports FTC’s Embrace of Self-Regulation of Behavioral Advertising,” Interactive Advertising Bureau, December 21, 2007, https://www.iab.com/news/interactive-advertising-bureau-supports-ftcs-embrace-self-regulation-behavioral-advertising/; “Online Behavioral Advertising Moving the Discussion Forward to Possible Self-Regulatory Principles,” FTC, https://www.ftc.gov/sites/default/files/ documents/public_statements/online-behavioral-advertising-moving-discussion-forward-possible-self-regulatory-principles/p859900stmt.pdf. 29 “FTC Staff Report: Self-Regulatory Principles for Online Behavioral Advertising,” FTC, February 2009, https://www.ftc.gov/sites/default/files/ documents/reports/federal-trade-commission-staff-report-self-regulatory-principles-online-behavioral-advertising/p085400behavadreport.pdf.\\n30 For a full list of Facebook and Google’s acquisitions, see the Appendix.\\n31 “Digital Platforms Inquiry: Preliminary Report,” Australian Competition & Consumer Commission, December 2018, p. 27, https://www.accc.gov.au/ system/files/ACCC%20Digital%20Platforms%20Inquiry%20-%20Preliminary%20Report.pdf. 32 “FTC Closes Its Investigation Into Facebook’s Proposed Acquisition of Instagram Photo Sharing Program,” FTC, August 22, 2012, https://www.ftc. gov/news-events/press-releases/2012/08/ftc-closes-its-investigation-facebooks-proposed-acquisition.\\n33 “Tim Wu Explains Why He Thinks Facebook Should Be Broken Up,” Wired, July 5, 2019, https://www.wired.com/story/tim-wu-explains-why- facebook-broken-up/.\\n34 “Facebook’s Onavo Gives Social-Media Firm Inside Peek at Rivals’ Users,” Deepa Seetharaman and Betsy Morris, Wall Street Journal, August 13, 2017, https://www.wsj.com/articles/facebooks-onavo-gives-social-media-firm-inside-peek-at-rivals-users-1502622003. \\n program used by large numbers of people around the world to send private text-messages to one another, and which posed a potential threat to Facebook’s original social network. \\nThe result is that Google and Facebook enjoy extraordinary market power, with users firmly locked into their services. Today, Google has eight products with more than a billion users each, and Facebook has four products with more than a billion users each. Acquisitions have allowed these two corporations to control the richest and widest data sets on human populations ever assembled. Their reach, combined with data, gives these platforms gatekeeping power over who wins and loses online.35 These advantages insulate them from basic market-based accountability mechanisms, like competition from rivals for users and advertisers. Facebook and Google can increase the number of ads in their services or reduce quality of products through elevated surveillance levels without consequence.\\n35 See: Opening statement of Congressman David Cicilline, Field Hearing: Online Platforms and Market Power, Part 5: Competitors in the Digital Economy, Committee on the Judiciary, Subcommittee on Antitrust, Commercial, and Administrative Law, January 17, 2020, https://judiciary.house. gov/calendar/eventsingle.aspx?EventID=2386. 34 “History of Section 6 Report-Writing at the Federal Trade Commission,” FTC, April 1981, https:// www.ftc.gov/sites/default/files/documents/reports/history-section-6-report-writing-federal-trade-commission/231984.pdf. \\nBelow, we propose three key objectives for policymakers and enforcers that, taken together, will help address Facebook and Google’s excessive accumulation of power and the range of harms that derive from it.\\nONE: INVESTIGATE ONLINE AD AND MEDIA MARKET STRUCTURE\\nFacebook and Google know far more about advertising markets than anyone else, including policymakers. An aggressive set of investigations over the structure of online advertising and media markets using granular business data would answer key questions. How do Facebook and Google take fees in opaque and automated marketing for online advertising? How do they use business or personal data? What are the specific business relationships and contractual terms that underpin their market power?\\nAcross the globe, enforcers and regulators are undertaking studies or initiating court cases that expose aspects of how these corporations operate. Germany, France, the European Union, Israel, India, Singapore, Russia, Mexico, and Australia have all started down this path. In the United States, the U.S. House Judiciary Committee’s Subcommittee on Antitrust, Commercial and Administrative Law is currently engaged in a bipartisan investigation of Facebook, Google, Apple, and Amazon.\\nBut more tools are available. To help guide policymakers, the FTC should use its authority under Section 6(b) of the FTC Act to study the online advertising and media industry. The FTC has a long history of critical investigative and report-writing work.36 Its investigations led to the Packers and Stockyards Act of 1921, the Grain Futures Act of 1922, the Securities Act of 1933, the Robinson-Patman Act of 1936, the Stock Exchange Act of 1934, and the Public Utilities Act of 1935 – all legislation that restructured industrial or financial sectors.\\nSuch an investigation would require a sectoral analysis of each individual platform and the market in which it operates. These analyses should provide a rich understanding of platforms underpinning online video, maps, search, third-party tracking, location tracking, app stores, ad data, and ad exchanges. In addition, such analyses should be particularly attentive to racial or gender biases that might be embedded in allegedly neutral algorithms.\\n36 “History of Section 6 Report-Writing at the Federal Trade Commission,” FTC, April 1981, https://www.ftc.gov/sites/default/files/documents/ reports/history-section-6-report-writing-federal-trade-commission/231984.pdf. \\n TWO: RESTORE ACCOUNTABILITY THROUGH STRUCTURAL SEPARATIONS AND MEASURES TO ENHANCE COMPETITION \\nFacebook and Google are complex and powerful institutions that are too big to regulate. Simplifying the business models through separating out various lines of business into independent corporations would enable policymakers to understand and regulate these institutions. Establishing and enforcing additional rules preventing reconsolidation is also necessary to restore market-based accountability. \\nThere are several ways that Facebook and Google can be structurally separated:\\n• SEPARATION BY FUNCTION. Facebook and Google subsidiaries can be separated out based on function. For instance, splitting out general search from mapping, Android, and YouTube could be one approach. The advantage of function-based structural separation is that individual divisions in Google, for example, would no longer have an incentive to privilege other divisions within Google. General search, for instance, would no longer automatically funnel addresses or local search terms to Google Maps, but could choose other partners based on open business terms.\\n• BUSINESS LINE SEPARATION. Facebook and Google subsidiaries could be separated out along existing technical business lines to enhance competition among horizontal competitors. Facebook, Instagram, and WhatsApp, for example, could be separated to heighten competition over quality, such as improved privacy settings, reduced surveillance, the quality of their mobile applications, or the quantity of ads.\\n• VERTICAL SEPARATION. Some business lines could be separated between production and distribution. For example, general search can be divided into the search engine web page Google.com, the underlying web crawl (the unseen function that indexes internet sites for searching), and the ad feed. This division would enable other firms to license the underlying web crawl, creating a new and open competitive market of search engines that might compete on the quality of their interface or on improvements to the underlying search technology. As recently as 2002, Google supplied the underlying search technology to Yahoo, while Yahoo served as a retail brand powered by Google.\\nNone of these approaches are mutually exclusive. Functional, business line, and vertical separation can all be done at once. Such changes would result in new, independent companies – Instagram, WhatsApp, Facebook, Messenger, Maps, Google Search technology, Google Search Engine, YouTube, Android/Play, Google Advertising, Analytics, Drive, Chrome, Gmail, and infrastructure services – that can innovate around a variety of business models. \\n There are several legal pathways to achieve structural separations. They include:\\n• ANTITRUST ENFORCEMENT. Large bipartisan groups of state attorneys general are currently undertaking broad antitrust investigations into Facebook and Google. These investigations could – and should – result in structural separations as a remedy. The Justice Department and the FTC are also reviewing antitrust concerns and could file suit. While conservative courts could reasonably be expected to blunt aggressive remedies, this outcome is not foreordained and should be aggressively tested.\\n• STATUTE. Congress could force break ups through approaches modeled on past legislation, like the Public Utility Holding Company Act of 1935, which precluded utility-holding companies from operating across state lines. Congress or the FTC could also impose interoperability requirements to end the chokehold over the flow of information Facebook and Google currently command. Bipartisan legislation, the ACCESS Act, has been introduced to accomplish this goal. The National Institute of Standards and Technology (NIST) and the FTC could also serve as a convening body for the development of interoperability standards. NIST has promulgated standards recently on fingerprinting technology, electricity grid interoperability, industrial control system security, and cybersecurity.\\n• REGULATION. Finally, the FTC could act under its Section 5 authority to prohibit unfair methods of competition. This section of the law provides fairly open-ended authority and could be used to bar business models with embedded conflicts of interest.\\nSeparating Facebook and Google into their component parts would reduce their power, but even Facebook’s social network or Google search as standalone corporations would be too powerful. Additional steps are necessary to promote competition in each resulting market. They include:\\n• INTEROPERABILITY MANDATES. Their status as closed networks with more than a billion users each fortifies Facebook and Google’s market power. After policymakers have reduced the power of these networks by separating them out into simpler lines of business, interoperability requirements can reduce the power of any one line of business. For new entrants to succeed, Facebook and Google’s services should be interoperable with those provided by startups and smaller companies, so users can connect and communicate with other users still on dominant platforms. This approach is similar in concept to the way in which a phone operating on a Verizon network is interoperable with one operating on an AT&T network. Interoperability is essential for facilitating new market entrants that would otherwise be locked out as a result the network advantages that incumbents create through acquisitions and market power. \\n • REGULATE DATA AS AN ESSENTIAL FACILITY. Large stores of data also underpin Facebook and Google’s market power. After policymakers have reduced the power of these networks by separating them out into simpler lines of business, ensuring equal access to data constricts the power of any one line of business and fosters innovation.Currently, the debate over privacy is confused with the debate over the competitive playing field. We can choose to restrict the use of private data or enable it. Right now, however, there are essentially two different privacy regimes. Facebook and Google can use intrusive private data, while other corporations cannot. The point of regulating data as an essential facility is to ensure equal access among all businesses to essential data. For example, if Google’s underlying mapping data were publicly available under fair, reasonable, and non-discriminatory terms (FRAND, an established legal concept) as proposed by Senator Mark Warner and others, the mapping space would likely have a range of differentiated, competitive offerings. Whatever choices we make about privacy should remain distinct from using any particular decision about privacy to provide one corporation with a competitive advantage based on superior access to data.\\n• BAN ABUSIVE PRACTICES. Preventing platforms from controlling publishers, businesses, and users requires far stronger enforcement of rules against abusive behavior. This step includes updating standards for false and deceptive practices in user interface designs that incentivize addiction or deception, banning unreadable end user license agreements, ending the practice of communications networks favoring its own products or services or forcing companies selling their own products to pay for their own trademark in search terms, and prohibiting payola-style deals such as Google’s payment to Apple to set the default search engine for Safari to Google’s product.\\nTHREE: CREATE NEUTRAL PLATFORMS BY REGULATING BUSINESS DATA RULES AND ADVERTISING MARKETS\\nFacebook and Google’s current business model relies on surveillance, addiction, discrimination, and manipulation. To turn these platforms into safe, neutral networks for communication, policymakers must focus on regulating advertising practices, and in particular on the dangers inherent in targeted advertising. This could take a number of approaches:\\nUltimately, communications networks like Facebook and Google should be prohibited from advertising altogether. A simple prohibition on communications networks operating advertising businesses would eliminate the incentive to surveil and manipulate users. As one example of how such a rule has been enacted in the past, telecommunications regulations used to ensure local phone networks could not exploit knowledge of people or firms its customers contacted for marketing purposes. Similarly, a dominant communications network like Facebook or Google should have no incentive to misuse user data, nor should they interfere with the communications of its customers based on the payments of a third party. Although Facebook and Google are \\n primarily financed through advertising, both have non-advertising revenue they could amplify through subscriptions or so-called “freemium” approaches that mix free and paid services.\\n• BAN FACEBOOK AND GOOGLE FROM MOST FORMS OF AD TARGETING. Because a blanket ban on advertising would be too disruptive, preventing communications networks from engaging in most forms of targeted advertising could serve as an intermediary step. Such a ban would dramatically reduce incentives to collect and store user information. Facebook and Google would move to what are known as “contextual advertising business models,” displaying ads based on the context of the publication or web page, rather than the identity of the user. While barring behavioral advertising would not address a host of harms, such as the incentive to self-deal or the over-utilization of online services, it could act as a bridging policy to minimize disruption before a more comprehensive ban takes effect. Other policies would need to be organized to address third party data brokers and other businesses that rely on invasive surveillance.\\n• IMPLEMENT A “DO NOT TRACK” LIST. This approach would be similar to a ban on third-party targeted advertising, although it would allow users to opt-in to targeting with ads using third party data. This solution should be a complement rather than a substitute to structural separation.\\n• MAKE FACEBOOK AND GOOGLE RESPONSIBLE FOR CONTENT. Communications networks should be forced to make a choice between being regulated as a communications facility or as a publisher. Requiring this decision means modifying Section 230 of the Communications Decency Act and Section 512 of the Digital Millennium Copyright Act so that large communications networks do not receive liability protection if they profit from advertising or targeted advertising. This modification would likely force Facebook and Google to change their business model. Amending Section 230 and Section 512 would also help restore a level playing field for publishers, who are legally responsible for the content they publish.\\nWhile well-intentioned, solutions that accept the inevitability of Facebook and Google’s monopoly power and business model are ultimately inadequate and, in some cases, could fortify their dominance. We offer brief commentary on several popular approaches:\\n• REGULATION THROUGH A NEW OR EXISTING AGENCY WITHOUT ADDRESSING FACEBOOK AND GOOGLE’S POWER IS INSUFFICIENT. There is a great temptation to attempt to match the monopoly power of tech platforms with the regulatory power of the state, particularly in the context of protecting people from dangerous content or privacy violations. Such an approach would lead inevitably to regulatory capture. Google and Facebook know much more about their business than enforcers and regulators, so their power must be broken and fragmented before regulatory approaches can succeed. \\n• PURSUING A PRIVACY-ONLY APPROACH WOULD BE INCOMPLETE. As long as Facebook and Google profit from a business model fueled by surveillance and data collection, strong incentives will exist to violate user privacy and evade regulations. This approach also risks falling short due to lax enforcement of privacy laws. There are, however, policy frameworks centered around protecting privacy that would also restructure Facebook and Google’s business models, such as an opt-out Do Not Track feature.\\n• BANS ON POLITICAL ADS HAND POLICING POWER TO FACEBOOK AND GOOGLE. Banning political ads, or banning microtargeting solely for political ads, is not a safe long-term approach. Deferring to Facebook or Google to determine what constitutes political content is inherently dangerous and subject to self-serving bias and manipulation. Since there is no hard and fast rule for determining what is political in nature, voluntary strictures risk skewing public discourse in dangerous and unpredictable ways. This approach would require a public authority to determine what is political – an inherently fraught and likely impossible task – as well as extensive audits and policing of extraordinarily complex platforms.\\n• FUNDING NEWSGATHERING BY TAXING PLATFORMS WON’T PRESERVE A FREE PRESS. State funding for journalism — either discretionary or through some sort of tax on targeted advertising — can be dangerous. A revenue stream derived from online targeted advertising creates an incentive for speech platforms to protect the business model of Facebook and Google. Even state funding, without any link to online advertising, creates a dependency of the free press on the state. Advertising is a mechanism to finance newsgathering and shield that newsgathering from the state. State or philanthropic funding can supplement a diverse free press, but it is not a sustainable substitute for a vibrant and decentralized advertising market. \\nToday, policymakers and enforcers around the globe are pursuing investigations and new policy approaches focused on the sources of Facebook and Google’s power and abuse: their reliance on digital advertising to generate profit and dominance in this digital advertising market. We hope this paper establishes several key claims: 1) Facebook and Google’s broad range of harms to society are interrelated and caused or exacerbated by their focus on digital advertising and dominance of it; 2) Facebook and Google’s dominance and business model are the result of repeated, ideologically-driven regulatory and law enforcement mistakes, rather than inevitable technological developments; and 3) a critical moment of political opportunity exists to spur policymakers to address the harms at the root by building consensus around an approach of regulated competition.\\nWe welcome feedback and opportunities to learn from others who are developing solutions to the challenges that Facebook and Google pose. We’re grateful to the many individuals whose writing and ideas have informed this paper, and to the broader community of policymakers, experts, advocates, business people, and tech workers who all seek to make the technology captured by Facebook and Google serve rather than subvert our democracy. ', 'meta': {'name': 'corporatepower.txt'}}]\n"
          ]
        },
        {
          "output_type": "stream",
          "name": "stderr",
          "text": [
            "09/08/2021 08:55:12 - INFO - elasticsearch -   POST http://localhost:9200/_bulk?refresh=wait_for [status:200 request:1.783s]\n"
          ]
        }
      ]
    },
    {
      "cell_type": "markdown",
      "metadata": {
        "id": "BWzoKc9ETu4D"
      },
      "source": [
        "## Initalize Retriever, Reader,  & Pipeline\n",
        "\n",
        "### Retriever\n",
        "\n",
        "Retrievers help narrowing down the scope for the Reader to smaller units of text where a given question could be answered.\n",
        "They use some simple but fast algorithm.\n",
        "\n",
        "**Here:** We use Elasticsearch's default BM25 algorithm\n",
        "\n"
      ]
    },
    {
      "cell_type": "code",
      "metadata": {
        "id": "o8v0bMr9Tu4E"
      },
      "source": [
        "from haystack.retriever.sparse import ElasticsearchRetriever\n",
        "retriever = ElasticsearchRetriever(document_store=document_store)"
      ],
      "execution_count": 26,
      "outputs": []
    },
    {
      "cell_type": "code",
      "metadata": {
        "pycharm": {
          "is_executing": false,
          "name": "#%%\n"
        },
        "id": "M7LiCZIwTu4E"
      },
      "source": [
        "# Alternative: An in-memory TfidfRetriever based on Pandas dataframes for building quick-prototypes with SQLite document store.\n",
        "\n",
        "# from haystack.retriever.sparse import TfidfRetriever\n",
        "# retriever = TfidfRetriever(document_store=document_store)"
      ],
      "execution_count": null,
      "outputs": []
    },
    {
      "cell_type": "markdown",
      "metadata": {
        "id": "yBshfX8FTu4E"
      },
      "source": [
        "### Reader\n",
        "\n",
        "A Reader scans the texts returned by retrievers in detail and extracts the k best answers. They are based\n",
        "on powerful, but slower deep learning models.\n"
      ]
    },
    {
      "cell_type": "code",
      "metadata": {
        "pycharm": {
          "is_executing": false
        },
        "id": "NsbZf8kLTu4F",
        "colab": {
          "base_uri": "https://localhost:8080/",
          "height": 756,
          "referenced_widgets": [
            "d57ccb8c7d894bd8b54de31a9595dc56",
            "08ab4f1443244c84b8c3dfdd710f6397",
            "9edf2c9703304dbd842c5e7c08bf1c23",
            "ade54050987a499cb15e9d599e9aa14d",
            "a2a5b61c8e41475a80acc976646cb9e0",
            "0af1a21b418148cc8caebd8fdce62c19",
            "cfba20abc3cd4c34903dd61b169d10fa",
            "5a4e85656607427a9cd51398861907b2",
            "74bbf872b7d640b19d36eeed64e51dbc",
            "64db517f5fe94b2fbeb49692d9caa613",
            "5a0aa06fb2f145adadde762fdb111a45",
            "1db34767007d47bcb917b348aed5cc30",
            "9c4d622a5c64412295d1a62cb1883826",
            "9f916bdfaafb41b385ead172ca516dc9",
            "760c2c2789fa473d97884cef61044473",
            "5064b1d3e349483781422ba5e053a728",
            "fb03764f311a402da01a02c8fe7f1852",
            "97505604ed324daa9aa78beb544e6891",
            "5fff21e3b6cd415ba9e5ced51ed486a7",
            "3a82f0345b7448b7b3f7f67ddcb3ef0f",
            "1e2b20c7e0094dfdb9f7bf63187198f7",
            "0231f208fe904db1ba0c3182c12993ee",
            "af00d0e892d64e7eb141f49a8311aaee",
            "5c0f80925b25458cae9e7dafd6eb3130",
            "8e4d468accba49f0ae71105b266e82e7",
            "aae786d6de024d2aaa214cb48b88efa3",
            "0f0c3f32fd674933854bc4543b6fecff",
            "0de737d6ed5647eaaf94669e2fc4c790",
            "f389aa30b20b431cb3f602bac1143991",
            "937af3ec119c4d16b0adc2929d635638",
            "dadc5da79a774d58b7d75c2d869db004",
            "b33b4e4f0e7745ddbb55cb2037c1128d",
            "b37b7977921e42599cfcd3d6052fcb86",
            "49ebb2f667b640cda64286c7d21553bb",
            "472f33be04b14aca8b8dacbcbf5ceb9c",
            "661c00d2e93f46b99ddde963420191ff",
            "1af64f5b11a14578a2fca4d29b64cd3b",
            "82b4b8e47cd64593a4d794dbf44a30b7",
            "d0d004d86fd4463689cc17f9fbb96f1b",
            "47f63c17d7e246cf96c9fe560f1dff33",
            "e6834b4e40654c1983121e2623f83919",
            "78a45f38afab4f22bf89c305de3eb6e2",
            "ed26a0ed07294da0aaa83502b0f83813",
            "e11306081c994e6e916746fb8b26df11",
            "a65f3ba590ec40b9b073e5eace36fe3f",
            "e045cfdc62e4450b8c2dfb98f968902b",
            "e838f4d151414d03953692983e728048",
            "f23846551a68492993eae90e64f26e9f",
            "75672e93d2064ea3867c2549307ee38c",
            "a6075674565a401789106bc27cb051bb",
            "cd54e115c3be447ab77284185a2d626b",
            "5a1d39c766c442c58b8c41bc05db4268",
            "9dedc38cf9e34470af46d9a5a805f775",
            "df92c9d0b1ca437d8c3bc1d155a17ee1",
            "27f4b016bfcf49e4a6cc4b665a082ade",
            "91f0b3565af5430dbffaed80f08977ee",
            "b115b9a7a657415ba53c2780230be1b4",
            "9b8041849ae94cd6bc9c83decfc1dd91",
            "d4d61f9e8a034787a140365568ac6ec8",
            "7578514c47be451f95c91d8b51ca47d0",
            "5388239b07f349d88ef844bf40ff2546",
            "d9fbdcc635c34265828e247675b0f7a3",
            "a26a231c027448218c79ba4cb03cf530",
            "f3dd1c789a1c4101a13acd37f3cfd8b8",
            "da1a2d8a74c5433395e5333103894a5a",
            "cef0720fa9ea44d58ef783022bec5fbb"
          ]
        },
        "outputId": "287931ab-88f2-45ce-99a7-4b20d1cad430"
      },
      "source": [
        "# Load a  local model or any of the QA models on\n",
        "# Hugging Face's model hub (https://huggingface.co/models)\n",
        "\n",
        "reader = FARMReader(model_name_or_path=\"deepset/roberta-base-squad2\", use_gpu=True)"
      ],
      "execution_count": 10,
      "outputs": [
        {
          "output_type": "stream",
          "name": "stderr",
          "text": [
            "09/08/2021 08:55:20 - INFO - farm.utils -   Using device: CUDA \n",
            "09/08/2021 08:55:20 - INFO - farm.utils -   Number of GPUs: 1\n",
            "09/08/2021 08:55:20 - INFO - farm.utils -   Distributed Training: False\n",
            "09/08/2021 08:55:20 - INFO - farm.utils -   Automatic Mixed Precision: None\n",
            "09/08/2021 08:55:20 - INFO - filelock -   Lock 140553581156944 acquired on /root/.cache/huggingface/transformers/c40d0abb589629c48763f271020d0b1f602f5208c432c0874d420491ed37e28b.122ed338b3591c07dba452777c59ff52330edb340d3d56d67aa9117ad9905673.lock\n"
          ]
        },
        {
          "output_type": "display_data",
          "data": {
            "application/vnd.jupyter.widget-view+json": {
              "model_id": "d57ccb8c7d894bd8b54de31a9595dc56",
              "version_minor": 0,
              "version_major": 2
            },
            "text/plain": [
              "Downloading:   0%|          | 0.00/571 [00:00<?, ?B/s]"
            ]
          },
          "metadata": {}
        },
        {
          "output_type": "stream",
          "name": "stderr",
          "text": [
            "09/08/2021 08:55:20 - INFO - filelock -   Lock 140553581156944 released on /root/.cache/huggingface/transformers/c40d0abb589629c48763f271020d0b1f602f5208c432c0874d420491ed37e28b.122ed338b3591c07dba452777c59ff52330edb340d3d56d67aa9117ad9905673.lock\n",
            "09/08/2021 08:55:21 - INFO - filelock -   Lock 140553594424528 acquired on /root/.cache/huggingface/transformers/eac3273a8097dda671e3bea1db32c616e74f36a306c65b4858171c98d6db83e9.084aa7284f3a51fa1c8f0641aa04c47d366fbd18711f29d0a995693cfdbc9c9e.lock\n"
          ]
        },
        {
          "output_type": "display_data",
          "data": {
            "application/vnd.jupyter.widget-view+json": {
              "model_id": "1db34767007d47bcb917b348aed5cc30",
              "version_minor": 0,
              "version_major": 2
            },
            "text/plain": [
              "Downloading:   0%|          | 0.00/496M [00:00<?, ?B/s]"
            ]
          },
          "metadata": {}
        },
        {
          "output_type": "stream",
          "name": "stderr",
          "text": [
            "09/08/2021 08:55:38 - INFO - filelock -   Lock 140553594424528 released on /root/.cache/huggingface/transformers/eac3273a8097dda671e3bea1db32c616e74f36a306c65b4858171c98d6db83e9.084aa7284f3a51fa1c8f0641aa04c47d366fbd18711f29d0a995693cfdbc9c9e.lock\n",
            "Some weights of the model checkpoint at deepset/roberta-base-squad2 were not used when initializing RobertaModel: ['qa_outputs.bias', 'qa_outputs.weight']\n",
            "- This IS expected if you are initializing RobertaModel from the checkpoint of a model trained on another task or with another architecture (e.g. initializing a BertForSequenceClassification model from a BertForPreTraining model).\n",
            "- This IS NOT expected if you are initializing RobertaModel from the checkpoint of a model that you expect to be exactly identical (initializing a BertForSequenceClassification model from a BertForSequenceClassification model).\n",
            "Some weights of RobertaModel were not initialized from the model checkpoint at deepset/roberta-base-squad2 and are newly initialized: ['roberta.pooler.dense.weight', 'roberta.pooler.dense.bias']\n",
            "You should probably TRAIN this model on a down-stream task to be able to use it for predictions and inference.\n",
            "09/08/2021 08:55:45 - INFO - filelock -   Lock 140553548121616 acquired on /root/.cache/huggingface/transformers/81c80edb4c6cefa5cae64ccfdb34b3b309ecaf60da99da7cd1c17e24a5d36eb5.647b4548b6d9ea817e82e7a9231a320231a1c9ea24053cc9e758f3fe68216f05.lock\n"
          ]
        },
        {
          "output_type": "display_data",
          "data": {
            "application/vnd.jupyter.widget-view+json": {
              "model_id": "af00d0e892d64e7eb141f49a8311aaee",
              "version_minor": 0,
              "version_major": 2
            },
            "text/plain": [
              "Downloading:   0%|          | 0.00/899k [00:00<?, ?B/s]"
            ]
          },
          "metadata": {}
        },
        {
          "output_type": "stream",
          "name": "stderr",
          "text": [
            "09/08/2021 08:55:46 - INFO - filelock -   Lock 140553548121616 released on /root/.cache/huggingface/transformers/81c80edb4c6cefa5cae64ccfdb34b3b309ecaf60da99da7cd1c17e24a5d36eb5.647b4548b6d9ea817e82e7a9231a320231a1c9ea24053cc9e758f3fe68216f05.lock\n",
            "09/08/2021 08:55:46 - INFO - filelock -   Lock 140553547320272 acquired on /root/.cache/huggingface/transformers/b87d46371731376b11768b7839b1a5938a4f77d6bd2d9b683f167df0026af432.5d12962c5ee615a4c803841266e9c3be9a691a924f72d395d3a6c6c81157788b.lock\n"
          ]
        },
        {
          "output_type": "display_data",
          "data": {
            "application/vnd.jupyter.widget-view+json": {
              "model_id": "49ebb2f667b640cda64286c7d21553bb",
              "version_minor": 0,
              "version_major": 2
            },
            "text/plain": [
              "Downloading:   0%|          | 0.00/456k [00:00<?, ?B/s]"
            ]
          },
          "metadata": {}
        },
        {
          "output_type": "stream",
          "name": "stderr",
          "text": [
            "09/08/2021 08:55:46 - INFO - filelock -   Lock 140553547320272 released on /root/.cache/huggingface/transformers/b87d46371731376b11768b7839b1a5938a4f77d6bd2d9b683f167df0026af432.5d12962c5ee615a4c803841266e9c3be9a691a924f72d395d3a6c6c81157788b.lock\n",
            "09/08/2021 08:55:47 - INFO - filelock -   Lock 140553548121360 acquired on /root/.cache/huggingface/transformers/c9d2c178fac8d40234baa1833a3b1903d393729bf93ea34da247c07db24900d0.cb2244924ab24d706b02fd7fcedaea4531566537687a539ebb94db511fd122a0.lock\n"
          ]
        },
        {
          "output_type": "display_data",
          "data": {
            "application/vnd.jupyter.widget-view+json": {
              "model_id": "a65f3ba590ec40b9b073e5eace36fe3f",
              "version_minor": 0,
              "version_major": 2
            },
            "text/plain": [
              "Downloading:   0%|          | 0.00/772 [00:00<?, ?B/s]"
            ]
          },
          "metadata": {}
        },
        {
          "output_type": "stream",
          "name": "stderr",
          "text": [
            "09/08/2021 08:55:47 - INFO - filelock -   Lock 140553548121360 released on /root/.cache/huggingface/transformers/c9d2c178fac8d40234baa1833a3b1903d393729bf93ea34da247c07db24900d0.cb2244924ab24d706b02fd7fcedaea4531566537687a539ebb94db511fd122a0.lock\n",
            "09/08/2021 08:55:47 - INFO - filelock -   Lock 140553537772496 acquired on /root/.cache/huggingface/transformers/e8a600814b69e3ee74bb4a7398cc6fef9812475010f16a6c9f151b2c2772b089.451739a2f3b82c3375da0dfc6af295bedc4567373b171f514dd09a4cc4b31513.lock\n"
          ]
        },
        {
          "output_type": "display_data",
          "data": {
            "application/vnd.jupyter.widget-view+json": {
              "model_id": "91f0b3565af5430dbffaed80f08977ee",
              "version_minor": 0,
              "version_major": 2
            },
            "text/plain": [
              "Downloading:   0%|          | 0.00/79.0 [00:00<?, ?B/s]"
            ]
          },
          "metadata": {}
        },
        {
          "output_type": "stream",
          "name": "stderr",
          "text": [
            "09/08/2021 08:55:47 - INFO - filelock -   Lock 140553537772496 released on /root/.cache/huggingface/transformers/e8a600814b69e3ee74bb4a7398cc6fef9812475010f16a6c9f151b2c2772b089.451739a2f3b82c3375da0dfc6af295bedc4567373b171f514dd09a4cc4b31513.lock\n",
            "09/08/2021 08:55:47 - WARNING - farm.utils -   ML Logging is turned off. No parameters, metrics or artifacts will be logged to MLFlow.\n",
            "09/08/2021 08:55:47 - INFO - farm.utils -   Using device: CUDA \n",
            "09/08/2021 08:55:47 - INFO - farm.utils -   Number of GPUs: 1\n",
            "09/08/2021 08:55:47 - INFO - farm.utils -   Distributed Training: False\n",
            "09/08/2021 08:55:47 - INFO - farm.utils -   Automatic Mixed Precision: None\n",
            "09/08/2021 08:55:47 - INFO - farm.infer -   Got ya 2 parallel workers to do inference ...\n",
            "09/08/2021 08:55:47 - INFO - farm.infer -    0    0 \n",
            "09/08/2021 08:55:47 - INFO - farm.infer -   /w\\  /w\\\n",
            "09/08/2021 08:55:47 - INFO - farm.infer -   /'\\  / \\\n",
            "09/08/2021 08:55:47 - INFO - farm.infer -     \n"
          ]
        }
      ]
    },
    {
      "cell_type": "markdown",
      "metadata": {
        "id": "rj-msybwTu4F"
      },
      "source": [
        "#### TransformersReader"
      ]
    },
    {
      "cell_type": "code",
      "metadata": {
        "id": "as75y-z7Tu4F"
      },
      "source": [
        "# Alternative:\n",
        "# reader = TransformersReader(model_name_or_path=\"distilbert-base-uncased-distilled-squad\", tokenizer=\"distilbert-base-uncased\", use_gpu=-1)"
      ],
      "execution_count": null,
      "outputs": []
    },
    {
      "cell_type": "markdown",
      "metadata": {
        "id": "zf3EqBFdTu4G"
      },
      "source": [
        "### Pipeline\n",
        "\n",
        "With a Haystack `Pipeline` you can stick together your building blocks to a search pipeline.\n",
        "Under the hood, `Pipelines` are Directed Acyclic Graphs (DAGs) that you can easily customize for your own use cases.\n",
        "To speed things up, Haystack also comes with a few predefined Pipelines. One of them is the `ExtractiveQAPipeline` that combines a retriever and a reader to answer our questions.\n",
        "You can learn more about `Pipelines` in the [docs](https://haystack.deepset.ai/docs/latest/pipelinesmd)."
      ]
    },
    {
      "cell_type": "code",
      "metadata": {
        "pycharm": {
          "is_executing": false
        },
        "id": "SXkS6M8mTu4G"
      },
      "source": [
        "from haystack.pipeline import ExtractiveQAPipeline\n",
        "pipe = ExtractiveQAPipeline(reader, retriever)"
      ],
      "execution_count": 27,
      "outputs": []
    },
    {
      "cell_type": "markdown",
      "metadata": {
        "id": "xnOHuVHuTu4G"
      },
      "source": [
        "## Voilà! Ask a question!"
      ]
    },
    {
      "cell_type": "code",
      "metadata": {
        "colab": {
          "base_uri": "https://localhost:8080/"
        },
        "id": "dgWkCUm4ml6e",
        "outputId": "957615e5-557e-40da-fe74-e9c68da5759d"
      },
      "source": [
        "# You can configure how many candidates the reader and retriever shall return\n",
        "# The higher top_k_retriever, the better (but also the slower) your answers. \n",
        "prediction = pipe.run(query=\"is Google a monopolist?\", top_k_retriever=10, top_k_reader=5)"
      ],
      "execution_count": 12,
      "outputs": [
        {
          "output_type": "stream",
          "name": "stderr",
          "text": [
            "09/08/2021 08:55:48 - INFO - elasticsearch -   POST http://localhost:9200/document/_search [status:200 request:0.203s]\n",
            "Inferencing Samples: 100%|██████████| 16/16 [00:22<00:00,  1.40s/ Batches]\n",
            "Inferencing Samples: 100%|██████████| 9/9 [00:11<00:00,  1.33s/ Batches]\n",
            "Inferencing Samples: 100%|██████████| 3/3 [00:03<00:00,  1.01s/ Batches]\n",
            "Inferencing Samples: 100%|██████████| 1/1 [00:01<00:00,  1.33s/ Batches]\n",
            "Inferencing Samples: 100%|██████████| 2/2 [00:01<00:00,  1.23 Batches/s]\n",
            "Inferencing Samples: 100%|██████████| 1/1 [00:00<00:00,  5.21 Batches/s]\n",
            "Inferencing Samples: 100%|██████████| 1/1 [00:00<00:00,  5.51 Batches/s]\n"
          ]
        }
      ]
    },
    {
      "cell_type": "code",
      "metadata": {
        "colab": {
          "base_uri": "https://localhost:8080/"
        },
        "id": "GtCGmVOFn5oS",
        "outputId": "7e7d2e6d-2b17-4315-aea5-08162ef116e2"
      },
      "source": [
        "print_answers(prediction, details=\"minimal\")"
      ],
      "execution_count": 13,
      "outputs": [
        {
          "output_type": "stream",
          "name": "stdout",
          "text": [
            "[   {   'answer': 'Google is a dominant internet search company',\n",
            "        'context': 'tion in search. 1. Google Search/Google Verticals. — '\n",
            "                   'Google is a dominant internet search company, capturing '\n",
            "                   'around 88% of the U.S. search engine mark'},\n",
            "    {   'answer': 'No firm with a market share of less than 50% is a '\n",
            "                  'monopolist',\n",
            "        'context': 'tic share of the relevant app market.314 314 No firm with '\n",
            "                   'a market share of less than 50% is a monopolist. Compare '\n",
            "                   'United States v. Aluminum Co. of Am'},\n",
            "    {   'answer': 'supracompetitive',\n",
            "        'context': 'JKR8] (last visited Apr. 4, 2019)....margins that would '\n",
            "                   'qualify as supracompetitive and that derive from a market '\n",
            "                   'that Google dominates. Since 2004, A'},\n",
            "    {   'answer': 'the search market',\n",
            "        'context': 'er market—for Facebook, the social network market, and for '\n",
            "                   'Google, the search market. Armed with data derived from '\n",
            "                   'Facebook’s new surveillance capabil'},\n",
            "    {   'answer': 'Google is the only entity that is vertically integrated '\n",
            "                  'across the ad-tech stack and holds large market shares at '\n",
            "                  'each point in the stack',\n",
            "        'context': 'ayed.8 Google is the only entity that is vertically '\n",
            "                   'integrated across the ad-tech stack and holds large market '\n",
            "                   'shares at each point in the stack.9 The'}]\n"
          ]
        }
      ]
    },
    {
      "cell_type": "code",
      "metadata": {
        "pycharm": {
          "is_executing": false
        },
        "id": "zpZnuvAsTu4G",
        "colab": {
          "base_uri": "https://localhost:8080/"
        },
        "outputId": "253708b0-4da5-4374-e27c-db23c2646cff"
      },
      "source": [
        "# You can configure how many candidates the reader and retriever shall return\n",
        "# The higher top_k_retriever, the better (but also the slower) your answers. \n",
        "prediction = pipe.run(query=\"is Facebook a monopolist?\", top_k_retriever=10, top_k_reader=5)"
      ],
      "execution_count": 37,
      "outputs": [
        {
          "output_type": "stream",
          "name": "stderr",
          "text": [
            "09/08/2021 09:23:23 - INFO - elasticsearch -   POST http://localhost:9200/document/_search [status:200 request:0.024s]\n",
            "Inferencing Samples: 100%|██████████| 16/16 [00:22<00:00,  1.40s/ Batches]\n",
            "Inferencing Samples: 100%|██████████| 9/9 [00:11<00:00,  1.33s/ Batches]\n",
            "Inferencing Samples: 100%|██████████| 3/3 [00:03<00:00,  1.01s/ Batches]\n",
            "Inferencing Samples: 100%|██████████| 1/1 [00:01<00:00,  1.35s/ Batches]\n",
            "Inferencing Samples: 100%|██████████| 1/1 [00:00<00:00,  5.07 Batches/s]\n",
            "Inferencing Samples: 100%|██████████| 2/2 [00:01<00:00,  1.25 Batches/s]\n",
            "Inferencing Samples: 100%|██████████| 1/1 [00:00<00:00,  5.21 Batches/s]\n"
          ]
        }
      ]
    },
    {
      "cell_type": "code",
      "metadata": {
        "pycharm": {
          "is_executing": false,
          "name": "#%%\n"
        },
        "id": "sebqfH5-Tu4H",
        "colab": {
          "base_uri": "https://localhost:8080/"
        },
        "outputId": "6d26d5ac-506e-46d7-c557-307317ef670b"
      },
      "source": [
        "print_answers(prediction, details=\"minimal\")"
      ],
      "execution_count": 38,
      "outputs": [
        {
          "output_type": "stream",
          "name": "stdout",
          "text": [
            "[   {   'answer': 'Facebook is a monopoly',\n",
            "        'context': 'eciating and correcting for the foreclosure of consumer '\n",
            "                   'choice. Facebook is a monopoly that tipped the early '\n",
            "                   'market with promises of data privacy and '},\n",
            "    {   'answer': 'Facebook is a monopoly',\n",
            "        'context': 'media was enabled by a policy of deceiving users about '\n",
            "                   'privacy:\\n'\n",
            "                   'Facebook is a monopoly that tipped the early market with '\n",
            "                   'promises of data privacy and '},\n",
            "    {   'answer': 'Facebook may be a monopoly',\n",
            "        'context': 'htened Scrutiny in Markets with Direct Network Effects '\n",
            "                   'Though Facebook may be a monopoly, antitrust law, and the '\n",
            "                   'Sherman Act specifically, only condem'},\n",
            "    {   'answer': 'Facebook is a monopolist',\n",
            "        'context': 'lity inasmuch as they do price. As I will argue in this '\n",
            "                   'Paper, Facebook is a monopolist, and what Facebook '\n",
            "                   'extracts overtly from consumers today, from'},\n",
            "    {   'answer': 'Facebook is a dominant social network',\n",
            "        'context': 'heir search adverts on these websites.”).... C. FACEBOOK '\n",
            "                   'Facebook is a dominant social network. Around two-thirds '\n",
            "                   'of Americans use Facebook, three-qua'}]\n"
          ]
        }
      ]
    },
    {
      "cell_type": "code",
      "metadata": {
        "id": "4fbrJf2RmktI"
      },
      "source": [
        ""
      ],
      "execution_count": null,
      "outputs": []
    },
    {
      "cell_type": "code",
      "metadata": {
        "id": "oc5pqBJzWoRl"
      },
      "source": [
        ""
      ],
      "execution_count": null,
      "outputs": []
    },
    {
      "cell_type": "code",
      "metadata": {
        "id": "nfUkt2JsWoUI",
        "colab": {
          "base_uri": "https://localhost:8080/"
        },
        "outputId": "432e3957-297e-44a7-e1e4-55a257389a50"
      },
      "source": [
        "# You can configure how many candidates the reader and retriever shall return\n",
        "# The higher top_k_retriever, the better (but also the slower) your answers. \n",
        "prediction = pipe.run(query=\"Who is Lina Khan\", top_k_retriever=5, top_k_reader=5)\n",
        "print_answers(prediction, details=\"minimal\")"
      ],
      "execution_count": 29,
      "outputs": [
        {
          "output_type": "stream",
          "name": "stderr",
          "text": [
            "09/08/2021 09:01:40 - INFO - elasticsearch -   POST http://localhost:9200/document/_search [status:200 request:0.040s]\n",
            "Inferencing Samples: 100%|██████████| 2/2 [00:01<00:00,  1.13 Batches/s]\n",
            "Inferencing Samples: 100%|██████████| 1/1 [00:01<00:00,  1.35s/ Batches]\n",
            "Inferencing Samples: 100%|██████████| 16/16 [00:22<00:00,  1.40s/ Batches]\n",
            "Inferencing Samples: 100%|██████████| 9/9 [00:12<00:00,  1.34s/ Batches]\n",
            "Inferencing Samples: 100%|██████████| 3/3 [00:03<00:00,  1.02s/ Batches]"
          ]
        },
        {
          "output_type": "stream",
          "name": "stdout",
          "text": [
            "[   {   'answer': 'wunderkind lawyer',\n",
            "        'context': 'l. Sitting just behind Cicilline at the hearing was Lina '\n",
            "                   'Khan, the wunderkind lawyer who has reshaped the national '\n",
            "                   'conversation about tech and antitru'},\n",
            "    {   'answer': 'technology companies',\n",
            "        'context': 'E: WHAT ARE THEY?\\n'\n",
            "                   'Facebook and Google are commonly understood as technology '\n",
            "                   'companies, but they are more accurately described as '\n",
            "                   'communications networ'},\n",
            "    {   'answer': 'Amazon',\n",
            "        'context': 'ly through examining the structure of markets.255 255 See '\n",
            "                   'Lina M. Khan, Amazon’s Antitrust Paradox, 126 Yale L.J. '\n",
            "                   '710, 717– 22 (2017) [hereinafter Kha'},\n",
            "    {   'answer': 'the face of a new, more aggressive school of thought on '\n",
            "                  'antitrust policy',\n",
            "        'context': 'ifically to help lead this inquiry. As the face of a new, '\n",
            "                   'more aggressive school of thought on antitrust policy, '\n",
            "                   'Khan’s presence at these hearings is '},\n",
            "    {   'answer': 'Zephyr Teachout',\n",
            "        'context': 'lude true democracy and liberty in our political '\n",
            "                   'sphere.529 529 See Zephyr Teachout & Lina Khan, Market '\n",
            "                   'Structure and Political Law: A Taxonomy of Pow'}]\n"
          ]
        },
        {
          "output_type": "stream",
          "name": "stderr",
          "text": [
            "\n"
          ]
        }
      ]
    },
    {
      "cell_type": "code",
      "metadata": {
        "id": "taaHzCEvWoWV",
        "colab": {
          "base_uri": "https://localhost:8080/"
        },
        "outputId": "36f0de12-514f-42a0-c150-5ce7532b43a8"
      },
      "source": [
        "# You can configure how many candidates the reader and retriever shall return\n",
        "# The higher top_k_retriever, the better (but also the slower) your answers. \n",
        "prediction = pipe.run(query=\"Apple abuse of power\", top_k_retriever=4, top_k_reader=5)\n",
        "print_answers(prediction, details=\"minimal\")"
      ],
      "execution_count": 30,
      "outputs": [
        {
          "output_type": "stream",
          "name": "stderr",
          "text": [
            "09/08/2021 09:02:21 - INFO - elasticsearch -   POST http://localhost:9200/document/_search [status:200 request:0.040s]\n",
            "Inferencing Samples: 100%|██████████| 2/2 [00:01<00:00,  1.22 Batches/s]\n",
            "Inferencing Samples: 100%|██████████| 1/1 [00:01<00:00,  1.34s/ Batches]\n",
            "Inferencing Samples: 100%|██████████| 16/16 [00:22<00:00,  1.41s/ Batches]\n",
            "Inferencing Samples: 100%|██████████| 3/3 [00:03<00:00,  1.02s/ Batches]"
          ]
        },
        {
          "output_type": "stream",
          "name": "stdout",
          "text": [
            "[   {   'answer': 'Apple Music',\n",
            "        'context': 'ould market through Apple, as Apple ramped up its '\n",
            "                   'competitor service, Apple Music.177177 Id. This is not the '\n",
            "                   'first time that developers have alleged d'},\n",
            "    {   'answer': 'technology companies',\n",
            "        'context': 'E: WHAT ARE THEY?\\n'\n",
            "                   'Facebook and Google are commonly understood as technology '\n",
            "                   'companies, but they are more accurately described as '\n",
            "                   'communications networ'},\n",
            "    {   'answer': 'BlueMail',\n",
            "        'context': ' after the feature was announced in June 2019, Blix says, '\n",
            "                   'Apple kicked BlueMail off of its Mac App Store. Apple '\n",
            "                   'maintains that was for security reason'},\n",
            "    {   'answer': '3.9%)',\n",
            "        'context': 'ompetitor, eBay, enjoys 6.6% of the ecommerce market, '\n",
            "                   'followed by Apple (3.9%) and Walmart (3.7%). Lunden, '\n",
            "                   'Amazon’s Share of the US E-Commerce Market,'},\n",
            "    {   'answer': 'We have always been shameless about stealing great ideas',\n",
            "        'context': 't artists steal,” Jobs said of Apple in 2006. “We have '\n",
            "                   'always been shameless about stealing great ideas.” Company '\n",
            "                   'executives later tried to finesse th'}]\n"
          ]
        },
        {
          "output_type": "stream",
          "name": "stderr",
          "text": [
            "\n"
          ]
        }
      ]
    },
    {
      "cell_type": "code",
      "metadata": {
        "colab": {
          "base_uri": "https://localhost:8080/"
        },
        "id": "wRw96RiBpHYU",
        "outputId": "3fa97cb1-b64d-474b-f58f-17b556391d65"
      },
      "source": [
        "# You can configure how many candidates the reader and retriever shall return\n",
        "# The higher top_k_retriever, the better (but also the slower) your answers. \n",
        "prediction = pipe.run(query=\"is Apple a monopolist ?\", top_k_retriever=4, top_k_reader=5)\n",
        "print_answers(prediction, details=\"minimal\")"
      ],
      "execution_count": 31,
      "outputs": [
        {
          "output_type": "stream",
          "name": "stderr",
          "text": [
            "09/08/2021 09:02:51 - INFO - elasticsearch -   POST http://localhost:9200/document/_search [status:200 request:0.023s]\n",
            "Inferencing Samples: 100%|██████████| 16/16 [00:22<00:00,  1.42s/ Batches]\n",
            "Inferencing Samples: 100%|██████████| 9/9 [00:12<00:00,  1.34s/ Batches]\n",
            "Inferencing Samples: 100%|██████████| 2/2 [00:01<00:00,  1.24 Batches/s]\n",
            "Inferencing Samples: 100%|██████████| 1/1 [00:01<00:00,  1.35s/ Batches]"
          ]
        },
        {
          "output_type": "stream",
          "name": "stdout",
          "text": [
            "[   {   'answer': 'Apple isn’t a monopoly',\n",
            "        'context': 'ber, Cook seemed to be hedging his bets. While maintaining '\n",
            "                   'that Apple isn’t a monopoly, he mused in an interview that '\n",
            "                   '“a monopoly by itself isn’t bad '},\n",
            "    {   'answer': 'Apple, they say, may not look like a classic monopoly',\n",
            "        'context': 'make the case for regulating the company anyway. Apple, '\n",
            "                   'they say, may not look like a classic monopoly. But when '\n",
            "                   'it comes to how it runs the iOS App S'},\n",
            "    {   'answer': 'Whether Apple can be a monopoly with a market share of less '\n",
            "                  'than 50% is thus an open question',\n",
            "        'context': 'er to be found guilty of it. Whether Apple can be a '\n",
            "                   'monopoly with a market share of less than 50% is thus an '\n",
            "                   'open question. “Monopoly is not a binary,'},\n",
            "    {   'answer': 'Apple’s total control of the App Store',\n",
            "        'context': 'd compromise the operation of iOS and iPhones. However, '\n",
            "                   'Apple’s total control of the App Store can be used to '\n",
            "                   'create significant barriers to entry for'},\n",
            "    {   'answer': 'Apple may be using control of the App Store',\n",
            "        'context': 'as well.44\\n'\n",
            "                   'Given the facts available, it appears that Apple may be '\n",
            "                   'using control of the App Store to disadvantage competitor '\n",
            "                   'apps by restricting norma'}]\n"
          ]
        },
        {
          "output_type": "stream",
          "name": "stderr",
          "text": [
            "\n"
          ]
        }
      ]
    },
    {
      "cell_type": "code",
      "metadata": {
        "id": "bPOhpSGldsju",
        "colab": {
          "base_uri": "https://localhost:8080/"
        },
        "outputId": "34cf515c-d977-40e3-eb07-499ba43f1c7c"
      },
      "source": [
        "# You can configure how many candidates the reader and retriever shall return\n",
        "# The higher top_k_retriever, the better (but also the slower) your answers. \n",
        "prediction = pipe.run(query=\"apple business model\", top_k_retriever=4, top_k_reader=5)\n",
        "print_answers(prediction, details=\"minimal\")"
      ],
      "execution_count": 39,
      "outputs": [
        {
          "output_type": "stream",
          "name": "stderr",
          "text": [
            "09/08/2021 09:24:10 - INFO - elasticsearch -   POST http://localhost:9200/document/_search [status:200 request:0.023s]\n",
            "Inferencing Samples: 100%|██████████| 1/1 [00:01<00:00,  1.50s/ Batches]\n",
            "Inferencing Samples: 100%|██████████| 16/16 [00:22<00:00,  1.40s/ Batches]\n",
            "Inferencing Samples: 100%|██████████| 2/2 [00:01<00:00,  1.24 Batches/s]\n",
            "Inferencing Samples: 100%|██████████| 3/3 [00:03<00:00,  1.02s/ Batches]"
          ]
        },
        {
          "output_type": "stream",
          "name": "stdout",
          "text": [
            "[   {   'answer': 'technology companies, but they are more accurately '\n",
            "                  'described as communications networks that sell digital '\n",
            "                  'advertising',\n",
            "        'context': 'ly understood as technology companies, but they are more '\n",
            "                   'accurately described as communications networks that sell '\n",
            "                   'digital advertising. Advertising ma'},\n",
            "    {   'answer': 'technology companies',\n",
            "        'context': 'E: WHAT ARE THEY?\\n'\n",
            "                   'Facebook and Google are commonly understood as technology '\n",
            "                   'companies, but they are more accurately described as '\n",
            "                   'communications networ'},\n",
            "    {   'answer': 'customer lock-in',\n",
            "        'context': 'y iOS features and apps. In reality, Apple has built its '\n",
            "                   'empire on customer lock-in: making its own gadgets and '\n",
            "                   'services work seamlessly with one anot'},\n",
            "    {   'answer': '3.9%)',\n",
            "        'context': 'ompetitor, eBay, enjoys 6.6% of the ecommerce market, '\n",
            "                   'followed by Apple (3.9%) and Walmart (3.7%). Lunden, '\n",
            "                   'Amazon’s Share of the US E-Commerce Market,'},\n",
            "    {   'answer': 'Apple Music',\n",
            "        'context': 'ould market through Apple, as Apple ramped up its '\n",
            "                   'competitor service, Apple Music.177177 Id. This is not the '\n",
            "                   'first time that developers have alleged d'}]\n"
          ]
        },
        {
          "output_type": "stream",
          "name": "stderr",
          "text": [
            "\n"
          ]
        }
      ]
    },
    {
      "cell_type": "code",
      "metadata": {
        "id": "lW9okq1Hd9TZ",
        "colab": {
          "base_uri": "https://localhost:8080/"
        },
        "outputId": "b696e59f-f085-4f48-88cf-afd4bbb80fce"
      },
      "source": [
        "# You can configure how many candidates the reader and retriever shall return\n",
        "# The higher top_k_retriever, the better (but also the slower) your answers. \n",
        "prediction = pipe.run(query=\"Privacy and competition\", top_k_retriever=10, top_k_reader=5)\n",
        "print_answers(prediction, details=\"minimal\")"
      ],
      "execution_count": 40,
      "outputs": [
        {
          "output_type": "stream",
          "name": "stderr",
          "text": [
            "09/08/2021 09:26:21 - INFO - elasticsearch -   POST http://localhost:9200/document/_search [status:200 request:0.023s]\n",
            "Inferencing Samples: 100%|██████████| 9/9 [00:12<00:00,  1.36s/ Batches]\n",
            "Inferencing Samples: 100%|██████████| 3/3 [00:03<00:00,  1.01s/ Batches]\n",
            "Inferencing Samples: 100%|██████████| 1/1 [00:01<00:00,  1.34s/ Batches]\n",
            "Inferencing Samples: 100%|██████████| 2/2 [00:01<00:00,  1.24 Batches/s]\n",
            "Inferencing Samples: 100%|██████████| 16/16 [00:22<00:00,  1.40s/ Batches]\n",
            "Inferencing Samples: 100%|██████████| 1/1 [00:00<00:00,  5.31 Batches/s]\n",
            "Inferencing Samples: 100%|██████████| 1/1 [00:00<00:00,  5.65 Batches/s]"
          ]
        },
        {
          "output_type": "stream",
          "name": "stdout",
          "text": [
            "[   {   'answer': 'technology companies',\n",
            "        'context': 'E: WHAT ARE THEY?\\n'\n",
            "                   'Facebook and Google are commonly understood as technology '\n",
            "                   'companies, but they are more accurately described as '\n",
            "                   'communications networ'},\n",
            "    {   'answer': 'Apple Music',\n",
            "        'context': 'ould market through Apple, as Apple ramped up its '\n",
            "                   'competitor service, Apple Music.177177 Id. This is not the '\n",
            "                   'first time that developers have alleged d'},\n",
            "    {   'answer': 'Apple Maps vs. Google Maps: Which Is Better',\n",
            "        'context': 'tor a distant second.632 632 See, e.g., The Manifest, '\n",
            "                   'Apple Maps vs. Google Maps: Which Is Better?, Medium '\n",
            "                   '(Sept. 12, 2018), https://medium.com/@the_m'},\n",
            "    {   'answer': 'Teen Compliment',\n",
            "        'context': 'purchased it.147 147 See Josh Constine, Facebook Acquires '\n",
            "                   'Anonymous Teen Compliment App tbh, Will Let It Run, '\n",
            "                   'TechCrunch (Oct. 16, 2017), https://tech'},\n",
            "    {   'answer': 'BlueMail',\n",
            "        'context': ' after the feature was announced in June 2019, Blix says, '\n",
            "                   'Apple kicked BlueMail off of its Mac App Store. Apple '\n",
            "                   'maintains that was for security reason'}]\n"
          ]
        },
        {
          "output_type": "stream",
          "name": "stderr",
          "text": [
            "\n"
          ]
        }
      ]
    },
    {
      "cell_type": "code",
      "metadata": {
        "colab": {
          "base_uri": "https://localhost:8080/"
        },
        "id": "Zyu_PmIsu7G7",
        "outputId": "24620b94-fc5a-409e-eaec-cbe75cc3a560"
      },
      "source": [
        "# You can configure how many candidates the reader and retriever shall return\n",
        "# The higher top_k_retriever, the better (but also the slower) your answers. \n",
        "prediction = pipe.run(query=\"Online commerce\", top_k_retriever=10, top_k_reader=5)\n",
        "print_answers(prediction, details=\"minimal\")"
      ],
      "execution_count": 42,
      "outputs": [
        {
          "output_type": "stream",
          "name": "stderr",
          "text": [
            "09/08/2021 09:28:18 - INFO - elasticsearch -   POST http://localhost:9200/document/_search [status:200 request:0.021s]\n",
            "Inferencing Samples: 100%|██████████| 16/16 [00:22<00:00,  1.41s/ Batches]\n",
            "Inferencing Samples: 100%|██████████| 1/1 [00:01<00:00,  1.33s/ Batches]\n",
            "Inferencing Samples: 100%|██████████| 2/2 [00:01<00:00,  1.23 Batches/s]\n",
            "Inferencing Samples: 100%|██████████| 1/1 [00:00<00:00,  5.39 Batches/s]\n",
            "Inferencing Samples: 100%|██████████| 9/9 [00:12<00:00,  1.34s/ Batches]\n",
            "Inferencing Samples: 100%|██████████| 3/3 [00:03<00:00,  1.01s/ Batches]"
          ]
        },
        {
          "output_type": "stream",
          "name": "stdout",
          "text": [
            "[   {   'answer': 'technology companies, but they are more accurately '\n",
            "                  'described as communications networks that sell digital '\n",
            "                  'advertising',\n",
            "        'context': 'ly understood as technology companies, but they are more '\n",
            "                   'accurately described as communications networks that sell '\n",
            "                   'digital advertising. Advertising ma'},\n",
            "    {   'answer': 'technology companies',\n",
            "        'context': 'E: WHAT ARE THEY?\\n'\n",
            "                   'Facebook and Google are commonly understood as technology '\n",
            "                   'companies, but they are more accurately described as '\n",
            "                   'communications networ'},\n",
            "    {   'answer': 'Apple Music',\n",
            "        'context': 'ould market through Apple, as Apple ramped up its '\n",
            "                   'competitor service, Apple Music.177177 Id. This is not the '\n",
            "                   'first time that developers have alleged d'},\n",
            "    {   'answer': 'this conduct could deter entry and chill innovation',\n",
            "        'context': 'propriation by dominant digital platforms is that this '\n",
            "                   'conduct could deter entry and chill innovation. If '\n",
            "                   'independent developers or producers rely on '},\n",
            "    {   'answer': 'Apple Maps vs. Google Maps',\n",
            "        'context': ' competitor a distant second.632 632 See, e.g., The '\n",
            "                   'Manifest, Apple Maps vs. Google Maps: Which Is Better?, '\n",
            "                   'Medium (Sept. 12, 2018), https://medium.co'}]\n"
          ]
        },
        {
          "output_type": "stream",
          "name": "stderr",
          "text": [
            "\n"
          ]
        }
      ]
    },
    {
      "cell_type": "markdown",
      "metadata": {
        "collapsed": false,
        "pycharm": {
          "name": "#%% md\n"
        },
        "id": "5Gd50YQmTu4H"
      },
      "source": [
        "## About us\n",
        "\n",
        "This  notebook was made with love by [IIPP](https://www.ucl.ac.uk/bartlett/public-purpose/) in London, UK\n",
        "\n",
        "The UCL Institute for Innovation and Public Purpose (IIPP) is changing how public value is imagined, practised and evaluated to tackle societal challenges. \n",
        "  \n",
        "Some of our other work: \n",
        "- [Publications](https://www.ucl.ac.uk/bartlett/public-purpose/publications)\n",
        "- [Research](https://www.ucl.ac.uk/bartlett/public-purpose/research-0)\n",
        "- [News](https://www.ucl.ac.uk/bartlett/public-purpose/news-0?collection=drupal-bartlett-news&meta_UclOrgUnit=%22ucl+institute+for+innovation+and+public+purpose%22&)\n",
        "\n",
        "\n",
        " \n"
      ]
    },
    {
      "cell_type": "code",
      "metadata": {
        "id": "zurQsJHfqpd6"
      },
      "source": [
        ""
      ],
      "execution_count": null,
      "outputs": []
    }
  ]
}